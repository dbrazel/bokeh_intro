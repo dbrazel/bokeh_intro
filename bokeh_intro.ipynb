{
 "cells": [
  {
   "cell_type": "markdown",
   "metadata": {
    "nbpresent": {
     "id": "823ec6c2-1785-4c35-9941-c098567c0ad0"
    },
    "slideshow": {
     "slide_type": "-"
    }
   },
   "source": [
    "# Bokeh: Interactive Web Visualizations in Python"
   ]
  },
  {
   "cell_type": "markdown",
   "metadata": {
    "nbpresent": {
     "id": "70a7a773-87e0-46ac-8a8d-d373e1c0d8e8"
    },
    "slideshow": {
     "slide_type": "-"
    }
   },
   "source": [
    "## About Me\n",
    "\n",
    "* PhD Candidate in the Interdisciplinary Quantitative Biology program and at the Institute for Behavioral Genetics at CU\n",
    "* I work on addiction genomics and phenotyping methods that can scale to millions of subjects.\n",
    "* <https://github.com/dbrazel>"
   ]
  },
  {
   "cell_type": "markdown",
   "metadata": {
    "nbpresent": {
     "id": "4b9feff8-c993-468b-ab8b-53012356867d"
    },
    "slideshow": {
     "slide_type": "-"
    }
   },
   "source": [
    "## Why Bokeh?\n",
    "\n",
    "* D3-like interactive web visualizations in Python, R, and Julia\n",
    "    * \"We write the JavaScript, so you don't have to!\"\n",
    "* Plays nicely with notebooks and produces portable, embeddable HTML\n",
    "* Bokeh Server enables streaming updates"
   ]
  },
  {
   "cell_type": "markdown",
   "metadata": {
    "nbpresent": {
     "id": "e974ebb2-a5d9-491b-9e54-ac1519717865"
    },
    "slideshow": {
     "slide_type": "-"
    }
   },
   "source": [
    "## Bokeh Architecture\n",
    "![Bokeh Architecture](architecture.jpg)\n",
    "(Peter Wang)"
   ]
  },
  {
   "cell_type": "markdown",
   "metadata": {
    "nbpresent": {
     "id": "e96aa965-172f-4b5c-8138-50104ff1d482"
    },
    "slideshow": {
     "slide_type": "-"
    }
   },
   "source": [
    "## Interfaces\n",
    "\n",
    "* `bokeh.charts` - High-level, provides common statistical charts (bar, box, histogram, heat map, chord, etc.)\n",
    "* `bokeh.plotting` - Mid-level, focused on placing glyphs (boxes, lines, circles, etc.)\n",
    "* `bokeh.models` - Low-level, uses classes that map directly to BokehJS models"
   ]
  },
  {
   "cell_type": "markdown",
   "metadata": {
    "nbpresent": {
     "id": "00911f49-ad6f-479d-834b-3a149e2c44af"
    },
    "slideshow": {
     "slide_type": "-"
    }
   },
   "source": [
    "## Setup"
   ]
  },
  {
   "cell_type": "code",
   "execution_count": 2,
   "metadata": {
    "collapsed": false,
    "nbpresent": {
     "id": "6820a1f6-218e-4fe4-b7e7-0109b2cb9bd7"
    },
    "slideshow": {
     "slide_type": "-"
    }
   },
   "outputs": [
    {
     "data": {
      "text/html": [
       "\n",
       "    <div class=\"bk-root\">\n",
       "        <a href=\"http://bokeh.pydata.org\" target=\"_blank\" class=\"bk-logo bk-logo-small bk-logo-notebook\"></a>\n",
       "        <span id=\"8fbeda1f-35b8-43e9-9bf8-438b05e6aeac\">Loading BokehJS ...</span>\n",
       "    </div>"
      ]
     },
     "metadata": {},
     "output_type": "display_data"
    },
    {
     "data": {
      "application/javascript": [
       "\n",
       "(function(global) {\n",
       "  function now() {\n",
       "    return new Date();\n",
       "  }\n",
       "\n",
       "  var force = \"1\";\n",
       "\n",
       "  if (typeof (window._bokeh_onload_callbacks) === \"undefined\" || force !== \"\") {\n",
       "    window._bokeh_onload_callbacks = [];\n",
       "    window._bokeh_is_loading = undefined;\n",
       "  }\n",
       "\n",
       "\n",
       "  \n",
       "  if (typeof (window._bokeh_timeout) === \"undefined\" || force !== \"\") {\n",
       "    window._bokeh_timeout = Date.now() + 5000;\n",
       "    window._bokeh_failed_load = false;\n",
       "  }\n",
       "\n",
       "  var NB_LOAD_WARNING = {'data': {'text/html':\n",
       "     \"<div style='background-color: #fdd'>\\n\"+\n",
       "     \"<p>\\n\"+\n",
       "     \"BokehJS does not appear to have successfully loaded. If loading BokehJS from CDN, this \\n\"+\n",
       "     \"may be due to a slow or bad network connection. Possible fixes:\\n\"+\n",
       "     \"</p>\\n\"+\n",
       "     \"<ul>\\n\"+\n",
       "     \"<li>re-rerun `output_notebook()` to attempt to load from CDN again, or</li>\\n\"+\n",
       "     \"<li>use INLINE resources instead, as so:</li>\\n\"+\n",
       "     \"</ul>\\n\"+\n",
       "     \"<code>\\n\"+\n",
       "     \"from bokeh.resources import INLINE\\n\"+\n",
       "     \"output_notebook(resources=INLINE)\\n\"+\n",
       "     \"</code>\\n\"+\n",
       "     \"</div>\"}};\n",
       "\n",
       "  function display_loaded() {\n",
       "    if (window.Bokeh !== undefined) {\n",
       "      Bokeh.$(\"#8fbeda1f-35b8-43e9-9bf8-438b05e6aeac\").text(\"BokehJS successfully loaded.\");\n",
       "    } else if (Date.now() < window._bokeh_timeout) {\n",
       "      setTimeout(display_loaded, 100)\n",
       "    }\n",
       "  }\n",
       "\n",
       "  function run_callbacks() {\n",
       "    window._bokeh_onload_callbacks.forEach(function(callback) { callback() });\n",
       "    delete window._bokeh_onload_callbacks\n",
       "    console.info(\"Bokeh: all callbacks have finished\");\n",
       "  }\n",
       "\n",
       "  function load_libs(js_urls, callback) {\n",
       "    window._bokeh_onload_callbacks.push(callback);\n",
       "    if (window._bokeh_is_loading > 0) {\n",
       "      console.log(\"Bokeh: BokehJS is being loaded, scheduling callback at\", now());\n",
       "      return null;\n",
       "    }\n",
       "    if (js_urls == null || js_urls.length === 0) {\n",
       "      run_callbacks();\n",
       "      return null;\n",
       "    }\n",
       "    console.log(\"Bokeh: BokehJS not loaded, scheduling load and callback at\", now());\n",
       "    window._bokeh_is_loading = js_urls.length;\n",
       "    for (var i = 0; i < js_urls.length; i++) {\n",
       "      var url = js_urls[i];\n",
       "      var s = document.createElement('script');\n",
       "      s.src = url;\n",
       "      s.async = false;\n",
       "      s.onreadystatechange = s.onload = function() {\n",
       "        window._bokeh_is_loading--;\n",
       "        if (window._bokeh_is_loading === 0) {\n",
       "          console.log(\"Bokeh: all BokehJS libraries loaded\");\n",
       "          run_callbacks()\n",
       "        }\n",
       "      };\n",
       "      s.onerror = function() {\n",
       "        console.warn(\"failed to load library \" + url);\n",
       "      };\n",
       "      console.log(\"Bokeh: injecting script tag for BokehJS library: \", url);\n",
       "      document.getElementsByTagName(\"head\")[0].appendChild(s);\n",
       "    }\n",
       "  };var element = document.getElementById(\"8fbeda1f-35b8-43e9-9bf8-438b05e6aeac\");\n",
       "  if (element == null) {\n",
       "    console.log(\"Bokeh: ERROR: autoload.js configured with elementid '8fbeda1f-35b8-43e9-9bf8-438b05e6aeac' but no matching script tag was found. \")\n",
       "    return false;\n",
       "  }\n",
       "\n",
       "  var js_urls = ['https://cdn.pydata.org/bokeh/release/bokeh-0.12.3.min.js', 'https://cdn.pydata.org/bokeh/release/bokeh-widgets-0.12.3.min.js'];\n",
       "\n",
       "  var inline_js = [\n",
       "    function(Bokeh) {\n",
       "      Bokeh.set_log_level(\"info\");\n",
       "    },\n",
       "    \n",
       "    function(Bokeh) {\n",
       "      \n",
       "      Bokeh.$(\"#8fbeda1f-35b8-43e9-9bf8-438b05e6aeac\").text(\"BokehJS is loading...\");\n",
       "    },\n",
       "    function(Bokeh) {\n",
       "      console.log(\"Bokeh: injecting CSS: https://cdn.pydata.org/bokeh/release/bokeh-0.12.3.min.css\");\n",
       "      Bokeh.embed.inject_css(\"https://cdn.pydata.org/bokeh/release/bokeh-0.12.3.min.css\");\n",
       "      console.log(\"Bokeh: injecting CSS: https://cdn.pydata.org/bokeh/release/bokeh-widgets-0.12.3.min.css\");\n",
       "      Bokeh.embed.inject_css(\"https://cdn.pydata.org/bokeh/release/bokeh-widgets-0.12.3.min.css\");\n",
       "    }\n",
       "  ];\n",
       "\n",
       "  function run_inline_js() {\n",
       "    \n",
       "    if ((window.Bokeh !== undefined) || (force === \"1\")) {\n",
       "      for (var i = 0; i < inline_js.length; i++) {\n",
       "        inline_js[i](window.Bokeh);\n",
       "      }if (force === \"1\") {\n",
       "        display_loaded();\n",
       "      }} else if (Date.now() < window._bokeh_timeout) {\n",
       "      setTimeout(run_inline_js, 100);\n",
       "    } else if (!window._bokeh_failed_load) {\n",
       "      console.log(\"Bokeh: BokehJS failed to load within specified timeout.\");\n",
       "      window._bokeh_failed_load = true;\n",
       "    } else if (!force) {\n",
       "      var cell = $(\"#8fbeda1f-35b8-43e9-9bf8-438b05e6aeac\").parents('.cell').data().cell;\n",
       "      cell.output_area.append_execute_result(NB_LOAD_WARNING)\n",
       "    }\n",
       "\n",
       "  }\n",
       "\n",
       "  if (window._bokeh_is_loading === 0) {\n",
       "    console.log(\"Bokeh: BokehJS loaded, going straight to plotting\");\n",
       "    run_inline_js();\n",
       "  } else {\n",
       "    load_libs(js_urls, function() {\n",
       "      console.log(\"Bokeh: BokehJS plotting callback run at\", now());\n",
       "      run_inline_js();\n",
       "    });\n",
       "  }\n",
       "}(this));"
      ]
     },
     "metadata": {},
     "output_type": "display_data"
    },
    {
     "data": {
      "text/html": [
       "<div>\n",
       "<table border=\"1\" class=\"dataframe\">\n",
       "  <thead>\n",
       "    <tr style=\"text-align: right;\">\n",
       "      <th></th>\n",
       "      <th>id</th>\n",
       "      <th>diet</th>\n",
       "      <th>pulse</th>\n",
       "      <th>time</th>\n",
       "      <th>kind</th>\n",
       "    </tr>\n",
       "  </thead>\n",
       "  <tbody>\n",
       "    <tr>\n",
       "      <th>0</th>\n",
       "      <td>1</td>\n",
       "      <td>low fat</td>\n",
       "      <td>85</td>\n",
       "      <td>1 min</td>\n",
       "      <td>rest</td>\n",
       "    </tr>\n",
       "    <tr>\n",
       "      <th>1</th>\n",
       "      <td>1</td>\n",
       "      <td>low fat</td>\n",
       "      <td>85</td>\n",
       "      <td>15 min</td>\n",
       "      <td>rest</td>\n",
       "    </tr>\n",
       "    <tr>\n",
       "      <th>2</th>\n",
       "      <td>1</td>\n",
       "      <td>low fat</td>\n",
       "      <td>88</td>\n",
       "      <td>30 min</td>\n",
       "      <td>rest</td>\n",
       "    </tr>\n",
       "    <tr>\n",
       "      <th>3</th>\n",
       "      <td>2</td>\n",
       "      <td>low fat</td>\n",
       "      <td>90</td>\n",
       "      <td>1 min</td>\n",
       "      <td>rest</td>\n",
       "    </tr>\n",
       "    <tr>\n",
       "      <th>4</th>\n",
       "      <td>2</td>\n",
       "      <td>low fat</td>\n",
       "      <td>92</td>\n",
       "      <td>15 min</td>\n",
       "      <td>rest</td>\n",
       "    </tr>\n",
       "  </tbody>\n",
       "</table>\n",
       "</div>"
      ],
      "text/plain": [
       "   id     diet  pulse    time  kind\n",
       "0   1  low fat     85   1 min  rest\n",
       "1   1  low fat     85  15 min  rest\n",
       "2   1  low fat     88  30 min  rest\n",
       "3   2  low fat     90   1 min  rest\n",
       "4   2  low fat     92  15 min  rest"
      ]
     },
     "execution_count": 2,
     "metadata": {},
     "output_type": "execute_result"
    }
   ],
   "source": [
    "import bokeh.charts as bkc\n",
    "import bokeh.plotting as bkp\n",
    "\n",
    "bkc.output_notebook()\n",
    "\n",
    "# Load the seaborn exercise dataset\n",
    "\n",
    "import pandas as pd\n",
    "exercise = pd.read_csv('exercise.csv')\n",
    "exercise = exercise.drop(exercise.columns[0], axis=1)\n",
    "exercise.head()"
   ]
  },
  {
   "cell_type": "markdown",
   "metadata": {},
   "source": [
    "## `bokeh.charts`\n",
    "\n",
    "Standard plots are simple to make, have reasonable defaults, and work well with pandas DataFrames."
   ]
  },
  {
   "cell_type": "code",
   "execution_count": 3,
   "metadata": {
    "collapsed": false
   },
   "outputs": [
    {
     "data": {
      "text/html": [
       "\n",
       "\n",
       "    <div class=\"bk-root\">\n",
       "        <div class=\"plotdiv\" id=\"afecfa74-446d-4303-9cdf-8755df3bf619\"></div>\n",
       "    </div>\n",
       "<script type=\"text/javascript\">\n",
       "  \n",
       "  (function(global) {\n",
       "    function now() {\n",
       "      return new Date();\n",
       "    }\n",
       "  \n",
       "    var force = \"\";\n",
       "  \n",
       "    if (typeof (window._bokeh_onload_callbacks) === \"undefined\" || force !== \"\") {\n",
       "      window._bokeh_onload_callbacks = [];\n",
       "      window._bokeh_is_loading = undefined;\n",
       "    }\n",
       "  \n",
       "  \n",
       "    \n",
       "    if (typeof (window._bokeh_timeout) === \"undefined\" || force !== \"\") {\n",
       "      window._bokeh_timeout = Date.now() + 0;\n",
       "      window._bokeh_failed_load = false;\n",
       "    }\n",
       "  \n",
       "    var NB_LOAD_WARNING = {'data': {'text/html':\n",
       "       \"<div style='background-color: #fdd'>\\n\"+\n",
       "       \"<p>\\n\"+\n",
       "       \"BokehJS does not appear to have successfully loaded. If loading BokehJS from CDN, this \\n\"+\n",
       "       \"may be due to a slow or bad network connection. Possible fixes:\\n\"+\n",
       "       \"</p>\\n\"+\n",
       "       \"<ul>\\n\"+\n",
       "       \"<li>re-rerun `output_notebook()` to attempt to load from CDN again, or</li>\\n\"+\n",
       "       \"<li>use INLINE resources instead, as so:</li>\\n\"+\n",
       "       \"</ul>\\n\"+\n",
       "       \"<code>\\n\"+\n",
       "       \"from bokeh.resources import INLINE\\n\"+\n",
       "       \"output_notebook(resources=INLINE)\\n\"+\n",
       "       \"</code>\\n\"+\n",
       "       \"</div>\"}};\n",
       "  \n",
       "    function display_loaded() {\n",
       "      if (window.Bokeh !== undefined) {\n",
       "        Bokeh.$(\"#afecfa74-446d-4303-9cdf-8755df3bf619\").text(\"BokehJS successfully loaded.\");\n",
       "      } else if (Date.now() < window._bokeh_timeout) {\n",
       "        setTimeout(display_loaded, 100)\n",
       "      }\n",
       "    }\n",
       "  \n",
       "    function run_callbacks() {\n",
       "      window._bokeh_onload_callbacks.forEach(function(callback) { callback() });\n",
       "      delete window._bokeh_onload_callbacks\n",
       "      console.info(\"Bokeh: all callbacks have finished\");\n",
       "    }\n",
       "  \n",
       "    function load_libs(js_urls, callback) {\n",
       "      window._bokeh_onload_callbacks.push(callback);\n",
       "      if (window._bokeh_is_loading > 0) {\n",
       "        console.log(\"Bokeh: BokehJS is being loaded, scheduling callback at\", now());\n",
       "        return null;\n",
       "      }\n",
       "      if (js_urls == null || js_urls.length === 0) {\n",
       "        run_callbacks();\n",
       "        return null;\n",
       "      }\n",
       "      console.log(\"Bokeh: BokehJS not loaded, scheduling load and callback at\", now());\n",
       "      window._bokeh_is_loading = js_urls.length;\n",
       "      for (var i = 0; i < js_urls.length; i++) {\n",
       "        var url = js_urls[i];\n",
       "        var s = document.createElement('script');\n",
       "        s.src = url;\n",
       "        s.async = false;\n",
       "        s.onreadystatechange = s.onload = function() {\n",
       "          window._bokeh_is_loading--;\n",
       "          if (window._bokeh_is_loading === 0) {\n",
       "            console.log(\"Bokeh: all BokehJS libraries loaded\");\n",
       "            run_callbacks()\n",
       "          }\n",
       "        };\n",
       "        s.onerror = function() {\n",
       "          console.warn(\"failed to load library \" + url);\n",
       "        };\n",
       "        console.log(\"Bokeh: injecting script tag for BokehJS library: \", url);\n",
       "        document.getElementsByTagName(\"head\")[0].appendChild(s);\n",
       "      }\n",
       "    };var element = document.getElementById(\"afecfa74-446d-4303-9cdf-8755df3bf619\");\n",
       "    if (element == null) {\n",
       "      console.log(\"Bokeh: ERROR: autoload.js configured with elementid 'afecfa74-446d-4303-9cdf-8755df3bf619' but no matching script tag was found. \")\n",
       "      return false;\n",
       "    }\n",
       "  \n",
       "    var js_urls = [];\n",
       "  \n",
       "    var inline_js = [\n",
       "      function(Bokeh) {\n",
       "        Bokeh.$(function() {\n",
       "            var docs_json = {\"abbc0807-3072-4c19-ac75-1629c1dd520c\":{\"roots\":{\"references\":[{\"attributes\":{\"data_source\":{\"id\":\"414aa741-ad59-48d3-8dd4-974e4979d959\",\"type\":\"ColumnDataSource\"},\"glyph\":{\"id\":\"2823d7f9-77f6-4553-bab4-e4049485a553\",\"type\":\"Segment\"},\"hover_glyph\":null,\"nonselection_glyph\":null,\"selection_glyph\":null},\"id\":\"7bf3dc8d-d4fe-4b61-af5b-0eb02fbdd658\",\"type\":\"GlyphRenderer\"},{\"attributes\":{\"fill_alpha\":{\"field\":\"fill_alpha\"},\"fill_color\":{\"field\":\"color\"},\"height\":{\"field\":\"height\",\"units\":\"data\"},\"line_color\":{\"field\":\"line_color\"},\"width\":{\"field\":\"width\",\"units\":\"data\"},\"x\":{\"field\":\"x\"},\"y\":{\"field\":\"y\"}},\"id\":\"adc72c4e-86b5-4e02-88aa-f8c38704c7db\",\"type\":\"Rect\"},{\"attributes\":{\"overlay\":{\"id\":\"b09a4486-d10f-4399-b111-7ab06b027996\",\"type\":\"BoxAnnotation\"},\"plot\":{\"id\":\"2573e69a-a9b5-4797-8e37-2dfb75c34a5a\",\"subtype\":\"Chart\",\"type\":\"Plot\"}},\"id\":\"6ea54f12-052f-474c-95aa-dbae52a9c009\",\"type\":\"BoxZoomTool\"},{\"attributes\":{\"data_source\":{\"id\":\"2091e483-c5e0-47a7-a859-82e4828bb0d8\",\"type\":\"ColumnDataSource\"},\"glyph\":{\"id\":\"444b38f9-174b-49b6-a1bb-e2182806a062\",\"type\":\"Rect\"},\"hover_glyph\":null,\"nonselection_glyph\":null,\"selection_glyph\":null},\"id\":\"f73ca46b-5a58-4c0b-b229-a18a638fdbcb\",\"type\":\"GlyphRenderer\"},{\"attributes\":{\"plot\":{\"id\":\"2573e69a-a9b5-4797-8e37-2dfb75c34a5a\",\"subtype\":\"Chart\",\"type\":\"Plot\"}},\"id\":\"70b7fc66-2efc-4074-8d25-b0751b321010\",\"type\":\"WheelZoomTool\"},{\"attributes\":{\"callback\":null,\"column_names\":[\"y\",\"label\",\"width\",\"line_alpha\",\"height\",\"color\",\"line_color\",\"x\",\"fill_alpha\"],\"data\":{\"chart_index\":[{\"kind\":\"walking\"}],\"color\":[\"#407ee7\"],\"fill_alpha\":[0.8],\"height\":[5.5],\"kind\":[\"walking\"],\"label\":[{\"kind\":\"walking\"}],\"line_alpha\":[1.0],\"line_color\":[\"black\"],\"width\":[0.8],\"x\":[\"walking\"],\"y\":[92.75]}},\"id\":\"4319d677-8cec-4b48-8514-08b626319cb3\",\"type\":\"ColumnDataSource\"},{\"attributes\":{\"callback\":null,\"column_names\":[\"y\",\"label\",\"width\",\"line_alpha\",\"height\",\"color\",\"line_color\",\"x\",\"fill_alpha\"],\"data\":{\"chart_index\":[{\"kind\":\"rest\"}],\"color\":[\"#f22c40\"],\"fill_alpha\":[0.8],\"height\":[4.25],\"kind\":[\"rest\"],\"label\":[{\"kind\":\"rest\"}],\"line_alpha\":[1.0],\"line_color\":[\"black\"],\"width\":[0.8],\"x\":[\"rest\"],\"y\":[93.625]}},\"id\":\"038c870c-f194-4bd2-96d8-4e975620af08\",\"type\":\"ColumnDataSource\"},{\"attributes\":{\"line_width\":{\"value\":2},\"x0\":{\"field\":\"x0s\"},\"x1\":{\"field\":\"x1s\"},\"y0\":{\"field\":\"y0s\"},\"y1\":{\"field\":\"y1s\"}},\"id\":\"aed70c5d-1635-4107-843b-796fabbd3c27\",\"type\":\"Segment\"},{\"attributes\":{\"label\":{\"value\":\"running\"},\"renderers\":[{\"id\":\"c298087c-bc26-4d83-a2dc-5d3ee281316d\",\"type\":\"GlyphRenderer\"},{\"id\":\"f950a2ee-6dc9-4b78-b06d-0b5b90dcdb2b\",\"type\":\"GlyphRenderer\"},{\"id\":\"bcf99787-c784-41d1-8b69-3cb4899fa5ba\",\"type\":\"GlyphRenderer\"}]},\"id\":\"62aed812-913c-449d-a9c4-a5302f42c785\",\"type\":\"LegendItem\"},{\"attributes\":{\"data_source\":{\"id\":\"4319d677-8cec-4b48-8514-08b626319cb3\",\"type\":\"ColumnDataSource\"},\"glyph\":{\"id\":\"a1d1465d-7568-4f63-adca-3f1d1a32588e\",\"type\":\"Rect\"},\"hover_glyph\":null,\"nonselection_glyph\":null,\"selection_glyph\":null},\"id\":\"d38e3056-efee-41f9-ad72-8b91c90959fd\",\"type\":\"GlyphRenderer\"},{\"attributes\":{\"label\":{\"value\":\"rest\"},\"renderers\":[{\"id\":\"75a772b9-9e37-4ce4-9d21-aa6a555ec8e7\",\"type\":\"GlyphRenderer\"},{\"id\":\"92596673-e1a6-4acb-8a78-d20a29f616bd\",\"type\":\"GlyphRenderer\"},{\"id\":\"d0f51cbc-8bd7-46a4-aad3-42a51cccdc80\",\"type\":\"GlyphRenderer\"}]},\"id\":\"2d8df537-11ec-4a91-96de-78a87e14e9aa\",\"type\":\"LegendItem\"},{\"attributes\":{\"data_source\":{\"id\":\"bb1ab2b5-f319-4d21-a97e-551428be01d7\",\"type\":\"ColumnDataSource\"},\"glyph\":{\"id\":\"aed70c5d-1635-4107-843b-796fabbd3c27\",\"type\":\"Segment\"},\"hover_glyph\":null,\"nonselection_glyph\":null,\"selection_glyph\":null},\"id\":\"d0f51cbc-8bd7-46a4-aad3-42a51cccdc80\",\"type\":\"GlyphRenderer\"},{\"attributes\":{\"data_source\":{\"id\":\"730bf3c5-6432-425a-88d1-a73fd091b4e3\",\"type\":\"ColumnDataSource\"},\"glyph\":{\"id\":\"adc72c4e-86b5-4e02-88aa-f8c38704c7db\",\"type\":\"Rect\"},\"hover_glyph\":null,\"nonselection_glyph\":null,\"selection_glyph\":null},\"id\":\"75a772b9-9e37-4ce4-9d21-aa6a555ec8e7\",\"type\":\"GlyphRenderer\"},{\"attributes\":{\"callback\":null,\"column_names\":[\"y\",\"label\",\"width\",\"line_alpha\",\"height\",\"color\",\"line_color\",\"x\",\"fill_alpha\"],\"data\":{\"chart_index\":[{\"kind\":\"walking\"}],\"color\":[\"#407ee7\"],\"fill_alpha\":[0.8],\"height\":[5.25],\"kind\":[\"walking\"],\"label\":[{\"kind\":\"walking\"}],\"line_alpha\":[1.0],\"line_color\":[\"black\"],\"width\":[0.8],\"x\":[\"walking\"],\"y\":[98.125]}},\"id\":\"2091e483-c5e0-47a7-a859-82e4828bb0d8\",\"type\":\"ColumnDataSource\"},{\"attributes\":{\"fill_alpha\":{\"field\":\"fill_alpha\"},\"fill_color\":{\"field\":\"color\"},\"height\":{\"field\":\"height\",\"units\":\"data\"},\"line_color\":{\"field\":\"line_color\"},\"width\":{\"field\":\"width\",\"units\":\"data\"},\"x\":{\"field\":\"x\"},\"y\":{\"field\":\"y\"}},\"id\":\"82885bc6-555b-4099-af28-7041e3f280c8\",\"type\":\"Rect\"},{\"attributes\":{\"plot\":{\"id\":\"2573e69a-a9b5-4797-8e37-2dfb75c34a5a\",\"subtype\":\"Chart\",\"type\":\"Plot\"}},\"id\":\"5f601308-f36b-4b89-87c4-34cdf5c1d84d\",\"type\":\"SaveTool\"},{\"attributes\":{\"plot\":{\"id\":\"2573e69a-a9b5-4797-8e37-2dfb75c34a5a\",\"subtype\":\"Chart\",\"type\":\"Plot\"}},\"id\":\"eab70ac7-b3de-43f3-8ba9-080e50bf9608\",\"type\":\"PanTool\"},{\"attributes\":{},\"id\":\"98d8f603-821a-406a-87e1-63efad7cb0f4\",\"type\":\"BasicTicker\"},{\"attributes\":{\"active_drag\":\"auto\",\"active_scroll\":\"auto\",\"active_tap\":\"auto\",\"tools\":[{\"id\":\"eab70ac7-b3de-43f3-8ba9-080e50bf9608\",\"type\":\"PanTool\"},{\"id\":\"70b7fc66-2efc-4074-8d25-b0751b321010\",\"type\":\"WheelZoomTool\"},{\"id\":\"6ea54f12-052f-474c-95aa-dbae52a9c009\",\"type\":\"BoxZoomTool\"},{\"id\":\"5f601308-f36b-4b89-87c4-34cdf5c1d84d\",\"type\":\"SaveTool\"},{\"id\":\"2be1aa01-7b86-42b8-8d1c-1663159123cf\",\"type\":\"ResetTool\"},{\"id\":\"d1a71bc7-80e6-4d17-b3e3-eae0dc5a65a3\",\"type\":\"HelpTool\"}]},\"id\":\"811ecde5-2f8f-481d-8002-dc8ceff464c2\",\"type\":\"Toolbar\"},{\"attributes\":{\"bottom_units\":\"screen\",\"fill_alpha\":{\"value\":0.5},\"fill_color\":{\"value\":\"lightgrey\"},\"left_units\":\"screen\",\"level\":\"overlay\",\"line_alpha\":{\"value\":1.0},\"line_color\":{\"value\":\"black\"},\"line_dash\":[4,4],\"line_width\":{\"value\":2},\"plot\":null,\"render_mode\":\"css\",\"right_units\":\"screen\",\"top_units\":\"screen\"},\"id\":\"b09a4486-d10f-4399-b111-7ab06b027996\",\"type\":\"BoxAnnotation\"},{\"attributes\":{\"line_width\":{\"value\":2},\"x0\":{\"field\":\"x0s\"},\"x1\":{\"field\":\"x1s\"},\"y0\":{\"field\":\"y0s\"},\"y1\":{\"field\":\"y1s\"}},\"id\":\"256c1573-a21f-4546-b0d7-a94f937ea324\",\"type\":\"Segment\"},{\"attributes\":{\"callback\":null,\"column_names\":[\"y0s\",\"x0s\",\"y1s\",\"x1s\"],\"data\":{\"chart_index\":[{\"kind\":\"rest\"},{\"kind\":\"rest\"},{\"kind\":\"rest\"},{\"kind\":\"rest\"}],\"kind\":[\"rest\",\"rest\",\"rest\",\"rest\"],\"x0s\":[\"rest:0.5\",\"rest:0.65\",\"rest:0.5\",\"rest:0.65\"],\"x1s\":[\"rest:0.5\",\"rest:0.35\",\"rest:0.5\",\"rest:0.35\"],\"y0s\":[80.0,80.0,95.75,100.0],\"y1s\":[85.5,80.0,100.0,100.0]}},\"id\":\"bb1ab2b5-f319-4d21-a97e-551428be01d7\",\"type\":\"ColumnDataSource\"},{\"attributes\":{\"callback\":null,\"end\":161.5},\"id\":\"3e49fe61-c3c1-4031-8984-4b0a7768255f\",\"type\":\"Range1d\"},{\"attributes\":{\"data_source\":{\"id\":\"bcfa11f8-7854-4cc5-b6c7-773f2e5e56ab\",\"type\":\"ColumnDataSource\"},\"glyph\":{\"id\":\"08ba861a-6675-4fcf-9abf-48077a9314ff\",\"type\":\"Rect\"},\"hover_glyph\":null,\"nonselection_glyph\":null,\"selection_glyph\":null},\"id\":\"c298087c-bc26-4d83-a2dc-5d3ee281316d\",\"type\":\"GlyphRenderer\"},{\"attributes\":{\"label\":{\"value\":\"walking\"},\"renderers\":[{\"id\":\"d38e3056-efee-41f9-ad72-8b91c90959fd\",\"type\":\"GlyphRenderer\"},{\"id\":\"f73ca46b-5a58-4c0b-b229-a18a638fdbcb\",\"type\":\"GlyphRenderer\"},{\"id\":\"7bf3dc8d-d4fe-4b61-af5b-0eb02fbdd658\",\"type\":\"GlyphRenderer\"}]},\"id\":\"96824416-1e54-4540-a556-a69b7c46e534\",\"type\":\"LegendItem\"},{\"attributes\":{\"callback\":null,\"column_names\":[\"y\",\"label\",\"width\",\"line_alpha\",\"height\",\"color\",\"line_color\",\"x\",\"fill_alpha\"],\"data\":{\"chart_index\":[{\"kind\":\"running\"}],\"color\":[\"#5ab738\"],\"fill_alpha\":[0.8],\"height\":[11.75],\"kind\":[\"running\"],\"label\":[{\"kind\":\"running\"}],\"line_alpha\":[1.0],\"line_color\":[\"black\"],\"width\":[0.8],\"x\":[\"running\"],\"y\":[104.125]}},\"id\":\"bcfa11f8-7854-4cc5-b6c7-773f2e5e56ab\",\"type\":\"ColumnDataSource\"},{\"attributes\":{\"callback\":null,\"column_names\":[\"y0s\",\"x0s\",\"y1s\",\"x1s\"],\"data\":{\"chart_index\":[{\"kind\":\"walking\"},{\"kind\":\"walking\"},{\"kind\":\"walking\"},{\"kind\":\"walking\"}],\"kind\":[\"walking\",\"walking\",\"walking\",\"walking\"],\"x0s\":[\"walking:0.5\",\"walking:0.65\",\"walking:0.5\",\"walking:0.65\"],\"x1s\":[\"walking:0.5\",\"walking:0.35\",\"walking:0.5\",\"walking:0.35\"],\"y0s\":[84.0,84.0,100.75,109.0],\"y1s\":[90.0,84.0,109.0,109.0]}},\"id\":\"414aa741-ad59-48d3-8dd4-974e4979d959\",\"type\":\"ColumnDataSource\"},{\"attributes\":{},\"id\":\"5dc28b4d-653e-49d8-aeb9-37a772e76511\",\"type\":\"CategoricalTickFormatter\"},{\"attributes\":{\"fill_alpha\":{\"field\":\"fill_alpha\"},\"fill_color\":{\"field\":\"color\"},\"height\":{\"field\":\"height\",\"units\":\"data\"},\"line_color\":{\"field\":\"line_color\"},\"width\":{\"field\":\"width\",\"units\":\"data\"},\"x\":{\"field\":\"x\"},\"y\":{\"field\":\"y\"}},\"id\":\"a1d1465d-7568-4f63-adca-3f1d1a32588e\",\"type\":\"Rect\"},{\"attributes\":{\"callback\":null,\"column_names\":[\"y\",\"label\",\"width\",\"line_alpha\",\"height\",\"color\",\"line_color\",\"x\",\"fill_alpha\"],\"data\":{\"chart_index\":[{\"kind\":\"rest\"}],\"color\":[\"#f22c40\"],\"fill_alpha\":[0.8],\"height\":[6.0],\"kind\":[\"rest\"],\"label\":[{\"kind\":\"rest\"}],\"line_alpha\":[1.0],\"line_color\":[\"black\"],\"width\":[0.8],\"x\":[\"rest\"],\"y\":[88.5]}},\"id\":\"730bf3c5-6432-425a-88d1-a73fd091b4e3\",\"type\":\"ColumnDataSource\"},{\"attributes\":{\"plot\":{\"id\":\"2573e69a-a9b5-4797-8e37-2dfb75c34a5a\",\"subtype\":\"Chart\",\"type\":\"Plot\"}},\"id\":\"d1a71bc7-80e6-4d17-b3e3-eae0dc5a65a3\",\"type\":\"HelpTool\"},{\"attributes\":{},\"id\":\"474080f7-fffd-4062-ba2f-b053e791bc66\",\"type\":\"BasicTickFormatter\"},{\"attributes\":{\"callback\":null,\"factors\":[\"rest\",\"running\",\"walking\"]},\"id\":\"c5cb4a06-8602-4158-ad49-c42f9b9afcd7\",\"type\":\"FactorRange\"},{\"attributes\":{\"plot\":{\"id\":\"2573e69a-a9b5-4797-8e37-2dfb75c34a5a\",\"subtype\":\"Chart\",\"type\":\"Plot\"}},\"id\":\"2be1aa01-7b86-42b8-8d1c-1663159123cf\",\"type\":\"ResetTool\"},{\"attributes\":{\"callback\":null,\"column_names\":[\"y0s\",\"x0s\",\"y1s\",\"x1s\"],\"data\":{\"chart_index\":[{\"kind\":\"running\"},{\"kind\":\"running\"},{\"kind\":\"running\"},{\"kind\":\"running\"}],\"kind\":[\"running\",\"running\",\"running\",\"running\"],\"x0s\":[\"running:0.5\",\"running:0.65\",\"running:0.5\",\"running:0.65\"],\"x1s\":[\"running:0.5\",\"running:0.35\",\"running:0.5\",\"running:0.35\"],\"y0s\":[87.0,87.0,126.0,150.0],\"y1s\":[98.25,87.0,150.0,150.0]}},\"id\":\"a3dc5162-cd22-4378-b492-d48573a2947f\",\"type\":\"ColumnDataSource\"},{\"attributes\":{\"axis_label\":\"Kind\",\"formatter\":{\"id\":\"5dc28b4d-653e-49d8-aeb9-37a772e76511\",\"type\":\"CategoricalTickFormatter\"},\"major_label_orientation\":0.7853981633974483,\"plot\":{\"id\":\"2573e69a-a9b5-4797-8e37-2dfb75c34a5a\",\"subtype\":\"Chart\",\"type\":\"Plot\"},\"ticker\":{\"id\":\"b75bfa09-ca0a-4ccd-9389-79cb898cf5ec\",\"type\":\"CategoricalTicker\"}},\"id\":\"f30fd193-e164-473b-928f-ecc314001eb8\",\"type\":\"CategoricalAxis\"},{\"attributes\":{\"plot\":null,\"text\":\"Pulse in BPM, grouped by exercise type\"},\"id\":\"edd8efe8-d857-4e29-8fa4-8d4a849fa080\",\"type\":\"Title\"},{\"attributes\":{\"items\":[{\"id\":\"2d8df537-11ec-4a91-96de-78a87e14e9aa\",\"type\":\"LegendItem\"},{\"id\":\"96824416-1e54-4540-a556-a69b7c46e534\",\"type\":\"LegendItem\"},{\"id\":\"62aed812-913c-449d-a9c4-a5302f42c785\",\"type\":\"LegendItem\"}],\"location\":\"top_left\",\"plot\":{\"id\":\"2573e69a-a9b5-4797-8e37-2dfb75c34a5a\",\"subtype\":\"Chart\",\"type\":\"Plot\"}},\"id\":\"1dd28ae4-1703-4a34-9e3e-d93a537cb1f7\",\"type\":\"Legend\"},{\"attributes\":{\"data_source\":{\"id\":\"a3dc5162-cd22-4378-b492-d48573a2947f\",\"type\":\"ColumnDataSource\"},\"glyph\":{\"id\":\"256c1573-a21f-4546-b0d7-a94f937ea324\",\"type\":\"Segment\"},\"hover_glyph\":null,\"nonselection_glyph\":null,\"selection_glyph\":null},\"id\":\"bcf99787-c784-41d1-8b69-3cb4899fa5ba\",\"type\":\"GlyphRenderer\"},{\"attributes\":{\"fill_alpha\":{\"field\":\"fill_alpha\"},\"fill_color\":{\"field\":\"color\"},\"height\":{\"field\":\"height\",\"units\":\"data\"},\"line_color\":{\"field\":\"line_color\"},\"width\":{\"field\":\"width\",\"units\":\"data\"},\"x\":{\"field\":\"x\"},\"y\":{\"field\":\"y\"}},\"id\":\"08ba861a-6675-4fcf-9abf-48077a9314ff\",\"type\":\"Rect\"},{\"attributes\":{\"line_width\":{\"value\":2},\"x0\":{\"field\":\"x0s\"},\"x1\":{\"field\":\"x1s\"},\"y0\":{\"field\":\"y0s\"},\"y1\":{\"field\":\"y1s\"}},\"id\":\"2823d7f9-77f6-4553-bab4-e4049485a553\",\"type\":\"Segment\"},{\"attributes\":{\"callback\":null,\"column_names\":[\"y\",\"label\",\"width\",\"line_alpha\",\"height\",\"color\",\"line_color\",\"x\",\"fill_alpha\"],\"data\":{\"chart_index\":[{\"kind\":\"running\"}],\"color\":[\"#5ab738\"],\"fill_alpha\":[0.8],\"height\":[16.0],\"kind\":[\"running\"],\"label\":[{\"kind\":\"running\"}],\"line_alpha\":[1.0],\"line_color\":[\"black\"],\"width\":[0.8],\"x\":[\"running\"],\"y\":[118.0]}},\"id\":\"120e8875-4cb5-4301-a7f3-181e405f9a5b\",\"type\":\"ColumnDataSource\"},{\"attributes\":{\"data_source\":{\"id\":\"038c870c-f194-4bd2-96d8-4e975620af08\",\"type\":\"ColumnDataSource\"},\"glyph\":{\"id\":\"b708b680-70b1-49f4-9b6b-d78caa1abf26\",\"type\":\"Rect\"},\"hover_glyph\":null,\"nonselection_glyph\":null,\"selection_glyph\":null},\"id\":\"92596673-e1a6-4acb-8a78-d20a29f616bd\",\"type\":\"GlyphRenderer\"},{\"attributes\":{\"dimension\":1,\"plot\":{\"id\":\"2573e69a-a9b5-4797-8e37-2dfb75c34a5a\",\"subtype\":\"Chart\",\"type\":\"Plot\"},\"ticker\":{\"id\":\"98d8f603-821a-406a-87e1-63efad7cb0f4\",\"type\":\"BasicTicker\"}},\"id\":\"38863b61-c6f1-4e6c-98c2-e2c8900fc391\",\"type\":\"Grid\"},{\"attributes\":{},\"id\":\"b75bfa09-ca0a-4ccd-9389-79cb898cf5ec\",\"type\":\"CategoricalTicker\"},{\"attributes\":{\"data_source\":{\"id\":\"120e8875-4cb5-4301-a7f3-181e405f9a5b\",\"type\":\"ColumnDataSource\"},\"glyph\":{\"id\":\"82885bc6-555b-4099-af28-7041e3f280c8\",\"type\":\"Rect\"},\"hover_glyph\":null,\"nonselection_glyph\":null,\"selection_glyph\":null},\"id\":\"f950a2ee-6dc9-4b78-b06d-0b5b90dcdb2b\",\"type\":\"GlyphRenderer\"},{\"attributes\":{\"fill_alpha\":{\"field\":\"fill_alpha\"},\"fill_color\":{\"field\":\"color\"},\"height\":{\"field\":\"height\",\"units\":\"data\"},\"line_color\":{\"field\":\"line_color\"},\"width\":{\"field\":\"width\",\"units\":\"data\"},\"x\":{\"field\":\"x\"},\"y\":{\"field\":\"y\"}},\"id\":\"444b38f9-174b-49b6-a1bb-e2182806a062\",\"type\":\"Rect\"},{\"attributes\":{\"axis_label\":\"Pulse\",\"formatter\":{\"id\":\"474080f7-fffd-4062-ba2f-b053e791bc66\",\"type\":\"BasicTickFormatter\"},\"plot\":{\"id\":\"2573e69a-a9b5-4797-8e37-2dfb75c34a5a\",\"subtype\":\"Chart\",\"type\":\"Plot\"},\"ticker\":{\"id\":\"98d8f603-821a-406a-87e1-63efad7cb0f4\",\"type\":\"BasicTicker\"}},\"id\":\"1416e37b-03a6-4136-8ccc-f0bf87ae7b48\",\"type\":\"LinearAxis\"},{\"attributes\":{},\"id\":\"29e87ca1-7409-426b-98b3-d064815f6392\",\"type\":\"ToolEvents\"},{\"attributes\":{\"fill_alpha\":{\"field\":\"fill_alpha\"},\"fill_color\":{\"field\":\"color\"},\"height\":{\"field\":\"height\",\"units\":\"data\"},\"line_color\":{\"field\":\"line_color\"},\"width\":{\"field\":\"width\",\"units\":\"data\"},\"x\":{\"field\":\"x\"},\"y\":{\"field\":\"y\"}},\"id\":\"b708b680-70b1-49f4-9b6b-d78caa1abf26\",\"type\":\"Rect\"},{\"attributes\":{\"below\":[{\"id\":\"f30fd193-e164-473b-928f-ecc314001eb8\",\"type\":\"CategoricalAxis\"}],\"left\":[{\"id\":\"1416e37b-03a6-4136-8ccc-f0bf87ae7b48\",\"type\":\"LinearAxis\"}],\"renderers\":[{\"id\":\"b09a4486-d10f-4399-b111-7ab06b027996\",\"type\":\"BoxAnnotation\"},{\"id\":\"75a772b9-9e37-4ce4-9d21-aa6a555ec8e7\",\"type\":\"GlyphRenderer\"},{\"id\":\"92596673-e1a6-4acb-8a78-d20a29f616bd\",\"type\":\"GlyphRenderer\"},{\"id\":\"d0f51cbc-8bd7-46a4-aad3-42a51cccdc80\",\"type\":\"GlyphRenderer\"},{\"id\":\"d38e3056-efee-41f9-ad72-8b91c90959fd\",\"type\":\"GlyphRenderer\"},{\"id\":\"f73ca46b-5a58-4c0b-b229-a18a638fdbcb\",\"type\":\"GlyphRenderer\"},{\"id\":\"7bf3dc8d-d4fe-4b61-af5b-0eb02fbdd658\",\"type\":\"GlyphRenderer\"},{\"id\":\"c298087c-bc26-4d83-a2dc-5d3ee281316d\",\"type\":\"GlyphRenderer\"},{\"id\":\"f950a2ee-6dc9-4b78-b06d-0b5b90dcdb2b\",\"type\":\"GlyphRenderer\"},{\"id\":\"bcf99787-c784-41d1-8b69-3cb4899fa5ba\",\"type\":\"GlyphRenderer\"},{\"id\":\"1dd28ae4-1703-4a34-9e3e-d93a537cb1f7\",\"type\":\"Legend\"},{\"id\":\"f30fd193-e164-473b-928f-ecc314001eb8\",\"type\":\"CategoricalAxis\"},{\"id\":\"1416e37b-03a6-4136-8ccc-f0bf87ae7b48\",\"type\":\"LinearAxis\"},{\"id\":\"38863b61-c6f1-4e6c-98c2-e2c8900fc391\",\"type\":\"Grid\"}],\"title\":{\"id\":\"edd8efe8-d857-4e29-8fa4-8d4a849fa080\",\"type\":\"Title\"},\"tool_events\":{\"id\":\"29e87ca1-7409-426b-98b3-d064815f6392\",\"type\":\"ToolEvents\"},\"toolbar\":{\"id\":\"811ecde5-2f8f-481d-8002-dc8ceff464c2\",\"type\":\"Toolbar\"},\"x_mapper_type\":\"auto\",\"x_range\":{\"id\":\"c5cb4a06-8602-4158-ad49-c42f9b9afcd7\",\"type\":\"FactorRange\"},\"y_mapper_type\":\"auto\",\"y_range\":{\"id\":\"3e49fe61-c3c1-4031-8984-4b0a7768255f\",\"type\":\"Range1d\"}},\"id\":\"2573e69a-a9b5-4797-8e37-2dfb75c34a5a\",\"subtype\":\"Chart\",\"type\":\"Plot\"}],\"root_ids\":[\"2573e69a-a9b5-4797-8e37-2dfb75c34a5a\"]},\"title\":\"Bokeh Application\",\"version\":\"0.12.3\"}};\n",
       "            var render_items = [{\"docid\":\"abbc0807-3072-4c19-ac75-1629c1dd520c\",\"elementid\":\"afecfa74-446d-4303-9cdf-8755df3bf619\",\"modelid\":\"2573e69a-a9b5-4797-8e37-2dfb75c34a5a\"}];\n",
       "            \n",
       "            Bokeh.embed.embed_items(docs_json, render_items);\n",
       "        });\n",
       "      },\n",
       "      function(Bokeh) {\n",
       "      }\n",
       "    ];\n",
       "  \n",
       "    function run_inline_js() {\n",
       "      \n",
       "      if ((window.Bokeh !== undefined) || (force === \"1\")) {\n",
       "        for (var i = 0; i < inline_js.length; i++) {\n",
       "          inline_js[i](window.Bokeh);\n",
       "        }if (force === \"1\") {\n",
       "          display_loaded();\n",
       "        }} else if (Date.now() < window._bokeh_timeout) {\n",
       "        setTimeout(run_inline_js, 100);\n",
       "      } else if (!window._bokeh_failed_load) {\n",
       "        console.log(\"Bokeh: BokehJS failed to load within specified timeout.\");\n",
       "        window._bokeh_failed_load = true;\n",
       "      } else if (!force) {\n",
       "        var cell = $(\"#afecfa74-446d-4303-9cdf-8755df3bf619\").parents('.cell').data().cell;\n",
       "        cell.output_area.append_execute_result(NB_LOAD_WARNING)\n",
       "      }\n",
       "  \n",
       "    }\n",
       "  \n",
       "    if (window._bokeh_is_loading === 0) {\n",
       "      console.log(\"Bokeh: BokehJS loaded, going straight to plotting\");\n",
       "      run_inline_js();\n",
       "    } else {\n",
       "      load_libs(js_urls, function() {\n",
       "        console.log(\"Bokeh: BokehJS plotting callback run at\", now());\n",
       "        run_inline_js();\n",
       "      });\n",
       "    }\n",
       "  }(this));\n",
       "</script>"
      ]
     },
     "metadata": {},
     "output_type": "display_data"
    }
   ],
   "source": [
    "p = bkc.BoxPlot(exercise, values='pulse', label='kind', color='kind', \n",
    "                title='Pulse in BPM, grouped by exercise type')\n",
    "bkc.show(p)"
   ]
  },
  {
   "cell_type": "markdown",
   "metadata": {},
   "source": [
    "It's easy to group by a column and to produce a self-contained HTML file that packages the required data."
   ]
  },
  {
   "cell_type": "code",
   "execution_count": 4,
   "metadata": {
    "collapsed": false
   },
   "outputs": [
    {
     "data": {
      "text/html": [
       "\n",
       "\n",
       "    <div class=\"bk-root\">\n",
       "        <div class=\"plotdiv\" id=\"ec5d2459-41e6-4319-9c86-ed8b77cc1cce\"></div>\n",
       "    </div>\n",
       "<script type=\"text/javascript\">\n",
       "  \n",
       "  (function(global) {\n",
       "    function now() {\n",
       "      return new Date();\n",
       "    }\n",
       "  \n",
       "    var force = \"\";\n",
       "  \n",
       "    if (typeof (window._bokeh_onload_callbacks) === \"undefined\" || force !== \"\") {\n",
       "      window._bokeh_onload_callbacks = [];\n",
       "      window._bokeh_is_loading = undefined;\n",
       "    }\n",
       "  \n",
       "  \n",
       "    \n",
       "    if (typeof (window._bokeh_timeout) === \"undefined\" || force !== \"\") {\n",
       "      window._bokeh_timeout = Date.now() + 0;\n",
       "      window._bokeh_failed_load = false;\n",
       "    }\n",
       "  \n",
       "    var NB_LOAD_WARNING = {'data': {'text/html':\n",
       "       \"<div style='background-color: #fdd'>\\n\"+\n",
       "       \"<p>\\n\"+\n",
       "       \"BokehJS does not appear to have successfully loaded. If loading BokehJS from CDN, this \\n\"+\n",
       "       \"may be due to a slow or bad network connection. Possible fixes:\\n\"+\n",
       "       \"</p>\\n\"+\n",
       "       \"<ul>\\n\"+\n",
       "       \"<li>re-rerun `output_notebook()` to attempt to load from CDN again, or</li>\\n\"+\n",
       "       \"<li>use INLINE resources instead, as so:</li>\\n\"+\n",
       "       \"</ul>\\n\"+\n",
       "       \"<code>\\n\"+\n",
       "       \"from bokeh.resources import INLINE\\n\"+\n",
       "       \"output_notebook(resources=INLINE)\\n\"+\n",
       "       \"</code>\\n\"+\n",
       "       \"</div>\"}};\n",
       "  \n",
       "    function display_loaded() {\n",
       "      if (window.Bokeh !== undefined) {\n",
       "        Bokeh.$(\"#ec5d2459-41e6-4319-9c86-ed8b77cc1cce\").text(\"BokehJS successfully loaded.\");\n",
       "      } else if (Date.now() < window._bokeh_timeout) {\n",
       "        setTimeout(display_loaded, 100)\n",
       "      }\n",
       "    }\n",
       "  \n",
       "    function run_callbacks() {\n",
       "      window._bokeh_onload_callbacks.forEach(function(callback) { callback() });\n",
       "      delete window._bokeh_onload_callbacks\n",
       "      console.info(\"Bokeh: all callbacks have finished\");\n",
       "    }\n",
       "  \n",
       "    function load_libs(js_urls, callback) {\n",
       "      window._bokeh_onload_callbacks.push(callback);\n",
       "      if (window._bokeh_is_loading > 0) {\n",
       "        console.log(\"Bokeh: BokehJS is being loaded, scheduling callback at\", now());\n",
       "        return null;\n",
       "      }\n",
       "      if (js_urls == null || js_urls.length === 0) {\n",
       "        run_callbacks();\n",
       "        return null;\n",
       "      }\n",
       "      console.log(\"Bokeh: BokehJS not loaded, scheduling load and callback at\", now());\n",
       "      window._bokeh_is_loading = js_urls.length;\n",
       "      for (var i = 0; i < js_urls.length; i++) {\n",
       "        var url = js_urls[i];\n",
       "        var s = document.createElement('script');\n",
       "        s.src = url;\n",
       "        s.async = false;\n",
       "        s.onreadystatechange = s.onload = function() {\n",
       "          window._bokeh_is_loading--;\n",
       "          if (window._bokeh_is_loading === 0) {\n",
       "            console.log(\"Bokeh: all BokehJS libraries loaded\");\n",
       "            run_callbacks()\n",
       "          }\n",
       "        };\n",
       "        s.onerror = function() {\n",
       "          console.warn(\"failed to load library \" + url);\n",
       "        };\n",
       "        console.log(\"Bokeh: injecting script tag for BokehJS library: \", url);\n",
       "        document.getElementsByTagName(\"head\")[0].appendChild(s);\n",
       "      }\n",
       "    };var element = document.getElementById(\"ec5d2459-41e6-4319-9c86-ed8b77cc1cce\");\n",
       "    if (element == null) {\n",
       "      console.log(\"Bokeh: ERROR: autoload.js configured with elementid 'ec5d2459-41e6-4319-9c86-ed8b77cc1cce' but no matching script tag was found. \")\n",
       "      return false;\n",
       "    }\n",
       "  \n",
       "    var js_urls = [];\n",
       "  \n",
       "    var inline_js = [\n",
       "      function(Bokeh) {\n",
       "        Bokeh.$(function() {\n",
       "            var docs_json = {\"9743da8a-b4aa-4b4e-8071-8aab2cc367ab\":{\"roots\":{\"references\":[{\"attributes\":{\"callback\":null,\"column_names\":[\"y\",\"label\",\"width\",\"line_alpha\",\"height\",\"color\",\"line_color\",\"x\",\"fill_alpha\"],\"data\":{\"chart_index\":[{\"kind\":\"rest\",\"time\":\"30 min\"}],\"color\":[\"#407ee7\"],\"fill_alpha\":[0.8],\"height\":[92.0],\"kind\":[\"rest\"],\"label\":[{\"kind\":\"rest\",\"time\":\"30 min\"}],\"line_alpha\":[1.0],\"line_color\":[\"white\"],\"time\":[\"30 min\"],\"width\":[0.2],\"x\":[\"rest:0.75\"],\"y\":[46.0]}},\"id\":\"767d4a22-e05f-4c24-b5d4-7bc2b0c4af5e\",\"type\":\"ColumnDataSource\"},{\"attributes\":{\"callback\":null,\"column_names\":[\"y\",\"label\",\"width\",\"line_alpha\",\"height\",\"color\",\"line_color\",\"x\",\"fill_alpha\"],\"data\":{\"chart_index\":[{\"kind\":\"walking\",\"time\":\"15 min\"}],\"color\":[\"#5ab738\"],\"fill_alpha\":[0.8],\"height\":[96.0],\"kind\":[\"walking\"],\"label\":[{\"kind\":\"walking\",\"time\":\"15 min\"}],\"line_alpha\":[1.0],\"line_color\":[\"white\"],\"time\":[\"15 min\"],\"width\":[0.2],\"x\":[\"walking:0.5\"],\"y\":[48.0]}},\"id\":\"330c5a3f-3624-475b-9387-6ba9cfb5f498\",\"type\":\"ColumnDataSource\"},{\"attributes\":{\"plot\":{\"id\":\"0d442434-d602-42e5-9dcc-6ce21a9ec460\",\"subtype\":\"Chart\",\"type\":\"Plot\"}},\"id\":\"64cd22e4-a832-4bd1-ae74-3c15ee6dfb91\",\"type\":\"PanTool\"},{\"attributes\":{\"data_source\":{\"id\":\"330c5a3f-3624-475b-9387-6ba9cfb5f498\",\"type\":\"ColumnDataSource\"},\"glyph\":{\"id\":\"e9015a6a-7029-470b-a688-c444a0c0f585\",\"type\":\"Rect\"},\"hover_glyph\":null,\"nonselection_glyph\":null,\"selection_glyph\":null},\"id\":\"c63b2f3b-8fff-4c2d-98d2-649940b98eff\",\"type\":\"GlyphRenderer\"},{\"attributes\":{\"data_source\":{\"id\":\"e017c15c-bdbc-49e5-a4a3-679efa8f7e49\",\"type\":\"ColumnDataSource\"},\"glyph\":{\"id\":\"f9f0bc30-9108-4e51-a3c7-677f7e01faf9\",\"type\":\"Rect\"},\"hover_glyph\":null,\"nonselection_glyph\":null,\"selection_glyph\":null},\"id\":\"ad2081cf-b137-47f6-8069-714a259b65cc\",\"type\":\"GlyphRenderer\"},{\"attributes\":{\"fill_alpha\":{\"field\":\"fill_alpha\"},\"fill_color\":{\"field\":\"color\"},\"height\":{\"field\":\"height\",\"units\":\"data\"},\"line_color\":{\"field\":\"line_color\"},\"width\":{\"field\":\"width\",\"units\":\"data\"},\"x\":{\"field\":\"x\"},\"y\":{\"field\":\"y\"}},\"id\":\"8b1f4b37-d9ac-4ba6-8aae-aa0052ea37b6\",\"type\":\"Rect\"},{\"attributes\":{\"callback\":null,\"column_names\":[\"y\",\"label\",\"width\",\"line_alpha\",\"height\",\"color\",\"line_color\",\"x\",\"fill_alpha\"],\"data\":{\"chart_index\":[{\"kind\":\"walking\",\"time\":\"30 min\"}],\"color\":[\"#407ee7\"],\"fill_alpha\":[0.8],\"height\":[97.5],\"kind\":[\"walking\"],\"label\":[{\"kind\":\"walking\",\"time\":\"30 min\"}],\"line_alpha\":[1.0],\"line_color\":[\"white\"],\"time\":[\"30 min\"],\"width\":[0.2],\"x\":[\"walking:0.75\"],\"y\":[48.75]}},\"id\":\"442b00bf-dc5c-42a3-9603-3cd430ae38d3\",\"type\":\"ColumnDataSource\"},{\"attributes\":{\"axis_label\":\"Median( Pulse )\",\"formatter\":{\"id\":\"cb64c4a0-37c4-40d0-9339-59e3198b70bc\",\"type\":\"BasicTickFormatter\"},\"plot\":{\"id\":\"0d442434-d602-42e5-9dcc-6ce21a9ec460\",\"subtype\":\"Chart\",\"type\":\"Plot\"},\"ticker\":{\"id\":\"a49ed518-d45e-4cd2-9024-d6dc397f3961\",\"type\":\"BasicTicker\"}},\"id\":\"196a1089-f986-4617-b37a-310bfce0fbe2\",\"type\":\"LinearAxis\"},{\"attributes\":{\"axis_label\":\"Kind\",\"formatter\":{\"id\":\"ada6f734-ed05-43b0-9fe7-4faeb5b9846c\",\"type\":\"CategoricalTickFormatter\"},\"major_label_orientation\":0.7853981633974483,\"plot\":{\"id\":\"0d442434-d602-42e5-9dcc-6ce21a9ec460\",\"subtype\":\"Chart\",\"type\":\"Plot\"},\"ticker\":{\"id\":\"7754240e-1d7f-4eb5-a71b-bd63df8cc44b\",\"type\":\"CategoricalTicker\"}},\"id\":\"65b3e442-8fe1-4552-8536-807ad3d90a0e\",\"type\":\"CategoricalAxis\"},{\"attributes\":{\"data_source\":{\"id\":\"c0eb47cf-cfb5-4261-92e4-900eb5b6f209\",\"type\":\"ColumnDataSource\"},\"glyph\":{\"id\":\"e650bca1-f699-4d5f-9c53-2ea68f6e76ac\",\"type\":\"Rect\"},\"hover_glyph\":null,\"nonselection_glyph\":null,\"selection_glyph\":null},\"id\":\"1154a44e-ea16-457e-9db8-6e1c2427b1f5\",\"type\":\"GlyphRenderer\"},{\"attributes\":{\"fill_alpha\":{\"field\":\"fill_alpha\"},\"fill_color\":{\"field\":\"color\"},\"height\":{\"field\":\"height\",\"units\":\"data\"},\"line_color\":{\"field\":\"line_color\"},\"width\":{\"field\":\"width\",\"units\":\"data\"},\"x\":{\"field\":\"x\"},\"y\":{\"field\":\"y\"}},\"id\":\"e9015a6a-7029-470b-a688-c444a0c0f585\",\"type\":\"Rect\"},{\"attributes\":{\"callback\":null,\"column_names\":[\"y\",\"label\",\"width\",\"line_alpha\",\"height\",\"color\",\"line_color\",\"x\",\"fill_alpha\"],\"data\":{\"chart_index\":[{\"kind\":\"running\",\"time\":\"15 min\"}],\"color\":[\"#5ab738\"],\"fill_alpha\":[0.8],\"height\":[117.5],\"kind\":[\"running\"],\"label\":[{\"kind\":\"running\",\"time\":\"15 min\"}],\"line_alpha\":[1.0],\"line_color\":[\"white\"],\"time\":[\"15 min\"],\"width\":[0.2],\"x\":[\"running:0.5\"],\"y\":[58.75]}},\"id\":\"886d0808-1137-4f30-837a-48dab81dbf6f\",\"type\":\"ColumnDataSource\"},{\"attributes\":{\"fill_alpha\":{\"field\":\"fill_alpha\"},\"fill_color\":{\"field\":\"color\"},\"height\":{\"field\":\"height\",\"units\":\"data\"},\"line_color\":{\"field\":\"line_color\"},\"width\":{\"field\":\"width\",\"units\":\"data\"},\"x\":{\"field\":\"x\"},\"y\":{\"field\":\"y\"}},\"id\":\"ceec3b4a-2f02-4c07-a487-fa42eef1f758\",\"type\":\"Rect\"},{\"attributes\":{},\"id\":\"a49ed518-d45e-4cd2-9024-d6dc397f3961\",\"type\":\"BasicTicker\"},{\"attributes\":{\"data_source\":{\"id\":\"f3aefa18-131f-4973-8760-ebb274625d88\",\"type\":\"ColumnDataSource\"},\"glyph\":{\"id\":\"d805d5fc-7932-4798-8ac2-828c36bbe74b\",\"type\":\"Rect\"},\"hover_glyph\":null,\"nonselection_glyph\":null,\"selection_glyph\":null},\"id\":\"dc4d9527-2b6a-485d-89b4-8ec16b6c66eb\",\"type\":\"GlyphRenderer\"},{\"attributes\":{\"callback\":null,\"column_names\":[\"y\",\"label\",\"width\",\"line_alpha\",\"height\",\"color\",\"line_color\",\"x\",\"fill_alpha\"],\"data\":{\"chart_index\":[{\"kind\":\"rest\",\"time\":\"15 min\"}],\"color\":[\"#5ab738\"],\"fill_alpha\":[0.8],\"height\":[92.0],\"kind\":[\"rest\"],\"label\":[{\"kind\":\"rest\",\"time\":\"15 min\"}],\"line_alpha\":[1.0],\"line_color\":[\"white\"],\"time\":[\"15 min\"],\"width\":[0.2],\"x\":[\"rest:0.5\"],\"y\":[46.0]}},\"id\":\"fadf5939-7d21-4ee9-a599-4218b0c4d63d\",\"type\":\"ColumnDataSource\"},{\"attributes\":{},\"id\":\"7754240e-1d7f-4eb5-a71b-bd63df8cc44b\",\"type\":\"CategoricalTicker\"},{\"attributes\":{},\"id\":\"ada6f734-ed05-43b0-9fe7-4faeb5b9846c\",\"type\":\"CategoricalTickFormatter\"},{\"attributes\":{\"items\":[{\"id\":\"bfe0e608-dd64-4936-97bc-950cd5e24621\",\"type\":\"LegendItem\"},{\"id\":\"18b07bfb-64f3-493b-aef5-0debb3732924\",\"type\":\"LegendItem\"},{\"id\":\"c9edcd71-18b6-435a-970e-683a00432e54\",\"type\":\"LegendItem\"}],\"location\":\"top_left\",\"plot\":{\"id\":\"0d442434-d602-42e5-9dcc-6ce21a9ec460\",\"subtype\":\"Chart\",\"type\":\"Plot\"}},\"id\":\"764d2282-572b-44c3-9b41-957478b21fb4\",\"type\":\"Legend\"},{\"attributes\":{\"label\":{\"value\":\"30 min\"},\"renderers\":[{\"id\":\"6d2261f3-beb9-4779-b34f-8d2815945794\",\"type\":\"GlyphRenderer\"}]},\"id\":\"c9edcd71-18b6-435a-970e-683a00432e54\",\"type\":\"LegendItem\"},{\"attributes\":{\"fill_alpha\":{\"field\":\"fill_alpha\"},\"fill_color\":{\"field\":\"color\"},\"height\":{\"field\":\"height\",\"units\":\"data\"},\"line_color\":{\"field\":\"line_color\"},\"width\":{\"field\":\"width\",\"units\":\"data\"},\"x\":{\"field\":\"x\"},\"y\":{\"field\":\"y\"}},\"id\":\"6bf8b419-0d3f-45e9-bfc5-d9c0d2bcd61e\",\"type\":\"Rect\"},{\"attributes\":{\"data_source\":{\"id\":\"05d525e6-55f5-49d0-85e2-f98dd5aed914\",\"type\":\"ColumnDataSource\"},\"glyph\":{\"id\":\"6bf8b419-0d3f-45e9-bfc5-d9c0d2bcd61e\",\"type\":\"Rect\"},\"hover_glyph\":null,\"nonselection_glyph\":null,\"selection_glyph\":null},\"id\":\"cc90ebf0-4f42-4de5-a32a-7d8b614f4368\",\"type\":\"GlyphRenderer\"},{\"attributes\":{\"plot\":null,\"text\":\"Median BPM by kind of exercise, grouped by duration\"},\"id\":\"445cd9ba-5829-48d3-b91a-f336062549b3\",\"type\":\"Title\"},{\"attributes\":{\"callback\":null,\"column_names\":[\"y\",\"label\",\"width\",\"line_alpha\",\"height\",\"color\",\"line_color\",\"x\",\"fill_alpha\"],\"data\":{\"chart_index\":[{\"kind\":\"walking\",\"time\":\"1 min\"}],\"color\":[\"#f22c40\"],\"fill_alpha\":[0.8],\"height\":[92.5],\"kind\":[\"walking\"],\"label\":[{\"kind\":\"walking\",\"time\":\"1 min\"}],\"line_alpha\":[1.0],\"line_color\":[\"white\"],\"time\":[\"1 min\"],\"width\":[0.2],\"x\":[\"walking:0.25\"],\"y\":[46.25]}},\"id\":\"05d525e6-55f5-49d0-85e2-f98dd5aed914\",\"type\":\"ColumnDataSource\"},{\"attributes\":{\"callback\":null,\"factors\":[\"rest\",\"running\",\"walking\"]},\"id\":\"10ec248f-194d-42cf-ae8c-24497879427d\",\"type\":\"FactorRange\"},{\"attributes\":{\"overlay\":{\"id\":\"2399f1ba-6f13-4b94-a1de-228aa480553f\",\"type\":\"BoxAnnotation\"},\"plot\":{\"id\":\"0d442434-d602-42e5-9dcc-6ce21a9ec460\",\"subtype\":\"Chart\",\"type\":\"Plot\"}},\"id\":\"90d026ca-6d15-4dd6-8125-a7edc59a9f78\",\"type\":\"BoxZoomTool\"},{\"attributes\":{\"plot\":{\"id\":\"0d442434-d602-42e5-9dcc-6ce21a9ec460\",\"subtype\":\"Chart\",\"type\":\"Plot\"}},\"id\":\"def816c4-7c06-483b-bea5-0a6013e4c1bd\",\"type\":\"WheelZoomTool\"},{\"attributes\":{\"fill_alpha\":{\"field\":\"fill_alpha\"},\"fill_color\":{\"field\":\"color\"},\"height\":{\"field\":\"height\",\"units\":\"data\"},\"line_color\":{\"field\":\"line_color\"},\"width\":{\"field\":\"width\",\"units\":\"data\"},\"x\":{\"field\":\"x\"},\"y\":{\"field\":\"y\"}},\"id\":\"d805d5fc-7932-4798-8ac2-828c36bbe74b\",\"type\":\"Rect\"},{\"attributes\":{\"label\":{\"value\":\"1 min\"},\"renderers\":[{\"id\":\"dc4d9527-2b6a-485d-89b4-8ec16b6c66eb\",\"type\":\"GlyphRenderer\"}]},\"id\":\"bfe0e608-dd64-4936-97bc-950cd5e24621\",\"type\":\"LegendItem\"},{\"attributes\":{\"data_source\":{\"id\":\"767d4a22-e05f-4c24-b5d4-7bc2b0c4af5e\",\"type\":\"ColumnDataSource\"},\"glyph\":{\"id\":\"e27f0485-26cd-43b3-916b-3d66334cc7a7\",\"type\":\"Rect\"},\"hover_glyph\":null,\"nonselection_glyph\":null,\"selection_glyph\":null},\"id\":\"6d2261f3-beb9-4779-b34f-8d2815945794\",\"type\":\"GlyphRenderer\"},{\"attributes\":{\"bottom_units\":\"screen\",\"fill_alpha\":{\"value\":0.5},\"fill_color\":{\"value\":\"lightgrey\"},\"left_units\":\"screen\",\"level\":\"overlay\",\"line_alpha\":{\"value\":1.0},\"line_color\":{\"value\":\"black\"},\"line_dash\":[4,4],\"line_width\":{\"value\":2},\"plot\":null,\"render_mode\":\"css\",\"right_units\":\"screen\",\"top_units\":\"screen\"},\"id\":\"2399f1ba-6f13-4b94-a1de-228aa480553f\",\"type\":\"BoxAnnotation\"},{\"attributes\":{\"fill_alpha\":{\"field\":\"fill_alpha\"},\"fill_color\":{\"field\":\"color\"},\"height\":{\"field\":\"height\",\"units\":\"data\"},\"line_color\":{\"field\":\"line_color\"},\"width\":{\"field\":\"width\",\"units\":\"data\"},\"x\":{\"field\":\"x\"},\"y\":{\"field\":\"y\"}},\"id\":\"e650bca1-f699-4d5f-9c53-2ea68f6e76ac\",\"type\":\"Rect\"},{\"attributes\":{\"fill_alpha\":{\"field\":\"fill_alpha\"},\"fill_color\":{\"field\":\"color\"},\"height\":{\"field\":\"height\",\"units\":\"data\"},\"line_color\":{\"field\":\"line_color\"},\"width\":{\"field\":\"width\",\"units\":\"data\"},\"x\":{\"field\":\"x\"},\"y\":{\"field\":\"y\"}},\"id\":\"e27f0485-26cd-43b3-916b-3d66334cc7a7\",\"type\":\"Rect\"},{\"attributes\":{\"active_drag\":\"auto\",\"active_scroll\":\"auto\",\"active_tap\":\"auto\",\"tools\":[{\"id\":\"64cd22e4-a832-4bd1-ae74-3c15ee6dfb91\",\"type\":\"PanTool\"},{\"id\":\"def816c4-7c06-483b-bea5-0a6013e4c1bd\",\"type\":\"WheelZoomTool\"},{\"id\":\"90d026ca-6d15-4dd6-8125-a7edc59a9f78\",\"type\":\"BoxZoomTool\"},{\"id\":\"d0211f9c-4a1a-4b21-9f87-1780e4f27419\",\"type\":\"SaveTool\"},{\"id\":\"cf538860-5ef9-4ac8-9dc7-696d9d5b9c44\",\"type\":\"ResetTool\"},{\"id\":\"3023bd6e-4d38-470d-8062-0ca87c6d65eb\",\"type\":\"HelpTool\"}]},\"id\":\"d02d6aa5-8af8-4603-981e-8ab08542c3c3\",\"type\":\"Toolbar\"},{\"attributes\":{\"callback\":null,\"column_names\":[\"y\",\"label\",\"width\",\"line_alpha\",\"height\",\"color\",\"line_color\",\"x\",\"fill_alpha\"],\"data\":{\"chart_index\":[{\"kind\":\"running\",\"time\":\"1 min\"}],\"color\":[\"#f22c40\"],\"fill_alpha\":[0.8],\"height\":[96.5],\"kind\":[\"running\"],\"label\":[{\"kind\":\"running\",\"time\":\"1 min\"}],\"line_alpha\":[1.0],\"line_color\":[\"white\"],\"time\":[\"1 min\"],\"width\":[0.2],\"x\":[\"running:0.25\"],\"y\":[48.25]}},\"id\":\"e017c15c-bdbc-49e5-a4a3-679efa8f7e49\",\"type\":\"ColumnDataSource\"},{\"attributes\":{\"dimension\":1,\"plot\":{\"id\":\"0d442434-d602-42e5-9dcc-6ce21a9ec460\",\"subtype\":\"Chart\",\"type\":\"Plot\"},\"ticker\":{\"id\":\"a49ed518-d45e-4cd2-9024-d6dc397f3961\",\"type\":\"BasicTicker\"}},\"id\":\"04fb1b09-7400-410a-8001-0fec2241e6aa\",\"type\":\"Grid\"},{\"attributes\":{\"plot\":{\"id\":\"0d442434-d602-42e5-9dcc-6ce21a9ec460\",\"subtype\":\"Chart\",\"type\":\"Plot\"}},\"id\":\"cf538860-5ef9-4ac8-9dc7-696d9d5b9c44\",\"type\":\"ResetTool\"},{\"attributes\":{},\"id\":\"ed707d5b-b830-48f8-980a-774117369484\",\"type\":\"ToolEvents\"},{\"attributes\":{\"callback\":null,\"column_names\":[\"y\",\"label\",\"width\",\"line_alpha\",\"height\",\"color\",\"line_color\",\"x\",\"fill_alpha\"],\"data\":{\"chart_index\":[{\"kind\":\"rest\",\"time\":\"1 min\"}],\"color\":[\"#f22c40\"],\"fill_alpha\":[0.8],\"height\":[90.5],\"kind\":[\"rest\"],\"label\":[{\"kind\":\"rest\",\"time\":\"1 min\"}],\"line_alpha\":[1.0],\"line_color\":[\"white\"],\"time\":[\"1 min\"],\"width\":[0.2],\"x\":[\"rest:0.25\"],\"y\":[45.25]}},\"id\":\"f3aefa18-131f-4973-8760-ebb274625d88\",\"type\":\"ColumnDataSource\"},{\"attributes\":{\"below\":[{\"id\":\"65b3e442-8fe1-4552-8536-807ad3d90a0e\",\"type\":\"CategoricalAxis\"}],\"left\":[{\"id\":\"196a1089-f986-4617-b37a-310bfce0fbe2\",\"type\":\"LinearAxis\"}],\"renderers\":[{\"id\":\"2399f1ba-6f13-4b94-a1de-228aa480553f\",\"type\":\"BoxAnnotation\"},{\"id\":\"dc4d9527-2b6a-485d-89b4-8ec16b6c66eb\",\"type\":\"GlyphRenderer\"},{\"id\":\"e4e25af8-be40-44a0-a678-c2dd289b60e6\",\"type\":\"GlyphRenderer\"},{\"id\":\"6d2261f3-beb9-4779-b34f-8d2815945794\",\"type\":\"GlyphRenderer\"},{\"id\":\"cc90ebf0-4f42-4de5-a32a-7d8b614f4368\",\"type\":\"GlyphRenderer\"},{\"id\":\"c63b2f3b-8fff-4c2d-98d2-649940b98eff\",\"type\":\"GlyphRenderer\"},{\"id\":\"b61d0923-b8c3-491a-8d33-f27f1f9df983\",\"type\":\"GlyphRenderer\"},{\"id\":\"ad2081cf-b137-47f6-8069-714a259b65cc\",\"type\":\"GlyphRenderer\"},{\"id\":\"874a4373-a114-48a3-94ee-f1969a0d0d77\",\"type\":\"GlyphRenderer\"},{\"id\":\"1154a44e-ea16-457e-9db8-6e1c2427b1f5\",\"type\":\"GlyphRenderer\"},{\"id\":\"764d2282-572b-44c3-9b41-957478b21fb4\",\"type\":\"Legend\"},{\"id\":\"65b3e442-8fe1-4552-8536-807ad3d90a0e\",\"type\":\"CategoricalAxis\"},{\"id\":\"196a1089-f986-4617-b37a-310bfce0fbe2\",\"type\":\"LinearAxis\"},{\"id\":\"04fb1b09-7400-410a-8001-0fec2241e6aa\",\"type\":\"Grid\"}],\"title\":{\"id\":\"445cd9ba-5829-48d3-b91a-f336062549b3\",\"type\":\"Title\"},\"tool_events\":{\"id\":\"ed707d5b-b830-48f8-980a-774117369484\",\"type\":\"ToolEvents\"},\"toolbar\":{\"id\":\"d02d6aa5-8af8-4603-981e-8ab08542c3c3\",\"type\":\"Toolbar\"},\"x_mapper_type\":\"auto\",\"x_range\":{\"id\":\"10ec248f-194d-42cf-ae8c-24497879427d\",\"type\":\"FactorRange\"},\"y_mapper_type\":\"auto\",\"y_range\":{\"id\":\"75858f25-bb56-4403-ad72-05bfb3ad0e70\",\"type\":\"Range1d\"}},\"id\":\"0d442434-d602-42e5-9dcc-6ce21a9ec460\",\"subtype\":\"Chart\",\"type\":\"Plot\"},{\"attributes\":{\"callback\":null,\"end\":131.25},\"id\":\"75858f25-bb56-4403-ad72-05bfb3ad0e70\",\"type\":\"Range1d\"},{\"attributes\":{\"plot\":{\"id\":\"0d442434-d602-42e5-9dcc-6ce21a9ec460\",\"subtype\":\"Chart\",\"type\":\"Plot\"}},\"id\":\"d0211f9c-4a1a-4b21-9f87-1780e4f27419\",\"type\":\"SaveTool\"},{\"attributes\":{},\"id\":\"cb64c4a0-37c4-40d0-9339-59e3198b70bc\",\"type\":\"BasicTickFormatter\"},{\"attributes\":{\"data_source\":{\"id\":\"fadf5939-7d21-4ee9-a599-4218b0c4d63d\",\"type\":\"ColumnDataSource\"},\"glyph\":{\"id\":\"8b1f4b37-d9ac-4ba6-8aae-aa0052ea37b6\",\"type\":\"Rect\"},\"hover_glyph\":null,\"nonselection_glyph\":null,\"selection_glyph\":null},\"id\":\"e4e25af8-be40-44a0-a678-c2dd289b60e6\",\"type\":\"GlyphRenderer\"},{\"attributes\":{\"label\":{\"value\":\"15 min\"},\"renderers\":[{\"id\":\"e4e25af8-be40-44a0-a678-c2dd289b60e6\",\"type\":\"GlyphRenderer\"}]},\"id\":\"18b07bfb-64f3-493b-aef5-0debb3732924\",\"type\":\"LegendItem\"},{\"attributes\":{\"plot\":{\"id\":\"0d442434-d602-42e5-9dcc-6ce21a9ec460\",\"subtype\":\"Chart\",\"type\":\"Plot\"}},\"id\":\"3023bd6e-4d38-470d-8062-0ca87c6d65eb\",\"type\":\"HelpTool\"},{\"attributes\":{\"fill_alpha\":{\"field\":\"fill_alpha\"},\"fill_color\":{\"field\":\"color\"},\"height\":{\"field\":\"height\",\"units\":\"data\"},\"line_color\":{\"field\":\"line_color\"},\"width\":{\"field\":\"width\",\"units\":\"data\"},\"x\":{\"field\":\"x\"},\"y\":{\"field\":\"y\"}},\"id\":\"cf4cb6f1-d50a-4303-bee3-60dfbb7a6635\",\"type\":\"Rect\"},{\"attributes\":{\"fill_alpha\":{\"field\":\"fill_alpha\"},\"fill_color\":{\"field\":\"color\"},\"height\":{\"field\":\"height\",\"units\":\"data\"},\"line_color\":{\"field\":\"line_color\"},\"width\":{\"field\":\"width\",\"units\":\"data\"},\"x\":{\"field\":\"x\"},\"y\":{\"field\":\"y\"}},\"id\":\"f9f0bc30-9108-4e51-a3c7-677f7e01faf9\",\"type\":\"Rect\"},{\"attributes\":{\"data_source\":{\"id\":\"442b00bf-dc5c-42a3-9603-3cd430ae38d3\",\"type\":\"ColumnDataSource\"},\"glyph\":{\"id\":\"ceec3b4a-2f02-4c07-a487-fa42eef1f758\",\"type\":\"Rect\"},\"hover_glyph\":null,\"nonselection_glyph\":null,\"selection_glyph\":null},\"id\":\"b61d0923-b8c3-491a-8d33-f27f1f9df983\",\"type\":\"GlyphRenderer\"},{\"attributes\":{\"callback\":null,\"column_names\":[\"y\",\"label\",\"width\",\"line_alpha\",\"height\",\"color\",\"line_color\",\"x\",\"fill_alpha\"],\"data\":{\"chart_index\":[{\"kind\":\"running\",\"time\":\"30 min\"}],\"color\":[\"#407ee7\"],\"fill_alpha\":[0.8],\"height\":[125.0],\"kind\":[\"running\"],\"label\":[{\"kind\":\"running\",\"time\":\"30 min\"}],\"line_alpha\":[1.0],\"line_color\":[\"white\"],\"time\":[\"30 min\"],\"width\":[0.2],\"x\":[\"running:0.75\"],\"y\":[62.5]}},\"id\":\"c0eb47cf-cfb5-4261-92e4-900eb5b6f209\",\"type\":\"ColumnDataSource\"},{\"attributes\":{\"data_source\":{\"id\":\"886d0808-1137-4f30-837a-48dab81dbf6f\",\"type\":\"ColumnDataSource\"},\"glyph\":{\"id\":\"cf4cb6f1-d50a-4303-bee3-60dfbb7a6635\",\"type\":\"Rect\"},\"hover_glyph\":null,\"nonselection_glyph\":null,\"selection_glyph\":null},\"id\":\"874a4373-a114-48a3-94ee-f1969a0d0d77\",\"type\":\"GlyphRenderer\"}],\"root_ids\":[\"0d442434-d602-42e5-9dcc-6ce21a9ec460\"]},\"title\":\"Bokeh Application\",\"version\":\"0.12.3\"}};\n",
       "            var render_items = [{\"docid\":\"9743da8a-b4aa-4b4e-8071-8aab2cc367ab\",\"elementid\":\"ec5d2459-41e6-4319-9c86-ed8b77cc1cce\",\"modelid\":\"0d442434-d602-42e5-9dcc-6ce21a9ec460\"}];\n",
       "            \n",
       "            Bokeh.embed.embed_items(docs_json, render_items);\n",
       "        });\n",
       "      },\n",
       "      function(Bokeh) {\n",
       "      }\n",
       "    ];\n",
       "  \n",
       "    function run_inline_js() {\n",
       "      \n",
       "      if ((window.Bokeh !== undefined) || (force === \"1\")) {\n",
       "        for (var i = 0; i < inline_js.length; i++) {\n",
       "          inline_js[i](window.Bokeh);\n",
       "        }if (force === \"1\") {\n",
       "          display_loaded();\n",
       "        }} else if (Date.now() < window._bokeh_timeout) {\n",
       "        setTimeout(run_inline_js, 100);\n",
       "      } else if (!window._bokeh_failed_load) {\n",
       "        console.log(\"Bokeh: BokehJS failed to load within specified timeout.\");\n",
       "        window._bokeh_failed_load = true;\n",
       "      } else if (!force) {\n",
       "        var cell = $(\"#ec5d2459-41e6-4319-9c86-ed8b77cc1cce\").parents('.cell').data().cell;\n",
       "        cell.output_area.append_execute_result(NB_LOAD_WARNING)\n",
       "      }\n",
       "  \n",
       "    }\n",
       "  \n",
       "    if (window._bokeh_is_loading === 0) {\n",
       "      console.log(\"Bokeh: BokehJS loaded, going straight to plotting\");\n",
       "      run_inline_js();\n",
       "    } else {\n",
       "      load_libs(js_urls, function() {\n",
       "        console.log(\"Bokeh: BokehJS plotting callback run at\", now());\n",
       "        run_inline_js();\n",
       "      });\n",
       "    }\n",
       "  }(this));\n",
       "</script>"
      ]
     },
     "metadata": {},
     "output_type": "display_data"
    }
   ],
   "source": [
    "#bkc.output_file('exercise_bar.html', mode='inline')\n",
    "p = bkc.Bar(exercise, values='pulse', label='kind', color='time', agg='median', \n",
    "            group='time', title='Median BPM by kind of exercise, grouped by duration')\n",
    "bkc.show(p)"
   ]
  },
  {
   "cell_type": "markdown",
   "metadata": {},
   "source": [
    "Now, let's load a dataset with more continuous variables so we can show off how easy it is to create tooltips on a scatter plot."
   ]
  },
  {
   "cell_type": "code",
   "execution_count": 5,
   "metadata": {
    "collapsed": false
   },
   "outputs": [
    {
     "data": {
      "text/html": [
       "<div>\n",
       "<table border=\"1\" class=\"dataframe\">\n",
       "  <thead>\n",
       "    <tr style=\"text-align: right;\">\n",
       "      <th></th>\n",
       "      <th>mpg</th>\n",
       "      <th>cyl</th>\n",
       "      <th>displ</th>\n",
       "      <th>hp</th>\n",
       "      <th>weight</th>\n",
       "      <th>accel</th>\n",
       "      <th>yr</th>\n",
       "      <th>origin</th>\n",
       "      <th>name</th>\n",
       "    </tr>\n",
       "  </thead>\n",
       "  <tbody>\n",
       "    <tr>\n",
       "      <th>0</th>\n",
       "      <td>18.0</td>\n",
       "      <td>8</td>\n",
       "      <td>307.0</td>\n",
       "      <td>130</td>\n",
       "      <td>3504</td>\n",
       "      <td>12.0</td>\n",
       "      <td>70</td>\n",
       "      <td>1</td>\n",
       "      <td>chevrolet chevelle malibu</td>\n",
       "    </tr>\n",
       "    <tr>\n",
       "      <th>1</th>\n",
       "      <td>15.0</td>\n",
       "      <td>8</td>\n",
       "      <td>350.0</td>\n",
       "      <td>165</td>\n",
       "      <td>3693</td>\n",
       "      <td>11.5</td>\n",
       "      <td>70</td>\n",
       "      <td>1</td>\n",
       "      <td>buick skylark 320</td>\n",
       "    </tr>\n",
       "    <tr>\n",
       "      <th>2</th>\n",
       "      <td>18.0</td>\n",
       "      <td>8</td>\n",
       "      <td>318.0</td>\n",
       "      <td>150</td>\n",
       "      <td>3436</td>\n",
       "      <td>11.0</td>\n",
       "      <td>70</td>\n",
       "      <td>1</td>\n",
       "      <td>plymouth satellite</td>\n",
       "    </tr>\n",
       "    <tr>\n",
       "      <th>3</th>\n",
       "      <td>16.0</td>\n",
       "      <td>8</td>\n",
       "      <td>304.0</td>\n",
       "      <td>150</td>\n",
       "      <td>3433</td>\n",
       "      <td>12.0</td>\n",
       "      <td>70</td>\n",
       "      <td>1</td>\n",
       "      <td>amc rebel sst</td>\n",
       "    </tr>\n",
       "    <tr>\n",
       "      <th>4</th>\n",
       "      <td>17.0</td>\n",
       "      <td>8</td>\n",
       "      <td>302.0</td>\n",
       "      <td>140</td>\n",
       "      <td>3449</td>\n",
       "      <td>10.5</td>\n",
       "      <td>70</td>\n",
       "      <td>1</td>\n",
       "      <td>ford torino</td>\n",
       "    </tr>\n",
       "  </tbody>\n",
       "</table>\n",
       "</div>"
      ],
      "text/plain": [
       "    mpg  cyl  displ   hp  weight  accel  yr  origin                       name\n",
       "0  18.0    8  307.0  130    3504   12.0  70       1  chevrolet chevelle malibu\n",
       "1  15.0    8  350.0  165    3693   11.5  70       1          buick skylark 320\n",
       "2  18.0    8  318.0  150    3436   11.0  70       1         plymouth satellite\n",
       "3  16.0    8  304.0  150    3433   12.0  70       1              amc rebel sst\n",
       "4  17.0    8  302.0  140    3449   10.5  70       1                ford torino"
      ]
     },
     "execution_count": 5,
     "metadata": {},
     "output_type": "execute_result"
    }
   ],
   "source": [
    "from bokeh.sampledata.autompg import autompg\n",
    "autompg.head()"
   ]
  },
  {
   "cell_type": "code",
   "execution_count": 12,
   "metadata": {
    "collapsed": false
   },
   "outputs": [
    {
     "data": {
      "text/html": [
       "\n",
       "\n",
       "    <div class=\"bk-root\">\n",
       "        <div class=\"plotdiv\" id=\"d4bf3a06-25d8-4e46-b9a8-cf6633629d5e\"></div>\n",
       "    </div>\n",
       "<script type=\"text/javascript\">\n",
       "  \n",
       "  (function(global) {\n",
       "    function now() {\n",
       "      return new Date();\n",
       "    }\n",
       "  \n",
       "    var force = \"\";\n",
       "  \n",
       "    if (typeof (window._bokeh_onload_callbacks) === \"undefined\" || force !== \"\") {\n",
       "      window._bokeh_onload_callbacks = [];\n",
       "      window._bokeh_is_loading = undefined;\n",
       "    }\n",
       "  \n",
       "  \n",
       "    \n",
       "    if (typeof (window._bokeh_timeout) === \"undefined\" || force !== \"\") {\n",
       "      window._bokeh_timeout = Date.now() + 0;\n",
       "      window._bokeh_failed_load = false;\n",
       "    }\n",
       "  \n",
       "    var NB_LOAD_WARNING = {'data': {'text/html':\n",
       "       \"<div style='background-color: #fdd'>\\n\"+\n",
       "       \"<p>\\n\"+\n",
       "       \"BokehJS does not appear to have successfully loaded. If loading BokehJS from CDN, this \\n\"+\n",
       "       \"may be due to a slow or bad network connection. Possible fixes:\\n\"+\n",
       "       \"</p>\\n\"+\n",
       "       \"<ul>\\n\"+\n",
       "       \"<li>re-rerun `output_notebook()` to attempt to load from CDN again, or</li>\\n\"+\n",
       "       \"<li>use INLINE resources instead, as so:</li>\\n\"+\n",
       "       \"</ul>\\n\"+\n",
       "       \"<code>\\n\"+\n",
       "       \"from bokeh.resources import INLINE\\n\"+\n",
       "       \"output_notebook(resources=INLINE)\\n\"+\n",
       "       \"</code>\\n\"+\n",
       "       \"</div>\"}};\n",
       "  \n",
       "    function display_loaded() {\n",
       "      if (window.Bokeh !== undefined) {\n",
       "        Bokeh.$(\"#d4bf3a06-25d8-4e46-b9a8-cf6633629d5e\").text(\"BokehJS successfully loaded.\");\n",
       "      } else if (Date.now() < window._bokeh_timeout) {\n",
       "        setTimeout(display_loaded, 100)\n",
       "      }\n",
       "    }\n",
       "  \n",
       "    function run_callbacks() {\n",
       "      window._bokeh_onload_callbacks.forEach(function(callback) { callback() });\n",
       "      delete window._bokeh_onload_callbacks\n",
       "      console.info(\"Bokeh: all callbacks have finished\");\n",
       "    }\n",
       "  \n",
       "    function load_libs(js_urls, callback) {\n",
       "      window._bokeh_onload_callbacks.push(callback);\n",
       "      if (window._bokeh_is_loading > 0) {\n",
       "        console.log(\"Bokeh: BokehJS is being loaded, scheduling callback at\", now());\n",
       "        return null;\n",
       "      }\n",
       "      if (js_urls == null || js_urls.length === 0) {\n",
       "        run_callbacks();\n",
       "        return null;\n",
       "      }\n",
       "      console.log(\"Bokeh: BokehJS not loaded, scheduling load and callback at\", now());\n",
       "      window._bokeh_is_loading = js_urls.length;\n",
       "      for (var i = 0; i < js_urls.length; i++) {\n",
       "        var url = js_urls[i];\n",
       "        var s = document.createElement('script');\n",
       "        s.src = url;\n",
       "        s.async = false;\n",
       "        s.onreadystatechange = s.onload = function() {\n",
       "          window._bokeh_is_loading--;\n",
       "          if (window._bokeh_is_loading === 0) {\n",
       "            console.log(\"Bokeh: all BokehJS libraries loaded\");\n",
       "            run_callbacks()\n",
       "          }\n",
       "        };\n",
       "        s.onerror = function() {\n",
       "          console.warn(\"failed to load library \" + url);\n",
       "        };\n",
       "        console.log(\"Bokeh: injecting script tag for BokehJS library: \", url);\n",
       "        document.getElementsByTagName(\"head\")[0].appendChild(s);\n",
       "      }\n",
       "    };var element = document.getElementById(\"d4bf3a06-25d8-4e46-b9a8-cf6633629d5e\");\n",
       "    if (element == null) {\n",
       "      console.log(\"Bokeh: ERROR: autoload.js configured with elementid 'd4bf3a06-25d8-4e46-b9a8-cf6633629d5e' but no matching script tag was found. \")\n",
       "      return false;\n",
       "    }\n",
       "  \n",
       "    var js_urls = [];\n",
       "  \n",
       "    var inline_js = [\n",
       "      function(Bokeh) {\n",
       "        Bokeh.$(function() {\n",
       "            var docs_json = {\"c86781ea-c7ad-4e92-8fd7-c655c93f6a4b\":{\"roots\":{\"references\":[{\"attributes\":{\"callback\":null,\"end\":5492.7,\"start\":1260.3},\"id\":\"021a480c-38f0-4156-97a1-99311985f9ed\",\"type\":\"Range1d\"},{\"attributes\":{},\"id\":\"6f64c542-8f3c-4685-90fb-3ae777025cc6\",\"type\":\"BasicTicker\"},{\"attributes\":{\"callback\":null,\"column_names\":[\"y_values\",\"x_values\",\"name\",\"cyl\",\"hp\",\"accel\",\"yr\"],\"data\":{\"accel\":[12.0,11.5,11.0,12.0,10.5,10.0,9.0,8.5,10.0,8.5,10.0,8.0,9.5,10.0,15.0,15.5,15.5,16.0,14.5,20.5,17.5,14.5,17.5,12.5,15.0,14.0,15.0,13.5,18.5,14.5,15.5,14.0,13.0,15.5,15.5,15.5,15.5,12.0,11.5,13.5,13.0,11.5,12.0,12.0,13.5,19.0,15.0,14.5,14.0,14.0,19.5,14.5,19.0,18.0,19.0,20.5,15.5,17.0,23.5,19.5,16.5,12.0,12.0,13.5,13.0,11.5,11.0,13.5,13.5,12.5,13.5,12.5,14.0,16.0,14.0,14.5,18.0,19.5,18.0,16.0,17.0,14.5,15.0,16.5,13.0,11.5,13.0,14.5,12.5,11.5,12.0,13.0,14.5,11.0,11.0,11.0,16.5,18.0,16.0,16.5,16.0,21.0,14.0,12.5,13.0,12.5,15.0,19.0,19.5,16.5,13.5,18.5,14.0,15.5,13.0,9.5,19.5,15.5,14.0,15.5,11.0,14.0,13.5,11.0,16.5,16.0,17.0,19.0,16.5,21.0,17.0,17.0,18.0,16.5,14.0,14.5,13.5,16.0,15.5,16.5,15.5,14.5,16.5,19.0,14.5,15.5,14.0,15.0,15.5,16.0,16.0,16.0,21.0,19.5,11.5,14.0,14.5,13.5,21.0,18.5,19.0,19.0,15.0,13.5,12.0,16.0,17.0,16.0,18.5,13.5,16.5,17.0,14.5,14.0,17.0,15.0,17.0,14.5,13.5,17.5,15.5,16.9,14.9,17.7,15.3,13.0,13.0,13.9,12.8,15.4,14.5,17.6,17.6,22.2,22.1,14.2,17.4,17.7,21.0,16.2,17.8,12.2,17.0,16.4,13.6,15.7,13.2,21.9,15.5,16.7,12.1,12.0,15.0,14.0,18.5,14.8,18.6,15.5,16.8,12.5,19.0,13.7,14.9,16.4,16.9,17.7,19.0,11.1,11.4,12.2,14.5,14.5,16.0,18.2,15.8,17.0,15.9,16.4,14.1,14.5,12.8,13.5,21.5,14.4,19.4,18.6,16.4,15.5,13.2,12.8,19.2,18.2,15.8,15.4,17.2,17.2,15.8,16.7,18.7,15.1,13.2,13.4,11.2,13.7,16.5,14.2,14.7,14.5,14.8,16.7,17.6,14.9,15.9,13.6,15.7,15.8,14.9,16.6,15.4,18.2,17.3,18.2,16.6,15.4,13.4,13.2,15.2,14.9,14.3,15.0,13.0,14.0,15.2,14.4,15.0,20.1,17.4,24.8,22.2,13.2,14.9,19.2,14.7,16.0,11.3,12.9,13.2,14.7,18.8,15.5,16.4,16.5,18.1,20.1,18.7,15.8,15.5,17.5,15.0,15.2,17.9,14.4,19.2,21.7,23.7,19.9,21.8,13.8,18.0,15.3,11.4,12.5,15.1,17.0,15.7,16.4,14.4,12.6,12.9,16.9,16.4,16.1,17.8,19.4,17.3,16.0,14.9,16.2,20.7,14.2,14.4,16.8,14.8,18.3,20.4,19.6,12.6,13.8,15.8,19.0,17.1,16.6,19.6,18.6,18.0,16.2,16.0,18.0,16.4,15.3,18.2,17.6,14.7,17.3,14.5,14.5,16.9,15.0,15.7,16.2,16.4,17.0,14.5,14.7,13.9,13.0,17.3,15.6,24.6,11.6,18.6,19.4],\"chart_index\":[null,null,null,null,null,null,null,null,null,null,null,null,null,null,null,null,null,null,null,null,null,null,null,null,null,null,null,null,null,null,null,null,null,null,null,null,null,null,null,null,null,null,null,null,null,null,null,null,null,null,null,null,null,null,null,null,null,null,null,null,null,null,null,null,null,null,null,null,null,null,null,null,null,null,null,null,null,null,null,null,null,null,null,null,null,null,null,null,null,null,null,null,null,null,null,null,null,null,null,null,null,null,null,null,null,null,null,null,null,null,null,null,null,null,null,null,null,null,null,null,null,null,null,null,null,null,null,null,null,null,null,null,null,null,null,null,null,null,null,null,null,null,null,null,null,null,null,null,null,null,null,null,null,null,null,null,null,null,null,null,null,null,null,null,null,null,null,null,null,null,null,null,null,null,null,null,null,null,null,null,null,null,null,null,null,null,null,null,null,null,null,null,null,null,null,null,null,null,null,null,null,null,null,null,null,null,null,null,null,null,null,null,null,null,null,null,null,null,null,null,null,null,null,null,null,null,null,null,null,null,null,null,null,null,null,null,null,null,null,null,null,null,null,null,null,null,null,null,null,null,null,null,null,null,null,null,null,null,null,null,null,null,null,null,null,null,null,null,null,null,null,null,null,null,null,null,null,null,null,null,null,null,null,null,null,null,null,null,null,null,null,null,null,null,null,null,null,null,null,null,null,null,null,null,null,null,null,null,null,null,null,null,null,null,null,null,null,null,null,null,null,null,null,null,null,null,null,null,null,null,null,null,null,null,null,null,null,null,null,null,null,null,null,null,null,null,null,null,null,null,null,null,null,null,null,null,null,null,null,null,null,null,null,null,null,null,null,null,null,null,null,null,null,null,null,null,null,null,null,null,null,null,null,null,null,null,null,null,null,null,null,null],\"cyl\":[8,8,8,8,8,8,8,8,8,8,8,8,8,8,4,6,6,6,4,4,4,4,4,4,6,8,8,8,8,4,4,4,6,6,6,6,6,8,8,8,8,8,8,8,6,4,6,6,4,4,4,4,4,4,4,4,4,4,4,4,4,8,8,8,8,8,8,8,8,8,3,8,8,8,8,4,4,4,4,4,4,4,4,4,8,8,8,8,8,8,8,8,8,8,8,8,6,6,6,6,6,4,8,8,8,8,6,4,4,4,3,4,6,4,8,8,4,4,4,4,8,4,6,8,6,6,6,4,4,4,4,6,6,6,8,8,8,8,8,4,4,4,4,4,4,4,4,4,4,4,6,6,6,6,8,8,8,8,6,6,6,6,6,8,8,4,4,6,4,4,4,4,6,4,6,4,4,4,4,4,4,4,4,4,4,8,8,8,8,6,6,6,6,4,4,4,4,6,6,6,6,4,4,4,4,4,8,4,6,6,8,8,8,8,4,4,4,4,4,8,8,8,8,6,6,6,6,8,8,8,8,4,4,4,4,4,4,4,4,6,4,3,4,4,4,4,4,8,8,8,6,6,6,4,6,6,6,6,6,6,8,6,8,8,4,4,4,4,4,4,4,4,5,6,4,6,4,4,6,6,4,6,6,8,8,8,8,8,8,8,8,4,4,4,4,5,8,4,8,4,4,4,4,4,6,6,4,4,4,4,4,4,4,4,6,4,4,4,4,4,4,4,4,4,4,5,4,4,4,4,6,3,4,4,4,4,4,6,4,4,4,4,4,4,4,4,4,4,4,4,4,4,4,4,4,6,6,6,6,8,6,6,4,4,4,4,4,4,4,4,4,4,4,4,4,4,4,4,4,4,6,6,4,6,4,4,4,4,4,4,4,4],\"hp\":[130,165,150,150,140,198,220,215,225,190,170,160,150,225,95,95,97,85,88,46,87,90,95,113,90,215,200,210,193,88,90,95,100,105,100,88,100,165,175,153,150,180,170,175,110,72,100,88,86,90,70,76,65,69,60,70,95,80,54,90,86,165,175,150,153,150,208,155,160,190,97,150,130,140,150,112,76,87,69,86,92,97,80,88,175,150,145,137,150,198,150,158,150,215,225,175,105,100,100,88,95,46,150,167,170,180,100,88,72,94,90,85,107,90,145,230,49,75,91,112,150,110,122,180,95,100,100,67,80,65,75,100,110,105,140,150,150,140,150,83,67,78,52,61,75,75,75,97,93,67,95,105,72,72,170,145,150,148,110,105,110,95,110,110,129,75,83,100,78,96,71,97,97,70,90,95,88,98,115,53,86,81,92,79,83,140,150,120,152,100,105,81,90,52,60,70,53,100,78,110,95,71,70,75,72,102,150,88,108,120,180,145,130,150,68,80,58,96,70,145,110,145,130,110,105,100,98,180,170,190,149,78,88,75,89,63,83,67,78,97,110,110,48,66,52,70,60,110,140,139,105,95,85,88,100,90,105,85,110,120,145,165,139,140,68,95,97,75,95,105,85,97,103,125,115,133,71,68,115,85,88,90,110,130,129,138,135,155,142,125,150,71,65,80,80,77,125,71,90,70,70,65,69,90,115,115,90,76,60,70,65,90,88,90,90,78,90,75,92,75,65,105,65,48,48,67,67,67,67,62,132,100,88,72,84,84,92,110,84,58,64,60,67,65,62,68,63,65,65,74,75,75,100,74,80,76,116,120,110,105,88,85,88,88,88,85,84,90,92,74,68,68,63,70,88,75,70,67,67,67,110,85,92,112,96,84,90,86,52,84,79,82],\"name\":[\"chevrolet chevelle malibu\",\"buick skylark 320\",\"plymouth satellite\",\"amc rebel sst\",\"ford torino\",\"ford galaxie 500\",\"chevrolet impala\",\"plymouth fury iii\",\"pontiac catalina\",\"amc ambassador dpl\",\"dodge challenger se\",\"plymouth 'cuda 340\",\"chevrolet monte carlo\",\"buick estate wagon (sw)\",\"toyota corona mark ii\",\"plymouth duster\",\"amc hornet\",\"ford maverick\",\"datsun pl510\",\"volkswagen 1131 deluxe sedan\",\"peugeot 504\",\"audi 100 ls\",\"saab 99e\",\"bmw 2002\",\"amc gremlin\",\"ford f250\",\"chevy c20\",\"dodge d200\",\"hi 1200d\",\"datsun pl510\",\"chevrolet vega 2300\",\"toyota corona\",\"amc gremlin\",\"plymouth satellite custom\",\"chevrolet chevelle malibu\",\"ford torino 500\",\"amc matador\",\"chevrolet impala\",\"pontiac catalina brougham\",\"ford galaxie 500\",\"plymouth fury iii\",\"dodge monaco (sw)\",\"ford country squire (sw)\",\"pontiac safari (sw)\",\"amc hornet sportabout (sw)\",\"chevrolet vega (sw)\",\"pontiac firebird\",\"ford mustang\",\"mercury capri 2000\",\"opel 1900\",\"peugeot 304\",\"fiat 124b\",\"toyota corolla 1200\",\"datsun 1200\",\"volkswagen model 111\",\"plymouth cricket\",\"toyota corona hardtop\",\"dodge colt hardtop\",\"volkswagen type 3\",\"chevrolet vega\",\"ford pinto runabout\",\"chevrolet impala\",\"pontiac catalina\",\"plymouth fury iii\",\"ford galaxie 500\",\"amc ambassador sst\",\"mercury marquis\",\"buick lesabre custom\",\"oldsmobile delta 88 royale\",\"chrysler newport royal\",\"mazda rx2 coupe\",\"amc matador (sw)\",\"chevrolet chevelle concours (sw)\",\"ford gran torino (sw)\",\"plymouth satellite custom (sw)\",\"volvo 145e (sw)\",\"volkswagen 411 (sw)\",\"peugeot 504 (sw)\",\"renault 12 (sw)\",\"ford pinto (sw)\",\"datsun 510 (sw)\",\"toyouta corona mark ii (sw)\",\"dodge colt (sw)\",\"toyota corolla 1600 (sw)\",\"buick century 350\",\"amc matador\",\"chevrolet malibu\",\"ford gran torino\",\"dodge coronet custom\",\"mercury marquis brougham\",\"chevrolet caprice classic\",\"ford ltd\",\"plymouth fury gran sedan\",\"chrysler new yorker brougham\",\"buick electra 225 custom\",\"amc ambassador brougham\",\"plymouth valiant\",\"chevrolet nova custom\",\"amc hornet\",\"ford maverick\",\"plymouth duster\",\"volkswagen super beetle\",\"chevrolet impala\",\"ford country\",\"plymouth custom suburb\",\"oldsmobile vista cruiser\",\"amc gremlin\",\"toyota carina\",\"chevrolet vega\",\"datsun 610\",\"maxda rx3\",\"ford pinto\",\"mercury capri v6\",\"fiat 124 sport coupe\",\"chevrolet monte carlo s\",\"pontiac grand prix\",\"fiat 128\",\"opel manta\",\"audi 100ls\",\"volvo 144ea\",\"dodge dart custom\",\"saab 99le\",\"toyota mark ii\",\"oldsmobile omega\",\"plymouth duster\",\"amc hornet\",\"chevrolet nova\",\"datsun b210\",\"ford pinto\",\"toyota corolla 1200\",\"chevrolet vega\",\"chevrolet chevelle malibu classic\",\"amc matador\",\"plymouth satellite sebring\",\"ford gran torino\",\"buick century luxus (sw)\",\"dodge coronet custom (sw)\",\"ford gran torino (sw)\",\"amc matador (sw)\",\"audi fox\",\"volkswagen dasher\",\"opel manta\",\"toyota corona\",\"datsun 710\",\"dodge colt\",\"fiat 128\",\"fiat 124 tc\",\"honda civic\",\"subaru\",\"fiat x1.9\",\"plymouth valiant custom\",\"chevrolet nova\",\"mercury monarch\",\"ford maverick\",\"pontiac catalina\",\"chevrolet bel air\",\"plymouth grand fury\",\"ford ltd\",\"buick century\",\"chevroelt chevelle malibu\",\"amc matador\",\"plymouth fury\",\"buick skyhawk\",\"chevrolet monza 2+2\",\"ford mustang ii\",\"toyota corolla\",\"ford pinto\",\"amc gremlin\",\"pontiac astro\",\"toyota corona\",\"volkswagen dasher\",\"datsun 710\",\"ford pinto\",\"volkswagen rabbit\",\"amc pacer\",\"audi 100ls\",\"peugeot 504\",\"volvo 244dl\",\"saab 99le\",\"honda civic cvcc\",\"fiat 131\",\"opel 1900\",\"capri ii\",\"dodge colt\",\"renault 12tl\",\"chevrolet chevelle malibu classic\",\"dodge coronet brougham\",\"amc matador\",\"ford gran torino\",\"plymouth valiant\",\"chevrolet nova\",\"ford maverick\",\"amc hornet\",\"chevrolet chevette\",\"chevrolet woody\",\"vw rabbit\",\"honda civic\",\"dodge aspen se\",\"ford granada ghia\",\"pontiac ventura sj\",\"amc pacer d/l\",\"volkswagen rabbit\",\"datsun b-210\",\"toyota corolla\",\"ford pinto\",\"volvo 245\",\"plymouth volare premier v8\",\"peugeot 504\",\"toyota mark ii\",\"mercedes-benz 280s\",\"cadillac seville\",\"chevy c10\",\"ford f108\",\"dodge d100\",\"honda accord cvcc\",\"buick opel isuzu deluxe\",\"renault 5 gtl\",\"plymouth arrow gs\",\"datsun f-10 hatchback\",\"chevrolet caprice classic\",\"oldsmobile cutlass supreme\",\"dodge monaco brougham\",\"mercury cougar brougham\",\"chevrolet concours\",\"buick skylark\",\"plymouth volare custom\",\"ford granada\",\"pontiac grand prix lj\",\"chevrolet monte carlo landau\",\"chrysler cordoba\",\"ford thunderbird\",\"volkswagen rabbit custom\",\"pontiac sunbird coupe\",\"toyota corolla liftback\",\"ford mustang ii 2+2\",\"chevrolet chevette\",\"dodge colt m/m\",\"subaru dl\",\"volkswagen dasher\",\"datsun 810\",\"bmw 320i\",\"mazda rx-4\",\"volkswagen rabbit custom diesel\",\"ford fiesta\",\"mazda glc deluxe\",\"datsun b210 gx\",\"honda civic cvcc\",\"oldsmobile cutlass salon brougham\",\"dodge diplomat\",\"mercury monarch ghia\",\"pontiac phoenix lj\",\"chevrolet malibu\",\"ford fairmont (auto)\",\"ford fairmont (man)\",\"plymouth volare\",\"amc concord\",\"buick century special\",\"mercury zephyr\",\"dodge aspen\",\"amc concord d/l\",\"chevrolet monte carlo landau\",\"buick regal sport coupe (turbo)\",\"ford futura\",\"dodge magnum xe\",\"chevrolet chevette\",\"toyota corona\",\"datsun 510\",\"dodge omni\",\"toyota celica gt liftback\",\"plymouth sapporo\",\"oldsmobile starfire sx\",\"datsun 200-sx\",\"audi 5000\",\"volvo 264gl\",\"saab 99gle\",\"peugeot 604sl\",\"volkswagen scirocco\",\"honda accord lx\",\"pontiac lemans v6\",\"mercury zephyr 6\",\"ford fairmont 4\",\"amc concord dl 6\",\"dodge aspen 6\",\"chevrolet caprice classic\",\"ford ltd landau\",\"mercury grand marquis\",\"dodge st. regis\",\"buick estate wagon (sw)\",\"ford country squire (sw)\",\"chevrolet malibu classic (sw)\",\"chrysler lebaron town @ country (sw)\",\"vw rabbit custom\",\"maxda glc deluxe\",\"dodge colt hatchback custom\",\"amc spirit dl\",\"mercedes benz 300d\",\"cadillac eldorado\",\"peugeot 504\",\"oldsmobile cutlass salon brougham\",\"plymouth horizon\",\"plymouth horizon tc3\",\"datsun 210\",\"fiat strada custom\",\"buick skylark limited\",\"chevrolet citation\",\"oldsmobile omega brougham\",\"pontiac phoenix\",\"vw rabbit\",\"toyota corolla tercel\",\"chevrolet chevette\",\"datsun 310\",\"chevrolet citation\",\"ford fairmont\",\"amc concord\",\"dodge aspen\",\"audi 4000\",\"toyota corona liftback\",\"mazda 626\",\"datsun 510 hatchback\",\"toyota corolla\",\"mazda glc\",\"dodge colt\",\"datsun 210\",\"vw rabbit c (diesel)\",\"vw dasher (diesel)\",\"audi 5000s (diesel)\",\"mercedes-benz 240d\",\"honda civic 1500 gl\",\"subaru dl\",\"vokswagen rabbit\",\"datsun 280-zx\",\"mazda rx-7 gs\",\"triumph tr7 coupe\",\"honda accord\",\"plymouth reliant\",\"buick skylark\",\"dodge aries wagon (sw)\",\"chevrolet citation\",\"plymouth reliant\",\"toyota starlet\",\"plymouth champ\",\"honda civic 1300\",\"subaru\",\"datsun 210 mpg\",\"toyota tercel\",\"mazda glc 4\",\"plymouth horizon 4\",\"ford escort 4w\",\"ford escort 2h\",\"volkswagen jetta\",\"honda prelude\",\"toyota corolla\",\"datsun 200sx\",\"mazda 626\",\"peugeot 505s turbo diesel\",\"volvo diesel\",\"toyota cressida\",\"datsun 810 maxima\",\"buick century\",\"oldsmobile cutlass ls\",\"ford granada gl\",\"chrysler lebaron salon\",\"chevrolet cavalier\",\"chevrolet cavalier wagon\",\"chevrolet cavalier 2-door\",\"pontiac j2000 se hatchback\",\"dodge aries se\",\"pontiac phoenix\",\"ford fairmont futura\",\"volkswagen rabbit l\",\"mazda glc custom l\",\"mazda glc custom\",\"plymouth horizon miser\",\"mercury lynx l\",\"nissan stanza xe\",\"honda accord\",\"toyota corolla\",\"honda civic\",\"honda civic (auto)\",\"datsun 310 gx\",\"buick century limited\",\"oldsmobile cutlass ciera (diesel)\",\"chrysler lebaron medallion\",\"ford granada l\",\"toyota celica gt\",\"dodge charger 2.2\",\"chevrolet camaro\",\"ford mustang gl\",\"vw pickup\",\"dodge rampage\",\"ford ranger\",\"chevy s-10\"],\"x_values\":[3504,3693,3436,3433,3449,4341,4354,4312,4425,3850,3563,3609,3761,3086,2372,2833,2774,2587,2130,1835,2672,2430,2375,2234,2648,4615,4376,4382,4732,2130,2264,2228,2634,3439,3329,3302,3288,4209,4464,4154,4096,4955,4746,5140,2962,2408,3282,3139,2220,2123,2074,2065,1773,1613,1834,1955,2278,2126,2254,2408,2226,4274,4385,4135,4129,3672,4633,4502,4456,4422,2330,3892,4098,4294,4077,2933,2511,2979,2189,2395,2288,2506,2164,2100,4100,3672,3988,4042,3777,4952,4464,4363,4237,4735,4951,3821,3121,3278,2945,3021,2904,1950,4997,4906,4654,4499,2789,2279,2401,2379,2124,2310,2472,2265,4082,4278,1867,2158,2582,2868,3399,2660,2807,3664,3102,2901,3336,1950,2451,1836,2542,3781,3632,3613,4141,4699,4457,4638,4257,2219,1963,2300,1649,2003,2125,2108,2246,2489,2391,2000,3264,3459,3432,3158,4668,4440,4498,4657,3907,3897,3730,3785,3039,3221,3169,2171,2639,2914,2592,2702,2223,2545,2984,1937,3211,2694,2957,2945,2671,1795,2464,2220,2572,2255,2202,4215,4190,3962,4215,3233,3353,3012,3085,2035,2164,1937,1795,3651,3574,3645,3193,1825,1990,2155,2565,3150,3940,3270,2930,3820,4380,4055,3870,3755,2045,2155,1825,2300,1945,3880,4060,4140,4295,3520,3425,3630,3525,4220,4165,4325,4335,1940,2740,2265,2755,2051,2075,1985,2190,2815,2600,2720,1985,1800,1985,2070,1800,3365,3735,3570,3535,3155,2965,2720,3430,3210,3380,3070,3620,3410,3425,3445,3205,4080,2155,2560,2300,2230,2515,2745,2855,2405,2830,3140,2795,3410,1990,2135,3245,2990,2890,3265,3360,3840,3725,3955,3830,4360,4054,3605,3940,1925,1975,1915,2670,3530,3900,3190,3420,2200,2150,2020,2130,2670,2595,2700,2556,2144,1968,2120,2019,2678,2870,3003,3381,2188,2711,2542,2434,2265,2110,2800,2110,2085,2335,2950,3250,1850,2145,1845,2910,2420,2500,2290,2490,2635,2620,2725,2385,1755,1875,1760,2065,1975,2050,1985,2215,2045,2380,2190,2210,2350,2615,2635,3230,3160,2900,2930,3415,3725,3060,3465,2605,2640,2395,2575,2525,2735,2865,1980,2025,1970,2125,2125,2160,2205,2245,1965,1965,1995,2945,3015,2585,2835,2665,2370,2950,2790,2130,2295,2625,2720],\"y_values\":[18.0,15.0,18.0,16.0,17.0,15.0,14.0,14.0,14.0,15.0,15.0,14.0,15.0,14.0,24.0,22.0,18.0,21.0,27.0,26.0,25.0,24.0,25.0,26.0,21.0,10.0,10.0,11.0,9.0,27.0,28.0,25.0,19.0,16.0,17.0,19.0,18.0,14.0,14.0,14.0,14.0,12.0,13.0,13.0,18.0,22.0,19.0,18.0,23.0,28.0,30.0,30.0,31.0,35.0,27.0,26.0,24.0,25.0,23.0,20.0,21.0,13.0,14.0,15.0,14.0,17.0,11.0,13.0,12.0,13.0,19.0,15.0,13.0,13.0,14.0,18.0,22.0,21.0,26.0,22.0,28.0,23.0,28.0,27.0,13.0,14.0,13.0,14.0,15.0,12.0,13.0,13.0,14.0,13.0,12.0,13.0,18.0,16.0,18.0,18.0,23.0,26.0,11.0,12.0,13.0,12.0,18.0,20.0,21.0,22.0,18.0,19.0,21.0,26.0,15.0,16.0,29.0,24.0,20.0,19.0,15.0,24.0,20.0,11.0,20.0,19.0,15.0,31.0,26.0,32.0,25.0,16.0,16.0,18.0,16.0,13.0,14.0,14.0,14.0,29.0,26.0,26.0,31.0,32.0,28.0,24.0,26.0,24.0,26.0,31.0,19.0,18.0,15.0,15.0,16.0,15.0,16.0,14.0,17.0,16.0,15.0,18.0,21.0,20.0,13.0,29.0,23.0,20.0,23.0,24.0,25.0,24.0,18.0,29.0,19.0,23.0,23.0,22.0,25.0,33.0,28.0,25.0,25.0,26.0,27.0,17.5,16.0,15.5,14.5,22.0,22.0,24.0,22.5,29.0,24.5,29.0,33.0,20.0,18.0,18.5,17.5,29.5,32.0,28.0,26.5,20.0,13.0,19.0,19.0,16.5,16.5,13.0,13.0,13.0,31.5,30.0,36.0,25.5,33.5,17.5,17.0,15.5,15.0,17.5,20.5,19.0,18.5,16.0,15.5,15.5,16.0,29.0,24.5,26.0,25.5,30.5,33.5,30.0,30.5,22.0,21.5,21.5,43.1,36.1,32.8,39.4,36.1,19.9,19.4,20.2,19.2,20.5,20.2,25.1,20.5,19.4,20.6,20.8,18.6,18.1,19.2,17.7,18.1,17.5,30.0,27.5,27.2,30.9,21.1,23.2,23.8,23.9,20.3,17.0,21.6,16.2,31.5,29.5,21.5,19.8,22.3,20.2,20.6,17.0,17.6,16.5,18.2,16.9,15.5,19.2,18.5,31.9,34.1,35.7,27.4,25.4,23.0,27.2,23.9,34.2,34.5,31.8,37.3,28.4,28.8,26.8,33.5,41.5,38.1,32.1,37.2,28.0,26.4,24.3,19.1,34.3,29.8,31.3,37.0,32.2,46.6,27.9,40.8,44.3,43.4,36.4,30.0,44.6,33.8,29.8,32.7,23.7,35.0,32.4,27.2,26.6,25.8,23.5,30.0,39.1,39.0,35.1,32.3,37.0,37.7,34.1,34.7,34.4,29.9,33.0,33.7,32.4,32.9,31.6,28.1,30.7,25.4,24.2,22.4,26.6,20.2,17.6,28.0,27.0,34.0,31.0,29.0,27.0,24.0,36.0,37.0,31.0,38.0,36.0,36.0,36.0,34.0,38.0,32.0,38.0,25.0,38.0,26.0,22.0,32.0,36.0,27.0,27.0,44.0,32.0,28.0,31.0],\"yr\":[70,70,70,70,70,70,70,70,70,70,70,70,70,70,70,70,70,70,70,70,70,70,70,70,70,70,70,70,70,71,71,71,71,71,71,71,71,71,71,71,71,71,71,71,71,71,71,71,71,71,71,71,71,71,71,71,72,72,72,72,72,72,72,72,72,72,72,72,72,72,72,72,72,72,72,72,72,72,72,72,72,72,72,72,73,73,73,73,73,73,73,73,73,73,73,73,73,73,73,73,73,73,73,73,73,73,73,73,73,73,73,73,73,73,73,73,73,73,73,73,73,73,73,73,74,74,74,74,74,74,74,74,74,74,74,74,74,74,74,74,74,74,74,74,74,74,74,74,74,74,75,75,75,75,75,75,75,75,75,75,75,75,75,75,75,75,75,75,75,75,75,75,75,75,75,75,75,75,75,75,76,76,76,76,76,76,76,76,76,76,76,76,76,76,76,76,76,76,76,76,76,76,76,76,76,76,76,76,76,76,76,76,76,76,77,77,77,77,77,77,77,77,77,77,77,77,77,77,77,77,77,77,77,77,77,77,77,77,77,77,77,77,78,78,78,78,78,78,78,78,78,78,78,78,78,78,78,78,78,78,78,78,78,78,78,78,78,78,78,78,78,78,78,78,78,78,78,78,79,79,79,79,79,79,79,79,79,79,79,79,79,79,79,79,79,79,79,79,79,79,79,79,79,79,79,79,79,80,80,80,80,80,80,80,80,80,80,80,80,80,80,80,80,80,80,80,80,80,80,80,80,80,80,80,81,81,81,81,81,81,81,81,81,81,81,81,81,81,81,81,81,81,81,81,81,81,81,81,81,81,81,81,82,82,82,82,82,82,82,82,82,82,82,82,82,82,82,82,82,82,82,82,82,82,82,82,82,82,82,82,82,82]}},\"id\":\"20b02a8d-03fc-4ddf-ba99-65a3da96144d\",\"type\":\"ColumnDataSource\"},{\"attributes\":{\"plot\":null,\"text\":\"Weight vs Fuel Efficiency\"},\"id\":\"f2c24c04-0284-456d-b2ea-fae8d0b1fcce\",\"type\":\"Title\"},{\"attributes\":{},\"id\":\"1be2dfce-ee9c-44f0-8c85-ea25d59afcdc\",\"type\":\"BasicTicker\"},{\"attributes\":{\"axis_label\":\"Weight (Pounds)\",\"formatter\":{\"id\":\"164307ee-905e-4445-95f7-963b959f5d74\",\"type\":\"BasicTickFormatter\"},\"plot\":{\"id\":\"8b692919-3150-47df-b6ed-553985e2109e\",\"subtype\":\"Chart\",\"type\":\"Plot\"},\"ticker\":{\"id\":\"6f64c542-8f3c-4685-90fb-3ae777025cc6\",\"type\":\"BasicTicker\"}},\"id\":\"13068a3d-806e-49fc-ae2c-de284711e321\",\"type\":\"LinearAxis\"},{\"attributes\":{\"data_source\":{\"id\":\"20b02a8d-03fc-4ddf-ba99-65a3da96144d\",\"type\":\"ColumnDataSource\"},\"glyph\":{\"id\":\"aa6338d3-435a-43d4-86e5-d474e6747e67\",\"type\":\"Circle\"},\"hover_glyph\":null,\"nonselection_glyph\":null,\"selection_glyph\":null},\"id\":\"ddb2e9a4-68e9-41ef-bc35-f0a78ae21712\",\"type\":\"GlyphRenderer\"},{\"attributes\":{},\"id\":\"164307ee-905e-4445-95f7-963b959f5d74\",\"type\":\"BasicTickFormatter\"},{\"attributes\":{\"plot\":{\"id\":\"8b692919-3150-47df-b6ed-553985e2109e\",\"subtype\":\"Chart\",\"type\":\"Plot\"}},\"id\":\"600e32d4-80d1-4b23-b439-f7d9056d1eef\",\"type\":\"SaveTool\"},{\"attributes\":{\"axis_label\":\"Miles Per Gallon\",\"formatter\":{\"id\":\"95429100-f3ac-41b5-be82-82cb42a984de\",\"type\":\"BasicTickFormatter\"},\"plot\":{\"id\":\"8b692919-3150-47df-b6ed-553985e2109e\",\"subtype\":\"Chart\",\"type\":\"Plot\"},\"ticker\":{\"id\":\"1be2dfce-ee9c-44f0-8c85-ea25d59afcdc\",\"type\":\"BasicTicker\"}},\"id\":\"108074c4-39e0-4ed8-8517-b9b166a6226b\",\"type\":\"LinearAxis\"},{\"attributes\":{\"overlay\":{\"id\":\"06f92456-3841-495e-a53d-c111b7006d40\",\"type\":\"BoxAnnotation\"},\"plot\":{\"id\":\"8b692919-3150-47df-b6ed-553985e2109e\",\"subtype\":\"Chart\",\"type\":\"Plot\"}},\"id\":\"ed30fc6a-6561-4987-90b4-43d97898a75e\",\"type\":\"BoxZoomTool\"},{\"attributes\":{\"bottom_units\":\"screen\",\"fill_alpha\":{\"value\":0.5},\"fill_color\":{\"value\":\"lightgrey\"},\"left_units\":\"screen\",\"level\":\"overlay\",\"line_alpha\":{\"value\":1.0},\"line_color\":{\"value\":\"black\"},\"line_dash\":[4,4],\"line_width\":{\"value\":2},\"plot\":null,\"render_mode\":\"css\",\"right_units\":\"screen\",\"top_units\":\"screen\"},\"id\":\"06f92456-3841-495e-a53d-c111b7006d40\",\"type\":\"BoxAnnotation\"},{\"attributes\":{},\"id\":\"9cabb0a8-a077-4c54-8cc7-c9549bf69faa\",\"type\":\"ToolEvents\"},{\"attributes\":{\"plot\":{\"id\":\"8b692919-3150-47df-b6ed-553985e2109e\",\"subtype\":\"Chart\",\"type\":\"Plot\"}},\"id\":\"5c0d90f6-44f8-4216-aee8-8e98f8205f4f\",\"type\":\"WheelZoomTool\"},{\"attributes\":{\"below\":[{\"id\":\"13068a3d-806e-49fc-ae2c-de284711e321\",\"type\":\"LinearAxis\"}],\"left\":[{\"id\":\"108074c4-39e0-4ed8-8517-b9b166a6226b\",\"type\":\"LinearAxis\"}],\"renderers\":[{\"id\":\"06f92456-3841-495e-a53d-c111b7006d40\",\"type\":\"BoxAnnotation\"},{\"id\":\"ddb2e9a4-68e9-41ef-bc35-f0a78ae21712\",\"type\":\"GlyphRenderer\"},{\"id\":\"24918f19-d754-442a-9e6c-19f131b48f47\",\"type\":\"Legend\"},{\"id\":\"13068a3d-806e-49fc-ae2c-de284711e321\",\"type\":\"LinearAxis\"},{\"id\":\"108074c4-39e0-4ed8-8517-b9b166a6226b\",\"type\":\"LinearAxis\"},{\"id\":\"cd4cc1c9-decd-4cfd-8632-6187ece9a205\",\"type\":\"Grid\"},{\"id\":\"407fb978-24d7-402f-b27b-86c5815e3127\",\"type\":\"Grid\"}],\"title\":{\"id\":\"f2c24c04-0284-456d-b2ea-fae8d0b1fcce\",\"type\":\"Title\"},\"tool_events\":{\"id\":\"9cabb0a8-a077-4c54-8cc7-c9549bf69faa\",\"type\":\"ToolEvents\"},\"toolbar\":{\"id\":\"9312f25b-2e13-423c-a5be-ed858bd541b9\",\"type\":\"Toolbar\"},\"x_mapper_type\":\"auto\",\"x_range\":{\"id\":\"021a480c-38f0-4156-97a1-99311985f9ed\",\"type\":\"Range1d\"},\"y_mapper_type\":\"auto\",\"y_range\":{\"id\":\"2fb37a4c-2a86-407d-bfb5-5eb3b54b7f17\",\"type\":\"Range1d\"}},\"id\":\"8b692919-3150-47df-b6ed-553985e2109e\",\"subtype\":\"Chart\",\"type\":\"Plot\"},{\"attributes\":{\"plot\":{\"id\":\"8b692919-3150-47df-b6ed-553985e2109e\",\"subtype\":\"Chart\",\"type\":\"Plot\"}},\"id\":\"bca126a7-8e08-46be-9e78-a9f063977c19\",\"type\":\"HelpTool\"},{\"attributes\":{\"fill_alpha\":{\"value\":0.7},\"fill_color\":{\"value\":\"#f22c40\"},\"line_color\":{\"value\":\"#f22c40\"},\"size\":{\"units\":\"screen\",\"value\":8},\"x\":{\"field\":\"x_values\"},\"y\":{\"field\":\"y_values\"}},\"id\":\"aa6338d3-435a-43d4-86e5-d474e6747e67\",\"type\":\"Circle\"},{\"attributes\":{\"plot\":{\"id\":\"8b692919-3150-47df-b6ed-553985e2109e\",\"subtype\":\"Chart\",\"type\":\"Plot\"}},\"id\":\"47d9c801-75ca-435e-a27a-c7a008fcb38d\",\"type\":\"ResetTool\"},{\"attributes\":{\"callback\":null,\"end\":50.36,\"start\":5.24},\"id\":\"2fb37a4c-2a86-407d-bfb5-5eb3b54b7f17\",\"type\":\"Range1d\"},{\"attributes\":{\"location\":\"top_left\",\"plot\":{\"id\":\"8b692919-3150-47df-b6ed-553985e2109e\",\"subtype\":\"Chart\",\"type\":\"Plot\"}},\"id\":\"24918f19-d754-442a-9e6c-19f131b48f47\",\"type\":\"Legend\"},{\"attributes\":{\"plot\":{\"id\":\"8b692919-3150-47df-b6ed-553985e2109e\",\"subtype\":\"Chart\",\"type\":\"Plot\"},\"ticker\":{\"id\":\"6f64c542-8f3c-4685-90fb-3ae777025cc6\",\"type\":\"BasicTicker\"}},\"id\":\"cd4cc1c9-decd-4cfd-8632-6187ece9a205\",\"type\":\"Grid\"},{\"attributes\":{\"dimension\":1,\"plot\":{\"id\":\"8b692919-3150-47df-b6ed-553985e2109e\",\"subtype\":\"Chart\",\"type\":\"Plot\"},\"ticker\":{\"id\":\"1be2dfce-ee9c-44f0-8c85-ea25d59afcdc\",\"type\":\"BasicTicker\"}},\"id\":\"407fb978-24d7-402f-b27b-86c5815e3127\",\"type\":\"Grid\"},{\"attributes\":{\"callback\":null,\"plot\":{\"id\":\"8b692919-3150-47df-b6ed-553985e2109e\",\"subtype\":\"Chart\",\"type\":\"Plot\"},\"tooltips\":[[\"Car Model\",\"@name\"],[\"Cylinders\",\"@cyl\"],[\"Horsepower\",\"@hp\"],[\"Acceleration\",\"@accel\"],[\"Model Year\",\"@yr\"]]},\"id\":\"9abc4864-0076-4525-996a-06b9e2edb131\",\"type\":\"HoverTool\"},{\"attributes\":{\"plot\":{\"id\":\"8b692919-3150-47df-b6ed-553985e2109e\",\"subtype\":\"Chart\",\"type\":\"Plot\"}},\"id\":\"bc085199-07d0-40ba-ae81-3611e16dd84c\",\"type\":\"PanTool\"},{\"attributes\":{\"active_drag\":\"auto\",\"active_scroll\":\"auto\",\"active_tap\":\"auto\",\"tools\":[{\"id\":\"bc085199-07d0-40ba-ae81-3611e16dd84c\",\"type\":\"PanTool\"},{\"id\":\"5c0d90f6-44f8-4216-aee8-8e98f8205f4f\",\"type\":\"WheelZoomTool\"},{\"id\":\"ed30fc6a-6561-4987-90b4-43d97898a75e\",\"type\":\"BoxZoomTool\"},{\"id\":\"600e32d4-80d1-4b23-b439-f7d9056d1eef\",\"type\":\"SaveTool\"},{\"id\":\"47d9c801-75ca-435e-a27a-c7a008fcb38d\",\"type\":\"ResetTool\"},{\"id\":\"bca126a7-8e08-46be-9e78-a9f063977c19\",\"type\":\"HelpTool\"},{\"id\":\"9abc4864-0076-4525-996a-06b9e2edb131\",\"type\":\"HoverTool\"}]},\"id\":\"9312f25b-2e13-423c-a5be-ed858bd541b9\",\"type\":\"Toolbar\"},{\"attributes\":{},\"id\":\"95429100-f3ac-41b5-be82-82cb42a984de\",\"type\":\"BasicTickFormatter\"}],\"root_ids\":[\"8b692919-3150-47df-b6ed-553985e2109e\"]},\"title\":\"Bokeh Application\",\"version\":\"0.12.3\"}};\n",
       "            var render_items = [{\"docid\":\"c86781ea-c7ad-4e92-8fd7-c655c93f6a4b\",\"elementid\":\"d4bf3a06-25d8-4e46-b9a8-cf6633629d5e\",\"modelid\":\"8b692919-3150-47df-b6ed-553985e2109e\"}];\n",
       "            \n",
       "            Bokeh.embed.embed_items(docs_json, render_items);\n",
       "        });\n",
       "      },\n",
       "      function(Bokeh) {\n",
       "      }\n",
       "    ];\n",
       "  \n",
       "    function run_inline_js() {\n",
       "      \n",
       "      if ((window.Bokeh !== undefined) || (force === \"1\")) {\n",
       "        for (var i = 0; i < inline_js.length; i++) {\n",
       "          inline_js[i](window.Bokeh);\n",
       "        }if (force === \"1\") {\n",
       "          display_loaded();\n",
       "        }} else if (Date.now() < window._bokeh_timeout) {\n",
       "        setTimeout(run_inline_js, 100);\n",
       "      } else if (!window._bokeh_failed_load) {\n",
       "        console.log(\"Bokeh: BokehJS failed to load within specified timeout.\");\n",
       "        window._bokeh_failed_load = true;\n",
       "      } else if (!force) {\n",
       "        var cell = $(\"#d4bf3a06-25d8-4e46-b9a8-cf6633629d5e\").parents('.cell').data().cell;\n",
       "        cell.output_area.append_execute_result(NB_LOAD_WARNING)\n",
       "      }\n",
       "  \n",
       "    }\n",
       "  \n",
       "    if (window._bokeh_is_loading === 0) {\n",
       "      console.log(\"Bokeh: BokehJS loaded, going straight to plotting\");\n",
       "      run_inline_js();\n",
       "    } else {\n",
       "      load_libs(js_urls, function() {\n",
       "        console.log(\"Bokeh: BokehJS plotting callback run at\", now());\n",
       "        run_inline_js();\n",
       "      });\n",
       "    }\n",
       "  }(this));\n",
       "</script>"
      ]
     },
     "metadata": {},
     "output_type": "display_data"
    }
   ],
   "source": [
    "tooltips = [\n",
    "    ('Car Model', '@name'),\n",
    "    ('Cylinders', '@cyl'),\n",
    "    ('Horsepower', '@hp'),\n",
    "    ('Acceleration', '@accel'),\n",
    "    ('Model Year', '@yr')\n",
    "]\n",
    "\n",
    "p = bkc.Scatter(autompg, x='weight', y='mpg', xlabel='Weight (Pounds)', \n",
    "                ylabel='Miles Per Gallon', tooltips=tooltips,\n",
    "               title='Weight vs Fuel Efficiency')\n",
    "bkc.show(p)"
   ]
  },
  {
   "cell_type": "markdown",
   "metadata": {},
   "source": [
    "## `bokeh.plotting`"
   ]
  },
  {
   "cell_type": "markdown",
   "metadata": {},
   "source": [
    "Working with the plotting interface enables more powerful functionality. For example, it is easy to enable linked panning and brushing across plots and to customize the tools that are available."
   ]
  },
  {
   "cell_type": "code",
   "execution_count": 19,
   "metadata": {
    "collapsed": false
   },
   "outputs": [
    {
     "data": {
      "text/html": [
       "\n",
       "\n",
       "    <div class=\"bk-root\">\n",
       "        <div class=\"plotdiv\" id=\"ad2f82fa-584a-4906-b58b-d73efa034456\"></div>\n",
       "    </div>\n",
       "<script type=\"text/javascript\">\n",
       "  \n",
       "  (function(global) {\n",
       "    function now() {\n",
       "      return new Date();\n",
       "    }\n",
       "  \n",
       "    var force = \"\";\n",
       "  \n",
       "    if (typeof (window._bokeh_onload_callbacks) === \"undefined\" || force !== \"\") {\n",
       "      window._bokeh_onload_callbacks = [];\n",
       "      window._bokeh_is_loading = undefined;\n",
       "    }\n",
       "  \n",
       "  \n",
       "    \n",
       "    if (typeof (window._bokeh_timeout) === \"undefined\" || force !== \"\") {\n",
       "      window._bokeh_timeout = Date.now() + 0;\n",
       "      window._bokeh_failed_load = false;\n",
       "    }\n",
       "  \n",
       "    var NB_LOAD_WARNING = {'data': {'text/html':\n",
       "       \"<div style='background-color: #fdd'>\\n\"+\n",
       "       \"<p>\\n\"+\n",
       "       \"BokehJS does not appear to have successfully loaded. If loading BokehJS from CDN, this \\n\"+\n",
       "       \"may be due to a slow or bad network connection. Possible fixes:\\n\"+\n",
       "       \"</p>\\n\"+\n",
       "       \"<ul>\\n\"+\n",
       "       \"<li>re-rerun `output_notebook()` to attempt to load from CDN again, or</li>\\n\"+\n",
       "       \"<li>use INLINE resources instead, as so:</li>\\n\"+\n",
       "       \"</ul>\\n\"+\n",
       "       \"<code>\\n\"+\n",
       "       \"from bokeh.resources import INLINE\\n\"+\n",
       "       \"output_notebook(resources=INLINE)\\n\"+\n",
       "       \"</code>\\n\"+\n",
       "       \"</div>\"}};\n",
       "  \n",
       "    function display_loaded() {\n",
       "      if (window.Bokeh !== undefined) {\n",
       "        Bokeh.$(\"#ad2f82fa-584a-4906-b58b-d73efa034456\").text(\"BokehJS successfully loaded.\");\n",
       "      } else if (Date.now() < window._bokeh_timeout) {\n",
       "        setTimeout(display_loaded, 100)\n",
       "      }\n",
       "    }\n",
       "  \n",
       "    function run_callbacks() {\n",
       "      window._bokeh_onload_callbacks.forEach(function(callback) { callback() });\n",
       "      delete window._bokeh_onload_callbacks\n",
       "      console.info(\"Bokeh: all callbacks have finished\");\n",
       "    }\n",
       "  \n",
       "    function load_libs(js_urls, callback) {\n",
       "      window._bokeh_onload_callbacks.push(callback);\n",
       "      if (window._bokeh_is_loading > 0) {\n",
       "        console.log(\"Bokeh: BokehJS is being loaded, scheduling callback at\", now());\n",
       "        return null;\n",
       "      }\n",
       "      if (js_urls == null || js_urls.length === 0) {\n",
       "        run_callbacks();\n",
       "        return null;\n",
       "      }\n",
       "      console.log(\"Bokeh: BokehJS not loaded, scheduling load and callback at\", now());\n",
       "      window._bokeh_is_loading = js_urls.length;\n",
       "      for (var i = 0; i < js_urls.length; i++) {\n",
       "        var url = js_urls[i];\n",
       "        var s = document.createElement('script');\n",
       "        s.src = url;\n",
       "        s.async = false;\n",
       "        s.onreadystatechange = s.onload = function() {\n",
       "          window._bokeh_is_loading--;\n",
       "          if (window._bokeh_is_loading === 0) {\n",
       "            console.log(\"Bokeh: all BokehJS libraries loaded\");\n",
       "            run_callbacks()\n",
       "          }\n",
       "        };\n",
       "        s.onerror = function() {\n",
       "          console.warn(\"failed to load library \" + url);\n",
       "        };\n",
       "        console.log(\"Bokeh: injecting script tag for BokehJS library: \", url);\n",
       "        document.getElementsByTagName(\"head\")[0].appendChild(s);\n",
       "      }\n",
       "    };var element = document.getElementById(\"ad2f82fa-584a-4906-b58b-d73efa034456\");\n",
       "    if (element == null) {\n",
       "      console.log(\"Bokeh: ERROR: autoload.js configured with elementid 'ad2f82fa-584a-4906-b58b-d73efa034456' but no matching script tag was found. \")\n",
       "      return false;\n",
       "    }\n",
       "  \n",
       "    var js_urls = [];\n",
       "  \n",
       "    var inline_js = [\n",
       "      function(Bokeh) {\n",
       "        Bokeh.$(function() {\n",
       "            var docs_json = {\"b8f775cb-02e3-4acf-8974-1f76b9ff9095\":{\"roots\":{\"references\":[{\"attributes\":{\"children\":[{\"id\":\"c6edf388-eef4-467c-be12-96a4202846ac\",\"type\":\"Row\"}]},\"id\":\"ae52dfb4-7094-4924-8cb8-7c7cfbab4d11\",\"type\":\"Column\"},{\"attributes\":{},\"id\":\"fa207350-b84e-4a2b-b642-31dc3cb5e4da\",\"type\":\"ToolEvents\"},{\"attributes\":{\"fill_alpha\":{\"value\":0.1},\"fill_color\":{\"value\":\"#1f77b4\"},\"line_alpha\":{\"value\":0.1},\"line_color\":{\"value\":\"#1f77b4\"},\"size\":{\"units\":\"screen\",\"value\":10},\"x\":{\"field\":\"weight\"},\"y\":{\"field\":\"mpg\"}},\"id\":\"dbf0985a-8fb8-41a6-8089-f70c7c79d9c6\",\"type\":\"Square\"},{\"attributes\":{\"dimension\":1,\"plot\":{\"id\":\"529b3a9f-775a-4e14-b865-b5de205d289c\",\"subtype\":\"Figure\",\"type\":\"Plot\"},\"ticker\":{\"id\":\"afe71e46-1b22-4b55-8834-6fc0bf783dda\",\"type\":\"BasicTicker\"}},\"id\":\"718734f0-db60-4310-b228-fac0a07d45e7\",\"type\":\"Grid\"},{\"attributes\":{\"formatter\":{\"id\":\"f1fad0ff-2b2d-4d18-8f85-73a074b0a6c5\",\"type\":\"BasicTickFormatter\"},\"plot\":{\"id\":\"529b3a9f-775a-4e14-b865-b5de205d289c\",\"subtype\":\"Figure\",\"type\":\"Plot\"},\"ticker\":{\"id\":\"9ac85f7e-8089-40a5-bad1-fe24ecc661fa\",\"type\":\"BasicTicker\"}},\"id\":\"379331c4-4262-4044-8831-c4fc502fce9c\",\"type\":\"LinearAxis\"},{\"attributes\":{},\"id\":\"afe71e46-1b22-4b55-8834-6fc0bf783dda\",\"type\":\"BasicTicker\"},{\"attributes\":{\"plot\":{\"id\":\"529b3a9f-775a-4e14-b865-b5de205d289c\",\"subtype\":\"Figure\",\"type\":\"Plot\"}},\"id\":\"0e934806-7700-41c2-9325-7d367d4f7ee0\",\"type\":\"WheelZoomTool\"},{\"attributes\":{\"below\":[{\"id\":\"379331c4-4262-4044-8831-c4fc502fce9c\",\"type\":\"LinearAxis\"}],\"left\":[{\"id\":\"e92d9dac-553d-412e-a836-af129515e723\",\"type\":\"LinearAxis\"}],\"plot_height\":500,\"plot_width\":500,\"renderers\":[{\"id\":\"379331c4-4262-4044-8831-c4fc502fce9c\",\"type\":\"LinearAxis\"},{\"id\":\"4e99ea3b-4371-441f-98f7-f697cda26662\",\"type\":\"Grid\"},{\"id\":\"e92d9dac-553d-412e-a836-af129515e723\",\"type\":\"LinearAxis\"},{\"id\":\"718734f0-db60-4310-b228-fac0a07d45e7\",\"type\":\"Grid\"},{\"id\":\"a6da6d21-75b2-47f7-8092-94a539890775\",\"type\":\"BoxAnnotation\"},{\"id\":\"a27255c0-9df3-477c-b7f3-85cee079caf0\",\"type\":\"PolyAnnotation\"},{\"id\":\"1e812333-a308-4f60-8772-2908b5bb9c35\",\"type\":\"GlyphRenderer\"}],\"title\":{\"id\":\"389ab734-84a5-4555-bb9b-221947d4923b\",\"type\":\"Title\"},\"tool_events\":{\"id\":\"fa207350-b84e-4a2b-b642-31dc3cb5e4da\",\"type\":\"ToolEvents\"},\"toolbar\":{\"id\":\"4accb61e-3b47-483f-a6b8-6a3bb85b256e\",\"type\":\"Toolbar\"},\"toolbar_location\":null,\"x_range\":{\"id\":\"5393feb2-db0b-4965-8521-0c0da089b586\",\"type\":\"DataRange1d\"},\"y_range\":{\"id\":\"34a798df-6ebd-4315-9145-cb266ba19292\",\"type\":\"DataRange1d\"}},\"id\":\"529b3a9f-775a-4e14-b865-b5de205d289c\",\"subtype\":\"Figure\",\"type\":\"Plot\"},{\"attributes\":{\"callback\":null,\"overlay\":{\"id\":\"404fa2b0-59e8-4e5b-b92e-0fa82de49272\",\"type\":\"BoxAnnotation\"},\"plot\":{\"id\":\"289fd3ff-76d6-49de-b83c-f91d0d67bbc6\",\"subtype\":\"Figure\",\"type\":\"Plot\"},\"renderers\":[{\"id\":\"542e6cca-a190-48f4-a19c-1f49651de4e5\",\"type\":\"GlyphRenderer\"}]},\"id\":\"49320ab7-c83e-4b49-8a6a-0305c50e84af\",\"type\":\"BoxSelectTool\"},{\"attributes\":{\"children\":[{\"id\":\"0bf92d66-9cfb-4213-999f-40ba7e7ec23f\",\"type\":\"ToolbarBox\"},{\"id\":\"ae52dfb4-7094-4924-8cb8-7c7cfbab4d11\",\"type\":\"Column\"}]},\"id\":\"bd65e6b2-0079-4603-bee7-fc2e0bff9055\",\"type\":\"Column\"},{\"attributes\":{\"formatter\":{\"id\":\"53ea62a8-368b-40b2-ab2d-ab504ec180d4\",\"type\":\"BasicTickFormatter\"},\"plot\":{\"id\":\"529b3a9f-775a-4e14-b865-b5de205d289c\",\"subtype\":\"Figure\",\"type\":\"Plot\"},\"ticker\":{\"id\":\"afe71e46-1b22-4b55-8834-6fc0bf783dda\",\"type\":\"BasicTicker\"}},\"id\":\"e92d9dac-553d-412e-a836-af129515e723\",\"type\":\"LinearAxis\"},{\"attributes\":{\"fill_alpha\":{\"value\":0.1},\"fill_color\":{\"value\":\"#1f77b4\"},\"line_alpha\":{\"value\":0.1},\"line_color\":{\"value\":\"#1f77b4\"},\"size\":{\"units\":\"screen\",\"value\":10},\"x\":{\"field\":\"weight\"},\"y\":{\"field\":\"accel\"}},\"id\":\"3a12261d-ec4e-4a8e-8005-f68024efd4fd\",\"type\":\"Triangle\"},{\"attributes\":{\"fill_alpha\":{\"value\":0.5},\"fill_color\":{\"value\":\"lightgrey\"},\"level\":\"overlay\",\"line_alpha\":{\"value\":1.0},\"line_color\":{\"value\":\"black\"},\"line_dash\":[4,4],\"line_width\":{\"value\":2},\"plot\":null,\"xs_units\":\"screen\",\"ys_units\":\"screen\"},\"id\":\"a27255c0-9df3-477c-b7f3-85cee079caf0\",\"type\":\"PolyAnnotation\"},{\"attributes\":{\"callback\":null,\"overlay\":{\"id\":\"a6da6d21-75b2-47f7-8092-94a539890775\",\"type\":\"BoxAnnotation\"},\"plot\":{\"id\":\"529b3a9f-775a-4e14-b865-b5de205d289c\",\"subtype\":\"Figure\",\"type\":\"Plot\"},\"renderers\":[{\"id\":\"1e812333-a308-4f60-8772-2908b5bb9c35\",\"type\":\"GlyphRenderer\"}]},\"id\":\"a9a817ed-1336-44e9-a107-8b0daf3fb32c\",\"type\":\"BoxSelectTool\"},{\"attributes\":{\"bottom_units\":\"screen\",\"fill_alpha\":{\"value\":0.5},\"fill_color\":{\"value\":\"lightgrey\"},\"left_units\":\"screen\",\"level\":\"overlay\",\"line_alpha\":{\"value\":1.0},\"line_color\":{\"value\":\"black\"},\"line_dash\":[4,4],\"line_width\":{\"value\":2},\"plot\":null,\"render_mode\":\"css\",\"right_units\":\"screen\",\"top_units\":\"screen\"},\"id\":\"404fa2b0-59e8-4e5b-b92e-0fa82de49272\",\"type\":\"BoxAnnotation\"},{\"attributes\":{\"callback\":null,\"overlay\":{\"id\":\"59b50e71-ea19-4139-96dc-a16c66958f7f\",\"type\":\"PolyAnnotation\"},\"plot\":{\"id\":\"289fd3ff-76d6-49de-b83c-f91d0d67bbc6\",\"subtype\":\"Figure\",\"type\":\"Plot\"}},\"id\":\"262bf6c8-7718-4b04-9505-7d7081f10422\",\"type\":\"LassoSelectTool\"},{\"attributes\":{},\"id\":\"53ea62a8-368b-40b2-ab2d-ab504ec180d4\",\"type\":\"BasicTickFormatter\"},{\"attributes\":{\"callback\":null,\"overlay\":{\"id\":\"a27255c0-9df3-477c-b7f3-85cee079caf0\",\"type\":\"PolyAnnotation\"},\"plot\":{\"id\":\"529b3a9f-775a-4e14-b865-b5de205d289c\",\"subtype\":\"Figure\",\"type\":\"Plot\"}},\"id\":\"be1a38c8-8418-4278-93e0-437cd792b5d2\",\"type\":\"LassoSelectTool\"},{\"attributes\":{\"plot\":{\"id\":\"289fd3ff-76d6-49de-b83c-f91d0d67bbc6\",\"subtype\":\"Figure\",\"type\":\"Plot\"}},\"id\":\"1b7ed597-edec-4d9b-bd81-9bdb22fdb2d7\",\"type\":\"WheelZoomTool\"},{\"attributes\":{\"plot\":{\"id\":\"289fd3ff-76d6-49de-b83c-f91d0d67bbc6\",\"subtype\":\"Figure\",\"type\":\"Plot\"}},\"id\":\"3a685560-125a-43f7-9d7a-82159618f513\",\"type\":\"PanTool\"},{\"attributes\":{},\"id\":\"f1fad0ff-2b2d-4d18-8f85-73a074b0a6c5\",\"type\":\"BasicTickFormatter\"},{\"attributes\":{\"fill_alpha\":{\"value\":0.5},\"fill_color\":{\"value\":\"lightgrey\"},\"level\":\"overlay\",\"line_alpha\":{\"value\":1.0},\"line_color\":{\"value\":\"black\"},\"line_dash\":[4,4],\"line_width\":{\"value\":2},\"plot\":null,\"xs_units\":\"screen\",\"ys_units\":\"screen\"},\"id\":\"59b50e71-ea19-4139-96dc-a16c66958f7f\",\"type\":\"PolyAnnotation\"},{\"attributes\":{\"data_source\":{\"id\":\"7d249b15-9b94-465e-9d67-40a374060a41\",\"type\":\"ColumnDataSource\"},\"glyph\":{\"id\":\"269275df-5ecd-4abe-aff5-3b84e537ce03\",\"type\":\"Triangle\"},\"hover_glyph\":null,\"nonselection_glyph\":{\"id\":\"3a12261d-ec4e-4a8e-8005-f68024efd4fd\",\"type\":\"Triangle\"},\"selection_glyph\":null},\"id\":\"1e812333-a308-4f60-8772-2908b5bb9c35\",\"type\":\"GlyphRenderer\"},{\"attributes\":{\"callback\":null},\"id\":\"e86f663f-10f3-416e-bac3-fc8ef1a80b83\",\"type\":\"DataRange1d\"},{\"attributes\":{},\"id\":\"6e5d4a0d-6e0f-47aa-9894-cd421ba15e25\",\"type\":\"ToolEvents\"},{\"attributes\":{\"plot\":{\"id\":\"529b3a9f-775a-4e14-b865-b5de205d289c\",\"subtype\":\"Figure\",\"type\":\"Plot\"}},\"id\":\"e646a47d-ccc8-40d0-bd61-e79240da57ec\",\"type\":\"ResetTool\"},{\"attributes\":{},\"id\":\"daeb7841-bcb0-43b4-ae23-3d5758afd5f7\",\"type\":\"BasicTicker\"},{\"attributes\":{},\"id\":\"51b2afd8-09a6-4268-ad30-a394f1e5a639\",\"type\":\"BasicTickFormatter\"},{\"attributes\":{\"children\":[{\"id\":\"289fd3ff-76d6-49de-b83c-f91d0d67bbc6\",\"subtype\":\"Figure\",\"type\":\"Plot\"},{\"id\":\"529b3a9f-775a-4e14-b865-b5de205d289c\",\"subtype\":\"Figure\",\"type\":\"Plot\"}]},\"id\":\"c6edf388-eef4-467c-be12-96a4202846ac\",\"type\":\"Row\"},{\"attributes\":{\"formatter\":{\"id\":\"3172e9d0-84a8-4cf8-8edf-1eef74baedb3\",\"type\":\"BasicTickFormatter\"},\"plot\":{\"id\":\"289fd3ff-76d6-49de-b83c-f91d0d67bbc6\",\"subtype\":\"Figure\",\"type\":\"Plot\"},\"ticker\":{\"id\":\"daeb7841-bcb0-43b4-ae23-3d5758afd5f7\",\"type\":\"BasicTicker\"}},\"id\":\"2470d9d0-4475-4b9f-b37d-8aa64b89c9ac\",\"type\":\"LinearAxis\"},{\"attributes\":{\"plot\":null,\"text\":\"Weight vs MPG\"},\"id\":\"14edf84a-29dd-4de3-8fc8-3043f846041f\",\"type\":\"Title\"},{\"attributes\":{\"callback\":null},\"id\":\"5393feb2-db0b-4965-8521-0c0da089b586\",\"type\":\"DataRange1d\"},{\"attributes\":{\"fill_alpha\":{\"value\":0.8},\"fill_color\":{\"value\":\"red\"},\"line_alpha\":{\"value\":0.8},\"line_color\":{\"value\":\"red\"},\"size\":{\"units\":\"screen\",\"value\":10},\"x\":{\"field\":\"weight\"},\"y\":{\"field\":\"accel\"}},\"id\":\"269275df-5ecd-4abe-aff5-3b84e537ce03\",\"type\":\"Triangle\"},{\"attributes\":{\"below\":[{\"id\":\"af65a3dd-df04-4aa2-aef1-010c6a7addc0\",\"type\":\"LinearAxis\"}],\"left\":[{\"id\":\"2470d9d0-4475-4b9f-b37d-8aa64b89c9ac\",\"type\":\"LinearAxis\"}],\"plot_height\":500,\"plot_width\":500,\"renderers\":[{\"id\":\"af65a3dd-df04-4aa2-aef1-010c6a7addc0\",\"type\":\"LinearAxis\"},{\"id\":\"2e98094d-cc0c-4ee5-abe0-6b5b24e34583\",\"type\":\"Grid\"},{\"id\":\"2470d9d0-4475-4b9f-b37d-8aa64b89c9ac\",\"type\":\"LinearAxis\"},{\"id\":\"19fddc8f-f613-4f17-b177-d341637b57e9\",\"type\":\"Grid\"},{\"id\":\"404fa2b0-59e8-4e5b-b92e-0fa82de49272\",\"type\":\"BoxAnnotation\"},{\"id\":\"59b50e71-ea19-4139-96dc-a16c66958f7f\",\"type\":\"PolyAnnotation\"},{\"id\":\"542e6cca-a190-48f4-a19c-1f49651de4e5\",\"type\":\"GlyphRenderer\"}],\"title\":{\"id\":\"14edf84a-29dd-4de3-8fc8-3043f846041f\",\"type\":\"Title\"},\"tool_events\":{\"id\":\"6e5d4a0d-6e0f-47aa-9894-cd421ba15e25\",\"type\":\"ToolEvents\"},\"toolbar\":{\"id\":\"233a2acc-6b15-4f0a-b2ae-c5bbd277396c\",\"type\":\"Toolbar\"},\"toolbar_location\":null,\"x_range\":{\"id\":\"5393feb2-db0b-4965-8521-0c0da089b586\",\"type\":\"DataRange1d\"},\"y_range\":{\"id\":\"e86f663f-10f3-416e-bac3-fc8ef1a80b83\",\"type\":\"DataRange1d\"}},\"id\":\"289fd3ff-76d6-49de-b83c-f91d0d67bbc6\",\"subtype\":\"Figure\",\"type\":\"Plot\"},{\"attributes\":{\"callback\":null},\"id\":\"34a798df-6ebd-4315-9145-cb266ba19292\",\"type\":\"DataRange1d\"},{\"attributes\":{\"formatter\":{\"id\":\"51b2afd8-09a6-4268-ad30-a394f1e5a639\",\"type\":\"BasicTickFormatter\"},\"plot\":{\"id\":\"289fd3ff-76d6-49de-b83c-f91d0d67bbc6\",\"subtype\":\"Figure\",\"type\":\"Plot\"},\"ticker\":{\"id\":\"dcdf7a17-dd68-4154-ae73-48c0f029feb2\",\"type\":\"BasicTicker\"}},\"id\":\"af65a3dd-df04-4aa2-aef1-010c6a7addc0\",\"type\":\"LinearAxis\"},{\"attributes\":{\"sizing_mode\":\"scale_width\",\"toolbar_location\":\"above\",\"tools\":[{\"id\":\"3a685560-125a-43f7-9d7a-82159618f513\",\"type\":\"PanTool\"},{\"id\":\"1b7ed597-edec-4d9b-bd81-9bdb22fdb2d7\",\"type\":\"WheelZoomTool\"},{\"id\":\"49320ab7-c83e-4b49-8a6a-0305c50e84af\",\"type\":\"BoxSelectTool\"},{\"id\":\"262bf6c8-7718-4b04-9505-7d7081f10422\",\"type\":\"LassoSelectTool\"},{\"id\":\"bc2cff60-0ebd-4c29-bfef-6e524ae27abd\",\"type\":\"ResetTool\"},{\"id\":\"56e28d01-c3e2-4802-85b4-2c3d9b7664a3\",\"type\":\"PanTool\"},{\"id\":\"0e934806-7700-41c2-9325-7d367d4f7ee0\",\"type\":\"WheelZoomTool\"},{\"id\":\"a9a817ed-1336-44e9-a107-8b0daf3fb32c\",\"type\":\"BoxSelectTool\"},{\"id\":\"be1a38c8-8418-4278-93e0-437cd792b5d2\",\"type\":\"LassoSelectTool\"},{\"id\":\"e646a47d-ccc8-40d0-bd61-e79240da57ec\",\"type\":\"ResetTool\"}]},\"id\":\"0bf92d66-9cfb-4213-999f-40ba7e7ec23f\",\"type\":\"ToolbarBox\"},{\"attributes\":{},\"id\":\"9ac85f7e-8089-40a5-bad1-fe24ecc661fa\",\"type\":\"BasicTicker\"},{\"attributes\":{\"bottom_units\":\"screen\",\"fill_alpha\":{\"value\":0.5},\"fill_color\":{\"value\":\"lightgrey\"},\"left_units\":\"screen\",\"level\":\"overlay\",\"line_alpha\":{\"value\":1.0},\"line_color\":{\"value\":\"black\"},\"line_dash\":[4,4],\"line_width\":{\"value\":2},\"plot\":null,\"render_mode\":\"css\",\"right_units\":\"screen\",\"top_units\":\"screen\"},\"id\":\"a6da6d21-75b2-47f7-8092-94a539890775\",\"type\":\"BoxAnnotation\"},{\"attributes\":{\"callback\":null,\"column_names\":[\"accel\",\"displ\",\"mpg\",\"origin\",\"index\",\"hp\",\"weight\",\"yr\",\"cyl\",\"name\"],\"data\":{\"accel\":[12.0,11.5,11.0,12.0,10.5,10.0,9.0,8.5,10.0,8.5,10.0,8.0,9.5,10.0,15.0,15.5,15.5,16.0,14.5,20.5,17.5,14.5,17.5,12.5,15.0,14.0,15.0,13.5,18.5,14.5,15.5,14.0,13.0,15.5,15.5,15.5,15.5,12.0,11.5,13.5,13.0,11.5,12.0,12.0,13.5,19.0,15.0,14.5,14.0,14.0,19.5,14.5,19.0,18.0,19.0,20.5,15.5,17.0,23.5,19.5,16.5,12.0,12.0,13.5,13.0,11.5,11.0,13.5,13.5,12.5,13.5,12.5,14.0,16.0,14.0,14.5,18.0,19.5,18.0,16.0,17.0,14.5,15.0,16.5,13.0,11.5,13.0,14.5,12.5,11.5,12.0,13.0,14.5,11.0,11.0,11.0,16.5,18.0,16.0,16.5,16.0,21.0,14.0,12.5,13.0,12.5,15.0,19.0,19.5,16.5,13.5,18.5,14.0,15.5,13.0,9.5,19.5,15.5,14.0,15.5,11.0,14.0,13.5,11.0,16.5,16.0,17.0,19.0,16.5,21.0,17.0,17.0,18.0,16.5,14.0,14.5,13.5,16.0,15.5,16.5,15.5,14.5,16.5,19.0,14.5,15.5,14.0,15.0,15.5,16.0,16.0,16.0,21.0,19.5,11.5,14.0,14.5,13.5,21.0,18.5,19.0,19.0,15.0,13.5,12.0,16.0,17.0,16.0,18.5,13.5,16.5,17.0,14.5,14.0,17.0,15.0,17.0,14.5,13.5,17.5,15.5,16.9,14.9,17.7,15.3,13.0,13.0,13.9,12.8,15.4,14.5,17.6,17.6,22.2,22.1,14.2,17.4,17.7,21.0,16.2,17.8,12.2,17.0,16.4,13.6,15.7,13.2,21.9,15.5,16.7,12.1,12.0,15.0,14.0,18.5,14.8,18.6,15.5,16.8,12.5,19.0,13.7,14.9,16.4,16.9,17.7,19.0,11.1,11.4,12.2,14.5,14.5,16.0,18.2,15.8,17.0,15.9,16.4,14.1,14.5,12.8,13.5,21.5,14.4,19.4,18.6,16.4,15.5,13.2,12.8,19.2,18.2,15.8,15.4,17.2,17.2,15.8,16.7,18.7,15.1,13.2,13.4,11.2,13.7,16.5,14.2,14.7,14.5,14.8,16.7,17.6,14.9,15.9,13.6,15.7,15.8,14.9,16.6,15.4,18.2,17.3,18.2,16.6,15.4,13.4,13.2,15.2,14.9,14.3,15.0,13.0,14.0,15.2,14.4,15.0,20.1,17.4,24.8,22.2,13.2,14.9,19.2,14.7,16.0,11.3,12.9,13.2,14.7,18.8,15.5,16.4,16.5,18.1,20.1,18.7,15.8,15.5,17.5,15.0,15.2,17.9,14.4,19.2,21.7,23.7,19.9,21.8,13.8,18.0,15.3,11.4,12.5,15.1,17.0,15.7,16.4,14.4,12.6,12.9,16.9,16.4,16.1,17.8,19.4,17.3,16.0,14.9,16.2,20.7,14.2,14.4,16.8,14.8,18.3,20.4,19.6,12.6,13.8,15.8,19.0,17.1,16.6,19.6,18.6,18.0,16.2,16.0,18.0,16.4,15.3,18.2,17.6,14.7,17.3,14.5,14.5,16.9,15.0,15.7,16.2,16.4,17.0,14.5,14.7,13.9,13.0,17.3,15.6,24.6,11.6,18.6,19.4],\"cyl\":[8,8,8,8,8,8,8,8,8,8,8,8,8,8,4,6,6,6,4,4,4,4,4,4,6,8,8,8,8,4,4,4,6,6,6,6,6,8,8,8,8,8,8,8,6,4,6,6,4,4,4,4,4,4,4,4,4,4,4,4,4,8,8,8,8,8,8,8,8,8,3,8,8,8,8,4,4,4,4,4,4,4,4,4,8,8,8,8,8,8,8,8,8,8,8,8,6,6,6,6,6,4,8,8,8,8,6,4,4,4,3,4,6,4,8,8,4,4,4,4,8,4,6,8,6,6,6,4,4,4,4,6,6,6,8,8,8,8,8,4,4,4,4,4,4,4,4,4,4,4,6,6,6,6,8,8,8,8,6,6,6,6,6,8,8,4,4,6,4,4,4,4,6,4,6,4,4,4,4,4,4,4,4,4,4,8,8,8,8,6,6,6,6,4,4,4,4,6,6,6,6,4,4,4,4,4,8,4,6,6,8,8,8,8,4,4,4,4,4,8,8,8,8,6,6,6,6,8,8,8,8,4,4,4,4,4,4,4,4,6,4,3,4,4,4,4,4,8,8,8,6,6,6,4,6,6,6,6,6,6,8,6,8,8,4,4,4,4,4,4,4,4,5,6,4,6,4,4,6,6,4,6,6,8,8,8,8,8,8,8,8,4,4,4,4,5,8,4,8,4,4,4,4,4,6,6,4,4,4,4,4,4,4,4,6,4,4,4,4,4,4,4,4,4,4,5,4,4,4,4,6,3,4,4,4,4,4,6,4,4,4,4,4,4,4,4,4,4,4,4,4,4,4,4,4,6,6,6,6,8,6,6,4,4,4,4,4,4,4,4,4,4,4,4,4,4,4,4,4,4,6,6,4,6,4,4,4,4,4,4,4,4],\"displ\":[307.0,350.0,318.0,304.0,302.0,429.0,454.0,440.0,455.0,390.0,383.0,340.0,400.0,455.0,113.0,198.0,199.0,200.0,97.0,97.0,110.0,107.0,104.0,121.0,199.0,360.0,307.0,318.0,304.0,97.0,140.0,113.0,232.0,225.0,250.0,250.0,232.0,350.0,400.0,351.0,318.0,383.0,400.0,400.0,258.0,140.0,250.0,250.0,122.0,116.0,79.0,88.0,71.0,72.0,97.0,91.0,113.0,97.5,97.0,140.0,122.0,350.0,400.0,318.0,351.0,304.0,429.0,350.0,350.0,400.0,70.0,304.0,307.0,302.0,318.0,121.0,121.0,120.0,96.0,122.0,97.0,120.0,98.0,97.0,350.0,304.0,350.0,302.0,318.0,429.0,400.0,351.0,318.0,440.0,455.0,360.0,225.0,250.0,232.0,250.0,198.0,97.0,400.0,400.0,360.0,350.0,232.0,97.0,140.0,108.0,70.0,122.0,155.0,98.0,350.0,400.0,68.0,116.0,114.0,121.0,318.0,121.0,156.0,350.0,198.0,232.0,250.0,79.0,122.0,71.0,140.0,250.0,258.0,225.0,302.0,350.0,318.0,302.0,304.0,98.0,79.0,97.0,76.0,83.0,90.0,90.0,116.0,120.0,108.0,79.0,225.0,250.0,250.0,250.0,400.0,350.0,318.0,351.0,231.0,250.0,258.0,225.0,231.0,262.0,302.0,97.0,140.0,232.0,140.0,134.0,90.0,119.0,171.0,90.0,232.0,115.0,120.0,121.0,121.0,91.0,107.0,116.0,140.0,98.0,101.0,305.0,318.0,304.0,351.0,225.0,250.0,200.0,232.0,85.0,98.0,90.0,91.0,225.0,250.0,250.0,258.0,97.0,85.0,97.0,140.0,130.0,318.0,120.0,156.0,168.0,350.0,350.0,302.0,318.0,98.0,111.0,79.0,122.0,85.0,305.0,260.0,318.0,302.0,250.0,231.0,225.0,250.0,400.0,350.0,400.0,351.0,97.0,151.0,97.0,140.0,98.0,98.0,97.0,97.0,146.0,121.0,80.0,90.0,98.0,78.0,85.0,91.0,260.0,318.0,302.0,231.0,200.0,200.0,140.0,225.0,232.0,231.0,200.0,225.0,258.0,305.0,231.0,302.0,318.0,98.0,134.0,119.0,105.0,134.0,156.0,151.0,119.0,131.0,163.0,121.0,163.0,89.0,98.0,231.0,200.0,140.0,232.0,225.0,305.0,302.0,351.0,318.0,350.0,351.0,267.0,360.0,89.0,86.0,98.0,121.0,183.0,350.0,141.0,260.0,105.0,105.0,85.0,91.0,151.0,173.0,173.0,151.0,98.0,89.0,98.0,86.0,151.0,140.0,151.0,225.0,97.0,134.0,120.0,119.0,108.0,86.0,156.0,85.0,90.0,90.0,121.0,146.0,91.0,97.0,89.0,168.0,70.0,122.0,107.0,135.0,151.0,156.0,173.0,135.0,79.0,86.0,81.0,97.0,85.0,89.0,91.0,105.0,98.0,98.0,105.0,107.0,108.0,119.0,120.0,141.0,145.0,168.0,146.0,231.0,350.0,200.0,225.0,112.0,112.0,112.0,112.0,135.0,151.0,140.0,105.0,91.0,91.0,105.0,98.0,120.0,107.0,108.0,91.0,91.0,91.0,181.0,262.0,156.0,232.0,144.0,135.0,151.0,140.0,97.0,135.0,120.0,119.0],\"hp\":[130,165,150,150,140,198,220,215,225,190,170,160,150,225,95,95,97,85,88,46,87,90,95,113,90,215,200,210,193,88,90,95,100,105,100,88,100,165,175,153,150,180,170,175,110,72,100,88,86,90,70,76,65,69,60,70,95,80,54,90,86,165,175,150,153,150,208,155,160,190,97,150,130,140,150,112,76,87,69,86,92,97,80,88,175,150,145,137,150,198,150,158,150,215,225,175,105,100,100,88,95,46,150,167,170,180,100,88,72,94,90,85,107,90,145,230,49,75,91,112,150,110,122,180,95,100,100,67,80,65,75,100,110,105,140,150,150,140,150,83,67,78,52,61,75,75,75,97,93,67,95,105,72,72,170,145,150,148,110,105,110,95,110,110,129,75,83,100,78,96,71,97,97,70,90,95,88,98,115,53,86,81,92,79,83,140,150,120,152,100,105,81,90,52,60,70,53,100,78,110,95,71,70,75,72,102,150,88,108,120,180,145,130,150,68,80,58,96,70,145,110,145,130,110,105,100,98,180,170,190,149,78,88,75,89,63,83,67,78,97,110,110,48,66,52,70,60,110,140,139,105,95,85,88,100,90,105,85,110,120,145,165,139,140,68,95,97,75,95,105,85,97,103,125,115,133,71,68,115,85,88,90,110,130,129,138,135,155,142,125,150,71,65,80,80,77,125,71,90,70,70,65,69,90,115,115,90,76,60,70,65,90,88,90,90,78,90,75,92,75,65,105,65,48,48,67,67,67,67,62,132,100,88,72,84,84,92,110,84,58,64,60,67,65,62,68,63,65,65,74,75,75,100,74,80,76,116,120,110,105,88,85,88,88,88,85,84,90,92,74,68,68,63,70,88,75,70,67,67,67,110,85,92,112,96,84,90,86,52,84,79,82],\"index\":[0,1,2,3,4,5,6,7,8,9,10,11,12,13,14,15,16,17,18,19,20,21,22,23,24,25,26,27,28,29,30,31,32,33,34,35,36,37,38,39,40,41,42,43,44,45,46,47,48,49,50,51,52,53,54,55,56,57,58,59,60,61,62,63,64,65,66,67,68,69,70,71,72,73,74,75,76,77,78,79,80,81,82,83,84,85,86,87,88,89,90,91,92,93,94,95,96,97,98,99,100,101,102,103,104,105,106,107,108,109,110,111,112,113,114,115,116,117,118,119,120,121,122,123,124,125,126,127,128,129,130,131,132,133,134,135,136,137,138,139,140,141,142,143,144,145,146,147,148,149,150,151,152,153,154,155,156,157,158,159,160,161,162,163,164,165,166,167,168,169,170,171,172,173,174,175,176,177,178,179,180,181,182,183,184,185,186,187,188,189,190,191,192,193,194,195,196,197,198,199,200,201,202,203,204,205,206,207,208,209,210,211,212,213,214,215,216,217,218,219,220,221,222,223,224,225,226,227,228,229,230,231,232,233,234,235,236,237,238,239,240,241,242,243,244,245,246,247,248,249,250,251,252,253,254,255,256,257,258,259,260,261,262,263,264,265,266,267,268,269,270,271,272,273,274,275,276,277,278,279,280,281,282,283,284,285,286,287,288,289,290,291,292,293,294,295,296,297,298,299,300,301,302,303,304,305,306,307,308,309,310,311,312,313,314,315,316,317,318,319,320,321,322,323,324,325,326,327,328,329,330,331,332,333,334,335,336,337,338,339,340,341,342,343,344,345,346,347,348,349,350,351,352,353,354,355,356,357,358,359,360,361,362,363,364,365,366,367,368,369,370,371,372,373,374,375,376,377,378,379,380,381,382,383,384,385,386,387,388,389,390,391],\"mpg\":[18.0,15.0,18.0,16.0,17.0,15.0,14.0,14.0,14.0,15.0,15.0,14.0,15.0,14.0,24.0,22.0,18.0,21.0,27.0,26.0,25.0,24.0,25.0,26.0,21.0,10.0,10.0,11.0,9.0,27.0,28.0,25.0,19.0,16.0,17.0,19.0,18.0,14.0,14.0,14.0,14.0,12.0,13.0,13.0,18.0,22.0,19.0,18.0,23.0,28.0,30.0,30.0,31.0,35.0,27.0,26.0,24.0,25.0,23.0,20.0,21.0,13.0,14.0,15.0,14.0,17.0,11.0,13.0,12.0,13.0,19.0,15.0,13.0,13.0,14.0,18.0,22.0,21.0,26.0,22.0,28.0,23.0,28.0,27.0,13.0,14.0,13.0,14.0,15.0,12.0,13.0,13.0,14.0,13.0,12.0,13.0,18.0,16.0,18.0,18.0,23.0,26.0,11.0,12.0,13.0,12.0,18.0,20.0,21.0,22.0,18.0,19.0,21.0,26.0,15.0,16.0,29.0,24.0,20.0,19.0,15.0,24.0,20.0,11.0,20.0,19.0,15.0,31.0,26.0,32.0,25.0,16.0,16.0,18.0,16.0,13.0,14.0,14.0,14.0,29.0,26.0,26.0,31.0,32.0,28.0,24.0,26.0,24.0,26.0,31.0,19.0,18.0,15.0,15.0,16.0,15.0,16.0,14.0,17.0,16.0,15.0,18.0,21.0,20.0,13.0,29.0,23.0,20.0,23.0,24.0,25.0,24.0,18.0,29.0,19.0,23.0,23.0,22.0,25.0,33.0,28.0,25.0,25.0,26.0,27.0,17.5,16.0,15.5,14.5,22.0,22.0,24.0,22.5,29.0,24.5,29.0,33.0,20.0,18.0,18.5,17.5,29.5,32.0,28.0,26.5,20.0,13.0,19.0,19.0,16.5,16.5,13.0,13.0,13.0,31.5,30.0,36.0,25.5,33.5,17.5,17.0,15.5,15.0,17.5,20.5,19.0,18.5,16.0,15.5,15.5,16.0,29.0,24.5,26.0,25.5,30.5,33.5,30.0,30.5,22.0,21.5,21.5,43.1,36.1,32.8,39.4,36.1,19.9,19.4,20.2,19.2,20.5,20.2,25.1,20.5,19.4,20.6,20.8,18.6,18.1,19.2,17.7,18.1,17.5,30.0,27.5,27.2,30.9,21.1,23.2,23.8,23.9,20.3,17.0,21.6,16.2,31.5,29.5,21.5,19.8,22.3,20.2,20.6,17.0,17.6,16.5,18.2,16.9,15.5,19.2,18.5,31.9,34.1,35.7,27.4,25.4,23.0,27.2,23.9,34.2,34.5,31.8,37.3,28.4,28.8,26.8,33.5,41.5,38.1,32.1,37.2,28.0,26.4,24.3,19.1,34.3,29.8,31.3,37.0,32.2,46.6,27.9,40.8,44.3,43.4,36.4,30.0,44.6,33.8,29.8,32.7,23.7,35.0,32.4,27.2,26.6,25.8,23.5,30.0,39.1,39.0,35.1,32.3,37.0,37.7,34.1,34.7,34.4,29.9,33.0,33.7,32.4,32.9,31.6,28.1,30.7,25.4,24.2,22.4,26.6,20.2,17.6,28.0,27.0,34.0,31.0,29.0,27.0,24.0,36.0,37.0,31.0,38.0,36.0,36.0,36.0,34.0,38.0,32.0,38.0,25.0,38.0,26.0,22.0,32.0,36.0,27.0,27.0,44.0,32.0,28.0,31.0],\"name\":[\"chevrolet chevelle malibu\",\"buick skylark 320\",\"plymouth satellite\",\"amc rebel sst\",\"ford torino\",\"ford galaxie 500\",\"chevrolet impala\",\"plymouth fury iii\",\"pontiac catalina\",\"amc ambassador dpl\",\"dodge challenger se\",\"plymouth 'cuda 340\",\"chevrolet monte carlo\",\"buick estate wagon (sw)\",\"toyota corona mark ii\",\"plymouth duster\",\"amc hornet\",\"ford maverick\",\"datsun pl510\",\"volkswagen 1131 deluxe sedan\",\"peugeot 504\",\"audi 100 ls\",\"saab 99e\",\"bmw 2002\",\"amc gremlin\",\"ford f250\",\"chevy c20\",\"dodge d200\",\"hi 1200d\",\"datsun pl510\",\"chevrolet vega 2300\",\"toyota corona\",\"amc gremlin\",\"plymouth satellite custom\",\"chevrolet chevelle malibu\",\"ford torino 500\",\"amc matador\",\"chevrolet impala\",\"pontiac catalina brougham\",\"ford galaxie 500\",\"plymouth fury iii\",\"dodge monaco (sw)\",\"ford country squire (sw)\",\"pontiac safari (sw)\",\"amc hornet sportabout (sw)\",\"chevrolet vega (sw)\",\"pontiac firebird\",\"ford mustang\",\"mercury capri 2000\",\"opel 1900\",\"peugeot 304\",\"fiat 124b\",\"toyota corolla 1200\",\"datsun 1200\",\"volkswagen model 111\",\"plymouth cricket\",\"toyota corona hardtop\",\"dodge colt hardtop\",\"volkswagen type 3\",\"chevrolet vega\",\"ford pinto runabout\",\"chevrolet impala\",\"pontiac catalina\",\"plymouth fury iii\",\"ford galaxie 500\",\"amc ambassador sst\",\"mercury marquis\",\"buick lesabre custom\",\"oldsmobile delta 88 royale\",\"chrysler newport royal\",\"mazda rx2 coupe\",\"amc matador (sw)\",\"chevrolet chevelle concours (sw)\",\"ford gran torino (sw)\",\"plymouth satellite custom (sw)\",\"volvo 145e (sw)\",\"volkswagen 411 (sw)\",\"peugeot 504 (sw)\",\"renault 12 (sw)\",\"ford pinto (sw)\",\"datsun 510 (sw)\",\"toyouta corona mark ii (sw)\",\"dodge colt (sw)\",\"toyota corolla 1600 (sw)\",\"buick century 350\",\"amc matador\",\"chevrolet malibu\",\"ford gran torino\",\"dodge coronet custom\",\"mercury marquis brougham\",\"chevrolet caprice classic\",\"ford ltd\",\"plymouth fury gran sedan\",\"chrysler new yorker brougham\",\"buick electra 225 custom\",\"amc ambassador brougham\",\"plymouth valiant\",\"chevrolet nova custom\",\"amc hornet\",\"ford maverick\",\"plymouth duster\",\"volkswagen super beetle\",\"chevrolet impala\",\"ford country\",\"plymouth custom suburb\",\"oldsmobile vista cruiser\",\"amc gremlin\",\"toyota carina\",\"chevrolet vega\",\"datsun 610\",\"maxda rx3\",\"ford pinto\",\"mercury capri v6\",\"fiat 124 sport coupe\",\"chevrolet monte carlo s\",\"pontiac grand prix\",\"fiat 128\",\"opel manta\",\"audi 100ls\",\"volvo 144ea\",\"dodge dart custom\",\"saab 99le\",\"toyota mark ii\",\"oldsmobile omega\",\"plymouth duster\",\"amc hornet\",\"chevrolet nova\",\"datsun b210\",\"ford pinto\",\"toyota corolla 1200\",\"chevrolet vega\",\"chevrolet chevelle malibu classic\",\"amc matador\",\"plymouth satellite sebring\",\"ford gran torino\",\"buick century luxus (sw)\",\"dodge coronet custom (sw)\",\"ford gran torino (sw)\",\"amc matador (sw)\",\"audi fox\",\"volkswagen dasher\",\"opel manta\",\"toyota corona\",\"datsun 710\",\"dodge colt\",\"fiat 128\",\"fiat 124 tc\",\"honda civic\",\"subaru\",\"fiat x1.9\",\"plymouth valiant custom\",\"chevrolet nova\",\"mercury monarch\",\"ford maverick\",\"pontiac catalina\",\"chevrolet bel air\",\"plymouth grand fury\",\"ford ltd\",\"buick century\",\"chevroelt chevelle malibu\",\"amc matador\",\"plymouth fury\",\"buick skyhawk\",\"chevrolet monza 2+2\",\"ford mustang ii\",\"toyota corolla\",\"ford pinto\",\"amc gremlin\",\"pontiac astro\",\"toyota corona\",\"volkswagen dasher\",\"datsun 710\",\"ford pinto\",\"volkswagen rabbit\",\"amc pacer\",\"audi 100ls\",\"peugeot 504\",\"volvo 244dl\",\"saab 99le\",\"honda civic cvcc\",\"fiat 131\",\"opel 1900\",\"capri ii\",\"dodge colt\",\"renault 12tl\",\"chevrolet chevelle malibu classic\",\"dodge coronet brougham\",\"amc matador\",\"ford gran torino\",\"plymouth valiant\",\"chevrolet nova\",\"ford maverick\",\"amc hornet\",\"chevrolet chevette\",\"chevrolet woody\",\"vw rabbit\",\"honda civic\",\"dodge aspen se\",\"ford granada ghia\",\"pontiac ventura sj\",\"amc pacer d/l\",\"volkswagen rabbit\",\"datsun b-210\",\"toyota corolla\",\"ford pinto\",\"volvo 245\",\"plymouth volare premier v8\",\"peugeot 504\",\"toyota mark ii\",\"mercedes-benz 280s\",\"cadillac seville\",\"chevy c10\",\"ford f108\",\"dodge d100\",\"honda accord cvcc\",\"buick opel isuzu deluxe\",\"renault 5 gtl\",\"plymouth arrow gs\",\"datsun f-10 hatchback\",\"chevrolet caprice classic\",\"oldsmobile cutlass supreme\",\"dodge monaco brougham\",\"mercury cougar brougham\",\"chevrolet concours\",\"buick skylark\",\"plymouth volare custom\",\"ford granada\",\"pontiac grand prix lj\",\"chevrolet monte carlo landau\",\"chrysler cordoba\",\"ford thunderbird\",\"volkswagen rabbit custom\",\"pontiac sunbird coupe\",\"toyota corolla liftback\",\"ford mustang ii 2+2\",\"chevrolet chevette\",\"dodge colt m/m\",\"subaru dl\",\"volkswagen dasher\",\"datsun 810\",\"bmw 320i\",\"mazda rx-4\",\"volkswagen rabbit custom diesel\",\"ford fiesta\",\"mazda glc deluxe\",\"datsun b210 gx\",\"honda civic cvcc\",\"oldsmobile cutlass salon brougham\",\"dodge diplomat\",\"mercury monarch ghia\",\"pontiac phoenix lj\",\"chevrolet malibu\",\"ford fairmont (auto)\",\"ford fairmont (man)\",\"plymouth volare\",\"amc concord\",\"buick century special\",\"mercury zephyr\",\"dodge aspen\",\"amc concord d/l\",\"chevrolet monte carlo landau\",\"buick regal sport coupe (turbo)\",\"ford futura\",\"dodge magnum xe\",\"chevrolet chevette\",\"toyota corona\",\"datsun 510\",\"dodge omni\",\"toyota celica gt liftback\",\"plymouth sapporo\",\"oldsmobile starfire sx\",\"datsun 200-sx\",\"audi 5000\",\"volvo 264gl\",\"saab 99gle\",\"peugeot 604sl\",\"volkswagen scirocco\",\"honda accord lx\",\"pontiac lemans v6\",\"mercury zephyr 6\",\"ford fairmont 4\",\"amc concord dl 6\",\"dodge aspen 6\",\"chevrolet caprice classic\",\"ford ltd landau\",\"mercury grand marquis\",\"dodge st. regis\",\"buick estate wagon (sw)\",\"ford country squire (sw)\",\"chevrolet malibu classic (sw)\",\"chrysler lebaron town @ country (sw)\",\"vw rabbit custom\",\"maxda glc deluxe\",\"dodge colt hatchback custom\",\"amc spirit dl\",\"mercedes benz 300d\",\"cadillac eldorado\",\"peugeot 504\",\"oldsmobile cutlass salon brougham\",\"plymouth horizon\",\"plymouth horizon tc3\",\"datsun 210\",\"fiat strada custom\",\"buick skylark limited\",\"chevrolet citation\",\"oldsmobile omega brougham\",\"pontiac phoenix\",\"vw rabbit\",\"toyota corolla tercel\",\"chevrolet chevette\",\"datsun 310\",\"chevrolet citation\",\"ford fairmont\",\"amc concord\",\"dodge aspen\",\"audi 4000\",\"toyota corona liftback\",\"mazda 626\",\"datsun 510 hatchback\",\"toyota corolla\",\"mazda glc\",\"dodge colt\",\"datsun 210\",\"vw rabbit c (diesel)\",\"vw dasher (diesel)\",\"audi 5000s (diesel)\",\"mercedes-benz 240d\",\"honda civic 1500 gl\",\"subaru dl\",\"vokswagen rabbit\",\"datsun 280-zx\",\"mazda rx-7 gs\",\"triumph tr7 coupe\",\"honda accord\",\"plymouth reliant\",\"buick skylark\",\"dodge aries wagon (sw)\",\"chevrolet citation\",\"plymouth reliant\",\"toyota starlet\",\"plymouth champ\",\"honda civic 1300\",\"subaru\",\"datsun 210 mpg\",\"toyota tercel\",\"mazda glc 4\",\"plymouth horizon 4\",\"ford escort 4w\",\"ford escort 2h\",\"volkswagen jetta\",\"honda prelude\",\"toyota corolla\",\"datsun 200sx\",\"mazda 626\",\"peugeot 505s turbo diesel\",\"volvo diesel\",\"toyota cressida\",\"datsun 810 maxima\",\"buick century\",\"oldsmobile cutlass ls\",\"ford granada gl\",\"chrysler lebaron salon\",\"chevrolet cavalier\",\"chevrolet cavalier wagon\",\"chevrolet cavalier 2-door\",\"pontiac j2000 se hatchback\",\"dodge aries se\",\"pontiac phoenix\",\"ford fairmont futura\",\"volkswagen rabbit l\",\"mazda glc custom l\",\"mazda glc custom\",\"plymouth horizon miser\",\"mercury lynx l\",\"nissan stanza xe\",\"honda accord\",\"toyota corolla\",\"honda civic\",\"honda civic (auto)\",\"datsun 310 gx\",\"buick century limited\",\"oldsmobile cutlass ciera (diesel)\",\"chrysler lebaron medallion\",\"ford granada l\",\"toyota celica gt\",\"dodge charger 2.2\",\"chevrolet camaro\",\"ford mustang gl\",\"vw pickup\",\"dodge rampage\",\"ford ranger\",\"chevy s-10\"],\"origin\":[1,1,1,1,1,1,1,1,1,1,1,1,1,1,3,1,1,1,3,2,2,2,2,2,1,1,1,1,1,3,1,3,1,1,1,1,1,1,1,1,1,1,1,1,1,1,1,1,1,2,2,2,3,3,2,1,3,1,2,1,1,1,1,1,1,1,1,1,1,1,3,1,1,1,1,2,2,2,2,1,3,3,1,3,1,1,1,1,1,1,1,1,1,1,1,1,1,1,1,1,1,2,1,1,1,1,1,3,1,3,3,1,1,2,1,1,2,2,2,2,1,2,3,1,1,1,1,3,1,3,1,1,1,1,1,1,1,1,1,2,2,2,3,3,1,2,2,3,3,2,1,1,1,1,1,1,1,1,1,1,1,1,1,1,1,3,1,1,1,3,2,3,1,2,1,2,2,2,2,3,2,2,1,1,2,1,1,1,1,1,1,1,1,1,1,2,3,1,1,1,1,2,3,3,1,2,1,2,3,2,1,1,1,1,3,1,2,1,3,1,1,1,1,1,1,1,1,1,1,1,1,2,1,3,1,1,1,3,2,3,2,3,2,1,3,3,3,1,1,1,1,1,1,1,1,1,1,1,1,1,1,1,1,1,1,3,3,1,3,1,1,3,2,2,2,2,2,3,1,1,1,1,1,1,1,1,1,1,1,1,1,2,3,1,1,2,1,2,1,1,1,3,2,1,1,1,1,2,3,1,3,1,1,1,1,2,3,3,3,3,3,1,3,2,2,2,2,3,3,2,3,3,2,3,1,1,1,1,1,3,1,3,3,3,3,3,1,1,1,2,3,3,3,3,2,2,3,3,1,1,1,1,1,1,1,1,1,1,1,2,3,3,1,1,3,3,3,3,3,3,1,1,1,1,3,1,1,1,2,1,1,1],\"weight\":[3504,3693,3436,3433,3449,4341,4354,4312,4425,3850,3563,3609,3761,3086,2372,2833,2774,2587,2130,1835,2672,2430,2375,2234,2648,4615,4376,4382,4732,2130,2264,2228,2634,3439,3329,3302,3288,4209,4464,4154,4096,4955,4746,5140,2962,2408,3282,3139,2220,2123,2074,2065,1773,1613,1834,1955,2278,2126,2254,2408,2226,4274,4385,4135,4129,3672,4633,4502,4456,4422,2330,3892,4098,4294,4077,2933,2511,2979,2189,2395,2288,2506,2164,2100,4100,3672,3988,4042,3777,4952,4464,4363,4237,4735,4951,3821,3121,3278,2945,3021,2904,1950,4997,4906,4654,4499,2789,2279,2401,2379,2124,2310,2472,2265,4082,4278,1867,2158,2582,2868,3399,2660,2807,3664,3102,2901,3336,1950,2451,1836,2542,3781,3632,3613,4141,4699,4457,4638,4257,2219,1963,2300,1649,2003,2125,2108,2246,2489,2391,2000,3264,3459,3432,3158,4668,4440,4498,4657,3907,3897,3730,3785,3039,3221,3169,2171,2639,2914,2592,2702,2223,2545,2984,1937,3211,2694,2957,2945,2671,1795,2464,2220,2572,2255,2202,4215,4190,3962,4215,3233,3353,3012,3085,2035,2164,1937,1795,3651,3574,3645,3193,1825,1990,2155,2565,3150,3940,3270,2930,3820,4380,4055,3870,3755,2045,2155,1825,2300,1945,3880,4060,4140,4295,3520,3425,3630,3525,4220,4165,4325,4335,1940,2740,2265,2755,2051,2075,1985,2190,2815,2600,2720,1985,1800,1985,2070,1800,3365,3735,3570,3535,3155,2965,2720,3430,3210,3380,3070,3620,3410,3425,3445,3205,4080,2155,2560,2300,2230,2515,2745,2855,2405,2830,3140,2795,3410,1990,2135,3245,2990,2890,3265,3360,3840,3725,3955,3830,4360,4054,3605,3940,1925,1975,1915,2670,3530,3900,3190,3420,2200,2150,2020,2130,2670,2595,2700,2556,2144,1968,2120,2019,2678,2870,3003,3381,2188,2711,2542,2434,2265,2110,2800,2110,2085,2335,2950,3250,1850,2145,1845,2910,2420,2500,2290,2490,2635,2620,2725,2385,1755,1875,1760,2065,1975,2050,1985,2215,2045,2380,2190,2210,2350,2615,2635,3230,3160,2900,2930,3415,3725,3060,3465,2605,2640,2395,2575,2525,2735,2865,1980,2025,1970,2125,2125,2160,2205,2245,1965,1965,1995,2945,3015,2585,2835,2665,2370,2950,2790,2130,2295,2625,2720],\"yr\":[70,70,70,70,70,70,70,70,70,70,70,70,70,70,70,70,70,70,70,70,70,70,70,70,70,70,70,70,70,71,71,71,71,71,71,71,71,71,71,71,71,71,71,71,71,71,71,71,71,71,71,71,71,71,71,71,72,72,72,72,72,72,72,72,72,72,72,72,72,72,72,72,72,72,72,72,72,72,72,72,72,72,72,72,73,73,73,73,73,73,73,73,73,73,73,73,73,73,73,73,73,73,73,73,73,73,73,73,73,73,73,73,73,73,73,73,73,73,73,73,73,73,73,73,74,74,74,74,74,74,74,74,74,74,74,74,74,74,74,74,74,74,74,74,74,74,74,74,74,74,75,75,75,75,75,75,75,75,75,75,75,75,75,75,75,75,75,75,75,75,75,75,75,75,75,75,75,75,75,75,76,76,76,76,76,76,76,76,76,76,76,76,76,76,76,76,76,76,76,76,76,76,76,76,76,76,76,76,76,76,76,76,76,76,77,77,77,77,77,77,77,77,77,77,77,77,77,77,77,77,77,77,77,77,77,77,77,77,77,77,77,77,78,78,78,78,78,78,78,78,78,78,78,78,78,78,78,78,78,78,78,78,78,78,78,78,78,78,78,78,78,78,78,78,78,78,78,78,79,79,79,79,79,79,79,79,79,79,79,79,79,79,79,79,79,79,79,79,79,79,79,79,79,79,79,79,79,80,80,80,80,80,80,80,80,80,80,80,80,80,80,80,80,80,80,80,80,80,80,80,80,80,80,80,81,81,81,81,81,81,81,81,81,81,81,81,81,81,81,81,81,81,81,81,81,81,81,81,81,81,81,81,82,82,82,82,82,82,82,82,82,82,82,82,82,82,82,82,82,82,82,82,82,82,82,82,82,82,82,82,82,82]}},\"id\":\"7d249b15-9b94-465e-9d67-40a374060a41\",\"type\":\"ColumnDataSource\"},{\"attributes\":{\"data_source\":{\"id\":\"7d249b15-9b94-465e-9d67-40a374060a41\",\"type\":\"ColumnDataSource\"},\"glyph\":{\"id\":\"65ba9f15-a50d-41ee-a7c6-8579065cb3a6\",\"type\":\"Square\"},\"hover_glyph\":null,\"nonselection_glyph\":{\"id\":\"dbf0985a-8fb8-41a6-8089-f70c7c79d9c6\",\"type\":\"Square\"},\"selection_glyph\":null},\"id\":\"542e6cca-a190-48f4-a19c-1f49651de4e5\",\"type\":\"GlyphRenderer\"},{\"attributes\":{\"plot\":{\"id\":\"289fd3ff-76d6-49de-b83c-f91d0d67bbc6\",\"subtype\":\"Figure\",\"type\":\"Plot\"},\"ticker\":{\"id\":\"dcdf7a17-dd68-4154-ae73-48c0f029feb2\",\"type\":\"BasicTicker\"}},\"id\":\"2e98094d-cc0c-4ee5-abe0-6b5b24e34583\",\"type\":\"Grid\"},{\"attributes\":{\"fill_alpha\":{\"value\":0.8},\"fill_color\":{\"value\":\"#1f77b4\"},\"line_alpha\":{\"value\":0.8},\"line_color\":{\"value\":\"#1f77b4\"},\"size\":{\"units\":\"screen\",\"value\":10},\"x\":{\"field\":\"weight\"},\"y\":{\"field\":\"mpg\"}},\"id\":\"65ba9f15-a50d-41ee-a7c6-8579065cb3a6\",\"type\":\"Square\"},{\"attributes\":{\"active_drag\":\"auto\",\"active_scroll\":\"auto\",\"active_tap\":\"auto\",\"tools\":[{\"id\":\"56e28d01-c3e2-4802-85b4-2c3d9b7664a3\",\"type\":\"PanTool\"},{\"id\":\"0e934806-7700-41c2-9325-7d367d4f7ee0\",\"type\":\"WheelZoomTool\"},{\"id\":\"a9a817ed-1336-44e9-a107-8b0daf3fb32c\",\"type\":\"BoxSelectTool\"},{\"id\":\"be1a38c8-8418-4278-93e0-437cd792b5d2\",\"type\":\"LassoSelectTool\"},{\"id\":\"e646a47d-ccc8-40d0-bd61-e79240da57ec\",\"type\":\"ResetTool\"}]},\"id\":\"4accb61e-3b47-483f-a6b8-6a3bb85b256e\",\"type\":\"Toolbar\"},{\"attributes\":{\"active_drag\":\"auto\",\"active_scroll\":\"auto\",\"active_tap\":\"auto\",\"tools\":[{\"id\":\"3a685560-125a-43f7-9d7a-82159618f513\",\"type\":\"PanTool\"},{\"id\":\"1b7ed597-edec-4d9b-bd81-9bdb22fdb2d7\",\"type\":\"WheelZoomTool\"},{\"id\":\"49320ab7-c83e-4b49-8a6a-0305c50e84af\",\"type\":\"BoxSelectTool\"},{\"id\":\"262bf6c8-7718-4b04-9505-7d7081f10422\",\"type\":\"LassoSelectTool\"},{\"id\":\"bc2cff60-0ebd-4c29-bfef-6e524ae27abd\",\"type\":\"ResetTool\"}]},\"id\":\"233a2acc-6b15-4f0a-b2ae-c5bbd277396c\",\"type\":\"Toolbar\"},{\"attributes\":{},\"id\":\"dcdf7a17-dd68-4154-ae73-48c0f029feb2\",\"type\":\"BasicTicker\"},{\"attributes\":{\"dimension\":1,\"plot\":{\"id\":\"289fd3ff-76d6-49de-b83c-f91d0d67bbc6\",\"subtype\":\"Figure\",\"type\":\"Plot\"},\"ticker\":{\"id\":\"daeb7841-bcb0-43b4-ae23-3d5758afd5f7\",\"type\":\"BasicTicker\"}},\"id\":\"19fddc8f-f613-4f17-b177-d341637b57e9\",\"type\":\"Grid\"},{\"attributes\":{\"plot\":null,\"text\":\"Weight vs Acceleration\"},\"id\":\"389ab734-84a5-4555-bb9b-221947d4923b\",\"type\":\"Title\"},{\"attributes\":{},\"id\":\"3172e9d0-84a8-4cf8-8edf-1eef74baedb3\",\"type\":\"BasicTickFormatter\"},{\"attributes\":{\"plot\":{\"id\":\"529b3a9f-775a-4e14-b865-b5de205d289c\",\"subtype\":\"Figure\",\"type\":\"Plot\"}},\"id\":\"56e28d01-c3e2-4802-85b4-2c3d9b7664a3\",\"type\":\"PanTool\"},{\"attributes\":{\"plot\":{\"id\":\"289fd3ff-76d6-49de-b83c-f91d0d67bbc6\",\"subtype\":\"Figure\",\"type\":\"Plot\"}},\"id\":\"bc2cff60-0ebd-4c29-bfef-6e524ae27abd\",\"type\":\"ResetTool\"},{\"attributes\":{\"plot\":{\"id\":\"529b3a9f-775a-4e14-b865-b5de205d289c\",\"subtype\":\"Figure\",\"type\":\"Plot\"},\"ticker\":{\"id\":\"9ac85f7e-8089-40a5-bad1-fe24ecc661fa\",\"type\":\"BasicTicker\"}},\"id\":\"4e99ea3b-4371-441f-98f7-f697cda26662\",\"type\":\"Grid\"}],\"root_ids\":[\"bd65e6b2-0079-4603-bee7-fc2e0bff9055\"]},\"title\":\"Bokeh Application\",\"version\":\"0.12.3\"}};\n",
       "            var render_items = [{\"docid\":\"b8f775cb-02e3-4acf-8974-1f76b9ff9095\",\"elementid\":\"ad2f82fa-584a-4906-b58b-d73efa034456\",\"modelid\":\"bd65e6b2-0079-4603-bee7-fc2e0bff9055\"}];\n",
       "            \n",
       "            Bokeh.embed.embed_items(docs_json, render_items);\n",
       "        });\n",
       "      },\n",
       "      function(Bokeh) {\n",
       "      }\n",
       "    ];\n",
       "  \n",
       "    function run_inline_js() {\n",
       "      \n",
       "      if ((window.Bokeh !== undefined) || (force === \"1\")) {\n",
       "        for (var i = 0; i < inline_js.length; i++) {\n",
       "          inline_js[i](window.Bokeh);\n",
       "        }if (force === \"1\") {\n",
       "          display_loaded();\n",
       "        }} else if (Date.now() < window._bokeh_timeout) {\n",
       "        setTimeout(run_inline_js, 100);\n",
       "      } else if (!window._bokeh_failed_load) {\n",
       "        console.log(\"Bokeh: BokehJS failed to load within specified timeout.\");\n",
       "        window._bokeh_failed_load = true;\n",
       "      } else if (!force) {\n",
       "        var cell = $(\"#ad2f82fa-584a-4906-b58b-d73efa034456\").parents('.cell').data().cell;\n",
       "        cell.output_area.append_execute_result(NB_LOAD_WARNING)\n",
       "      }\n",
       "  \n",
       "    }\n",
       "  \n",
       "    if (window._bokeh_is_loading === 0) {\n",
       "      console.log(\"Bokeh: BokehJS loaded, going straight to plotting\");\n",
       "      run_inline_js();\n",
       "    } else {\n",
       "      load_libs(js_urls, function() {\n",
       "        console.log(\"Bokeh: BokehJS plotting callback run at\", now());\n",
       "        run_inline_js();\n",
       "      });\n",
       "    }\n",
       "  }(this));\n",
       "</script>"
      ]
     },
     "metadata": {},
     "output_type": "display_data"
    }
   ],
   "source": [
    "from bokeh.layouts import gridplot\n",
    "from bokeh.models import ColumnDataSource\n",
    "\n",
    "# Figures that share a data source will have linked brushing\n",
    "source = ColumnDataSource(autompg)\n",
    "\n",
    "TOOLS = \"pan,wheel_zoom,box_select,lasso_select,reset\"\n",
    "\n",
    "f1 = bkp.figure(width=500, height=500, tools=TOOLS, title='Weight vs MPG')\n",
    "f1.square('weight', 'mpg', alpha=0.8, size=10, source=source)\n",
    "\n",
    "# Figures that share a range will have linked panning\n",
    "f2 = bkp.figure(width=500, height=500, x_range=f1.x_range, tools=TOOLS,\n",
    "                title='Weight vs Acceleration')\n",
    "f2.triangle('weight', 'accel', color='red', alpha=0.8, size=10, source=source)\n",
    "\n",
    "p = gridplot([[f1, f2]])\n",
    "bkp.show(p)"
   ]
  },
  {
   "cell_type": "markdown",
   "metadata": {},
   "source": [
    "## Using Map Tiles"
   ]
  },
  {
   "cell_type": "markdown",
   "metadata": {},
   "source": [
    "Here, I'll use some geolocation test data I collected to demonstrate Bokeh's handling of map data. I've already converted the coordinates to Web Mercator and done some other processing to make things easier."
   ]
  },
  {
   "cell_type": "code",
   "execution_count": 22,
   "metadata": {
    "collapsed": false
   },
   "outputs": [
    {
     "data": {
      "text/html": [
       "\n",
       "\n",
       "    <div class=\"bk-root\">\n",
       "        <div class=\"plotdiv\" id=\"198913ed-5972-42d0-800d-6b4ee76b54bb\"></div>\n",
       "    </div>\n",
       "<script type=\"text/javascript\">\n",
       "  \n",
       "  (function(global) {\n",
       "    function now() {\n",
       "      return new Date();\n",
       "    }\n",
       "  \n",
       "    var force = \"\";\n",
       "  \n",
       "    if (typeof (window._bokeh_onload_callbacks) === \"undefined\" || force !== \"\") {\n",
       "      window._bokeh_onload_callbacks = [];\n",
       "      window._bokeh_is_loading = undefined;\n",
       "    }\n",
       "  \n",
       "  \n",
       "    \n",
       "    if (typeof (window._bokeh_timeout) === \"undefined\" || force !== \"\") {\n",
       "      window._bokeh_timeout = Date.now() + 0;\n",
       "      window._bokeh_failed_load = false;\n",
       "    }\n",
       "  \n",
       "    var NB_LOAD_WARNING = {'data': {'text/html':\n",
       "       \"<div style='background-color: #fdd'>\\n\"+\n",
       "       \"<p>\\n\"+\n",
       "       \"BokehJS does not appear to have successfully loaded. If loading BokehJS from CDN, this \\n\"+\n",
       "       \"may be due to a slow or bad network connection. Possible fixes:\\n\"+\n",
       "       \"</p>\\n\"+\n",
       "       \"<ul>\\n\"+\n",
       "       \"<li>re-rerun `output_notebook()` to attempt to load from CDN again, or</li>\\n\"+\n",
       "       \"<li>use INLINE resources instead, as so:</li>\\n\"+\n",
       "       \"</ul>\\n\"+\n",
       "       \"<code>\\n\"+\n",
       "       \"from bokeh.resources import INLINE\\n\"+\n",
       "       \"output_notebook(resources=INLINE)\\n\"+\n",
       "       \"</code>\\n\"+\n",
       "       \"</div>\"}};\n",
       "  \n",
       "    function display_loaded() {\n",
       "      if (window.Bokeh !== undefined) {\n",
       "        Bokeh.$(\"#198913ed-5972-42d0-800d-6b4ee76b54bb\").text(\"BokehJS successfully loaded.\");\n",
       "      } else if (Date.now() < window._bokeh_timeout) {\n",
       "        setTimeout(display_loaded, 100)\n",
       "      }\n",
       "    }\n",
       "  \n",
       "    function run_callbacks() {\n",
       "      window._bokeh_onload_callbacks.forEach(function(callback) { callback() });\n",
       "      delete window._bokeh_onload_callbacks\n",
       "      console.info(\"Bokeh: all callbacks have finished\");\n",
       "    }\n",
       "  \n",
       "    function load_libs(js_urls, callback) {\n",
       "      window._bokeh_onload_callbacks.push(callback);\n",
       "      if (window._bokeh_is_loading > 0) {\n",
       "        console.log(\"Bokeh: BokehJS is being loaded, scheduling callback at\", now());\n",
       "        return null;\n",
       "      }\n",
       "      if (js_urls == null || js_urls.length === 0) {\n",
       "        run_callbacks();\n",
       "        return null;\n",
       "      }\n",
       "      console.log(\"Bokeh: BokehJS not loaded, scheduling load and callback at\", now());\n",
       "      window._bokeh_is_loading = js_urls.length;\n",
       "      for (var i = 0; i < js_urls.length; i++) {\n",
       "        var url = js_urls[i];\n",
       "        var s = document.createElement('script');\n",
       "        s.src = url;\n",
       "        s.async = false;\n",
       "        s.onreadystatechange = s.onload = function() {\n",
       "          window._bokeh_is_loading--;\n",
       "          if (window._bokeh_is_loading === 0) {\n",
       "            console.log(\"Bokeh: all BokehJS libraries loaded\");\n",
       "            run_callbacks()\n",
       "          }\n",
       "        };\n",
       "        s.onerror = function() {\n",
       "          console.warn(\"failed to load library \" + url);\n",
       "        };\n",
       "        console.log(\"Bokeh: injecting script tag for BokehJS library: \", url);\n",
       "        document.getElementsByTagName(\"head\")[0].appendChild(s);\n",
       "      }\n",
       "    };var element = document.getElementById(\"198913ed-5972-42d0-800d-6b4ee76b54bb\");\n",
       "    if (element == null) {\n",
       "      console.log(\"Bokeh: ERROR: autoload.js configured with elementid '198913ed-5972-42d0-800d-6b4ee76b54bb' but no matching script tag was found. \")\n",
       "      return false;\n",
       "    }\n",
       "  \n",
       "    var js_urls = [];\n",
       "  \n",
       "    var inline_js = [\n",
       "      function(Bokeh) {\n",
       "        Bokeh.$(function() {\n",
       "            var docs_json = {\"3a416711-6092-4e10-8d08-d6c91b46849b\":{\"roots\":{\"references\":[{\"attributes\":{\"overlay\":{\"id\":\"1a2b71f0-a345-44c7-9944-45a5752ec272\",\"type\":\"BoxAnnotation\"},\"plot\":{\"id\":\"996e9fcf-6c30-4e83-b098-0652089ba168\",\"subtype\":\"Figure\",\"type\":\"Plot\"}},\"id\":\"b0e8162e-a2cd-4710-bdb2-662dc0f15e8c\",\"type\":\"BoxZoomTool\"},{\"attributes\":{\"tile_source\":{\"id\":\"ff963027-2b97-4b97-b50d-7e81cced5222\",\"type\":\"WMTSTileSource\"}},\"id\":\"3a344a6f-ece3-46aa-b58c-786611cc8d79\",\"type\":\"TileRenderer\"},{\"attributes\":{\"fill_alpha\":{\"value\":0.9},\"fill_color\":{\"value\":\"#1f77b4\"},\"line_alpha\":{\"value\":0.9},\"line_color\":{\"value\":\"#1f77b4\"},\"size\":{\"units\":\"screen\",\"value\":10},\"x\":{\"field\":\"longitude\"},\"y\":{\"field\":\"latitude\"}},\"id\":\"8630db44-4657-41c7-93e7-f5f381d2931b\",\"type\":\"Circle\"},{\"attributes\":{\"plot\":{\"id\":\"996e9fcf-6c30-4e83-b098-0652089ba168\",\"subtype\":\"Figure\",\"type\":\"Plot\"}},\"id\":\"2b2ebe23-0145-4f41-bafe-edd251c5c1e5\",\"type\":\"ResetTool\"},{\"attributes\":{\"plot\":{\"id\":\"996e9fcf-6c30-4e83-b098-0652089ba168\",\"subtype\":\"Figure\",\"type\":\"Plot\"}},\"id\":\"c9bea768-1bc8-47b3-b451-9321781da33f\",\"type\":\"WheelZoomTool\"},{\"attributes\":{\"plot\":null,\"text\":null},\"id\":\"ae220cb8-37dc-4aef-b5e7-7513d5c7026c\",\"type\":\"Title\"},{\"attributes\":{\"fill_alpha\":{\"value\":0.1},\"fill_color\":{\"value\":\"#1f77b4\"},\"line_alpha\":{\"value\":0.1},\"line_color\":{\"value\":\"#1f77b4\"},\"size\":{\"units\":\"screen\",\"value\":10},\"x\":{\"field\":\"longitude\"},\"y\":{\"field\":\"latitude\"}},\"id\":\"33c4bf6d-677d-4dd2-b109-4681a8200612\",\"type\":\"Circle\"},{\"attributes\":{\"bottom_units\":\"screen\",\"fill_alpha\":{\"value\":0.5},\"fill_color\":{\"value\":\"lightgrey\"},\"left_units\":\"screen\",\"level\":\"overlay\",\"line_alpha\":{\"value\":1.0},\"line_color\":{\"value\":\"black\"},\"line_dash\":[4,4],\"line_width\":{\"value\":2},\"plot\":null,\"render_mode\":\"css\",\"right_units\":\"screen\",\"top_units\":\"screen\"},\"id\":\"1a2b71f0-a345-44c7-9944-45a5752ec272\",\"type\":\"BoxAnnotation\"},{\"attributes\":{\"below\":[{\"id\":\"9c09b9f2-59c8-40db-8b0c-867f5bfd83f3\",\"type\":\"LinearAxis\"}],\"left\":[{\"id\":\"a9e00780-fff7-4238-9b9c-1ce8ce1b7fdc\",\"type\":\"LinearAxis\"}],\"plot_height\":500,\"plot_width\":700,\"renderers\":[{\"id\":\"9c09b9f2-59c8-40db-8b0c-867f5bfd83f3\",\"type\":\"LinearAxis\"},{\"id\":\"96ba495a-cab6-4014-8bcd-f082e5438605\",\"type\":\"Grid\"},{\"id\":\"a9e00780-fff7-4238-9b9c-1ce8ce1b7fdc\",\"type\":\"LinearAxis\"},{\"id\":\"a47e81a0-1619-4c25-a6b7-42c5c0653f5b\",\"type\":\"Grid\"},{\"id\":\"1a2b71f0-a345-44c7-9944-45a5752ec272\",\"type\":\"BoxAnnotation\"},{\"id\":\"44422c9b-27a8-4505-8d5e-6af8e9c39660\",\"type\":\"GlyphRenderer\"},{\"id\":\"3a344a6f-ece3-46aa-b58c-786611cc8d79\",\"type\":\"TileRenderer\"}],\"title\":{\"id\":\"ae220cb8-37dc-4aef-b5e7-7513d5c7026c\",\"type\":\"Title\"},\"tool_events\":{\"id\":\"aba04e51-1653-464d-bf44-24a895fff13f\",\"type\":\"ToolEvents\"},\"toolbar\":{\"id\":\"81537770-0730-48e4-99ae-d8f000676df5\",\"type\":\"Toolbar\"},\"x_range\":{\"id\":\"f3a9779b-75d4-46a3-a284-f3c53e89ba21\",\"type\":\"DataRange1d\"},\"y_range\":{\"id\":\"1e066f82-00ef-4b0b-946e-d1483c0762f1\",\"type\":\"DataRange1d\"}},\"id\":\"996e9fcf-6c30-4e83-b098-0652089ba168\",\"subtype\":\"Figure\",\"type\":\"Plot\"},{\"attributes\":{\"dimension\":1,\"plot\":{\"id\":\"996e9fcf-6c30-4e83-b098-0652089ba168\",\"subtype\":\"Figure\",\"type\":\"Plot\"},\"ticker\":{\"id\":\"24e00d7e-cc9c-456a-b34b-884a2b72e885\",\"type\":\"BasicTicker\"}},\"id\":\"a47e81a0-1619-4c25-a6b7-42c5c0653f5b\",\"type\":\"Grid\"},{\"attributes\":{\"plot\":{\"id\":\"996e9fcf-6c30-4e83-b098-0652089ba168\",\"subtype\":\"Figure\",\"type\":\"Plot\"},\"ticker\":{\"id\":\"da164c11-9372-4736-9e94-9ab5f9e240fc\",\"type\":\"BasicTicker\"}},\"id\":\"96ba495a-cab6-4014-8bcd-f082e5438605\",\"type\":\"Grid\"},{\"attributes\":{},\"id\":\"aba04e51-1653-464d-bf44-24a895fff13f\",\"type\":\"ToolEvents\"},{\"attributes\":{\"formatter\":{\"id\":\"83b97d46-184b-4172-8ca6-6a1fa821d56f\",\"type\":\"BasicTickFormatter\"},\"plot\":{\"id\":\"996e9fcf-6c30-4e83-b098-0652089ba168\",\"subtype\":\"Figure\",\"type\":\"Plot\"},\"ticker\":{\"id\":\"24e00d7e-cc9c-456a-b34b-884a2b72e885\",\"type\":\"BasicTicker\"}},\"id\":\"a9e00780-fff7-4238-9b9c-1ce8ce1b7fdc\",\"type\":\"LinearAxis\"},{\"attributes\":{\"data_source\":{\"id\":\"2a6902fb-94a8-4ec0-9259-27974d6e0a3a\",\"type\":\"ColumnDataSource\"},\"glyph\":{\"id\":\"8630db44-4657-41c7-93e7-f5f381d2931b\",\"type\":\"Circle\"},\"hover_glyph\":null,\"nonselection_glyph\":{\"id\":\"33c4bf6d-677d-4dd2-b109-4681a8200612\",\"type\":\"Circle\"},\"selection_glyph\":null},\"id\":\"44422c9b-27a8-4505-8d5e-6af8e9c39660\",\"type\":\"GlyphRenderer\"},{\"attributes\":{},\"id\":\"da164c11-9372-4736-9e94-9ab5f9e240fc\",\"type\":\"BasicTicker\"},{\"attributes\":{\"callback\":null,\"column_names\":[\"longitude\",\"sample_timezone\",\"user_id\",\"sample_time\",\"latitude\",\"accuracy\",\"user_token\",\"creation_date\",\"id\",\"index\"],\"data\":{\"accuracy\":[22.061000824,23.2140007019,31.1739997864,64.1399993896,28.1140003204,23.895000457800002,23.895000457800002,22.4309997559,49.401000976599995,36.0,22.3309993744,35.7480010986,31.9190006256,31.9190006256,24.3220005035,24.3220005035,24.3220005035,25.948999404899997,25.948999404899997,25.948999404899997,25.948999404899997,27.440000534099998,27.440000534099998,27.440000534099998,31.340000152600002,23.4990005493,43.5,29.6130008698,22.3700008392,38.28099823,22.0809993744,22.7549991608,22.718000412,39.0,24.1100006104,25.8159999847,33.0,8.0,13.0,50.0,35.4780006409,699.9990234375,22.2479991913,22.3670005798,22.3670005798,22.3670005798,23.051000595100003,22.0259990692,21.908000945999998,22.8500003815,35.0530014038,24.0090007782,22.9249992371,22.9249992371,22.9249992371,22.040000915500002,800.0,22.6739997864,21.885000228899997,21.871000289899996,21.871000289899996,21.871000289899996,21.8759994507,21.8759994507,21.8759994507,21.905000686599998,21.905000686599998,21.905000686599998,21.8670005798,21.8670005798,21.8670005798,21.6340007782,23.1830005646,1200.0,1200.0,21.6509990692,21.6509990692,22.1909999847,22.1660003662,1200.0,24.2220001221,23.3490009308,37.8680000305,26.6079998016,50.0,21.8770008087,26.593000412,1200.0,22.2210006714,21.6270008087,21.6270008087,21.9950008392,10.0,22.2059993744,1200.0,1200.0,22.902000427199997,23.1529998779,23.1529998779,21.9060001373,21.642999649,21.642999649,21.642999649,21.642999649,22.343000412,22.343000412,22.343000412,22.343000412,22.2329998016,22.2329998016,21.6459999084,699.9990234375,21.9090003967,21.9090003967,21.628999710100004,50.0,50.0,30.236999511700002,22.030000686599998,30.834999084499998,24.2660007477,117.53399658200001,21.0100002289,21.2999992371,22.840000152600002,21.9009990692,167.654006958,13.0,23.2110004425,29.1310005188,21.8770008087,22.722999572800003,23.2789993286,22.2509994507,22.2490005493,24.188999176,31.9880008698,26.0,22.2240009308,21.908000945999998,22.232000351,22.2490005493,22.2490005493,21.9090003967,21.9090003967,21.9090003967,22.6800003052,22.6800003052,22.6800003052,22.6800003052,22.207000732399997,22.207000732399997,1100.0],\"creation_date\":[\"2016-10-21 20:29:38\",\"2016-10-21 20:29:38\",\"2016-10-21 20:29:38\",\"2016-10-21 20:29:38\",\"2016-10-21 20:29:38\",\"2016-10-21 20:29:38\",\"2016-10-21 20:29:38\",\"2016-10-21 20:29:38\",\"2016-10-21 20:29:38\",\"2016-10-21 20:29:38\",\"2016-10-21 20:29:38\",\"2016-10-21 20:29:38\",\"2016-10-21 20:29:38\",\"2016-10-21 20:29:38\",\"2016-10-21 20:29:38\",\"2016-10-21 20:29:38\",\"2016-10-21 20:29:38\",\"2016-10-21 20:29:38\",\"2016-10-21 20:29:38\",\"2016-10-21 20:29:38\",\"2016-10-21 20:29:38\",\"2016-10-21 19:57:45\",\"2016-10-21 19:57:45\",\"2016-10-21 19:57:45\",\"2016-10-21 19:57:45\",\"2016-10-21 19:57:45\",\"2016-10-21 19:57:45\",\"2016-10-21 19:57:45\",\"2016-10-21 19:57:45\",\"2016-10-21 19:57:45\",\"2016-10-21 19:57:45\",\"2016-10-21 19:57:45\",\"2016-10-21 19:57:45\",\"2016-10-21 19:57:45\",\"2016-10-21 19:57:45\",\"2016-10-21 19:57:45\",\"2016-10-21 19:57:45\",\"2016-10-21 19:57:45\",\"2016-10-21 19:57:45\",\"2016-10-21 19:57:45\",\"2016-10-21 19:57:45\",\"2016-10-21 19:57:45\",\"2016-10-21 19:57:45\",\"2016-10-21 19:57:45\",\"2016-10-21 19:57:45\",\"2016-10-21 19:57:45\",\"2016-10-21 19:57:45\",\"2016-10-21 19:57:45\",\"2016-10-21 19:57:45\",\"2016-10-21 19:57:45\",\"2016-10-21 19:57:45\",\"2016-10-21 19:57:45\",\"2016-10-21 19:57:45\",\"2016-10-21 19:57:45\",\"2016-10-21 19:57:45\",\"2016-10-21 19:57:45\",\"2016-10-21 19:57:45\",\"2016-10-21 19:57:45\",\"2016-10-21 19:57:45\",\"2016-10-21 19:11:25\",\"2016-10-21 19:11:25\",\"2016-10-21 19:11:25\",\"2016-10-21 19:11:25\",\"2016-10-21 19:11:25\",\"2016-10-21 19:11:25\",\"2016-10-21 19:11:25\",\"2016-10-21 19:11:25\",\"2016-10-21 19:11:25\",\"2016-10-21 19:11:25\",\"2016-10-21 19:11:25\",\"2016-10-21 19:11:24\",\"2016-10-21 19:11:24\",\"2016-10-21 19:11:24\",\"2016-10-21 19:11:24\",\"2016-10-21 19:11:24\",\"2016-10-21 19:11:24\",\"2016-10-21 19:11:24\",\"2016-10-21 19:11:24\",\"2016-10-21 19:11:24\",\"2016-10-21 19:11:24\",\"2016-10-21 19:11:24\",\"2016-10-21 19:11:24\",\"2016-10-21 19:11:24\",\"2016-10-21 19:11:24\",\"2016-10-21 19:11:24\",\"2016-10-21 19:11:24\",\"2016-10-21 19:11:24\",\"2016-10-21 19:11:24\",\"2016-10-21 19:11:24\",\"2016-10-21 18:30:25\",\"2016-10-21 18:30:25\",\"2016-10-21 18:30:25\",\"2016-10-21 18:30:25\",\"2016-10-21 18:30:25\",\"2016-10-21 18:30:25\",\"2016-10-21 18:30:25\",\"2016-10-21 18:30:25\",\"2016-10-21 18:30:25\",\"2016-10-21 18:30:25\",\"2016-10-21 18:30:25\",\"2016-10-21 18:30:25\",\"2016-10-21 18:30:25\",\"2016-10-21 18:30:25\",\"2016-10-21 18:30:25\",\"2016-10-21 18:30:25\",\"2016-10-21 17:56:39\",\"2016-10-21 17:56:39\",\"2016-10-21 17:56:39\",\"2016-10-21 17:56:39\",\"2016-10-21 17:56:39\",\"2016-10-21 17:56:39\",\"2016-10-21 17:56:39\",\"2016-10-21 17:56:39\",\"2016-10-21 17:56:39\",\"2016-10-21 17:56:39\",\"2016-10-21 17:56:39\",\"2016-10-21 17:56:39\",\"2016-10-21 17:56:39\",\"2016-10-21 17:56:39\",\"2016-10-21 17:56:39\",\"2016-10-21 17:56:39\",\"2016-10-21 17:56:39\",\"2016-10-21 17:56:39\",\"2016-10-21 17:56:39\",\"2016-10-21 17:56:39\",\"2016-10-21 17:56:39\",\"2016-10-21 17:56:39\",\"2016-10-21 17:56:39\",\"2016-10-21 17:56:39\",\"2016-10-21 17:56:39\",\"2016-10-21 17:56:39\",\"2016-10-21 17:56:39\",\"2016-10-21 17:56:39\",\"2016-10-21 17:56:39\",\"2016-10-21 17:56:39\",\"2016-10-21 17:56:39\",\"2016-10-21 17:24:28\",\"2016-10-21 17:24:28\",\"2016-10-21 17:24:28\",\"2016-10-21 17:24:28\",\"2016-10-21 17:24:27\",\"2016-10-21 17:24:27\",\"2016-10-21 17:24:27\",\"2016-10-21 17:24:27\",\"2016-10-21 17:24:27\",\"2016-10-21 17:24:27\",\"2016-10-21 17:24:27\",\"2016-10-21 17:24:27\",\"2016-10-21 17:24:27\",\"2016-10-21 17:24:27\",\"2016-10-21 17:24:27\",\"2016-10-21 17:24:27\",\"2016-10-21 17:24:27\"],\"id\":[40435,40434,40433,40432,40431,40430,40429,40428,40427,40426,40425,40424,40423,40422,40421,40420,40419,40418,40417,40416,40415,40414,40413,40412,40411,40410,40409,40408,40407,40406,40405,40404,40403,40402,40401,40400,40399,40398,40397,40396,40395,40394,40393,40392,40391,40390,40389,40388,40387,40386,40385,40384,40383,40382,40381,40380,40379,40378,40377,40376,40375,40374,40373,40372,40371,40370,40369,40368,40367,40366,40365,40364,40363,40362,40361,40360,40359,40358,40357,40356,40355,40354,40353,40352,40351,40350,40349,40348,40347,40346,40345,40344,40343,40342,40341,40340,40339,40338,40337,40336,40335,40334,40333,40332,40331,40330,40329,40328,40327,40326,40325,40324,40323,40322,40321,40320,40319,40318,40317,40316,40315,40314,40313,40312,40311,40310,40309,40308,40307,40306,40305,40304,40303,40302,40301,40300,40299,40298,40297,40296,40295,40294,40293,40292,40291,40290,40289,40288,40287,40286,40285,40284,40283],\"index\":[0,1,2,3,4,5,6,7,8,9,10,11,12,13,14,15,16,17,18,19,20,21,22,23,24,25,26,27,28,29,30,31,32,33,34,35,36,37,38,39,40,41,42,43,44,45,46,47,48,49,50,51,52,53,54,55,56,57,58,59,60,61,62,63,64,65,66,67,68,69,70,71,72,73,74,75,76,77,78,79,80,81,82,83,84,85,86,87,88,89,90,91,92,93,94,95,96,97,98,99,100,101,102,103,104,105,106,107,108,109,110,111,112,113,114,115,116,117,118,119,120,121,122,123,124,125,126,127,128,129,130,131,132,133,134,135,136,137,138,139,140,141,142,143,144,145,146,147,148,149,150,151,152],\"latitude\":[6323893.331526687,6323916.081675203,6323718.63701202,6323575.518554185,6323521.879625732,6323492.099331047,6323492.099331047,6323475.3916932475,6323450.731348733,6323383.577074503,6323212.9547243435,6323177.936442234,6323176.451752205,6323176.451752205,6323149.130089391,6323149.130089391,6323149.130089391,6323115.73327413,6323115.73327413,6323115.73327413,6323115.73327413,6323130.955515848,6323130.955515848,6323130.955515848,6323111.961848542,6323142.918305848,6323174.98412784,6323328.72770405,6323280.773195809,6323335.434530723,6323378.150145125,6323406.308778994,6323575.740414922,6323619.600691216,6323768.744407292,6323868.277420798,6323905.295400571,6323904.237254122,6323884.6615688,6323961.616290746,6323943.576497917,6323961.223749902,6323993.821769176,6324002.986784774,6324036.387121627,6324036.387121627,6324040.961117784,6324051.6110289125,6324030.328287266,6324051.6110289125,6324011.332589784,6324101.703339793,6324101.703339793,6324101.703339793,6324101.703339793,6324087.298569764,6323444.587606329,6323963.374191263,6323958.800237282,6323958.800237282,6323958.800237282,6323958.800237282,6323958.800237282,6323958.800237282,6323958.800237282,6323950.454484377,6323950.454484377,6323950.454484377,6323958.800237282,6323958.800237282,6323987.762965464,6324142.647838564,6324059.137656929,6323681.619853405,6323681.619853405,6323978.5979664475,6323978.5979664475,6323985.4759815335,6323978.5979664475,6323681.619853405,6323963.374191263,6324040.961117784,6324135.104068503,6324221.721292373,6324163.93086431,6324086.479341878,6324127.423766567,6323681.619853405,6324133.482670844,6324145.617559854,6324145.617559854,6324145.617559854,6324141.81153793,6324139.541579485,6323681.619853405,6323681.619853405,6324133.482670844,6324133.482670844,6324133.482670844,6324133.482670844,6324133.482670844,6324133.482670844,6324133.482670844,6324133.482670844,6324139.541579485,6324139.541579485,6324139.541579485,6324139.541579485,6324122.849723411,6324122.849723411,6324133.482670844,6323961.223749902,6324063.728732651,6324063.728732651,6324030.328287266,6323832.727342715,6323952.741458788,6323723.227901963,6323679.332952683,6323559.339802241,6323387.62167509,6323364.258587125,6323329.99056668,6323329.99056668,6323315.58711767,6323412.145307619,6323511.657037052,6323603.25119185,6323714.063191072,6323802.143814352,6323902.496432832,6323950.454484377,6323983.188998226,6324040.961117784,6324040.961117784,6324040.961117784,6324040.961117784,6323020.0470980415,6324040.961117784,6324030.328287266,6324040.961117784,6324040.961117784,6324040.961117784,6324030.328287266,6324030.328287266,6324030.328287266,6324032.615283384,6324032.615283384,6324032.615283384,6324032.615283384,6324040.961117784,6324040.961117784,6323663.290532242],\"longitude\":[-13705051.386348173,-13705036.024258442,-13705005.890072284,-13704894.58171344,-13704897.709791133,-13704758.538163742,-13704758.538163742,-13704761.643977538,-13704780.245464448,-13704785.176917888,-13704955.05046084,-13704872.507058416,-13704906.18120438,-13704906.18120438,-13704900.12542408,-13704900.12542408,-13704900.12542408,-13704906.32591972,-13704906.32591972,-13704906.32591972,-13704906.32591972,-13704936.883119944,-13704936.883119944,-13704936.883119944,-13704929.279998725,-13704789.974787945,-13704769.313890453,-13704644.179650852,-13704541.776851267,-13704553.888411868,-13704712.908304468,-13704763.336033795,-13704865.4494027,-13704967.841070332,-13704996.583762854,-13705056.028370935,-13705115.03883301,-13705115.22807614,-13705126.738511493,-13705005.311210932,-13705164.498082764,-13705328.19339398,-13705277.620949313,-13705320.44555742,-13705314.256193733,-13705314.256193733,-13705335.662931813,-13705344.824525906,-13705326.512469664,-13705344.824525906,-13705318.8982165,-13705335.529348426,-13705335.529348426,-13705335.529348426,-13705335.529348426,-13705349.332965285,-13705023.35610039,-13705216.484284967,-13705195.06641494,-13705195.06641494,-13705195.06641494,-13705195.06641494,-13705195.06641494,-13705195.06641494,-13705195.06641494,-13705196.624887813,-13705196.624887813,-13705196.624887813,-13705195.06641494,-13705195.06641494,-13705289.87722525,-13705283.398430886,-13705298.894104002,-13705157.451559002,-13705157.451559002,-13705247.052617138,-13705247.052617138,-13705279.168290233,-13705247.052617138,-13705157.451559002,-13705216.484284967,-13705335.662931813,-13705329.328852786,-13705368.91406371,-13705301.710487118,-13705304.949884305,-13705252.830098713,-13705157.451559002,-13705240.573822776,-13705216.061270902,-13705216.061270902,-13705216.061270902,-13705223.341565603,-13705228.31754684,-13705157.451559002,-13705157.451559002,-13705240.573822776,-13705240.573822776,-13705240.573822776,-13705240.573822776,-13705240.573822776,-13705240.573822776,-13705240.573822776,-13705240.573822776,-13705228.31754684,-13705228.31754684,-13705228.31754684,-13705228.31754684,-13705231.412228685,-13705231.412228685,-13705240.573822776,-13705328.19339398,-13705320.31197403,-13705320.31197403,-13705326.512469664,-13705173.937975587,-13705207.322690874,-13705027.296810364,-13705146.753755935,-13705113.369040648,-13705000.546736728,-13705041.12269112,-13705055.76120416,-13705055.76120416,-13705069.56482102,-13705196.335457135,-13705053.21198782,-13704902.529925086,-13704984.472202254,-13704990.394399164,-13705094.21095628,-13705196.624887813,-13705268.470487168,-13705335.662931813,-13705335.662931813,-13705335.662931813,-13705335.662931813,-13705328.198959952,-13705335.662931813,-13705326.512469664,-13705335.662931813,-13705335.662931813,-13705335.662931813,-13705326.512469664,-13705326.512469664,-13705326.512469664,-13705337.210272735,-13705337.210272735,-13705337.210272735,-13705337.210272735,-13705335.662931813,-13705335.662931813,-13705071.813474733],\"sample_time\":[\"10/21/16 20:28\",\"10/21/16 20:27\",\"10/21/16 20:26\",\"10/21/16 20:25\",\"10/21/16 20:24\",\"10/21/16 20:21\",\"10/21/16 20:21\",\"10/21/16 20:19\",\"10/21/16 20:18\",\"10/21/16 20:17\",\"10/21/16 20:16\",\"10/21/16 20:14\",\"10/21/16 20:12\",\"10/21/16 20:09\",\"10/21/16 20:07\",\"10/21/16 20:06\",\"10/21/16 20:05\",\"10/21/16 20:02\",\"10/21/16 20:01\",\"10/21/16 20:00\",\"10/21/16 19:59\",\"10/21/16 19:57\",\"10/21/16 19:56\",\"10/21/16 19:52\",\"10/21/16 19:51\",\"10/21/16 19:50\",\"10/21/16 19:49\",\"10/21/16 19:48\",\"10/21/16 19:47\",\"10/21/16 19:46\",\"10/21/16 19:45\",\"10/21/16 19:44\",\"10/21/16 19:43\",\"10/21/16 19:42\",\"10/21/16 19:41\",\"10/21/16 19:40\",\"10/21/16 19:38\",\"10/21/16 19:37\",\"10/21/16 19:36\",\"10/21/16 19:35\",\"10/21/16 19:34\",\"10/21/16 19:33\",\"10/21/16 19:31\",\"10/21/16 19:30\",\"10/21/16 19:29\",\"10/21/16 19:28\",\"10/21/16 19:27\",\"10/21/16 19:26\",\"10/21/16 19:25\",\"10/21/16 19:24\",\"10/21/16 19:23\",\"10/21/16 19:22\",\"10/21/16 19:20\",\"10/21/16 19:18\",\"10/21/16 19:17\",\"10/21/16 19:15\",\"10/21/16 19:14\",\"10/21/16 19:13\",\"10/21/16 19:12\",\"10/21/16 19:10\",\"10/21/16 19:09\",\"10/21/16 19:08\",\"10/21/16 19:07\",\"10/21/16 19:05\",\"10/21/16 19:03\",\"10/21/16 19:02\",\"10/21/16 18:59\",\"10/21/16 18:58\",\"10/21/16 18:56\",\"10/21/16 18:55\",\"10/21/16 18:54\",\"10/21/16 18:53\",\"10/21/16 18:52\",\"10/21/16 18:50\",\"10/21/16 18:49\",\"10/21/16 18:47\",\"10/21/16 18:46\",\"10/21/16 18:45\",\"10/21/16 18:43\",\"10/21/16 18:43\",\"10/21/16 18:41\",\"10/21/16 18:40\",\"10/21/16 18:39\",\"10/21/16 18:38\",\"10/21/16 18:37\",\"10/21/16 18:35\",\"10/21/16 18:34\",\"10/21/16 18:32\",\"10/21/16 18:31\",\"10/21/16 18:29\",\"10/21/16 18:26\",\"10/21/16 18:23\",\"10/21/16 18:23\",\"10/21/16 18:22\",\"10/21/16 18:21\",\"10/21/16 18:20\",\"10/21/16 18:18\",\"10/21/16 18:14\",\"10/21/16 18:08\",\"10/21/16 18:05\",\"10/21/16 18:03\",\"10/21/16 18:02\",\"10/21/16 18:01\",\"10/21/16 18:00\",\"10/21/16 17:58\",\"10/21/16 17:56\",\"10/21/16 17:55\",\"10/21/16 17:54\",\"10/21/16 17:52\",\"10/21/16 17:51\",\"10/21/16 17:50\",\"10/21/16 17:49\",\"10/21/16 17:48\",\"10/21/16 17:46\",\"10/21/16 17:45\",\"10/21/16 17:44\",\"10/21/16 17:43\",\"10/21/16 17:42\",\"10/21/16 17:42\",\"10/21/16 17:41\",\"10/21/16 17:40\",\"10/21/16 17:39\",\"10/21/16 17:38\",\"10/21/16 17:37\",\"10/21/16 17:36\",\"10/21/16 17:34\",\"10/21/16 17:33\",\"10/21/16 17:32\",\"10/21/16 17:31\",\"10/21/16 17:30\",\"10/21/16 17:29\",\"10/21/16 17:28\",\"10/21/16 17:28\",\"10/21/16 17:27\",\"10/21/16 17:26\",\"10/21/16 17:25\",\"10/21/16 17:23\",\"10/21/16 17:22\",\"10/21/16 17:21\",\"10/21/16 17:18\",\"10/21/16 17:13\",\"10/21/16 17:07\",\"10/21/16 17:03\",\"10/21/16 17:02\",\"10/21/16 17:01\",\"10/21/16 17:00\",\"10/21/16 16:57\",\"10/21/16 16:55\",\"10/21/16 16:52\",\"10/21/16 16:37\",\"10/21/16 16:36\",\"10/21/16 16:30\",\"10/21/16 16:26\"],\"sample_timezone\":[-420,-420,-420,-420,-420,-420,-420,-420,-420,-420,-420,-420,-420,-420,-420,-420,-420,-420,-420,-420,-420,-420,-420,-420,-420,-420,-420,-420,-420,-420,-420,-420,-420,-420,-420,-420,-420,-420,-420,-420,-420,-420,-420,-420,-420,-420,-420,-420,-420,-420,-420,-420,-420,-420,-420,-420,-420,-420,-420,-420,-420,-420,-420,-420,-420,-420,-420,-420,-420,-420,-420,-420,-420,-420,-420,-420,-420,-420,-420,-420,-420,-420,-420,-420,-420,-420,-420,-420,-420,-420,-420,-420,-420,-420,-420,-420,-420,-420,-420,-420,-420,-420,-420,-420,-420,-420,-420,-420,-420,-420,-420,-420,-420,-420,-420,-420,-420,-420,-420,-420,-420,-420,-420,-420,-420,-420,-420,-420,-420,-420,-420,-420,-420,-420,-420,-420,-420,-420,-420,-420,-420,-420,-420,-420,-420,-420,-420,-420,-420,-420,-420,-420,-420],\"user_id\":[\"12176943568701362661\",\"12176943568701362661\",\"12176943568701362661\",\"12176943568701362661\",\"12176943568701362661\",\"12176943568701362661\",\"12176943568701362661\",\"12176943568701362661\",\"12176943568701362661\",\"12176943568701362661\",\"12176943568701362661\",\"12176943568701362661\",\"12176943568701362661\",\"12176943568701362661\",\"12176943568701362661\",\"12176943568701362661\",\"12176943568701362661\",\"12176943568701362661\",\"12176943568701362661\",\"12176943568701362661\",\"12176943568701362661\",\"12176943568701362661\",\"12176943568701362661\",\"12176943568701362661\",\"12176943568701362661\",\"12176943568701362661\",\"12176943568701362661\",\"12176943568701362661\",\"12176943568701362661\",\"12176943568701362661\",\"12176943568701362661\",\"12176943568701362661\",\"12176943568701362661\",\"12176943568701362661\",\"12176943568701362661\",\"12176943568701362661\",\"12176943568701362661\",\"12176943568701362661\",\"12176943568701362661\",\"12176943568701362661\",\"12176943568701362661\",\"12176943568701362661\",\"12176943568701362661\",\"12176943568701362661\",\"12176943568701362661\",\"12176943568701362661\",\"12176943568701362661\",\"12176943568701362661\",\"12176943568701362661\",\"12176943568701362661\",\"12176943568701362661\",\"12176943568701362661\",\"12176943568701362661\",\"12176943568701362661\",\"12176943568701362661\",\"12176943568701362661\",\"12176943568701362661\",\"12176943568701362661\",\"12176943568701362661\",\"12176943568701362661\",\"12176943568701362661\",\"12176943568701362661\",\"12176943568701362661\",\"12176943568701362661\",\"12176943568701362661\",\"12176943568701362661\",\"12176943568701362661\",\"12176943568701362661\",\"12176943568701362661\",\"12176943568701362661\",\"12176943568701362661\",\"12176943568701362661\",\"12176943568701362661\",\"12176943568701362661\",\"12176943568701362661\",\"12176943568701362661\",\"12176943568701362661\",\"12176943568701362661\",\"12176943568701362661\",\"12176943568701362661\",\"12176943568701362661\",\"12176943568701362661\",\"12176943568701362661\",\"12176943568701362661\",\"12176943568701362661\",\"12176943568701362661\",\"12176943568701362661\",\"12176943568701362661\",\"12176943568701362661\",\"12176943568701362661\",\"12176943568701362661\",\"12176943568701362661\",\"12176943568701362661\",\"12176943568701362661\",\"12176943568701362661\",\"12176943568701362661\",\"12176943568701362661\",\"12176943568701362661\",\"12176943568701362661\",\"12176943568701362661\",\"12176943568701362661\",\"12176943568701362661\",\"12176943568701362661\",\"12176943568701362661\",\"12176943568701362661\",\"12176943568701362661\",\"12176943568701362661\",\"12176943568701362661\",\"12176943568701362661\",\"12176943568701362661\",\"12176943568701362661\",\"12176943568701362661\",\"12176943568701362661\",\"12176943568701362661\",\"12176943568701362661\",\"12176943568701362661\",\"12176943568701362661\",\"12176943568701362661\",\"12176943568701362661\",\"12176943568701362661\",\"12176943568701362661\",\"12176943568701362661\",\"12176943568701362661\",\"12176943568701362661\",\"12176943568701362661\",\"12176943568701362661\",\"12176943568701362661\",\"12176943568701362661\",\"12176943568701362661\",\"12176943568701362661\",\"12176943568701362661\",\"12176943568701362661\",\"12176943568701362661\",\"12176943568701362661\",\"12176943568701362661\",\"12176943568701362661\",\"12176943568701362661\",\"12176943568701362661\",\"12176943568701362661\",\"12176943568701362661\",\"12176943568701362661\",\"12176943568701362661\",\"12176943568701362661\",\"12176943568701362661\",\"12176943568701362661\",\"12176943568701362661\",\"12176943568701362661\",\"12176943568701362661\",\"12176943568701362661\",\"12176943568701362661\",\"12176943568701362661\",\"12176943568701362661\",\"12176943568701362661\"],\"user_token\":[\"4432fdf09eb34a7cb6b24164be30da78e2cbddd8b82031a65a142d13aaaabba6\",\"4432fdf09eb34a7cb6b24164be30da78e2cbddd8b82031a65a142d13aaaabba6\",\"4432fdf09eb34a7cb6b24164be30da78e2cbddd8b82031a65a142d13aaaabba6\",\"4432fdf09eb34a7cb6b24164be30da78e2cbddd8b82031a65a142d13aaaabba6\",\"4432fdf09eb34a7cb6b24164be30da78e2cbddd8b82031a65a142d13aaaabba6\",\"4432fdf09eb34a7cb6b24164be30da78e2cbddd8b82031a65a142d13aaaabba6\",\"4432fdf09eb34a7cb6b24164be30da78e2cbddd8b82031a65a142d13aaaabba6\",\"4432fdf09eb34a7cb6b24164be30da78e2cbddd8b82031a65a142d13aaaabba6\",\"4432fdf09eb34a7cb6b24164be30da78e2cbddd8b82031a65a142d13aaaabba6\",\"4432fdf09eb34a7cb6b24164be30da78e2cbddd8b82031a65a142d13aaaabba6\",\"4432fdf09eb34a7cb6b24164be30da78e2cbddd8b82031a65a142d13aaaabba6\",\"4432fdf09eb34a7cb6b24164be30da78e2cbddd8b82031a65a142d13aaaabba6\",\"4432fdf09eb34a7cb6b24164be30da78e2cbddd8b82031a65a142d13aaaabba6\",\"4432fdf09eb34a7cb6b24164be30da78e2cbddd8b82031a65a142d13aaaabba6\",\"4432fdf09eb34a7cb6b24164be30da78e2cbddd8b82031a65a142d13aaaabba6\",\"4432fdf09eb34a7cb6b24164be30da78e2cbddd8b82031a65a142d13aaaabba6\",\"4432fdf09eb34a7cb6b24164be30da78e2cbddd8b82031a65a142d13aaaabba6\",\"4432fdf09eb34a7cb6b24164be30da78e2cbddd8b82031a65a142d13aaaabba6\",\"4432fdf09eb34a7cb6b24164be30da78e2cbddd8b82031a65a142d13aaaabba6\",\"4432fdf09eb34a7cb6b24164be30da78e2cbddd8b82031a65a142d13aaaabba6\",\"4432fdf09eb34a7cb6b24164be30da78e2cbddd8b82031a65a142d13aaaabba6\",\"4432fdf09eb34a7cb6b24164be30da78e2cbddd8b82031a65a142d13aaaabba6\",\"4432fdf09eb34a7cb6b24164be30da78e2cbddd8b82031a65a142d13aaaabba6\",\"4432fdf09eb34a7cb6b24164be30da78e2cbddd8b82031a65a142d13aaaabba6\",\"4432fdf09eb34a7cb6b24164be30da78e2cbddd8b82031a65a142d13aaaabba6\",\"4432fdf09eb34a7cb6b24164be30da78e2cbddd8b82031a65a142d13aaaabba6\",\"4432fdf09eb34a7cb6b24164be30da78e2cbddd8b82031a65a142d13aaaabba6\",\"4432fdf09eb34a7cb6b24164be30da78e2cbddd8b82031a65a142d13aaaabba6\",\"4432fdf09eb34a7cb6b24164be30da78e2cbddd8b82031a65a142d13aaaabba6\",\"4432fdf09eb34a7cb6b24164be30da78e2cbddd8b82031a65a142d13aaaabba6\",\"4432fdf09eb34a7cb6b24164be30da78e2cbddd8b82031a65a142d13aaaabba6\",\"4432fdf09eb34a7cb6b24164be30da78e2cbddd8b82031a65a142d13aaaabba6\",\"4432fdf09eb34a7cb6b24164be30da78e2cbddd8b82031a65a142d13aaaabba6\",\"4432fdf09eb34a7cb6b24164be30da78e2cbddd8b82031a65a142d13aaaabba6\",\"4432fdf09eb34a7cb6b24164be30da78e2cbddd8b82031a65a142d13aaaabba6\",\"4432fdf09eb34a7cb6b24164be30da78e2cbddd8b82031a65a142d13aaaabba6\",\"4432fdf09eb34a7cb6b24164be30da78e2cbddd8b82031a65a142d13aaaabba6\",\"4432fdf09eb34a7cb6b24164be30da78e2cbddd8b82031a65a142d13aaaabba6\",\"4432fdf09eb34a7cb6b24164be30da78e2cbddd8b82031a65a142d13aaaabba6\",\"4432fdf09eb34a7cb6b24164be30da78e2cbddd8b82031a65a142d13aaaabba6\",\"4432fdf09eb34a7cb6b24164be30da78e2cbddd8b82031a65a142d13aaaabba6\",\"4432fdf09eb34a7cb6b24164be30da78e2cbddd8b82031a65a142d13aaaabba6\",\"4432fdf09eb34a7cb6b24164be30da78e2cbddd8b82031a65a142d13aaaabba6\",\"4432fdf09eb34a7cb6b24164be30da78e2cbddd8b82031a65a142d13aaaabba6\",\"4432fdf09eb34a7cb6b24164be30da78e2cbddd8b82031a65a142d13aaaabba6\",\"4432fdf09eb34a7cb6b24164be30da78e2cbddd8b82031a65a142d13aaaabba6\",\"4432fdf09eb34a7cb6b24164be30da78e2cbddd8b82031a65a142d13aaaabba6\",\"4432fdf09eb34a7cb6b24164be30da78e2cbddd8b82031a65a142d13aaaabba6\",\"4432fdf09eb34a7cb6b24164be30da78e2cbddd8b82031a65a142d13aaaabba6\",\"4432fdf09eb34a7cb6b24164be30da78e2cbddd8b82031a65a142d13aaaabba6\",\"4432fdf09eb34a7cb6b24164be30da78e2cbddd8b82031a65a142d13aaaabba6\",\"4432fdf09eb34a7cb6b24164be30da78e2cbddd8b82031a65a142d13aaaabba6\",\"4432fdf09eb34a7cb6b24164be30da78e2cbddd8b82031a65a142d13aaaabba6\",\"4432fdf09eb34a7cb6b24164be30da78e2cbddd8b82031a65a142d13aaaabba6\",\"4432fdf09eb34a7cb6b24164be30da78e2cbddd8b82031a65a142d13aaaabba6\",\"4432fdf09eb34a7cb6b24164be30da78e2cbddd8b82031a65a142d13aaaabba6\",\"4432fdf09eb34a7cb6b24164be30da78e2cbddd8b82031a65a142d13aaaabba6\",\"4432fdf09eb34a7cb6b24164be30da78e2cbddd8b82031a65a142d13aaaabba6\",\"4432fdf09eb34a7cb6b24164be30da78e2cbddd8b82031a65a142d13aaaabba6\",\"4432fdf09eb34a7cb6b24164be30da78e2cbddd8b82031a65a142d13aaaabba6\",\"4432fdf09eb34a7cb6b24164be30da78e2cbddd8b82031a65a142d13aaaabba6\",\"4432fdf09eb34a7cb6b24164be30da78e2cbddd8b82031a65a142d13aaaabba6\",\"4432fdf09eb34a7cb6b24164be30da78e2cbddd8b82031a65a142d13aaaabba6\",\"4432fdf09eb34a7cb6b24164be30da78e2cbddd8b82031a65a142d13aaaabba6\",\"4432fdf09eb34a7cb6b24164be30da78e2cbddd8b82031a65a142d13aaaabba6\",\"4432fdf09eb34a7cb6b24164be30da78e2cbddd8b82031a65a142d13aaaabba6\",\"4432fdf09eb34a7cb6b24164be30da78e2cbddd8b82031a65a142d13aaaabba6\",\"4432fdf09eb34a7cb6b24164be30da78e2cbddd8b82031a65a142d13aaaabba6\",\"4432fdf09eb34a7cb6b24164be30da78e2cbddd8b82031a65a142d13aaaabba6\",\"4432fdf09eb34a7cb6b24164be30da78e2cbddd8b82031a65a142d13aaaabba6\",\"4432fdf09eb34a7cb6b24164be30da78e2cbddd8b82031a65a142d13aaaabba6\",\"4432fdf09eb34a7cb6b24164be30da78e2cbddd8b82031a65a142d13aaaabba6\",\"4432fdf09eb34a7cb6b24164be30da78e2cbddd8b82031a65a142d13aaaabba6\",\"4432fdf09eb34a7cb6b24164be30da78e2cbddd8b82031a65a142d13aaaabba6\",\"4432fdf09eb34a7cb6b24164be30da78e2cbddd8b82031a65a142d13aaaabba6\",\"4432fdf09eb34a7cb6b24164be30da78e2cbddd8b82031a65a142d13aaaabba6\",\"4432fdf09eb34a7cb6b24164be30da78e2cbddd8b82031a65a142d13aaaabba6\",\"4432fdf09eb34a7cb6b24164be30da78e2cbddd8b82031a65a142d13aaaabba6\",\"4432fdf09eb34a7cb6b24164be30da78e2cbddd8b82031a65a142d13aaaabba6\",\"4432fdf09eb34a7cb6b24164be30da78e2cbddd8b82031a65a142d13aaaabba6\",\"4432fdf09eb34a7cb6b24164be30da78e2cbddd8b82031a65a142d13aaaabba6\",\"4432fdf09eb34a7cb6b24164be30da78e2cbddd8b82031a65a142d13aaaabba6\",\"4432fdf09eb34a7cb6b24164be30da78e2cbddd8b82031a65a142d13aaaabba6\",\"4432fdf09eb34a7cb6b24164be30da78e2cbddd8b82031a65a142d13aaaabba6\",\"4432fdf09eb34a7cb6b24164be30da78e2cbddd8b82031a65a142d13aaaabba6\",\"4432fdf09eb34a7cb6b24164be30da78e2cbddd8b82031a65a142d13aaaabba6\",\"4432fdf09eb34a7cb6b24164be30da78e2cbddd8b82031a65a142d13aaaabba6\",\"4432fdf09eb34a7cb6b24164be30da78e2cbddd8b82031a65a142d13aaaabba6\",\"4432fdf09eb34a7cb6b24164be30da78e2cbddd8b82031a65a142d13aaaabba6\",\"4432fdf09eb34a7cb6b24164be30da78e2cbddd8b82031a65a142d13aaaabba6\",\"4432fdf09eb34a7cb6b24164be30da78e2cbddd8b82031a65a142d13aaaabba6\",\"4432fdf09eb34a7cb6b24164be30da78e2cbddd8b82031a65a142d13aaaabba6\",\"4432fdf09eb34a7cb6b24164be30da78e2cbddd8b82031a65a142d13aaaabba6\",\"4432fdf09eb34a7cb6b24164be30da78e2cbddd8b82031a65a142d13aaaabba6\",\"4432fdf09eb34a7cb6b24164be30da78e2cbddd8b82031a65a142d13aaaabba6\",\"4432fdf09eb34a7cb6b24164be30da78e2cbddd8b82031a65a142d13aaaabba6\",\"4432fdf09eb34a7cb6b24164be30da78e2cbddd8b82031a65a142d13aaaabba6\",\"4432fdf09eb34a7cb6b24164be30da78e2cbddd8b82031a65a142d13aaaabba6\",\"4432fdf09eb34a7cb6b24164be30da78e2cbddd8b82031a65a142d13aaaabba6\",\"4432fdf09eb34a7cb6b24164be30da78e2cbddd8b82031a65a142d13aaaabba6\",\"4432fdf09eb34a7cb6b24164be30da78e2cbddd8b82031a65a142d13aaaabba6\",\"4432fdf09eb34a7cb6b24164be30da78e2cbddd8b82031a65a142d13aaaabba6\",\"4432fdf09eb34a7cb6b24164be30da78e2cbddd8b82031a65a142d13aaaabba6\",\"4432fdf09eb34a7cb6b24164be30da78e2cbddd8b82031a65a142d13aaaabba6\",\"4432fdf09eb34a7cb6b24164be30da78e2cbddd8b82031a65a142d13aaaabba6\",\"4432fdf09eb34a7cb6b24164be30da78e2cbddd8b82031a65a142d13aaaabba6\",\"4432fdf09eb34a7cb6b24164be30da78e2cbddd8b82031a65a142d13aaaabba6\",\"4432fdf09eb34a7cb6b24164be30da78e2cbddd8b82031a65a142d13aaaabba6\",\"4432fdf09eb34a7cb6b24164be30da78e2cbddd8b82031a65a142d13aaaabba6\",\"4432fdf09eb34a7cb6b24164be30da78e2cbddd8b82031a65a142d13aaaabba6\",\"4432fdf09eb34a7cb6b24164be30da78e2cbddd8b82031a65a142d13aaaabba6\",\"4432fdf09eb34a7cb6b24164be30da78e2cbddd8b82031a65a142d13aaaabba6\",\"4432fdf09eb34a7cb6b24164be30da78e2cbddd8b82031a65a142d13aaaabba6\",\"4432fdf09eb34a7cb6b24164be30da78e2cbddd8b82031a65a142d13aaaabba6\",\"4432fdf09eb34a7cb6b24164be30da78e2cbddd8b82031a65a142d13aaaabba6\",\"4432fdf09eb34a7cb6b24164be30da78e2cbddd8b82031a65a142d13aaaabba6\",\"4432fdf09eb34a7cb6b24164be30da78e2cbddd8b82031a65a142d13aaaabba6\",\"4432fdf09eb34a7cb6b24164be30da78e2cbddd8b82031a65a142d13aaaabba6\",\"4432fdf09eb34a7cb6b24164be30da78e2cbddd8b82031a65a142d13aaaabba6\",\"4432fdf09eb34a7cb6b24164be30da78e2cbddd8b82031a65a142d13aaaabba6\",\"4432fdf09eb34a7cb6b24164be30da78e2cbddd8b82031a65a142d13aaaabba6\",\"4432fdf09eb34a7cb6b24164be30da78e2cbddd8b82031a65a142d13aaaabba6\",\"4432fdf09eb34a7cb6b24164be30da78e2cbddd8b82031a65a142d13aaaabba6\",\"4432fdf09eb34a7cb6b24164be30da78e2cbddd8b82031a65a142d13aaaabba6\",\"4432fdf09eb34a7cb6b24164be30da78e2cbddd8b82031a65a142d13aaaabba6\",\"4432fdf09eb34a7cb6b24164be30da78e2cbddd8b82031a65a142d13aaaabba6\",\"4432fdf09eb34a7cb6b24164be30da78e2cbddd8b82031a65a142d13aaaabba6\",\"4432fdf09eb34a7cb6b24164be30da78e2cbddd8b82031a65a142d13aaaabba6\",\"4432fdf09eb34a7cb6b24164be30da78e2cbddd8b82031a65a142d13aaaabba6\",\"4432fdf09eb34a7cb6b24164be30da78e2cbddd8b82031a65a142d13aaaabba6\",\"4432fdf09eb34a7cb6b24164be30da78e2cbddd8b82031a65a142d13aaaabba6\",\"4432fdf09eb34a7cb6b24164be30da78e2cbddd8b82031a65a142d13aaaabba6\",\"4432fdf09eb34a7cb6b24164be30da78e2cbddd8b82031a65a142d13aaaabba6\",\"4432fdf09eb34a7cb6b24164be30da78e2cbddd8b82031a65a142d13aaaabba6\",\"4432fdf09eb34a7cb6b24164be30da78e2cbddd8b82031a65a142d13aaaabba6\",\"4432fdf09eb34a7cb6b24164be30da78e2cbddd8b82031a65a142d13aaaabba6\",\"4432fdf09eb34a7cb6b24164be30da78e2cbddd8b82031a65a142d13aaaabba6\",\"4432fdf09eb34a7cb6b24164be30da78e2cbddd8b82031a65a142d13aaaabba6\",\"4432fdf09eb34a7cb6b24164be30da78e2cbddd8b82031a65a142d13aaaabba6\",\"4432fdf09eb34a7cb6b24164be30da78e2cbddd8b82031a65a142d13aaaabba6\",\"4432fdf09eb34a7cb6b24164be30da78e2cbddd8b82031a65a142d13aaaabba6\",\"4432fdf09eb34a7cb6b24164be30da78e2cbddd8b82031a65a142d13aaaabba6\",\"4432fdf09eb34a7cb6b24164be30da78e2cbddd8b82031a65a142d13aaaabba6\",\"4432fdf09eb34a7cb6b24164be30da78e2cbddd8b82031a65a142d13aaaabba6\",\"4432fdf09eb34a7cb6b24164be30da78e2cbddd8b82031a65a142d13aaaabba6\",\"4432fdf09eb34a7cb6b24164be30da78e2cbddd8b82031a65a142d13aaaabba6\",\"4432fdf09eb34a7cb6b24164be30da78e2cbddd8b82031a65a142d13aaaabba6\",\"4432fdf09eb34a7cb6b24164be30da78e2cbddd8b82031a65a142d13aaaabba6\",\"4432fdf09eb34a7cb6b24164be30da78e2cbddd8b82031a65a142d13aaaabba6\",\"4432fdf09eb34a7cb6b24164be30da78e2cbddd8b82031a65a142d13aaaabba6\",\"4432fdf09eb34a7cb6b24164be30da78e2cbddd8b82031a65a142d13aaaabba6\",\"4432fdf09eb34a7cb6b24164be30da78e2cbddd8b82031a65a142d13aaaabba6\",\"4432fdf09eb34a7cb6b24164be30da78e2cbddd8b82031a65a142d13aaaabba6\"]}},\"id\":\"2a6902fb-94a8-4ec0-9259-27974d6e0a3a\",\"type\":\"ColumnDataSource\"},{\"attributes\":{\"callback\":null},\"id\":\"f3a9779b-75d4-46a3-a284-f3c53e89ba21\",\"type\":\"DataRange1d\"},{\"attributes\":{\"plot\":{\"id\":\"996e9fcf-6c30-4e83-b098-0652089ba168\",\"subtype\":\"Figure\",\"type\":\"Plot\"}},\"id\":\"e862c352-ba83-408d-a5bd-f859db9be935\",\"type\":\"PanTool\"},{\"attributes\":{\"formatter\":{\"id\":\"21679fd8-13ae-4a9d-a71c-26208c4a8de3\",\"type\":\"BasicTickFormatter\"},\"plot\":{\"id\":\"996e9fcf-6c30-4e83-b098-0652089ba168\",\"subtype\":\"Figure\",\"type\":\"Plot\"},\"ticker\":{\"id\":\"da164c11-9372-4736-9e94-9ab5f9e240fc\",\"type\":\"BasicTicker\"}},\"id\":\"9c09b9f2-59c8-40db-8b0c-867f5bfd83f3\",\"type\":\"LinearAxis\"},{\"attributes\":{\"callback\":null,\"plot\":{\"id\":\"996e9fcf-6c30-4e83-b098-0652089ba168\",\"subtype\":\"Figure\",\"type\":\"Plot\"},\"tooltips\":[[\"Sample Time\",\"@sample_time\"],[\"Accuracy\",\"@accuracy{int} meters\"],[\"Offset\",\"@sample_timezone\"]]},\"id\":\"5af0979a-4637-4423-b947-f0bebe095c16\",\"type\":\"HoverTool\"},{\"attributes\":{\"attribution\":\"Map tiles by <a href=\\\"http://stamen.com\\\">Stamen Design</a>, under <a href=\\\"http://creativecommons.org/licenses/by/3.0\\\">CC BY 3.0</a>.Data by <a href=\\\"http://openstreetmap.org\\\">OpenStreetMap</a>, under <a href=\\\"http://www.openstreetmap.org/copyright\\\">ODbL</a>\",\"url\":\"http://tile.stamen.com/toner/{Z}/{X}/{Y}.png\"},\"id\":\"ff963027-2b97-4b97-b50d-7e81cced5222\",\"type\":\"WMTSTileSource\"},{\"attributes\":{},\"id\":\"24e00d7e-cc9c-456a-b34b-884a2b72e885\",\"type\":\"BasicTicker\"},{\"attributes\":{\"callback\":null},\"id\":\"1e066f82-00ef-4b0b-946e-d1483c0762f1\",\"type\":\"DataRange1d\"},{\"attributes\":{\"active_drag\":\"auto\",\"active_scroll\":\"auto\",\"active_tap\":\"auto\",\"tools\":[{\"id\":\"5af0979a-4637-4423-b947-f0bebe095c16\",\"type\":\"HoverTool\"},{\"id\":\"e862c352-ba83-408d-a5bd-f859db9be935\",\"type\":\"PanTool\"},{\"id\":\"c9bea768-1bc8-47b3-b451-9321781da33f\",\"type\":\"WheelZoomTool\"},{\"id\":\"2b2ebe23-0145-4f41-bafe-edd251c5c1e5\",\"type\":\"ResetTool\"},{\"id\":\"b0e8162e-a2cd-4710-bdb2-662dc0f15e8c\",\"type\":\"BoxZoomTool\"}]},\"id\":\"81537770-0730-48e4-99ae-d8f000676df5\",\"type\":\"Toolbar\"},{\"attributes\":{},\"id\":\"21679fd8-13ae-4a9d-a71c-26208c4a8de3\",\"type\":\"BasicTickFormatter\"},{\"attributes\":{},\"id\":\"83b97d46-184b-4172-8ca6-6a1fa821d56f\",\"type\":\"BasicTickFormatter\"}],\"root_ids\":[\"996e9fcf-6c30-4e83-b098-0652089ba168\"]},\"title\":\"Bokeh Application\",\"version\":\"0.12.3\"}};\n",
       "            var render_items = [{\"docid\":\"3a416711-6092-4e10-8d08-d6c91b46849b\",\"elementid\":\"198913ed-5972-42d0-800d-6b4ee76b54bb\",\"modelid\":\"996e9fcf-6c30-4e83-b098-0652089ba168\"}];\n",
       "            \n",
       "            Bokeh.embed.embed_items(docs_json, render_items);\n",
       "        });\n",
       "      },\n",
       "      function(Bokeh) {\n",
       "      }\n",
       "    ];\n",
       "  \n",
       "    function run_inline_js() {\n",
       "      \n",
       "      if ((window.Bokeh !== undefined) || (force === \"1\")) {\n",
       "        for (var i = 0; i < inline_js.length; i++) {\n",
       "          inline_js[i](window.Bokeh);\n",
       "        }if (force === \"1\") {\n",
       "          display_loaded();\n",
       "        }} else if (Date.now() < window._bokeh_timeout) {\n",
       "        setTimeout(run_inline_js, 100);\n",
       "      } else if (!window._bokeh_failed_load) {\n",
       "        console.log(\"Bokeh: BokehJS failed to load within specified timeout.\");\n",
       "        window._bokeh_failed_load = true;\n",
       "      } else if (!force) {\n",
       "        var cell = $(\"#198913ed-5972-42d0-800d-6b4ee76b54bb\").parents('.cell').data().cell;\n",
       "        cell.output_area.append_execute_result(NB_LOAD_WARNING)\n",
       "      }\n",
       "  \n",
       "    }\n",
       "  \n",
       "    if (window._bokeh_is_loading === 0) {\n",
       "      console.log(\"Bokeh: BokehJS loaded, going straight to plotting\");\n",
       "      run_inline_js();\n",
       "    } else {\n",
       "      load_libs(js_urls, function() {\n",
       "        console.log(\"Bokeh: BokehJS plotting callback run at\", now());\n",
       "        run_inline_js();\n",
       "      });\n",
       "    }\n",
       "  }(this));\n",
       "</script>"
      ]
     },
     "metadata": {},
     "output_type": "display_data"
    }
   ],
   "source": [
    "from bokeh.tile_providers import STAMEN_TONER\n",
    "from bokeh.models import HoverTool\n",
    "\n",
    "locations = pd.read_csv('dmb_vancouver_locs.csv')\n",
    "\n",
    "hover = HoverTool(tooltips=[('Sample Time', '@sample_time'), ('Accuracy', '@accuracy{int} meters'), \n",
    "                            ('Offset', '@sample_timezone')])\n",
    "p = bkp.figure(width=700, height=500, tools=[hover, 'pan', 'wheel_zoom', 'reset', 'box_zoom'])\n",
    "source = ColumnDataSource(locations)\n",
    "p.circle(x='longitude', y='latitude', alpha=0.9, size=10, source=source)\n",
    "p.add_tile(STAMEN_TONER)\n",
    "bkp.show(p)"
   ]
  }
 ],
 "metadata": {
  "anaconda-cloud": {},
  "kernelspec": {
   "display_name": "Python [conda root]",
   "language": "python",
   "name": "conda-root-py"
  },
  "language_info": {
   "codemirror_mode": {
    "name": "ipython",
    "version": 3
   },
   "file_extension": ".py",
   "mimetype": "text/x-python",
   "name": "python",
   "nbconvert_exporter": "python",
   "pygments_lexer": "ipython3",
   "version": "3.5.2"
  },
  "nbpresent": {
   "slides": {
    "342f49c7-b08c-4475-b0cf-556aafbda0de": {
     "id": "342f49c7-b08c-4475-b0cf-556aafbda0de",
     "prev": "509ce5a3-7287-4953-812f-01b755738b5e",
     "regions": {
      "57160962-ab39-4356-a57f-e4a5933e7b7d": {
       "attrs": {
        "height": 0.8,
        "width": 0.8,
        "x": 0.1,
        "y": 0.1
       },
       "content": {
        "cell": "6820a1f6-218e-4fe4-b7e7-0109b2cb9bd7",
        "part": "whole"
       },
       "id": "57160962-ab39-4356-a57f-e4a5933e7b7d"
      }
     }
    },
    "509ce5a3-7287-4953-812f-01b755738b5e": {
     "id": "509ce5a3-7287-4953-812f-01b755738b5e",
     "prev": "521da847-055b-4357-91de-7d11e6aa0351",
     "regions": {
      "3c25bd96-6f70-4d49-afef-17509459bd02": {
       "attrs": {
        "height": 0.8,
        "width": 0.8,
        "x": 0.1,
        "y": 0.1
       },
       "content": {
        "cell": "00911f49-ad6f-479d-834b-3a149e2c44af",
        "part": "whole"
       },
       "id": "3c25bd96-6f70-4d49-afef-17509459bd02"
      }
     }
    },
    "521da847-055b-4357-91de-7d11e6aa0351": {
     "id": "521da847-055b-4357-91de-7d11e6aa0351",
     "prev": "d61caf56-f909-4106-abc2-9c4647c98bde",
     "regions": {
      "bb6d923e-4518-4724-bfda-6c54210f5398": {
       "attrs": {
        "height": 0.8,
        "width": 0.8,
        "x": 0.1,
        "y": 0.1
       },
       "content": {
        "cell": "e96aa965-172f-4b5c-8138-50104ff1d482",
        "part": "whole"
       },
       "id": "bb6d923e-4518-4724-bfda-6c54210f5398"
      }
     }
    },
    "81b364a9-afdd-4e43-8a2a-a07f42e51369": {
     "id": "81b364a9-afdd-4e43-8a2a-a07f42e51369",
     "prev": "c4896e2a-33a6-43fb-b8e6-193844764519",
     "regions": {
      "02adc008-9ca1-4861-8d02-38ef47beb0d2": {
       "attrs": {
        "height": 0.8,
        "width": 0.8,
        "x": 0.1,
        "y": 0.1
       },
       "content": {
        "cell": "70a7a773-87e0-46ac-8a8d-d373e1c0d8e8",
        "part": "whole"
       },
       "id": "02adc008-9ca1-4861-8d02-38ef47beb0d2"
      }
     }
    },
    "c4896e2a-33a6-43fb-b8e6-193844764519": {
     "id": "c4896e2a-33a6-43fb-b8e6-193844764519",
     "prev": null,
     "regions": {
      "8fcffae5-4800-40d7-9f1b-1d421302ca50": {
       "attrs": {
        "height": 0.8,
        "width": 0.8,
        "x": 0.1,
        "y": 0.1
       },
       "content": {
        "cell": "823ec6c2-1785-4c35-9941-c098567c0ad0",
        "part": "whole"
       },
       "id": "8fcffae5-4800-40d7-9f1b-1d421302ca50"
      }
     }
    },
    "d61caf56-f909-4106-abc2-9c4647c98bde": {
     "id": "d61caf56-f909-4106-abc2-9c4647c98bde",
     "prev": "dcbcbe1a-4205-4e2a-ac3b-84c79ab3c7da",
     "regions": {
      "bf2fc4ef-3e72-4353-b034-85a3148ac34b": {
       "attrs": {
        "height": 0.8,
        "width": 0.8,
        "x": 0.1,
        "y": 0.1
       },
       "content": {
        "cell": "e974ebb2-a5d9-491b-9e54-ac1519717865",
        "part": "whole"
       },
       "id": "bf2fc4ef-3e72-4353-b034-85a3148ac34b"
      }
     }
    },
    "dcbcbe1a-4205-4e2a-ac3b-84c79ab3c7da": {
     "id": "dcbcbe1a-4205-4e2a-ac3b-84c79ab3c7da",
     "prev": "81b364a9-afdd-4e43-8a2a-a07f42e51369",
     "regions": {
      "0fcebd09-532f-4552-b8bd-76c0bf34dfde": {
       "attrs": {
        "height": 0.8,
        "width": 0.8,
        "x": 0.1,
        "y": 0.1
       },
       "content": {
        "cell": "4b9feff8-c993-468b-ab8b-53012356867d",
        "part": "whole"
       },
       "id": "0fcebd09-532f-4552-b8bd-76c0bf34dfde"
      }
     }
    }
   },
   "themes": {
    "default": "310d3c96-cd73-495a-8c2b-72b91a440d65",
    "theme": {
     "00fe51fb-d48a-4528-a713-3e7c97bc8b44": {
      "backgrounds": {
       "backgroundColor": {
        "background-color": "backgroundColor",
        "id": "backgroundColor"
       }
      },
      "id": "00fe51fb-d48a-4528-a713-3e7c97bc8b44",
      "palette": {
       "backgroundColor": {
        "id": "backgroundColor",
        "rgb": [
         256,
         256,
         256
        ]
       },
       "headingColor": {
        "id": "headingColor",
        "rgb": [
         0,
         0,
         0
        ]
       },
       "linkColor": {
        "id": "linkColor",
        "rgb": [
         0,
         0,
         139
        ]
       },
       "mainColor": {
        "id": "mainColor",
        "rgb": [
         0,
         0,
         0
        ]
       }
      },
      "rules": {
       "a": {
        "color": "linkColor"
       },
       "h1": {
        "color": "headingColor",
        "font-family": "News Cycle",
        "font-size": 7
       },
       "h2": {
        "color": "headingColor",
        "font-family": "News Cycle",
        "font-size": 5
       },
       "h3": {
        "color": "headingColor",
        "font-family": "News Cycle",
        "font-size": 3.75
       },
       "h4": {
        "color": "headingColor",
        "font-family": "News Cycle",
        "font-size": 3
       },
       "h5": {
        "color": "headingColor",
        "font-family": "News Cycle"
       },
       "h6": {
        "color": "headingColor",
        "font-family": "News Cycle"
       },
       "h7": {
        "color": "headingColor",
        "font-family": "News Cycle"
       },
       "li": {
        "color": "mainColor",
        "font-family": "Lato",
        "font-size": 5
       },
       "p": {
        "color": "mainColor",
        "font-family": "Lato",
        "font-size": 5
       }
      },
      "text-base": {
       "color": "mainColor",
       "font-family": "Lato",
       "font-size": 5
      }
     },
     "310d3c96-cd73-495a-8c2b-72b91a440d65": {
      "backgrounds": {
       "backgroundColor": {
        "background-color": "backgroundColor",
        "id": "backgroundColor"
       }
      },
      "id": "310d3c96-cd73-495a-8c2b-72b91a440d65",
      "palette": {
       "backgroundColor": {
        "id": "backgroundColor",
        "rgb": [
         34,
         34,
         34
        ]
       },
       "headingColor": {
        "id": "headingColor",
        "rgb": [
         238,
         238,
         238
        ]
       },
       "linkColor": {
        "id": "linkColor",
        "rgb": [
         170,
         34,
         51
        ]
       },
       "mainColor": {
        "id": "mainColor",
        "rgb": [
         238,
         238,
         238
        ]
       }
      },
      "rules": {
       "a": {
        "color": "linkColor"
       },
       "h1": {
        "color": "headingColor",
        "font-family": "Ubuntu",
        "font-size": 7
       },
       "h2": {
        "color": "headingColor",
        "font-family": "Ubuntu",
        "font-size": 5
       },
       "h3": {
        "color": "headingColor",
        "font-family": "Ubuntu",
        "font-size": 3.75
       },
       "h4": {
        "color": "headingColor",
        "font-family": "Ubuntu",
        "font-size": 3
       },
       "h5": {
        "color": "headingColor",
        "font-family": "Ubuntu"
       },
       "h6": {
        "color": "headingColor",
        "font-family": "Ubuntu"
       },
       "h7": {
        "color": "headingColor",
        "font-family": "Ubuntu"
       },
       "li": {
        "color": "mainColor",
        "font-family": "Ubuntu",
        "font-size": 5
       },
       "p": {
        "color": "mainColor",
        "font-family": "Ubuntu",
        "font-size": 5
       }
      },
      "text-base": {
       "color": "mainColor",
       "font-family": "Ubuntu",
       "font-size": 5
      }
     },
     "475b990c-eeac-4805-86e2-73316e956adb": {
      "backgrounds": {
       "backgroundColor": {
        "background-color": "backgroundColor",
        "id": "backgroundColor"
       }
      },
      "id": "475b990c-eeac-4805-86e2-73316e956adb",
      "palette": {
       "backgroundColor": {
        "id": "backgroundColor",
        "rgb": [
         253,
         246,
         227
        ]
       },
       "headingColor": {
        "id": "headingColor",
        "rgb": [
         88,
         110,
         117
        ]
       },
       "linkColor": {
        "id": "linkColor",
        "rgb": [
         38,
         139,
         210
        ]
       },
       "mainColor": {
        "id": "mainColor",
        "rgb": [
         101,
         123,
         131
        ]
       }
      },
      "rules": {
       "a": {
        "color": "linkColor"
       },
       "h1": {
        "color": "headingColor",
        "font-family": "Oswald",
        "font-size": 7
       },
       "h2": {
        "color": "headingColor",
        "font-family": "Oswald",
        "font-size": 5
       },
       "h3": {
        "color": "headingColor",
        "font-family": "Oswald",
        "font-size": 3.75
       },
       "h4": {
        "color": "headingColor",
        "font-family": "Oswald",
        "font-size": 3
       },
       "h5": {
        "color": "headingColor",
        "font-family": "Oswald"
       },
       "h6": {
        "color": "headingColor",
        "font-family": "Oswald"
       },
       "h7": {
        "color": "headingColor",
        "font-family": "Oswald"
       },
       "li": {
        "color": "mainColor",
        "font-family": "Lato",
        "font-size": 5
       },
       "p": {
        "color": "mainColor",
        "font-family": "Lato",
        "font-size": 5
       }
      },
      "text-base": {
       "color": "mainColor",
       "font-family": "Lato",
       "font-size": 5
      }
     },
     "79db4b3d-d358-40d1-95aa-eaa32cdb546e": {
      "backgrounds": {
       "backgroundColor": {
        "background-color": "backgroundColor",
        "id": "backgroundColor"
       }
      },
      "id": "79db4b3d-d358-40d1-95aa-eaa32cdb546e",
      "palette": {
       "backgroundColor": {
        "id": "backgroundColor",
        "rgb": [
         247,
         251,
         252
        ]
       },
       "headingColor": {
        "id": "headingColor",
        "rgb": [
         51,
         51,
         51
        ]
       },
       "linkColor": {
        "id": "linkColor",
        "rgb": [
         59,
         117,
         158
        ]
       },
       "mainColor": {
        "id": "mainColor",
        "rgb": [
         51,
         51,
         51
        ]
       }
      },
      "rules": {
       "a": {
        "color": "linkColor"
       },
       "h1": {
        "color": "headingColor",
        "font-family": "Quicksand",
        "font-size": 7
       },
       "h2": {
        "color": "headingColor",
        "font-family": "Quicksand",
        "font-size": 5
       },
       "h3": {
        "color": "headingColor",
        "font-family": "Quicksand",
        "font-size": 3.75
       },
       "h4": {
        "color": "headingColor",
        "font-family": "Quicksand",
        "font-size": 3
       },
       "h5": {
        "color": "headingColor",
        "font-family": "Quicksand"
       },
       "h6": {
        "color": "headingColor",
        "font-family": "Quicksand"
       },
       "h7": {
        "color": "headingColor",
        "font-family": "Quicksand"
       },
       "li": {
        "color": "mainColor",
        "font-family": "Open Sans",
        "font-size": 5
       },
       "p": {
        "color": "mainColor",
        "font-family": "Open Sans",
        "font-size": 5
       }
      },
      "text-base": {
       "color": "mainColor",
       "font-family": "Open Sans",
       "font-size": 5
      }
     },
     "a423056a-ec76-4dbc-91fc-118aa7282f7b": {
      "backgrounds": {
       "backgroundColor": {
        "background-color": "backgroundColor",
        "id": "backgroundColor"
       }
      },
      "id": "a423056a-ec76-4dbc-91fc-118aa7282f7b",
      "palette": {
       "backgroundColor": {
        "id": "backgroundColor",
        "rgb": [
         247,
         243,
         222
        ]
       },
       "headingColor": {
        "id": "headingColor",
        "rgb": [
         51,
         51,
         51
        ]
       },
       "linkColor": {
        "id": "linkColor",
        "rgb": [
         139,
         116,
         61
        ]
       },
       "mainColor": {
        "id": "mainColor",
        "rgb": [
         51,
         51,
         51
        ]
       }
      },
      "rules": {
       "a": {
        "color": "linkColor"
       },
       "h1": {
        "color": "headingColor",
        "font-family": "Oswald",
        "font-size": 7
       },
       "h2": {
        "color": "headingColor",
        "font-family": "Oswald",
        "font-size": 5
       },
       "h3": {
        "color": "headingColor",
        "font-family": "Oswald",
        "font-size": 3.75
       },
       "h4": {
        "color": "headingColor",
        "font-family": "Oswald",
        "font-size": 3
       },
       "h5": {
        "color": "headingColor",
        "font-family": "Oswald"
       },
       "h6": {
        "color": "headingColor",
        "font-family": "Oswald"
       },
       "h7": {
        "color": "headingColor",
        "font-family": "Oswald"
       },
       "li": {
        "color": "mainColor",
        "font-family": "Lato",
        "font-size": 5
       },
       "p": {
        "color": "mainColor",
        "font-family": "Lato",
        "font-size": 5
       }
      },
      "text-base": {
       "color": "mainColor",
       "font-family": "Lato",
       "font-size": 5
      }
     },
     "b8cd597b-1d1d-451e-b523-d31bbec4e9d0": {
      "backgrounds": {
       "backgroundColor": {
        "background-color": "backgroundColor",
        "id": "backgroundColor"
       }
      },
      "id": "b8cd597b-1d1d-451e-b523-d31bbec4e9d0",
      "palette": {
       "backgroundColor": {
        "id": "backgroundColor",
        "rgb": [
         34,
         34,
         34
        ]
       },
       "headingColor": {
        "id": "headingColor",
        "rgb": [
         256,
         256,
         256
        ]
       },
       "linkColor": {
        "id": "linkColor",
        "rgb": [
         66,
         175,
         250
        ]
       },
       "mainColor": {
        "id": "mainColor",
        "rgb": [
         256,
         256,
         256
        ]
       }
      },
      "rules": {
       "a": {
        "color": "linkColor"
       },
       "h1": {
        "color": "headingColor",
        "font-family": "Source Sans Pro",
        "font-size": 5.25
       },
       "h2": {
        "color": "headingColor",
        "font-family": "Source Sans Pro",
        "font-size": 4
       },
       "h3": {
        "color": "headingColor",
        "font-family": "Source Sans Pro",
        "font-size": 3.5
       },
       "h4": {
        "color": "headingColor",
        "font-family": "Source Sans Pro",
        "font-size": 3
       },
       "h5": {
        "color": "headingColor",
        "font-family": "Source Sans Pro"
       },
       "h6": {
        "color": "headingColor",
        "font-family": "Source Sans Pro"
       },
       "h7": {
        "color": "headingColor",
        "font-family": "Source Sans Pro"
       },
       "li": {
        "color": "mainColor",
        "font-family": "Source Sans Pro",
        "font-size": 6
       },
       "p": {
        "color": "mainColor",
        "font-family": "Source Sans Pro",
        "font-size": 6
       }
      },
      "text-base": {
       "color": "mainColor",
       "font-family": "Source Sans Pro",
       "font-size": 6
      }
     }
    }
   }
  }
 },
 "nbformat": 4,
 "nbformat_minor": 0
}
