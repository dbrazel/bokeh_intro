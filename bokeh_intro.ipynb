{
 "cells": [
  {
   "cell_type": "markdown",
   "metadata": {
    "nbpresent": {
     "id": "823ec6c2-1785-4c35-9941-c098567c0ad0"
    }
   },
   "source": [
    "# Bokeh: Interactive Web Visualizations in Python"
   ]
  },
  {
   "cell_type": "markdown",
   "metadata": {
    "nbpresent": {
     "id": "70a7a773-87e0-46ac-8a8d-d373e1c0d8e8"
    }
   },
   "source": [
    "## About Me"
   ]
  },
  {
   "cell_type": "markdown",
   "metadata": {
    "nbpresent": {
     "id": "4b9feff8-c993-468b-ab8b-53012356867d"
    }
   },
   "source": [
    "## Why Bokeh?"
   ]
  },
  {
   "cell_type": "markdown",
   "metadata": {
    "nbpresent": {
     "id": "e974ebb2-a5d9-491b-9e54-ac1519717865"
    }
   },
   "source": [
    "## Bokeh Architecture\n",
    "![Bokeh Architecture](architecture.jpg)\n",
    "(Peter Wang)"
   ]
  }
 ],
 "metadata": {
  "kernelspec": {
   "display_name": "Python [Root]",
   "language": "python",
   "name": "Python [Root]"
  },
  "language_info": {
   "codemirror_mode": {
    "name": "ipython",
    "version": 3
   },
   "file_extension": ".py",
   "mimetype": "text/x-python",
   "name": "python",
   "nbconvert_exporter": "python",
   "pygments_lexer": "ipython3",
   "version": "3.5.2"
  },
  "nbpresent": {
   "slides": {},
   "themes": {}
  }
 },
 "nbformat": 4,
 "nbformat_minor": 0
}
