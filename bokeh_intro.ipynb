{
 "cells": [
  {
   "cell_type": "markdown",
   "metadata": {
    "nbpresent": {
     "id": "823ec6c2-1785-4c35-9941-c098567c0ad0"
    },
    "slideshow": {
     "slide_type": "-"
    }
   },
   "source": [
    "# Bokeh: Interactive Web Visualizations in Python"
   ]
  },
  {
   "cell_type": "markdown",
   "metadata": {
    "nbpresent": {
     "id": "70a7a773-87e0-46ac-8a8d-d373e1c0d8e8"
    },
    "slideshow": {
     "slide_type": "-"
    }
   },
   "source": [
    "## About Me\n",
    "\n",
    "* PhD Candidate in the Interdisciplinary Quantitative Biology program and at the Institute for Behavioral Genetics at CU\n",
    "* I work on addiction genomics and phenotyping methods that can scale to millions of subjects.\n",
    "* <https://github.com/dbrazel>"
   ]
  },
  {
   "cell_type": "markdown",
   "metadata": {
    "nbpresent": {
     "id": "4b9feff8-c993-468b-ab8b-53012356867d"
    },
    "slideshow": {
     "slide_type": "-"
    }
   },
   "source": [
    "## Why Bokeh?\n",
    "\n",
    "* D3-like interactive web visualizations in Python, R, and Julia\n",
    "    * \"We write the JavaScript, so you don't have to!\"\n",
    "* Plays nicely with notebooks and produces portable, embeddable HTML\n",
    "* Bokeh Server enables streaming updates"
   ]
  },
  {
   "cell_type": "markdown",
   "metadata": {
    "nbpresent": {
     "id": "e974ebb2-a5d9-491b-9e54-ac1519717865"
    },
    "slideshow": {
     "slide_type": "-"
    }
   },
   "source": [
    "## Bokeh Architecture\n",
    "![Bokeh Architecture](architecture.jpg)\n",
    "(Peter Wang)"
   ]
  },
  {
   "cell_type": "markdown",
   "metadata": {
    "nbpresent": {
     "id": "e96aa965-172f-4b5c-8138-50104ff1d482"
    },
    "slideshow": {
     "slide_type": "-"
    }
   },
   "source": [
    "## Interfaces\n",
    "\n",
    "* `bokeh.charts` - High-level, provides common statistical charts (bar, box, histogram, heat map, chord, etc.)\n",
    "* `bokeh.plotting` - Mid-level, focused on placing glyphs (boxes, lines, circles, etc.)\n",
    "* `bokeh.models` - Low-level, uses classes that map directly to BokehJS models"
   ]
  },
  {
   "cell_type": "markdown",
   "metadata": {
    "nbpresent": {
     "id": "00911f49-ad6f-479d-834b-3a149e2c44af"
    },
    "slideshow": {
     "slide_type": "-"
    }
   },
   "source": [
    "## Setup"
   ]
  },
  {
   "cell_type": "code",
   "execution_count": 1,
   "metadata": {
    "collapsed": false,
    "nbpresent": {
     "id": "6820a1f6-218e-4fe4-b7e7-0109b2cb9bd7"
    },
    "slideshow": {
     "slide_type": "-"
    }
   },
   "outputs": [
    {
     "data": {
      "text/html": [
       "\n",
       "    <div class=\"bk-root\">\n",
       "        <a href=\"http://bokeh.pydata.org\" target=\"_blank\" class=\"bk-logo bk-logo-small bk-logo-notebook\"></a>\n",
       "        <span id=\"5954649b-20c4-4bd9-a927-0af4ca810994\">Loading BokehJS ...</span>\n",
       "    </div>"
      ]
     },
     "metadata": {},
     "output_type": "display_data"
    },
    {
     "data": {
      "application/javascript": [
       "\n",
       "(function(global) {\n",
       "  function now() {\n",
       "    return new Date();\n",
       "  }\n",
       "\n",
       "  var force = \"1\";\n",
       "\n",
       "  if (typeof (window._bokeh_onload_callbacks) === \"undefined\" || force !== \"\") {\n",
       "    window._bokeh_onload_callbacks = [];\n",
       "    window._bokeh_is_loading = undefined;\n",
       "  }\n",
       "\n",
       "\n",
       "  \n",
       "  if (typeof (window._bokeh_timeout) === \"undefined\" || force !== \"\") {\n",
       "    window._bokeh_timeout = Date.now() + 5000;\n",
       "    window._bokeh_failed_load = false;\n",
       "  }\n",
       "\n",
       "  var NB_LOAD_WARNING = {'data': {'text/html':\n",
       "     \"<div style='background-color: #fdd'>\\n\"+\n",
       "     \"<p>\\n\"+\n",
       "     \"BokehJS does not appear to have successfully loaded. If loading BokehJS from CDN, this \\n\"+\n",
       "     \"may be due to a slow or bad network connection. Possible fixes:\\n\"+\n",
       "     \"</p>\\n\"+\n",
       "     \"<ul>\\n\"+\n",
       "     \"<li>re-rerun `output_notebook()` to attempt to load from CDN again, or</li>\\n\"+\n",
       "     \"<li>use INLINE resources instead, as so:</li>\\n\"+\n",
       "     \"</ul>\\n\"+\n",
       "     \"<code>\\n\"+\n",
       "     \"from bokeh.resources import INLINE\\n\"+\n",
       "     \"output_notebook(resources=INLINE)\\n\"+\n",
       "     \"</code>\\n\"+\n",
       "     \"</div>\"}};\n",
       "\n",
       "  function display_loaded() {\n",
       "    if (window.Bokeh !== undefined) {\n",
       "      Bokeh.$(\"#5954649b-20c4-4bd9-a927-0af4ca810994\").text(\"BokehJS successfully loaded.\");\n",
       "    } else if (Date.now() < window._bokeh_timeout) {\n",
       "      setTimeout(display_loaded, 100)\n",
       "    }\n",
       "  }\n",
       "\n",
       "  function run_callbacks() {\n",
       "    window._bokeh_onload_callbacks.forEach(function(callback) { callback() });\n",
       "    delete window._bokeh_onload_callbacks\n",
       "    console.info(\"Bokeh: all callbacks have finished\");\n",
       "  }\n",
       "\n",
       "  function load_libs(js_urls, callback) {\n",
       "    window._bokeh_onload_callbacks.push(callback);\n",
       "    if (window._bokeh_is_loading > 0) {\n",
       "      console.log(\"Bokeh: BokehJS is being loaded, scheduling callback at\", now());\n",
       "      return null;\n",
       "    }\n",
       "    if (js_urls == null || js_urls.length === 0) {\n",
       "      run_callbacks();\n",
       "      return null;\n",
       "    }\n",
       "    console.log(\"Bokeh: BokehJS not loaded, scheduling load and callback at\", now());\n",
       "    window._bokeh_is_loading = js_urls.length;\n",
       "    for (var i = 0; i < js_urls.length; i++) {\n",
       "      var url = js_urls[i];\n",
       "      var s = document.createElement('script');\n",
       "      s.src = url;\n",
       "      s.async = false;\n",
       "      s.onreadystatechange = s.onload = function() {\n",
       "        window._bokeh_is_loading--;\n",
       "        if (window._bokeh_is_loading === 0) {\n",
       "          console.log(\"Bokeh: all BokehJS libraries loaded\");\n",
       "          run_callbacks()\n",
       "        }\n",
       "      };\n",
       "      s.onerror = function() {\n",
       "        console.warn(\"failed to load library \" + url);\n",
       "      };\n",
       "      console.log(\"Bokeh: injecting script tag for BokehJS library: \", url);\n",
       "      document.getElementsByTagName(\"head\")[0].appendChild(s);\n",
       "    }\n",
       "  };var element = document.getElementById(\"5954649b-20c4-4bd9-a927-0af4ca810994\");\n",
       "  if (element == null) {\n",
       "    console.log(\"Bokeh: ERROR: autoload.js configured with elementid '5954649b-20c4-4bd9-a927-0af4ca810994' but no matching script tag was found. \")\n",
       "    return false;\n",
       "  }\n",
       "\n",
       "  var js_urls = ['https://cdn.pydata.org/bokeh/release/bokeh-0.12.3.min.js', 'https://cdn.pydata.org/bokeh/release/bokeh-widgets-0.12.3.min.js'];\n",
       "\n",
       "  var inline_js = [\n",
       "    function(Bokeh) {\n",
       "      Bokeh.set_log_level(\"info\");\n",
       "    },\n",
       "    \n",
       "    function(Bokeh) {\n",
       "      \n",
       "      Bokeh.$(\"#5954649b-20c4-4bd9-a927-0af4ca810994\").text(\"BokehJS is loading...\");\n",
       "    },\n",
       "    function(Bokeh) {\n",
       "      console.log(\"Bokeh: injecting CSS: https://cdn.pydata.org/bokeh/release/bokeh-0.12.3.min.css\");\n",
       "      Bokeh.embed.inject_css(\"https://cdn.pydata.org/bokeh/release/bokeh-0.12.3.min.css\");\n",
       "      console.log(\"Bokeh: injecting CSS: https://cdn.pydata.org/bokeh/release/bokeh-widgets-0.12.3.min.css\");\n",
       "      Bokeh.embed.inject_css(\"https://cdn.pydata.org/bokeh/release/bokeh-widgets-0.12.3.min.css\");\n",
       "    }\n",
       "  ];\n",
       "\n",
       "  function run_inline_js() {\n",
       "    \n",
       "    if ((window.Bokeh !== undefined) || (force === \"1\")) {\n",
       "      for (var i = 0; i < inline_js.length; i++) {\n",
       "        inline_js[i](window.Bokeh);\n",
       "      }if (force === \"1\") {\n",
       "        display_loaded();\n",
       "      }} else if (Date.now() < window._bokeh_timeout) {\n",
       "      setTimeout(run_inline_js, 100);\n",
       "    } else if (!window._bokeh_failed_load) {\n",
       "      console.log(\"Bokeh: BokehJS failed to load within specified timeout.\");\n",
       "      window._bokeh_failed_load = true;\n",
       "    } else if (!force) {\n",
       "      var cell = $(\"#5954649b-20c4-4bd9-a927-0af4ca810994\").parents('.cell').data().cell;\n",
       "      cell.output_area.append_execute_result(NB_LOAD_WARNING)\n",
       "    }\n",
       "\n",
       "  }\n",
       "\n",
       "  if (window._bokeh_is_loading === 0) {\n",
       "    console.log(\"Bokeh: BokehJS loaded, going straight to plotting\");\n",
       "    run_inline_js();\n",
       "  } else {\n",
       "    load_libs(js_urls, function() {\n",
       "      console.log(\"Bokeh: BokehJS plotting callback run at\", now());\n",
       "      run_inline_js();\n",
       "    });\n",
       "  }\n",
       "}(this));"
      ]
     },
     "metadata": {},
     "output_type": "display_data"
    },
    {
     "data": {
      "text/html": [
       "<div>\n",
       "<table border=\"1\" class=\"dataframe\">\n",
       "  <thead>\n",
       "    <tr style=\"text-align: right;\">\n",
       "      <th></th>\n",
       "      <th>id</th>\n",
       "      <th>diet</th>\n",
       "      <th>pulse</th>\n",
       "      <th>time</th>\n",
       "      <th>kind</th>\n",
       "    </tr>\n",
       "  </thead>\n",
       "  <tbody>\n",
       "    <tr>\n",
       "      <th>0</th>\n",
       "      <td>1</td>\n",
       "      <td>low fat</td>\n",
       "      <td>85</td>\n",
       "      <td>1 min</td>\n",
       "      <td>rest</td>\n",
       "    </tr>\n",
       "    <tr>\n",
       "      <th>1</th>\n",
       "      <td>1</td>\n",
       "      <td>low fat</td>\n",
       "      <td>85</td>\n",
       "      <td>15 min</td>\n",
       "      <td>rest</td>\n",
       "    </tr>\n",
       "    <tr>\n",
       "      <th>2</th>\n",
       "      <td>1</td>\n",
       "      <td>low fat</td>\n",
       "      <td>88</td>\n",
       "      <td>30 min</td>\n",
       "      <td>rest</td>\n",
       "    </tr>\n",
       "    <tr>\n",
       "      <th>3</th>\n",
       "      <td>2</td>\n",
       "      <td>low fat</td>\n",
       "      <td>90</td>\n",
       "      <td>1 min</td>\n",
       "      <td>rest</td>\n",
       "    </tr>\n",
       "    <tr>\n",
       "      <th>4</th>\n",
       "      <td>2</td>\n",
       "      <td>low fat</td>\n",
       "      <td>92</td>\n",
       "      <td>15 min</td>\n",
       "      <td>rest</td>\n",
       "    </tr>\n",
       "  </tbody>\n",
       "</table>\n",
       "</div>"
      ],
      "text/plain": [
       "   id     diet  pulse    time  kind\n",
       "0   1  low fat     85   1 min  rest\n",
       "1   1  low fat     85  15 min  rest\n",
       "2   1  low fat     88  30 min  rest\n",
       "3   2  low fat     90   1 min  rest\n",
       "4   2  low fat     92  15 min  rest"
      ]
     },
     "execution_count": 1,
     "metadata": {},
     "output_type": "execute_result"
    }
   ],
   "source": [
    "import bokeh.charts as bkc\n",
    "import bokeh.plotting as bkp\n",
    "\n",
    "bkc.output_notebook()\n",
    "\n",
    "# Load the seaborn exercise dataset\n",
    "\n",
    "import pandas as pd\n",
    "exercise = pd.read_csv('exercise.csv')\n",
    "exercise = exercise.drop(exercise.columns[0], axis=1)\n",
    "exercise.head()"
   ]
  },
  {
   "cell_type": "markdown",
   "metadata": {
    "nbpresent": {
     "id": "47e92caf-1870-4513-b484-7c793d0a793c"
    }
   },
   "source": [
    "## `bokeh.charts`\n",
    "\n",
    "Standard plots are simple to make, have reasonable defaults, and work well with pandas DataFrames."
   ]
  },
  {
   "cell_type": "code",
   "execution_count": 2,
   "metadata": {
    "collapsed": false,
    "nbpresent": {
     "id": "442a3af9-468d-444c-8038-ed17302020a7"
    }
   },
   "outputs": [
    {
     "data": {
      "text/html": [
       "\n",
       "\n",
       "    <div class=\"bk-root\">\n",
       "        <div class=\"plotdiv\" id=\"ca46f176-2a13-40b9-b8d4-b9f82c691144\"></div>\n",
       "    </div>\n",
       "<script type=\"text/javascript\">\n",
       "  \n",
       "  (function(global) {\n",
       "    function now() {\n",
       "      return new Date();\n",
       "    }\n",
       "  \n",
       "    var force = \"\";\n",
       "  \n",
       "    if (typeof (window._bokeh_onload_callbacks) === \"undefined\" || force !== \"\") {\n",
       "      window._bokeh_onload_callbacks = [];\n",
       "      window._bokeh_is_loading = undefined;\n",
       "    }\n",
       "  \n",
       "  \n",
       "    \n",
       "    if (typeof (window._bokeh_timeout) === \"undefined\" || force !== \"\") {\n",
       "      window._bokeh_timeout = Date.now() + 0;\n",
       "      window._bokeh_failed_load = false;\n",
       "    }\n",
       "  \n",
       "    var NB_LOAD_WARNING = {'data': {'text/html':\n",
       "       \"<div style='background-color: #fdd'>\\n\"+\n",
       "       \"<p>\\n\"+\n",
       "       \"BokehJS does not appear to have successfully loaded. If loading BokehJS from CDN, this \\n\"+\n",
       "       \"may be due to a slow or bad network connection. Possible fixes:\\n\"+\n",
       "       \"</p>\\n\"+\n",
       "       \"<ul>\\n\"+\n",
       "       \"<li>re-rerun `output_notebook()` to attempt to load from CDN again, or</li>\\n\"+\n",
       "       \"<li>use INLINE resources instead, as so:</li>\\n\"+\n",
       "       \"</ul>\\n\"+\n",
       "       \"<code>\\n\"+\n",
       "       \"from bokeh.resources import INLINE\\n\"+\n",
       "       \"output_notebook(resources=INLINE)\\n\"+\n",
       "       \"</code>\\n\"+\n",
       "       \"</div>\"}};\n",
       "  \n",
       "    function display_loaded() {\n",
       "      if (window.Bokeh !== undefined) {\n",
       "        Bokeh.$(\"#ca46f176-2a13-40b9-b8d4-b9f82c691144\").text(\"BokehJS successfully loaded.\");\n",
       "      } else if (Date.now() < window._bokeh_timeout) {\n",
       "        setTimeout(display_loaded, 100)\n",
       "      }\n",
       "    }\n",
       "  \n",
       "    function run_callbacks() {\n",
       "      window._bokeh_onload_callbacks.forEach(function(callback) { callback() });\n",
       "      delete window._bokeh_onload_callbacks\n",
       "      console.info(\"Bokeh: all callbacks have finished\");\n",
       "    }\n",
       "  \n",
       "    function load_libs(js_urls, callback) {\n",
       "      window._bokeh_onload_callbacks.push(callback);\n",
       "      if (window._bokeh_is_loading > 0) {\n",
       "        console.log(\"Bokeh: BokehJS is being loaded, scheduling callback at\", now());\n",
       "        return null;\n",
       "      }\n",
       "      if (js_urls == null || js_urls.length === 0) {\n",
       "        run_callbacks();\n",
       "        return null;\n",
       "      }\n",
       "      console.log(\"Bokeh: BokehJS not loaded, scheduling load and callback at\", now());\n",
       "      window._bokeh_is_loading = js_urls.length;\n",
       "      for (var i = 0; i < js_urls.length; i++) {\n",
       "        var url = js_urls[i];\n",
       "        var s = document.createElement('script');\n",
       "        s.src = url;\n",
       "        s.async = false;\n",
       "        s.onreadystatechange = s.onload = function() {\n",
       "          window._bokeh_is_loading--;\n",
       "          if (window._bokeh_is_loading === 0) {\n",
       "            console.log(\"Bokeh: all BokehJS libraries loaded\");\n",
       "            run_callbacks()\n",
       "          }\n",
       "        };\n",
       "        s.onerror = function() {\n",
       "          console.warn(\"failed to load library \" + url);\n",
       "        };\n",
       "        console.log(\"Bokeh: injecting script tag for BokehJS library: \", url);\n",
       "        document.getElementsByTagName(\"head\")[0].appendChild(s);\n",
       "      }\n",
       "    };var element = document.getElementById(\"ca46f176-2a13-40b9-b8d4-b9f82c691144\");\n",
       "    if (element == null) {\n",
       "      console.log(\"Bokeh: ERROR: autoload.js configured with elementid 'ca46f176-2a13-40b9-b8d4-b9f82c691144' but no matching script tag was found. \")\n",
       "      return false;\n",
       "    }\n",
       "  \n",
       "    var js_urls = [];\n",
       "  \n",
       "    var inline_js = [\n",
       "      function(Bokeh) {\n",
       "        Bokeh.$(function() {\n",
       "            var docs_json = {\"6894108b-0303-40e9-b8ae-7712e958eda4\":{\"roots\":{\"references\":[{\"attributes\":{\"plot\":{\"id\":\"54a80b69-8d33-4404-a51d-ee7a9420271e\",\"subtype\":\"Chart\",\"type\":\"Plot\"}},\"id\":\"be4e7734-0df7-482c-a9cf-643e370fd992\",\"type\":\"HelpTool\"},{\"attributes\":{\"overlay\":{\"id\":\"1220cfb6-0c85-4f87-9c11-3aa3fe5c6ca3\",\"type\":\"BoxAnnotation\"},\"plot\":{\"id\":\"54a80b69-8d33-4404-a51d-ee7a9420271e\",\"subtype\":\"Chart\",\"type\":\"Plot\"}},\"id\":\"3fc4d0f5-6f1d-4e96-af92-b77f8767a8e4\",\"type\":\"BoxZoomTool\"},{\"attributes\":{\"plot\":{\"id\":\"54a80b69-8d33-4404-a51d-ee7a9420271e\",\"subtype\":\"Chart\",\"type\":\"Plot\"}},\"id\":\"e932a2fc-c955-41ce-9372-bc55308e507e\",\"type\":\"PanTool\"},{\"attributes\":{\"label\":{\"value\":\"walking\"},\"renderers\":[{\"id\":\"ff8edbc1-d815-404f-a586-8dc8b5d8b949\",\"type\":\"GlyphRenderer\"},{\"id\":\"70b86766-9973-457a-aafd-768b2adde1a2\",\"type\":\"GlyphRenderer\"},{\"id\":\"c831862a-dee1-4d31-9ee8-52ea21145440\",\"type\":\"GlyphRenderer\"}]},\"id\":\"7076b7dd-7151-46e5-8879-94eb90b9880a\",\"type\":\"LegendItem\"},{\"attributes\":{\"data_source\":{\"id\":\"79a61814-70f0-4222-9ef4-349f96265a19\",\"type\":\"ColumnDataSource\"},\"glyph\":{\"id\":\"69598606-7641-4bf3-b8d3-ac401ca80d1e\",\"type\":\"Rect\"},\"hover_glyph\":null,\"nonselection_glyph\":null,\"selection_glyph\":null},\"id\":\"ff8edbc1-d815-404f-a586-8dc8b5d8b949\",\"type\":\"GlyphRenderer\"},{\"attributes\":{\"fill_alpha\":{\"field\":\"fill_alpha\"},\"fill_color\":{\"field\":\"color\"},\"height\":{\"field\":\"height\",\"units\":\"data\"},\"line_color\":{\"field\":\"line_color\"},\"width\":{\"field\":\"width\",\"units\":\"data\"},\"x\":{\"field\":\"x\"},\"y\":{\"field\":\"y\"}},\"id\":\"04f5afae-5dab-4758-884f-01470c83d1dd\",\"type\":\"Rect\"},{\"attributes\":{\"plot\":{\"id\":\"54a80b69-8d33-4404-a51d-ee7a9420271e\",\"subtype\":\"Chart\",\"type\":\"Plot\"}},\"id\":\"8f300715-4643-4eac-8e69-a786d37bf3a7\",\"type\":\"SaveTool\"},{\"attributes\":{\"data_source\":{\"id\":\"dc9ecc39-1778-4b68-b90c-2010f22175b8\",\"type\":\"ColumnDataSource\"},\"glyph\":{\"id\":\"03a12aa7-379c-4b76-811f-24647a5ebc7a\",\"type\":\"Rect\"},\"hover_glyph\":null,\"nonselection_glyph\":null,\"selection_glyph\":null},\"id\":\"1444f322-253e-46c9-afb4-c8ed9c760ef4\",\"type\":\"GlyphRenderer\"},{\"attributes\":{\"line_width\":{\"value\":2},\"x0\":{\"field\":\"x0s\"},\"x1\":{\"field\":\"x1s\"},\"y0\":{\"field\":\"y0s\"},\"y1\":{\"field\":\"y1s\"}},\"id\":\"0ce9bb56-f166-45b0-b6e1-363cd0c039d9\",\"type\":\"Segment\"},{\"attributes\":{\"plot\":{\"id\":\"54a80b69-8d33-4404-a51d-ee7a9420271e\",\"subtype\":\"Chart\",\"type\":\"Plot\"}},\"id\":\"5dbbdae0-013f-4065-9e67-c205ba91afde\",\"type\":\"WheelZoomTool\"},{\"attributes\":{\"data_source\":{\"id\":\"8ac1efe8-6fb1-4915-87ba-5e13c1fefa18\",\"type\":\"ColumnDataSource\"},\"glyph\":{\"id\":\"43176c47-611a-4234-b9fc-25bf93c91130\",\"type\":\"Segment\"},\"hover_glyph\":null,\"nonselection_glyph\":null,\"selection_glyph\":null},\"id\":\"e1c45e11-9963-40e5-a8a0-36f03f6db419\",\"type\":\"GlyphRenderer\"},{\"attributes\":{\"callback\":null,\"column_names\":[\"color\",\"height\",\"fill_alpha\",\"line_alpha\",\"label\",\"width\",\"line_color\",\"y\",\"x\"],\"data\":{\"chart_index\":[{\"kind\":\"walking\"}],\"color\":[\"#407ee7\"],\"fill_alpha\":[0.8],\"height\":[5.25],\"kind\":[\"walking\"],\"label\":[{\"kind\":\"walking\"}],\"line_alpha\":[1.0],\"line_color\":[\"black\"],\"width\":[0.8],\"x\":[\"walking\"],\"y\":[98.125]}},\"id\":\"c51945df-9af7-4804-88a0-38f9e4aa2eea\",\"type\":\"ColumnDataSource\"},{\"attributes\":{\"callback\":null,\"column_names\":[\"color\",\"height\",\"fill_alpha\",\"line_alpha\",\"label\",\"width\",\"line_color\",\"y\",\"x\"],\"data\":{\"chart_index\":[{\"kind\":\"running\"}],\"color\":[\"#5ab738\"],\"fill_alpha\":[0.8],\"height\":[11.75],\"kind\":[\"running\"],\"label\":[{\"kind\":\"running\"}],\"line_alpha\":[1.0],\"line_color\":[\"black\"],\"width\":[0.8],\"x\":[\"running\"],\"y\":[104.125]}},\"id\":\"1fce46ec-623d-4ce1-ad3a-a901ceab91b6\",\"type\":\"ColumnDataSource\"},{\"attributes\":{\"bottom_units\":\"screen\",\"fill_alpha\":{\"value\":0.5},\"fill_color\":{\"value\":\"lightgrey\"},\"left_units\":\"screen\",\"level\":\"overlay\",\"line_alpha\":{\"value\":1.0},\"line_color\":{\"value\":\"black\"},\"line_dash\":[4,4],\"line_width\":{\"value\":2},\"plot\":null,\"render_mode\":\"css\",\"right_units\":\"screen\",\"top_units\":\"screen\"},\"id\":\"1220cfb6-0c85-4f87-9c11-3aa3fe5c6ca3\",\"type\":\"BoxAnnotation\"},{\"attributes\":{\"callback\":null,\"column_names\":[\"x0s\",\"x1s\",\"y1s\",\"y0s\"],\"data\":{\"chart_index\":[{\"kind\":\"running\"},{\"kind\":\"running\"},{\"kind\":\"running\"},{\"kind\":\"running\"}],\"kind\":[\"running\",\"running\",\"running\",\"running\"],\"x0s\":[\"running:0.5\",\"running:0.65\",\"running:0.5\",\"running:0.65\"],\"x1s\":[\"running:0.5\",\"running:0.35\",\"running:0.5\",\"running:0.35\"],\"y0s\":[87.0,87.0,126.0,150.0],\"y1s\":[98.25,87.0,150.0,150.0]}},\"id\":\"8ac1efe8-6fb1-4915-87ba-5e13c1fefa18\",\"type\":\"ColumnDataSource\"},{\"attributes\":{\"callback\":null,\"column_names\":[\"color\",\"height\",\"fill_alpha\",\"line_alpha\",\"label\",\"width\",\"line_color\",\"y\",\"x\"],\"data\":{\"chart_index\":[{\"kind\":\"running\"}],\"color\":[\"#5ab738\"],\"fill_alpha\":[0.8],\"height\":[16.0],\"kind\":[\"running\"],\"label\":[{\"kind\":\"running\"}],\"line_alpha\":[1.0],\"line_color\":[\"black\"],\"width\":[0.8],\"x\":[\"running\"],\"y\":[118.0]}},\"id\":\"594f12e6-a726-474f-a15b-601af896ecbc\",\"type\":\"ColumnDataSource\"},{\"attributes\":{\"callback\":null,\"column_names\":[\"color\",\"height\",\"fill_alpha\",\"line_alpha\",\"label\",\"width\",\"line_color\",\"y\",\"x\"],\"data\":{\"chart_index\":[{\"kind\":\"rest\"}],\"color\":[\"#f22c40\"],\"fill_alpha\":[0.8],\"height\":[4.25],\"kind\":[\"rest\"],\"label\":[{\"kind\":\"rest\"}],\"line_alpha\":[1.0],\"line_color\":[\"black\"],\"width\":[0.8],\"x\":[\"rest\"],\"y\":[93.625]}},\"id\":\"883d8da1-f842-4d02-b663-30995f7be487\",\"type\":\"ColumnDataSource\"},{\"attributes\":{\"data_source\":{\"id\":\"883d8da1-f842-4d02-b663-30995f7be487\",\"type\":\"ColumnDataSource\"},\"glyph\":{\"id\":\"3f2b4e01-9adc-42c4-b49f-d3b670e25f7b\",\"type\":\"Rect\"},\"hover_glyph\":null,\"nonselection_glyph\":null,\"selection_glyph\":null},\"id\":\"3cdf3600-f73c-4ffc-aca3-7c96b842e7ca\",\"type\":\"GlyphRenderer\"},{\"attributes\":{\"plot\":null,\"text\":\"Pulse in BPM, grouped by exercise type\"},\"id\":\"90783e8a-765b-44db-9c14-01e25472de22\",\"type\":\"Title\"},{\"attributes\":{\"active_drag\":\"auto\",\"active_scroll\":\"auto\",\"active_tap\":\"auto\",\"tools\":[{\"id\":\"e932a2fc-c955-41ce-9372-bc55308e507e\",\"type\":\"PanTool\"},{\"id\":\"5dbbdae0-013f-4065-9e67-c205ba91afde\",\"type\":\"WheelZoomTool\"},{\"id\":\"3fc4d0f5-6f1d-4e96-af92-b77f8767a8e4\",\"type\":\"BoxZoomTool\"},{\"id\":\"8f300715-4643-4eac-8e69-a786d37bf3a7\",\"type\":\"SaveTool\"},{\"id\":\"afd40428-70fc-4508-b2d4-b1d384a95aa9\",\"type\":\"ResetTool\"},{\"id\":\"be4e7734-0df7-482c-a9cf-643e370fd992\",\"type\":\"HelpTool\"}]},\"id\":\"c5d53ed6-2517-4485-b4a7-2dfd0ff9b958\",\"type\":\"Toolbar\"},{\"attributes\":{},\"id\":\"ac800ba6-d1f4-4d5d-a72b-84b3076df054\",\"type\":\"CategoricalTickFormatter\"},{\"attributes\":{},\"id\":\"665550fc-ff68-4d4e-af46-f7067c800c44\",\"type\":\"BasicTicker\"},{\"attributes\":{\"callback\":null,\"end\":161.5},\"id\":\"796a7fed-6466-41c5-809c-a125cc9c6588\",\"type\":\"Range1d\"},{\"attributes\":{\"dimension\":1,\"plot\":{\"id\":\"54a80b69-8d33-4404-a51d-ee7a9420271e\",\"subtype\":\"Chart\",\"type\":\"Plot\"},\"ticker\":{\"id\":\"665550fc-ff68-4d4e-af46-f7067c800c44\",\"type\":\"BasicTicker\"}},\"id\":\"8df60c76-429e-4452-903a-20b92c90b359\",\"type\":\"Grid\"},{\"attributes\":{\"line_width\":{\"value\":2},\"x0\":{\"field\":\"x0s\"},\"x1\":{\"field\":\"x1s\"},\"y0\":{\"field\":\"y0s\"},\"y1\":{\"field\":\"y1s\"}},\"id\":\"3448514a-25b2-4e7e-a1db-86ee4fcfa2c0\",\"type\":\"Segment\"},{\"attributes\":{\"label\":{\"value\":\"running\"},\"renderers\":[{\"id\":\"66a8d808-b97d-401d-88ea-197667283076\",\"type\":\"GlyphRenderer\"},{\"id\":\"b910b45c-6223-47bd-a4ec-b26ccf588844\",\"type\":\"GlyphRenderer\"},{\"id\":\"e1c45e11-9963-40e5-a8a0-36f03f6db419\",\"type\":\"GlyphRenderer\"}]},\"id\":\"b6ff2c3d-bd6b-4806-85ca-d439386a5417\",\"type\":\"LegendItem\"},{\"attributes\":{\"data_source\":{\"id\":\"594f12e6-a726-474f-a15b-601af896ecbc\",\"type\":\"ColumnDataSource\"},\"glyph\":{\"id\":\"0c620183-51e8-42f1-96ca-ca52c3bb27ef\",\"type\":\"Rect\"},\"hover_glyph\":null,\"nonselection_glyph\":null,\"selection_glyph\":null},\"id\":\"b910b45c-6223-47bd-a4ec-b26ccf588844\",\"type\":\"GlyphRenderer\"},{\"attributes\":{\"data_source\":{\"id\":\"46c0eb9b-becc-4442-8c6b-469183288b9d\",\"type\":\"ColumnDataSource\"},\"glyph\":{\"id\":\"0ce9bb56-f166-45b0-b6e1-363cd0c039d9\",\"type\":\"Segment\"},\"hover_glyph\":null,\"nonselection_glyph\":null,\"selection_glyph\":null},\"id\":\"c831862a-dee1-4d31-9ee8-52ea21145440\",\"type\":\"GlyphRenderer\"},{\"attributes\":{},\"id\":\"befe2e6f-2049-4212-baeb-25e06ac62a03\",\"type\":\"ToolEvents\"},{\"attributes\":{\"fill_alpha\":{\"field\":\"fill_alpha\"},\"fill_color\":{\"field\":\"color\"},\"height\":{\"field\":\"height\",\"units\":\"data\"},\"line_color\":{\"field\":\"line_color\"},\"width\":{\"field\":\"width\",\"units\":\"data\"},\"x\":{\"field\":\"x\"},\"y\":{\"field\":\"y\"}},\"id\":\"0c620183-51e8-42f1-96ca-ca52c3bb27ef\",\"type\":\"Rect\"},{\"attributes\":{\"below\":[{\"id\":\"0f28dcb6-6115-4882-a4ad-d47ba22e51f9\",\"type\":\"CategoricalAxis\"}],\"left\":[{\"id\":\"07842edb-9531-471e-99cf-2a5f4b79da23\",\"type\":\"LinearAxis\"}],\"renderers\":[{\"id\":\"1220cfb6-0c85-4f87-9c11-3aa3fe5c6ca3\",\"type\":\"BoxAnnotation\"},{\"id\":\"1444f322-253e-46c9-afb4-c8ed9c760ef4\",\"type\":\"GlyphRenderer\"},{\"id\":\"3cdf3600-f73c-4ffc-aca3-7c96b842e7ca\",\"type\":\"GlyphRenderer\"},{\"id\":\"83862c3c-6870-4fce-9d47-ca74e513b242\",\"type\":\"GlyphRenderer\"},{\"id\":\"ff8edbc1-d815-404f-a586-8dc8b5d8b949\",\"type\":\"GlyphRenderer\"},{\"id\":\"70b86766-9973-457a-aafd-768b2adde1a2\",\"type\":\"GlyphRenderer\"},{\"id\":\"c831862a-dee1-4d31-9ee8-52ea21145440\",\"type\":\"GlyphRenderer\"},{\"id\":\"66a8d808-b97d-401d-88ea-197667283076\",\"type\":\"GlyphRenderer\"},{\"id\":\"b910b45c-6223-47bd-a4ec-b26ccf588844\",\"type\":\"GlyphRenderer\"},{\"id\":\"e1c45e11-9963-40e5-a8a0-36f03f6db419\",\"type\":\"GlyphRenderer\"},{\"id\":\"d4e208e3-437b-402c-9c49-683c7225843d\",\"type\":\"Legend\"},{\"id\":\"0f28dcb6-6115-4882-a4ad-d47ba22e51f9\",\"type\":\"CategoricalAxis\"},{\"id\":\"07842edb-9531-471e-99cf-2a5f4b79da23\",\"type\":\"LinearAxis\"},{\"id\":\"8df60c76-429e-4452-903a-20b92c90b359\",\"type\":\"Grid\"}],\"title\":{\"id\":\"90783e8a-765b-44db-9c14-01e25472de22\",\"type\":\"Title\"},\"tool_events\":{\"id\":\"befe2e6f-2049-4212-baeb-25e06ac62a03\",\"type\":\"ToolEvents\"},\"toolbar\":{\"id\":\"c5d53ed6-2517-4485-b4a7-2dfd0ff9b958\",\"type\":\"Toolbar\"},\"x_mapper_type\":\"auto\",\"x_range\":{\"id\":\"b654b5da-e215-4831-adfb-3f06a85ad706\",\"type\":\"FactorRange\"},\"y_mapper_type\":\"auto\",\"y_range\":{\"id\":\"796a7fed-6466-41c5-809c-a125cc9c6588\",\"type\":\"Range1d\"}},\"id\":\"54a80b69-8d33-4404-a51d-ee7a9420271e\",\"subtype\":\"Chart\",\"type\":\"Plot\"},{\"attributes\":{\"line_width\":{\"value\":2},\"x0\":{\"field\":\"x0s\"},\"x1\":{\"field\":\"x1s\"},\"y0\":{\"field\":\"y0s\"},\"y1\":{\"field\":\"y1s\"}},\"id\":\"43176c47-611a-4234-b9fc-25bf93c91130\",\"type\":\"Segment\"},{\"attributes\":{\"callback\":null,\"column_names\":[\"color\",\"height\",\"fill_alpha\",\"line_alpha\",\"label\",\"width\",\"line_color\",\"y\",\"x\"],\"data\":{\"chart_index\":[{\"kind\":\"walking\"}],\"color\":[\"#407ee7\"],\"fill_alpha\":[0.8],\"height\":[5.5],\"kind\":[\"walking\"],\"label\":[{\"kind\":\"walking\"}],\"line_alpha\":[1.0],\"line_color\":[\"black\"],\"width\":[0.8],\"x\":[\"walking\"],\"y\":[92.75]}},\"id\":\"79a61814-70f0-4222-9ef4-349f96265a19\",\"type\":\"ColumnDataSource\"},{\"attributes\":{\"plot\":{\"id\":\"54a80b69-8d33-4404-a51d-ee7a9420271e\",\"subtype\":\"Chart\",\"type\":\"Plot\"}},\"id\":\"afd40428-70fc-4508-b2d4-b1d384a95aa9\",\"type\":\"ResetTool\"},{\"attributes\":{},\"id\":\"2f09201d-8768-4690-9ecf-fd218ea7b43a\",\"type\":\"BasicTickFormatter\"},{\"attributes\":{\"callback\":null,\"factors\":[\"rest\",\"running\",\"walking\"]},\"id\":\"b654b5da-e215-4831-adfb-3f06a85ad706\",\"type\":\"FactorRange\"},{\"attributes\":{\"items\":[{\"id\":\"7d57b513-c7f0-4158-a330-5a6213fddf92\",\"type\":\"LegendItem\"},{\"id\":\"7076b7dd-7151-46e5-8879-94eb90b9880a\",\"type\":\"LegendItem\"},{\"id\":\"b6ff2c3d-bd6b-4806-85ca-d439386a5417\",\"type\":\"LegendItem\"}],\"location\":\"top_left\",\"plot\":{\"id\":\"54a80b69-8d33-4404-a51d-ee7a9420271e\",\"subtype\":\"Chart\",\"type\":\"Plot\"}},\"id\":\"d4e208e3-437b-402c-9c49-683c7225843d\",\"type\":\"Legend\"},{\"attributes\":{\"data_source\":{\"id\":\"c51945df-9af7-4804-88a0-38f9e4aa2eea\",\"type\":\"ColumnDataSource\"},\"glyph\":{\"id\":\"04f5afae-5dab-4758-884f-01470c83d1dd\",\"type\":\"Rect\"},\"hover_glyph\":null,\"nonselection_glyph\":null,\"selection_glyph\":null},\"id\":\"70b86766-9973-457a-aafd-768b2adde1a2\",\"type\":\"GlyphRenderer\"},{\"attributes\":{\"fill_alpha\":{\"field\":\"fill_alpha\"},\"fill_color\":{\"field\":\"color\"},\"height\":{\"field\":\"height\",\"units\":\"data\"},\"line_color\":{\"field\":\"line_color\"},\"width\":{\"field\":\"width\",\"units\":\"data\"},\"x\":{\"field\":\"x\"},\"y\":{\"field\":\"y\"}},\"id\":\"69598606-7641-4bf3-b8d3-ac401ca80d1e\",\"type\":\"Rect\"},{\"attributes\":{\"data_source\":{\"id\":\"3b660abb-521b-4cd3-949a-31c0bda50cce\",\"type\":\"ColumnDataSource\"},\"glyph\":{\"id\":\"3448514a-25b2-4e7e-a1db-86ee4fcfa2c0\",\"type\":\"Segment\"},\"hover_glyph\":null,\"nonselection_glyph\":null,\"selection_glyph\":null},\"id\":\"83862c3c-6870-4fce-9d47-ca74e513b242\",\"type\":\"GlyphRenderer\"},{\"attributes\":{\"axis_label\":\"Pulse\",\"formatter\":{\"id\":\"2f09201d-8768-4690-9ecf-fd218ea7b43a\",\"type\":\"BasicTickFormatter\"},\"plot\":{\"id\":\"54a80b69-8d33-4404-a51d-ee7a9420271e\",\"subtype\":\"Chart\",\"type\":\"Plot\"},\"ticker\":{\"id\":\"665550fc-ff68-4d4e-af46-f7067c800c44\",\"type\":\"BasicTicker\"}},\"id\":\"07842edb-9531-471e-99cf-2a5f4b79da23\",\"type\":\"LinearAxis\"},{\"attributes\":{\"data_source\":{\"id\":\"1fce46ec-623d-4ce1-ad3a-a901ceab91b6\",\"type\":\"ColumnDataSource\"},\"glyph\":{\"id\":\"cb94277d-ad14-4da8-b587-c6422519ddb8\",\"type\":\"Rect\"},\"hover_glyph\":null,\"nonselection_glyph\":null,\"selection_glyph\":null},\"id\":\"66a8d808-b97d-401d-88ea-197667283076\",\"type\":\"GlyphRenderer\"},{\"attributes\":{\"label\":{\"value\":\"rest\"},\"renderers\":[{\"id\":\"1444f322-253e-46c9-afb4-c8ed9c760ef4\",\"type\":\"GlyphRenderer\"},{\"id\":\"3cdf3600-f73c-4ffc-aca3-7c96b842e7ca\",\"type\":\"GlyphRenderer\"},{\"id\":\"83862c3c-6870-4fce-9d47-ca74e513b242\",\"type\":\"GlyphRenderer\"}]},\"id\":\"7d57b513-c7f0-4158-a330-5a6213fddf92\",\"type\":\"LegendItem\"},{\"attributes\":{\"fill_alpha\":{\"field\":\"fill_alpha\"},\"fill_color\":{\"field\":\"color\"},\"height\":{\"field\":\"height\",\"units\":\"data\"},\"line_color\":{\"field\":\"line_color\"},\"width\":{\"field\":\"width\",\"units\":\"data\"},\"x\":{\"field\":\"x\"},\"y\":{\"field\":\"y\"}},\"id\":\"cb94277d-ad14-4da8-b587-c6422519ddb8\",\"type\":\"Rect\"},{\"attributes\":{},\"id\":\"c631b1d7-bbf6-44b1-8f2f-061acf4f6d79\",\"type\":\"CategoricalTicker\"},{\"attributes\":{\"fill_alpha\":{\"field\":\"fill_alpha\"},\"fill_color\":{\"field\":\"color\"},\"height\":{\"field\":\"height\",\"units\":\"data\"},\"line_color\":{\"field\":\"line_color\"},\"width\":{\"field\":\"width\",\"units\":\"data\"},\"x\":{\"field\":\"x\"},\"y\":{\"field\":\"y\"}},\"id\":\"3f2b4e01-9adc-42c4-b49f-d3b670e25f7b\",\"type\":\"Rect\"},{\"attributes\":{\"callback\":null,\"column_names\":[\"x0s\",\"x1s\",\"y1s\",\"y0s\"],\"data\":{\"chart_index\":[{\"kind\":\"walking\"},{\"kind\":\"walking\"},{\"kind\":\"walking\"},{\"kind\":\"walking\"}],\"kind\":[\"walking\",\"walking\",\"walking\",\"walking\"],\"x0s\":[\"walking:0.5\",\"walking:0.65\",\"walking:0.5\",\"walking:0.65\"],\"x1s\":[\"walking:0.5\",\"walking:0.35\",\"walking:0.5\",\"walking:0.35\"],\"y0s\":[84.0,84.0,100.75,109.0],\"y1s\":[90.0,84.0,109.0,109.0]}},\"id\":\"46c0eb9b-becc-4442-8c6b-469183288b9d\",\"type\":\"ColumnDataSource\"},{\"attributes\":{\"fill_alpha\":{\"field\":\"fill_alpha\"},\"fill_color\":{\"field\":\"color\"},\"height\":{\"field\":\"height\",\"units\":\"data\"},\"line_color\":{\"field\":\"line_color\"},\"width\":{\"field\":\"width\",\"units\":\"data\"},\"x\":{\"field\":\"x\"},\"y\":{\"field\":\"y\"}},\"id\":\"03a12aa7-379c-4b76-811f-24647a5ebc7a\",\"type\":\"Rect\"},{\"attributes\":{\"callback\":null,\"column_names\":[\"color\",\"height\",\"fill_alpha\",\"line_alpha\",\"label\",\"width\",\"line_color\",\"y\",\"x\"],\"data\":{\"chart_index\":[{\"kind\":\"rest\"}],\"color\":[\"#f22c40\"],\"fill_alpha\":[0.8],\"height\":[6.0],\"kind\":[\"rest\"],\"label\":[{\"kind\":\"rest\"}],\"line_alpha\":[1.0],\"line_color\":[\"black\"],\"width\":[0.8],\"x\":[\"rest\"],\"y\":[88.5]}},\"id\":\"dc9ecc39-1778-4b68-b90c-2010f22175b8\",\"type\":\"ColumnDataSource\"},{\"attributes\":{\"axis_label\":\"Kind\",\"formatter\":{\"id\":\"ac800ba6-d1f4-4d5d-a72b-84b3076df054\",\"type\":\"CategoricalTickFormatter\"},\"major_label_orientation\":0.7853981633974483,\"plot\":{\"id\":\"54a80b69-8d33-4404-a51d-ee7a9420271e\",\"subtype\":\"Chart\",\"type\":\"Plot\"},\"ticker\":{\"id\":\"c631b1d7-bbf6-44b1-8f2f-061acf4f6d79\",\"type\":\"CategoricalTicker\"}},\"id\":\"0f28dcb6-6115-4882-a4ad-d47ba22e51f9\",\"type\":\"CategoricalAxis\"},{\"attributes\":{\"callback\":null,\"column_names\":[\"x0s\",\"x1s\",\"y1s\",\"y0s\"],\"data\":{\"chart_index\":[{\"kind\":\"rest\"},{\"kind\":\"rest\"},{\"kind\":\"rest\"},{\"kind\":\"rest\"}],\"kind\":[\"rest\",\"rest\",\"rest\",\"rest\"],\"x0s\":[\"rest:0.5\",\"rest:0.65\",\"rest:0.5\",\"rest:0.65\"],\"x1s\":[\"rest:0.5\",\"rest:0.35\",\"rest:0.5\",\"rest:0.35\"],\"y0s\":[80.0,80.0,95.75,100.0],\"y1s\":[85.5,80.0,100.0,100.0]}},\"id\":\"3b660abb-521b-4cd3-949a-31c0bda50cce\",\"type\":\"ColumnDataSource\"}],\"root_ids\":[\"54a80b69-8d33-4404-a51d-ee7a9420271e\"]},\"title\":\"Bokeh Application\",\"version\":\"0.12.3\"}};\n",
       "            var render_items = [{\"docid\":\"6894108b-0303-40e9-b8ae-7712e958eda4\",\"elementid\":\"ca46f176-2a13-40b9-b8d4-b9f82c691144\",\"modelid\":\"54a80b69-8d33-4404-a51d-ee7a9420271e\"}];\n",
       "            \n",
       "            Bokeh.embed.embed_items(docs_json, render_items);\n",
       "        });\n",
       "      },\n",
       "      function(Bokeh) {\n",
       "      }\n",
       "    ];\n",
       "  \n",
       "    function run_inline_js() {\n",
       "      \n",
       "      if ((window.Bokeh !== undefined) || (force === \"1\")) {\n",
       "        for (var i = 0; i < inline_js.length; i++) {\n",
       "          inline_js[i](window.Bokeh);\n",
       "        }if (force === \"1\") {\n",
       "          display_loaded();\n",
       "        }} else if (Date.now() < window._bokeh_timeout) {\n",
       "        setTimeout(run_inline_js, 100);\n",
       "      } else if (!window._bokeh_failed_load) {\n",
       "        console.log(\"Bokeh: BokehJS failed to load within specified timeout.\");\n",
       "        window._bokeh_failed_load = true;\n",
       "      } else if (!force) {\n",
       "        var cell = $(\"#ca46f176-2a13-40b9-b8d4-b9f82c691144\").parents('.cell').data().cell;\n",
       "        cell.output_area.append_execute_result(NB_LOAD_WARNING)\n",
       "      }\n",
       "  \n",
       "    }\n",
       "  \n",
       "    if (window._bokeh_is_loading === 0) {\n",
       "      console.log(\"Bokeh: BokehJS loaded, going straight to plotting\");\n",
       "      run_inline_js();\n",
       "    } else {\n",
       "      load_libs(js_urls, function() {\n",
       "        console.log(\"Bokeh: BokehJS plotting callback run at\", now());\n",
       "        run_inline_js();\n",
       "      });\n",
       "    }\n",
       "  }(this));\n",
       "</script>"
      ]
     },
     "metadata": {},
     "output_type": "display_data"
    }
   ],
   "source": [
    "p = bkc.BoxPlot(exercise, values='pulse', label='kind', color='kind', \n",
    "                title='Pulse in BPM, grouped by exercise type')\n",
    "bkc.show(p)"
   ]
  },
  {
   "cell_type": "markdown",
   "metadata": {
    "nbpresent": {
     "id": "f726fee4-70dc-47dc-9f75-c5f8f478ec51"
    }
   },
   "source": [
    "It's easy to group by a column and to produce a self-contained HTML file that packages the required data."
   ]
  },
  {
   "cell_type": "code",
   "execution_count": 3,
   "metadata": {
    "collapsed": false,
    "nbpresent": {
     "id": "4beece3c-3a23-4f90-9750-d90a87c5e73b"
    }
   },
   "outputs": [
    {
     "data": {
      "text/html": [
       "\n",
       "\n",
       "    <div class=\"bk-root\">\n",
       "        <div class=\"plotdiv\" id=\"c09b468d-f621-4c89-8231-551125fd7f8d\"></div>\n",
       "    </div>\n",
       "<script type=\"text/javascript\">\n",
       "  \n",
       "  (function(global) {\n",
       "    function now() {\n",
       "      return new Date();\n",
       "    }\n",
       "  \n",
       "    var force = \"\";\n",
       "  \n",
       "    if (typeof (window._bokeh_onload_callbacks) === \"undefined\" || force !== \"\") {\n",
       "      window._bokeh_onload_callbacks = [];\n",
       "      window._bokeh_is_loading = undefined;\n",
       "    }\n",
       "  \n",
       "  \n",
       "    \n",
       "    if (typeof (window._bokeh_timeout) === \"undefined\" || force !== \"\") {\n",
       "      window._bokeh_timeout = Date.now() + 0;\n",
       "      window._bokeh_failed_load = false;\n",
       "    }\n",
       "  \n",
       "    var NB_LOAD_WARNING = {'data': {'text/html':\n",
       "       \"<div style='background-color: #fdd'>\\n\"+\n",
       "       \"<p>\\n\"+\n",
       "       \"BokehJS does not appear to have successfully loaded. If loading BokehJS from CDN, this \\n\"+\n",
       "       \"may be due to a slow or bad network connection. Possible fixes:\\n\"+\n",
       "       \"</p>\\n\"+\n",
       "       \"<ul>\\n\"+\n",
       "       \"<li>re-rerun `output_notebook()` to attempt to load from CDN again, or</li>\\n\"+\n",
       "       \"<li>use INLINE resources instead, as so:</li>\\n\"+\n",
       "       \"</ul>\\n\"+\n",
       "       \"<code>\\n\"+\n",
       "       \"from bokeh.resources import INLINE\\n\"+\n",
       "       \"output_notebook(resources=INLINE)\\n\"+\n",
       "       \"</code>\\n\"+\n",
       "       \"</div>\"}};\n",
       "  \n",
       "    function display_loaded() {\n",
       "      if (window.Bokeh !== undefined) {\n",
       "        Bokeh.$(\"#c09b468d-f621-4c89-8231-551125fd7f8d\").text(\"BokehJS successfully loaded.\");\n",
       "      } else if (Date.now() < window._bokeh_timeout) {\n",
       "        setTimeout(display_loaded, 100)\n",
       "      }\n",
       "    }\n",
       "  \n",
       "    function run_callbacks() {\n",
       "      window._bokeh_onload_callbacks.forEach(function(callback) { callback() });\n",
       "      delete window._bokeh_onload_callbacks\n",
       "      console.info(\"Bokeh: all callbacks have finished\");\n",
       "    }\n",
       "  \n",
       "    function load_libs(js_urls, callback) {\n",
       "      window._bokeh_onload_callbacks.push(callback);\n",
       "      if (window._bokeh_is_loading > 0) {\n",
       "        console.log(\"Bokeh: BokehJS is being loaded, scheduling callback at\", now());\n",
       "        return null;\n",
       "      }\n",
       "      if (js_urls == null || js_urls.length === 0) {\n",
       "        run_callbacks();\n",
       "        return null;\n",
       "      }\n",
       "      console.log(\"Bokeh: BokehJS not loaded, scheduling load and callback at\", now());\n",
       "      window._bokeh_is_loading = js_urls.length;\n",
       "      for (var i = 0; i < js_urls.length; i++) {\n",
       "        var url = js_urls[i];\n",
       "        var s = document.createElement('script');\n",
       "        s.src = url;\n",
       "        s.async = false;\n",
       "        s.onreadystatechange = s.onload = function() {\n",
       "          window._bokeh_is_loading--;\n",
       "          if (window._bokeh_is_loading === 0) {\n",
       "            console.log(\"Bokeh: all BokehJS libraries loaded\");\n",
       "            run_callbacks()\n",
       "          }\n",
       "        };\n",
       "        s.onerror = function() {\n",
       "          console.warn(\"failed to load library \" + url);\n",
       "        };\n",
       "        console.log(\"Bokeh: injecting script tag for BokehJS library: \", url);\n",
       "        document.getElementsByTagName(\"head\")[0].appendChild(s);\n",
       "      }\n",
       "    };var element = document.getElementById(\"c09b468d-f621-4c89-8231-551125fd7f8d\");\n",
       "    if (element == null) {\n",
       "      console.log(\"Bokeh: ERROR: autoload.js configured with elementid 'c09b468d-f621-4c89-8231-551125fd7f8d' but no matching script tag was found. \")\n",
       "      return false;\n",
       "    }\n",
       "  \n",
       "    var js_urls = [];\n",
       "  \n",
       "    var inline_js = [\n",
       "      function(Bokeh) {\n",
       "        Bokeh.$(function() {\n",
       "            var docs_json = {\"0a47c8ef-affa-4dfe-b014-fbc6b09de221\":{\"roots\":{\"references\":[{\"attributes\":{\"fill_alpha\":{\"field\":\"fill_alpha\"},\"fill_color\":{\"field\":\"color\"},\"height\":{\"field\":\"height\",\"units\":\"data\"},\"line_color\":{\"field\":\"line_color\"},\"width\":{\"field\":\"width\",\"units\":\"data\"},\"x\":{\"field\":\"x\"},\"y\":{\"field\":\"y\"}},\"id\":\"2a1953ff-fecc-4120-ba8c-1c8fe21d4676\",\"type\":\"Rect\"},{\"attributes\":{\"callback\":null,\"column_names\":[\"color\",\"height\",\"fill_alpha\",\"line_alpha\",\"label\",\"width\",\"line_color\",\"y\",\"x\"],\"data\":{\"chart_index\":[{\"kind\":\"walking\",\"time\":\"1 min\"}],\"color\":[\"#f22c40\"],\"fill_alpha\":[0.8],\"height\":[92.5],\"kind\":[\"walking\"],\"label\":[{\"kind\":\"walking\",\"time\":\"1 min\"}],\"line_alpha\":[1.0],\"line_color\":[\"white\"],\"time\":[\"1 min\"],\"width\":[0.2],\"x\":[\"walking:0.25\"],\"y\":[46.25]}},\"id\":\"088dc6d1-a3c5-4d04-9136-712f327d8283\",\"type\":\"ColumnDataSource\"},{\"attributes\":{\"callback\":null,\"column_names\":[\"color\",\"height\",\"fill_alpha\",\"line_alpha\",\"label\",\"width\",\"line_color\",\"y\",\"x\"],\"data\":{\"chart_index\":[{\"kind\":\"rest\",\"time\":\"15 min\"}],\"color\":[\"#5ab738\"],\"fill_alpha\":[0.8],\"height\":[92.0],\"kind\":[\"rest\"],\"label\":[{\"kind\":\"rest\",\"time\":\"15 min\"}],\"line_alpha\":[1.0],\"line_color\":[\"white\"],\"time\":[\"15 min\"],\"width\":[0.2],\"x\":[\"rest:0.5\"],\"y\":[46.0]}},\"id\":\"33ae59af-913a-4346-bb60-af983b0c8c99\",\"type\":\"ColumnDataSource\"},{\"attributes\":{\"callback\":null,\"column_names\":[\"color\",\"height\",\"fill_alpha\",\"line_alpha\",\"label\",\"width\",\"line_color\",\"y\",\"x\"],\"data\":{\"chart_index\":[{\"kind\":\"running\",\"time\":\"15 min\"}],\"color\":[\"#5ab738\"],\"fill_alpha\":[0.8],\"height\":[117.5],\"kind\":[\"running\"],\"label\":[{\"kind\":\"running\",\"time\":\"15 min\"}],\"line_alpha\":[1.0],\"line_color\":[\"white\"],\"time\":[\"15 min\"],\"width\":[0.2],\"x\":[\"running:0.5\"],\"y\":[58.75]}},\"id\":\"52fbf4e0-a7e5-4d4b-9e20-cdd4028a66ee\",\"type\":\"ColumnDataSource\"},{\"attributes\":{\"callback\":null,\"column_names\":[\"color\",\"height\",\"fill_alpha\",\"line_alpha\",\"label\",\"width\",\"line_color\",\"y\",\"x\"],\"data\":{\"chart_index\":[{\"kind\":\"walking\",\"time\":\"15 min\"}],\"color\":[\"#5ab738\"],\"fill_alpha\":[0.8],\"height\":[96.0],\"kind\":[\"walking\"],\"label\":[{\"kind\":\"walking\",\"time\":\"15 min\"}],\"line_alpha\":[1.0],\"line_color\":[\"white\"],\"time\":[\"15 min\"],\"width\":[0.2],\"x\":[\"walking:0.5\"],\"y\":[48.0]}},\"id\":\"034a523d-772c-48b0-96ae-fb58b3e2f3b2\",\"type\":\"ColumnDataSource\"},{\"attributes\":{\"bottom_units\":\"screen\",\"fill_alpha\":{\"value\":0.5},\"fill_color\":{\"value\":\"lightgrey\"},\"left_units\":\"screen\",\"level\":\"overlay\",\"line_alpha\":{\"value\":1.0},\"line_color\":{\"value\":\"black\"},\"line_dash\":[4,4],\"line_width\":{\"value\":2},\"plot\":null,\"render_mode\":\"css\",\"right_units\":\"screen\",\"top_units\":\"screen\"},\"id\":\"2e2b5936-f579-4f52-8bfb-cf01e18a34e1\",\"type\":\"BoxAnnotation\"},{\"attributes\":{\"active_drag\":\"auto\",\"active_scroll\":\"auto\",\"active_tap\":\"auto\",\"tools\":[{\"id\":\"c2836fec-9d49-4142-9df2-50a2f915a2d5\",\"type\":\"PanTool\"},{\"id\":\"49136d3c-3d50-494b-8512-dd756f6d2e52\",\"type\":\"WheelZoomTool\"},{\"id\":\"615cf405-de35-40f6-8ea2-274fee369398\",\"type\":\"BoxZoomTool\"},{\"id\":\"911b0092-79c4-4d45-9aa9-be90f88b1453\",\"type\":\"SaveTool\"},{\"id\":\"28aaa108-c771-424c-a890-bc5861135c24\",\"type\":\"ResetTool\"},{\"id\":\"2614bb05-df22-44ce-8588-244e0afbdc81\",\"type\":\"HelpTool\"}]},\"id\":\"0028fb81-cad7-4889-96e9-86fc3762dfbb\",\"type\":\"Toolbar\"},{\"attributes\":{},\"id\":\"24f47218-d4b0-4084-a927-ca1c600f1be3\",\"type\":\"BasicTicker\"},{\"attributes\":{\"label\":{\"value\":\"15 min\"},\"renderers\":[{\"id\":\"c7ba72af-ad60-4348-842a-6479de12d6b5\",\"type\":\"GlyphRenderer\"}]},\"id\":\"a62fa374-d03f-4a9b-bedd-f9db3050c074\",\"type\":\"LegendItem\"},{\"attributes\":{\"callback\":null,\"column_names\":[\"color\",\"height\",\"fill_alpha\",\"line_alpha\",\"label\",\"width\",\"line_color\",\"y\",\"x\"],\"data\":{\"chart_index\":[{\"kind\":\"rest\",\"time\":\"1 min\"}],\"color\":[\"#f22c40\"],\"fill_alpha\":[0.8],\"height\":[90.5],\"kind\":[\"rest\"],\"label\":[{\"kind\":\"rest\",\"time\":\"1 min\"}],\"line_alpha\":[1.0],\"line_color\":[\"white\"],\"time\":[\"1 min\"],\"width\":[0.2],\"x\":[\"rest:0.25\"],\"y\":[45.25]}},\"id\":\"25b20df7-74d1-476e-9361-d50fa668d669\",\"type\":\"ColumnDataSource\"},{\"attributes\":{\"data_source\":{\"id\":\"034a523d-772c-48b0-96ae-fb58b3e2f3b2\",\"type\":\"ColumnDataSource\"},\"glyph\":{\"id\":\"2a1953ff-fecc-4120-ba8c-1c8fe21d4676\",\"type\":\"Rect\"},\"hover_glyph\":null,\"nonselection_glyph\":null,\"selection_glyph\":null},\"id\":\"76966121-7e15-43c2-9dde-95b926993a2d\",\"type\":\"GlyphRenderer\"},{\"attributes\":{\"callback\":null,\"column_names\":[\"color\",\"height\",\"fill_alpha\",\"line_alpha\",\"label\",\"width\",\"line_color\",\"y\",\"x\"],\"data\":{\"chart_index\":[{\"kind\":\"running\",\"time\":\"30 min\"}],\"color\":[\"#407ee7\"],\"fill_alpha\":[0.8],\"height\":[125.0],\"kind\":[\"running\"],\"label\":[{\"kind\":\"running\",\"time\":\"30 min\"}],\"line_alpha\":[1.0],\"line_color\":[\"white\"],\"time\":[\"30 min\"],\"width\":[0.2],\"x\":[\"running:0.75\"],\"y\":[62.5]}},\"id\":\"5f3b0efb-a125-4a06-ae40-474df2ac557f\",\"type\":\"ColumnDataSource\"},{\"attributes\":{\"plot\":{\"id\":\"2b0cc89e-e515-4837-924d-adc0320f2e12\",\"subtype\":\"Chart\",\"type\":\"Plot\"}},\"id\":\"28aaa108-c771-424c-a890-bc5861135c24\",\"type\":\"ResetTool\"},{\"attributes\":{},\"id\":\"73fea90a-1739-48db-a2f6-cf7119c76769\",\"type\":\"CategoricalTickFormatter\"},{\"attributes\":{},\"id\":\"34f363e2-da18-4f0f-94ac-e445a5c7476d\",\"type\":\"BasicTickFormatter\"},{\"attributes\":{\"callback\":null,\"end\":131.25},\"id\":\"40321c68-738e-4018-9655-40c16814e69f\",\"type\":\"Range1d\"},{\"attributes\":{\"plot\":{\"id\":\"2b0cc89e-e515-4837-924d-adc0320f2e12\",\"subtype\":\"Chart\",\"type\":\"Plot\"}},\"id\":\"911b0092-79c4-4d45-9aa9-be90f88b1453\",\"type\":\"SaveTool\"},{\"attributes\":{\"fill_alpha\":{\"field\":\"fill_alpha\"},\"fill_color\":{\"field\":\"color\"},\"height\":{\"field\":\"height\",\"units\":\"data\"},\"line_color\":{\"field\":\"line_color\"},\"width\":{\"field\":\"width\",\"units\":\"data\"},\"x\":{\"field\":\"x\"},\"y\":{\"field\":\"y\"}},\"id\":\"b0ea29c7-daf3-4ec6-adf6-90adf44e69d4\",\"type\":\"Rect\"},{\"attributes\":{\"data_source\":{\"id\":\"3aed1b4e-f38c-4605-bb5b-b2c76c6d9271\",\"type\":\"ColumnDataSource\"},\"glyph\":{\"id\":\"6af4c046-241c-4a66-a711-4e6f31f581fc\",\"type\":\"Rect\"},\"hover_glyph\":null,\"nonselection_glyph\":null,\"selection_glyph\":null},\"id\":\"644e7fd2-c8d4-4e73-9aed-eed85cffb009\",\"type\":\"GlyphRenderer\"},{\"attributes\":{\"fill_alpha\":{\"field\":\"fill_alpha\"},\"fill_color\":{\"field\":\"color\"},\"height\":{\"field\":\"height\",\"units\":\"data\"},\"line_color\":{\"field\":\"line_color\"},\"width\":{\"field\":\"width\",\"units\":\"data\"},\"x\":{\"field\":\"x\"},\"y\":{\"field\":\"y\"}},\"id\":\"4f6e56a2-08b3-4f24-99c4-2fa50e75a17f\",\"type\":\"Rect\"},{\"attributes\":{\"callback\":null,\"column_names\":[\"color\",\"height\",\"fill_alpha\",\"line_alpha\",\"label\",\"width\",\"line_color\",\"y\",\"x\"],\"data\":{\"chart_index\":[{\"kind\":\"rest\",\"time\":\"30 min\"}],\"color\":[\"#407ee7\"],\"fill_alpha\":[0.8],\"height\":[92.0],\"kind\":[\"rest\"],\"label\":[{\"kind\":\"rest\",\"time\":\"30 min\"}],\"line_alpha\":[1.0],\"line_color\":[\"white\"],\"time\":[\"30 min\"],\"width\":[0.2],\"x\":[\"rest:0.75\"],\"y\":[46.0]}},\"id\":\"3aed1b4e-f38c-4605-bb5b-b2c76c6d9271\",\"type\":\"ColumnDataSource\"},{\"attributes\":{\"dimension\":1,\"plot\":{\"id\":\"2b0cc89e-e515-4837-924d-adc0320f2e12\",\"subtype\":\"Chart\",\"type\":\"Plot\"},\"ticker\":{\"id\":\"24f47218-d4b0-4084-a927-ca1c600f1be3\",\"type\":\"BasicTicker\"}},\"id\":\"f8e13a30-e9cc-4f20-9616-8b77fdb1716c\",\"type\":\"Grid\"},{\"attributes\":{\"axis_label\":\"Median( Pulse )\",\"formatter\":{\"id\":\"34f363e2-da18-4f0f-94ac-e445a5c7476d\",\"type\":\"BasicTickFormatter\"},\"plot\":{\"id\":\"2b0cc89e-e515-4837-924d-adc0320f2e12\",\"subtype\":\"Chart\",\"type\":\"Plot\"},\"ticker\":{\"id\":\"24f47218-d4b0-4084-a927-ca1c600f1be3\",\"type\":\"BasicTicker\"}},\"id\":\"5d9f098b-e9c8-40a0-8a3f-a5f790c85420\",\"type\":\"LinearAxis\"},{\"attributes\":{},\"id\":\"cebd1121-79d2-44a7-a361-1e232c99498d\",\"type\":\"CategoricalTicker\"},{\"attributes\":{\"data_source\":{\"id\":\"b1ee5c13-b1b8-4919-9fbe-a3e533f04593\",\"type\":\"ColumnDataSource\"},\"glyph\":{\"id\":\"81bf7a43-7c42-4da1-97ee-3870c5000563\",\"type\":\"Rect\"},\"hover_glyph\":null,\"nonselection_glyph\":null,\"selection_glyph\":null},\"id\":\"cea5cd2a-730b-479f-9392-064d33fecbfd\",\"type\":\"GlyphRenderer\"},{\"attributes\":{\"callback\":null,\"column_names\":[\"color\",\"height\",\"fill_alpha\",\"line_alpha\",\"label\",\"width\",\"line_color\",\"y\",\"x\"],\"data\":{\"chart_index\":[{\"kind\":\"walking\",\"time\":\"30 min\"}],\"color\":[\"#407ee7\"],\"fill_alpha\":[0.8],\"height\":[97.5],\"kind\":[\"walking\"],\"label\":[{\"kind\":\"walking\",\"time\":\"30 min\"}],\"line_alpha\":[1.0],\"line_color\":[\"white\"],\"time\":[\"30 min\"],\"width\":[0.2],\"x\":[\"walking:0.75\"],\"y\":[48.75]}},\"id\":\"f8026098-0576-4f79-9698-8f1472a86fdf\",\"type\":\"ColumnDataSource\"},{\"attributes\":{\"axis_label\":\"Kind\",\"formatter\":{\"id\":\"73fea90a-1739-48db-a2f6-cf7119c76769\",\"type\":\"CategoricalTickFormatter\"},\"major_label_orientation\":0.7853981633974483,\"plot\":{\"id\":\"2b0cc89e-e515-4837-924d-adc0320f2e12\",\"subtype\":\"Chart\",\"type\":\"Plot\"},\"ticker\":{\"id\":\"cebd1121-79d2-44a7-a361-1e232c99498d\",\"type\":\"CategoricalTicker\"}},\"id\":\"b1550d07-1b59-4069-8556-2f58a0a7ed2c\",\"type\":\"CategoricalAxis\"},{\"attributes\":{\"below\":[{\"id\":\"b1550d07-1b59-4069-8556-2f58a0a7ed2c\",\"type\":\"CategoricalAxis\"}],\"left\":[{\"id\":\"5d9f098b-e9c8-40a0-8a3f-a5f790c85420\",\"type\":\"LinearAxis\"}],\"renderers\":[{\"id\":\"2e2b5936-f579-4f52-8bfb-cf01e18a34e1\",\"type\":\"BoxAnnotation\"},{\"id\":\"1651a0a0-e9d9-42c8-8710-f3eecf829a70\",\"type\":\"GlyphRenderer\"},{\"id\":\"c7ba72af-ad60-4348-842a-6479de12d6b5\",\"type\":\"GlyphRenderer\"},{\"id\":\"644e7fd2-c8d4-4e73-9aed-eed85cffb009\",\"type\":\"GlyphRenderer\"},{\"id\":\"61793f06-63fc-49cc-bc9f-4443278a7307\",\"type\":\"GlyphRenderer\"},{\"id\":\"76966121-7e15-43c2-9dde-95b926993a2d\",\"type\":\"GlyphRenderer\"},{\"id\":\"48edb49f-d8bf-4655-98bd-1aaa797e8866\",\"type\":\"GlyphRenderer\"},{\"id\":\"cea5cd2a-730b-479f-9392-064d33fecbfd\",\"type\":\"GlyphRenderer\"},{\"id\":\"aa5e312c-0959-4828-9270-f15338d8164a\",\"type\":\"GlyphRenderer\"},{\"id\":\"8f596429-c980-4040-b41c-e43cc8dc2a64\",\"type\":\"GlyphRenderer\"},{\"id\":\"62180424-aed8-4468-be99-6740d797c99e\",\"type\":\"Legend\"},{\"id\":\"b1550d07-1b59-4069-8556-2f58a0a7ed2c\",\"type\":\"CategoricalAxis\"},{\"id\":\"5d9f098b-e9c8-40a0-8a3f-a5f790c85420\",\"type\":\"LinearAxis\"},{\"id\":\"f8e13a30-e9cc-4f20-9616-8b77fdb1716c\",\"type\":\"Grid\"}],\"title\":{\"id\":\"13fc1a4c-7ab4-4148-9a87-a3de4cf9da52\",\"type\":\"Title\"},\"tool_events\":{\"id\":\"051d42d9-750b-4e4c-a485-4a8e6b19e169\",\"type\":\"ToolEvents\"},\"toolbar\":{\"id\":\"0028fb81-cad7-4889-96e9-86fc3762dfbb\",\"type\":\"Toolbar\"},\"x_mapper_type\":\"auto\",\"x_range\":{\"id\":\"eef24e3f-5dd6-4c1e-88e8-7daacf89617c\",\"type\":\"FactorRange\"},\"y_mapper_type\":\"auto\",\"y_range\":{\"id\":\"40321c68-738e-4018-9655-40c16814e69f\",\"type\":\"Range1d\"}},\"id\":\"2b0cc89e-e515-4837-924d-adc0320f2e12\",\"subtype\":\"Chart\",\"type\":\"Plot\"},{\"attributes\":{\"overlay\":{\"id\":\"2e2b5936-f579-4f52-8bfb-cf01e18a34e1\",\"type\":\"BoxAnnotation\"},\"plot\":{\"id\":\"2b0cc89e-e515-4837-924d-adc0320f2e12\",\"subtype\":\"Chart\",\"type\":\"Plot\"}},\"id\":\"615cf405-de35-40f6-8ea2-274fee369398\",\"type\":\"BoxZoomTool\"},{\"attributes\":{\"fill_alpha\":{\"field\":\"fill_alpha\"},\"fill_color\":{\"field\":\"color\"},\"height\":{\"field\":\"height\",\"units\":\"data\"},\"line_color\":{\"field\":\"line_color\"},\"width\":{\"field\":\"width\",\"units\":\"data\"},\"x\":{\"field\":\"x\"},\"y\":{\"field\":\"y\"}},\"id\":\"6af4c046-241c-4a66-a711-4e6f31f581fc\",\"type\":\"Rect\"},{\"attributes\":{\"plot\":{\"id\":\"2b0cc89e-e515-4837-924d-adc0320f2e12\",\"subtype\":\"Chart\",\"type\":\"Plot\"}},\"id\":\"2614bb05-df22-44ce-8588-244e0afbdc81\",\"type\":\"HelpTool\"},{\"attributes\":{\"fill_alpha\":{\"field\":\"fill_alpha\"},\"fill_color\":{\"field\":\"color\"},\"height\":{\"field\":\"height\",\"units\":\"data\"},\"line_color\":{\"field\":\"line_color\"},\"width\":{\"field\":\"width\",\"units\":\"data\"},\"x\":{\"field\":\"x\"},\"y\":{\"field\":\"y\"}},\"id\":\"81bf7a43-7c42-4da1-97ee-3870c5000563\",\"type\":\"Rect\"},{\"attributes\":{\"plot\":{\"id\":\"2b0cc89e-e515-4837-924d-adc0320f2e12\",\"subtype\":\"Chart\",\"type\":\"Plot\"}},\"id\":\"c2836fec-9d49-4142-9df2-50a2f915a2d5\",\"type\":\"PanTool\"},{\"attributes\":{\"data_source\":{\"id\":\"f8026098-0576-4f79-9698-8f1472a86fdf\",\"type\":\"ColumnDataSource\"},\"glyph\":{\"id\":\"b0ea29c7-daf3-4ec6-adf6-90adf44e69d4\",\"type\":\"Rect\"},\"hover_glyph\":null,\"nonselection_glyph\":null,\"selection_glyph\":null},\"id\":\"48edb49f-d8bf-4655-98bd-1aaa797e8866\",\"type\":\"GlyphRenderer\"},{\"attributes\":{\"data_source\":{\"id\":\"33ae59af-913a-4346-bb60-af983b0c8c99\",\"type\":\"ColumnDataSource\"},\"glyph\":{\"id\":\"13f38d10-9046-4cd1-932c-b12688f07899\",\"type\":\"Rect\"},\"hover_glyph\":null,\"nonselection_glyph\":null,\"selection_glyph\":null},\"id\":\"c7ba72af-ad60-4348-842a-6479de12d6b5\",\"type\":\"GlyphRenderer\"},{\"attributes\":{\"data_source\":{\"id\":\"25b20df7-74d1-476e-9361-d50fa668d669\",\"type\":\"ColumnDataSource\"},\"glyph\":{\"id\":\"4f6e56a2-08b3-4f24-99c4-2fa50e75a17f\",\"type\":\"Rect\"},\"hover_glyph\":null,\"nonselection_glyph\":null,\"selection_glyph\":null},\"id\":\"1651a0a0-e9d9-42c8-8710-f3eecf829a70\",\"type\":\"GlyphRenderer\"},{\"attributes\":{\"data_source\":{\"id\":\"088dc6d1-a3c5-4d04-9136-712f327d8283\",\"type\":\"ColumnDataSource\"},\"glyph\":{\"id\":\"4e3d284a-74f9-4bd8-ad5c-02b2036bbed7\",\"type\":\"Rect\"},\"hover_glyph\":null,\"nonselection_glyph\":null,\"selection_glyph\":null},\"id\":\"61793f06-63fc-49cc-bc9f-4443278a7307\",\"type\":\"GlyphRenderer\"},{\"attributes\":{\"plot\":{\"id\":\"2b0cc89e-e515-4837-924d-adc0320f2e12\",\"subtype\":\"Chart\",\"type\":\"Plot\"}},\"id\":\"49136d3c-3d50-494b-8512-dd756f6d2e52\",\"type\":\"WheelZoomTool\"},{\"attributes\":{\"fill_alpha\":{\"field\":\"fill_alpha\"},\"fill_color\":{\"field\":\"color\"},\"height\":{\"field\":\"height\",\"units\":\"data\"},\"line_color\":{\"field\":\"line_color\"},\"width\":{\"field\":\"width\",\"units\":\"data\"},\"x\":{\"field\":\"x\"},\"y\":{\"field\":\"y\"}},\"id\":\"14787485-5511-473a-a585-0ce98bebdaf0\",\"type\":\"Rect\"},{\"attributes\":{\"label\":{\"value\":\"1 min\"},\"renderers\":[{\"id\":\"1651a0a0-e9d9-42c8-8710-f3eecf829a70\",\"type\":\"GlyphRenderer\"}]},\"id\":\"815fe787-3eed-4a5e-816d-6d9394c32055\",\"type\":\"LegendItem\"},{\"attributes\":{\"callback\":null,\"column_names\":[\"color\",\"height\",\"fill_alpha\",\"line_alpha\",\"label\",\"width\",\"line_color\",\"y\",\"x\"],\"data\":{\"chart_index\":[{\"kind\":\"running\",\"time\":\"1 min\"}],\"color\":[\"#f22c40\"],\"fill_alpha\":[0.8],\"height\":[96.5],\"kind\":[\"running\"],\"label\":[{\"kind\":\"running\",\"time\":\"1 min\"}],\"line_alpha\":[1.0],\"line_color\":[\"white\"],\"time\":[\"1 min\"],\"width\":[0.2],\"x\":[\"running:0.25\"],\"y\":[48.25]}},\"id\":\"b1ee5c13-b1b8-4919-9fbe-a3e533f04593\",\"type\":\"ColumnDataSource\"},{\"attributes\":{\"plot\":null,\"text\":\"Median BPM by kind of exercise, grouped by duration\"},\"id\":\"13fc1a4c-7ab4-4148-9a87-a3de4cf9da52\",\"type\":\"Title\"},{\"attributes\":{\"fill_alpha\":{\"field\":\"fill_alpha\"},\"fill_color\":{\"field\":\"color\"},\"height\":{\"field\":\"height\",\"units\":\"data\"},\"line_color\":{\"field\":\"line_color\"},\"width\":{\"field\":\"width\",\"units\":\"data\"},\"x\":{\"field\":\"x\"},\"y\":{\"field\":\"y\"}},\"id\":\"13f38d10-9046-4cd1-932c-b12688f07899\",\"type\":\"Rect\"},{\"attributes\":{\"data_source\":{\"id\":\"5f3b0efb-a125-4a06-ae40-474df2ac557f\",\"type\":\"ColumnDataSource\"},\"glyph\":{\"id\":\"11f8321b-21b4-4439-986b-b48796005134\",\"type\":\"Rect\"},\"hover_glyph\":null,\"nonselection_glyph\":null,\"selection_glyph\":null},\"id\":\"8f596429-c980-4040-b41c-e43cc8dc2a64\",\"type\":\"GlyphRenderer\"},{\"attributes\":{\"data_source\":{\"id\":\"52fbf4e0-a7e5-4d4b-9e20-cdd4028a66ee\",\"type\":\"ColumnDataSource\"},\"glyph\":{\"id\":\"14787485-5511-473a-a585-0ce98bebdaf0\",\"type\":\"Rect\"},\"hover_glyph\":null,\"nonselection_glyph\":null,\"selection_glyph\":null},\"id\":\"aa5e312c-0959-4828-9270-f15338d8164a\",\"type\":\"GlyphRenderer\"},{\"attributes\":{\"items\":[{\"id\":\"815fe787-3eed-4a5e-816d-6d9394c32055\",\"type\":\"LegendItem\"},{\"id\":\"a62fa374-d03f-4a9b-bedd-f9db3050c074\",\"type\":\"LegendItem\"},{\"id\":\"beb5321d-0507-4caa-b201-a0ead2ead411\",\"type\":\"LegendItem\"}],\"location\":\"top_left\",\"plot\":{\"id\":\"2b0cc89e-e515-4837-924d-adc0320f2e12\",\"subtype\":\"Chart\",\"type\":\"Plot\"}},\"id\":\"62180424-aed8-4468-be99-6740d797c99e\",\"type\":\"Legend\"},{\"attributes\":{\"callback\":null,\"factors\":[\"rest\",\"running\",\"walking\"]},\"id\":\"eef24e3f-5dd6-4c1e-88e8-7daacf89617c\",\"type\":\"FactorRange\"},{\"attributes\":{\"fill_alpha\":{\"field\":\"fill_alpha\"},\"fill_color\":{\"field\":\"color\"},\"height\":{\"field\":\"height\",\"units\":\"data\"},\"line_color\":{\"field\":\"line_color\"},\"width\":{\"field\":\"width\",\"units\":\"data\"},\"x\":{\"field\":\"x\"},\"y\":{\"field\":\"y\"}},\"id\":\"4e3d284a-74f9-4bd8-ad5c-02b2036bbed7\",\"type\":\"Rect\"},{\"attributes\":{\"fill_alpha\":{\"field\":\"fill_alpha\"},\"fill_color\":{\"field\":\"color\"},\"height\":{\"field\":\"height\",\"units\":\"data\"},\"line_color\":{\"field\":\"line_color\"},\"width\":{\"field\":\"width\",\"units\":\"data\"},\"x\":{\"field\":\"x\"},\"y\":{\"field\":\"y\"}},\"id\":\"11f8321b-21b4-4439-986b-b48796005134\",\"type\":\"Rect\"},{\"attributes\":{\"label\":{\"value\":\"30 min\"},\"renderers\":[{\"id\":\"644e7fd2-c8d4-4e73-9aed-eed85cffb009\",\"type\":\"GlyphRenderer\"}]},\"id\":\"beb5321d-0507-4caa-b201-a0ead2ead411\",\"type\":\"LegendItem\"},{\"attributes\":{},\"id\":\"051d42d9-750b-4e4c-a485-4a8e6b19e169\",\"type\":\"ToolEvents\"}],\"root_ids\":[\"2b0cc89e-e515-4837-924d-adc0320f2e12\"]},\"title\":\"Bokeh Application\",\"version\":\"0.12.3\"}};\n",
       "            var render_items = [{\"docid\":\"0a47c8ef-affa-4dfe-b014-fbc6b09de221\",\"elementid\":\"c09b468d-f621-4c89-8231-551125fd7f8d\",\"modelid\":\"2b0cc89e-e515-4837-924d-adc0320f2e12\"}];\n",
       "            \n",
       "            Bokeh.embed.embed_items(docs_json, render_items);\n",
       "        });\n",
       "      },\n",
       "      function(Bokeh) {\n",
       "      }\n",
       "    ];\n",
       "  \n",
       "    function run_inline_js() {\n",
       "      \n",
       "      if ((window.Bokeh !== undefined) || (force === \"1\")) {\n",
       "        for (var i = 0; i < inline_js.length; i++) {\n",
       "          inline_js[i](window.Bokeh);\n",
       "        }if (force === \"1\") {\n",
       "          display_loaded();\n",
       "        }} else if (Date.now() < window._bokeh_timeout) {\n",
       "        setTimeout(run_inline_js, 100);\n",
       "      } else if (!window._bokeh_failed_load) {\n",
       "        console.log(\"Bokeh: BokehJS failed to load within specified timeout.\");\n",
       "        window._bokeh_failed_load = true;\n",
       "      } else if (!force) {\n",
       "        var cell = $(\"#c09b468d-f621-4c89-8231-551125fd7f8d\").parents('.cell').data().cell;\n",
       "        cell.output_area.append_execute_result(NB_LOAD_WARNING)\n",
       "      }\n",
       "  \n",
       "    }\n",
       "  \n",
       "    if (window._bokeh_is_loading === 0) {\n",
       "      console.log(\"Bokeh: BokehJS loaded, going straight to plotting\");\n",
       "      run_inline_js();\n",
       "    } else {\n",
       "      load_libs(js_urls, function() {\n",
       "        console.log(\"Bokeh: BokehJS plotting callback run at\", now());\n",
       "        run_inline_js();\n",
       "      });\n",
       "    }\n",
       "  }(this));\n",
       "</script>"
      ]
     },
     "metadata": {},
     "output_type": "display_data"
    }
   ],
   "source": [
    "#bkc.output_file('exercise_bar.html', mode='inline')\n",
    "p = bkc.Bar(exercise, values='pulse', label='kind', color='time', agg='median', \n",
    "            group='time', title='Median BPM by kind of exercise, grouped by duration')\n",
    "bkc.show(p)"
   ]
  },
  {
   "cell_type": "markdown",
   "metadata": {
    "nbpresent": {
     "id": "950cfd56-abfe-43bd-8705-aa90918fa8f4"
    }
   },
   "source": [
    "Now, let's load a dataset with more continuous variables so we can show off how easy it is to create tooltips on a scatter plot."
   ]
  },
  {
   "cell_type": "code",
   "execution_count": 4,
   "metadata": {
    "collapsed": false,
    "nbpresent": {
     "id": "6f986afd-59a8-4f3a-a607-cf091b1cd1cb"
    }
   },
   "outputs": [
    {
     "data": {
      "text/html": [
       "<div>\n",
       "<table border=\"1\" class=\"dataframe\">\n",
       "  <thead>\n",
       "    <tr style=\"text-align: right;\">\n",
       "      <th></th>\n",
       "      <th>mpg</th>\n",
       "      <th>cyl</th>\n",
       "      <th>displ</th>\n",
       "      <th>hp</th>\n",
       "      <th>weight</th>\n",
       "      <th>accel</th>\n",
       "      <th>yr</th>\n",
       "      <th>origin</th>\n",
       "      <th>name</th>\n",
       "    </tr>\n",
       "  </thead>\n",
       "  <tbody>\n",
       "    <tr>\n",
       "      <th>0</th>\n",
       "      <td>18.0</td>\n",
       "      <td>8</td>\n",
       "      <td>307.0</td>\n",
       "      <td>130</td>\n",
       "      <td>3504</td>\n",
       "      <td>12.0</td>\n",
       "      <td>70</td>\n",
       "      <td>1</td>\n",
       "      <td>chevrolet chevelle malibu</td>\n",
       "    </tr>\n",
       "    <tr>\n",
       "      <th>1</th>\n",
       "      <td>15.0</td>\n",
       "      <td>8</td>\n",
       "      <td>350.0</td>\n",
       "      <td>165</td>\n",
       "      <td>3693</td>\n",
       "      <td>11.5</td>\n",
       "      <td>70</td>\n",
       "      <td>1</td>\n",
       "      <td>buick skylark 320</td>\n",
       "    </tr>\n",
       "    <tr>\n",
       "      <th>2</th>\n",
       "      <td>18.0</td>\n",
       "      <td>8</td>\n",
       "      <td>318.0</td>\n",
       "      <td>150</td>\n",
       "      <td>3436</td>\n",
       "      <td>11.0</td>\n",
       "      <td>70</td>\n",
       "      <td>1</td>\n",
       "      <td>plymouth satellite</td>\n",
       "    </tr>\n",
       "    <tr>\n",
       "      <th>3</th>\n",
       "      <td>16.0</td>\n",
       "      <td>8</td>\n",
       "      <td>304.0</td>\n",
       "      <td>150</td>\n",
       "      <td>3433</td>\n",
       "      <td>12.0</td>\n",
       "      <td>70</td>\n",
       "      <td>1</td>\n",
       "      <td>amc rebel sst</td>\n",
       "    </tr>\n",
       "    <tr>\n",
       "      <th>4</th>\n",
       "      <td>17.0</td>\n",
       "      <td>8</td>\n",
       "      <td>302.0</td>\n",
       "      <td>140</td>\n",
       "      <td>3449</td>\n",
       "      <td>10.5</td>\n",
       "      <td>70</td>\n",
       "      <td>1</td>\n",
       "      <td>ford torino</td>\n",
       "    </tr>\n",
       "  </tbody>\n",
       "</table>\n",
       "</div>"
      ],
      "text/plain": [
       "    mpg  cyl  displ   hp  weight  accel  yr  origin                       name\n",
       "0  18.0    8  307.0  130    3504   12.0  70       1  chevrolet chevelle malibu\n",
       "1  15.0    8  350.0  165    3693   11.5  70       1          buick skylark 320\n",
       "2  18.0    8  318.0  150    3436   11.0  70       1         plymouth satellite\n",
       "3  16.0    8  304.0  150    3433   12.0  70       1              amc rebel sst\n",
       "4  17.0    8  302.0  140    3449   10.5  70       1                ford torino"
      ]
     },
     "execution_count": 4,
     "metadata": {},
     "output_type": "execute_result"
    }
   ],
   "source": [
    "from bokeh.sampledata.autompg import autompg\n",
    "autompg.head()"
   ]
  },
  {
   "cell_type": "code",
   "execution_count": 5,
   "metadata": {
    "collapsed": false,
    "nbpresent": {
     "id": "3eac584d-bc1c-429f-8bcc-01c0bf3c9336"
    }
   },
   "outputs": [
    {
     "data": {
      "text/html": [
       "\n",
       "\n",
       "    <div class=\"bk-root\">\n",
       "        <div class=\"plotdiv\" id=\"ca1cbaa9-30a1-45bd-836c-57590ceccfe6\"></div>\n",
       "    </div>\n",
       "<script type=\"text/javascript\">\n",
       "  \n",
       "  (function(global) {\n",
       "    function now() {\n",
       "      return new Date();\n",
       "    }\n",
       "  \n",
       "    var force = \"\";\n",
       "  \n",
       "    if (typeof (window._bokeh_onload_callbacks) === \"undefined\" || force !== \"\") {\n",
       "      window._bokeh_onload_callbacks = [];\n",
       "      window._bokeh_is_loading = undefined;\n",
       "    }\n",
       "  \n",
       "  \n",
       "    \n",
       "    if (typeof (window._bokeh_timeout) === \"undefined\" || force !== \"\") {\n",
       "      window._bokeh_timeout = Date.now() + 0;\n",
       "      window._bokeh_failed_load = false;\n",
       "    }\n",
       "  \n",
       "    var NB_LOAD_WARNING = {'data': {'text/html':\n",
       "       \"<div style='background-color: #fdd'>\\n\"+\n",
       "       \"<p>\\n\"+\n",
       "       \"BokehJS does not appear to have successfully loaded. If loading BokehJS from CDN, this \\n\"+\n",
       "       \"may be due to a slow or bad network connection. Possible fixes:\\n\"+\n",
       "       \"</p>\\n\"+\n",
       "       \"<ul>\\n\"+\n",
       "       \"<li>re-rerun `output_notebook()` to attempt to load from CDN again, or</li>\\n\"+\n",
       "       \"<li>use INLINE resources instead, as so:</li>\\n\"+\n",
       "       \"</ul>\\n\"+\n",
       "       \"<code>\\n\"+\n",
       "       \"from bokeh.resources import INLINE\\n\"+\n",
       "       \"output_notebook(resources=INLINE)\\n\"+\n",
       "       \"</code>\\n\"+\n",
       "       \"</div>\"}};\n",
       "  \n",
       "    function display_loaded() {\n",
       "      if (window.Bokeh !== undefined) {\n",
       "        Bokeh.$(\"#ca1cbaa9-30a1-45bd-836c-57590ceccfe6\").text(\"BokehJS successfully loaded.\");\n",
       "      } else if (Date.now() < window._bokeh_timeout) {\n",
       "        setTimeout(display_loaded, 100)\n",
       "      }\n",
       "    }\n",
       "  \n",
       "    function run_callbacks() {\n",
       "      window._bokeh_onload_callbacks.forEach(function(callback) { callback() });\n",
       "      delete window._bokeh_onload_callbacks\n",
       "      console.info(\"Bokeh: all callbacks have finished\");\n",
       "    }\n",
       "  \n",
       "    function load_libs(js_urls, callback) {\n",
       "      window._bokeh_onload_callbacks.push(callback);\n",
       "      if (window._bokeh_is_loading > 0) {\n",
       "        console.log(\"Bokeh: BokehJS is being loaded, scheduling callback at\", now());\n",
       "        return null;\n",
       "      }\n",
       "      if (js_urls == null || js_urls.length === 0) {\n",
       "        run_callbacks();\n",
       "        return null;\n",
       "      }\n",
       "      console.log(\"Bokeh: BokehJS not loaded, scheduling load and callback at\", now());\n",
       "      window._bokeh_is_loading = js_urls.length;\n",
       "      for (var i = 0; i < js_urls.length; i++) {\n",
       "        var url = js_urls[i];\n",
       "        var s = document.createElement('script');\n",
       "        s.src = url;\n",
       "        s.async = false;\n",
       "        s.onreadystatechange = s.onload = function() {\n",
       "          window._bokeh_is_loading--;\n",
       "          if (window._bokeh_is_loading === 0) {\n",
       "            console.log(\"Bokeh: all BokehJS libraries loaded\");\n",
       "            run_callbacks()\n",
       "          }\n",
       "        };\n",
       "        s.onerror = function() {\n",
       "          console.warn(\"failed to load library \" + url);\n",
       "        };\n",
       "        console.log(\"Bokeh: injecting script tag for BokehJS library: \", url);\n",
       "        document.getElementsByTagName(\"head\")[0].appendChild(s);\n",
       "      }\n",
       "    };var element = document.getElementById(\"ca1cbaa9-30a1-45bd-836c-57590ceccfe6\");\n",
       "    if (element == null) {\n",
       "      console.log(\"Bokeh: ERROR: autoload.js configured with elementid 'ca1cbaa9-30a1-45bd-836c-57590ceccfe6' but no matching script tag was found. \")\n",
       "      return false;\n",
       "    }\n",
       "  \n",
       "    var js_urls = [];\n",
       "  \n",
       "    var inline_js = [\n",
       "      function(Bokeh) {\n",
       "        Bokeh.$(function() {\n",
       "            var docs_json = {\"4c369605-9d34-4a93-b217-2d22a7528e4e\":{\"roots\":{\"references\":[{\"attributes\":{\"callback\":null,\"column_names\":[\"x_values\",\"y_values\",\"name\",\"cyl\",\"hp\",\"accel\",\"yr\"],\"data\":{\"accel\":[12.0,11.5,11.0,12.0,10.5,10.0,9.0,8.5,10.0,8.5,10.0,8.0,9.5,10.0,15.0,15.5,15.5,16.0,14.5,20.5,17.5,14.5,17.5,12.5,15.0,14.0,15.0,13.5,18.5,14.5,15.5,14.0,13.0,15.5,15.5,15.5,15.5,12.0,11.5,13.5,13.0,11.5,12.0,12.0,13.5,19.0,15.0,14.5,14.0,14.0,19.5,14.5,19.0,18.0,19.0,20.5,15.5,17.0,23.5,19.5,16.5,12.0,12.0,13.5,13.0,11.5,11.0,13.5,13.5,12.5,13.5,12.5,14.0,16.0,14.0,14.5,18.0,19.5,18.0,16.0,17.0,14.5,15.0,16.5,13.0,11.5,13.0,14.5,12.5,11.5,12.0,13.0,14.5,11.0,11.0,11.0,16.5,18.0,16.0,16.5,16.0,21.0,14.0,12.5,13.0,12.5,15.0,19.0,19.5,16.5,13.5,18.5,14.0,15.5,13.0,9.5,19.5,15.5,14.0,15.5,11.0,14.0,13.5,11.0,16.5,16.0,17.0,19.0,16.5,21.0,17.0,17.0,18.0,16.5,14.0,14.5,13.5,16.0,15.5,16.5,15.5,14.5,16.5,19.0,14.5,15.5,14.0,15.0,15.5,16.0,16.0,16.0,21.0,19.5,11.5,14.0,14.5,13.5,21.0,18.5,19.0,19.0,15.0,13.5,12.0,16.0,17.0,16.0,18.5,13.5,16.5,17.0,14.5,14.0,17.0,15.0,17.0,14.5,13.5,17.5,15.5,16.9,14.9,17.7,15.3,13.0,13.0,13.9,12.8,15.4,14.5,17.6,17.6,22.2,22.1,14.2,17.4,17.7,21.0,16.2,17.8,12.2,17.0,16.4,13.6,15.7,13.2,21.9,15.5,16.7,12.1,12.0,15.0,14.0,18.5,14.8,18.6,15.5,16.8,12.5,19.0,13.7,14.9,16.4,16.9,17.7,19.0,11.1,11.4,12.2,14.5,14.5,16.0,18.2,15.8,17.0,15.9,16.4,14.1,14.5,12.8,13.5,21.5,14.4,19.4,18.6,16.4,15.5,13.2,12.8,19.2,18.2,15.8,15.4,17.2,17.2,15.8,16.7,18.7,15.1,13.2,13.4,11.2,13.7,16.5,14.2,14.7,14.5,14.8,16.7,17.6,14.9,15.9,13.6,15.7,15.8,14.9,16.6,15.4,18.2,17.3,18.2,16.6,15.4,13.4,13.2,15.2,14.9,14.3,15.0,13.0,14.0,15.2,14.4,15.0,20.1,17.4,24.8,22.2,13.2,14.9,19.2,14.7,16.0,11.3,12.9,13.2,14.7,18.8,15.5,16.4,16.5,18.1,20.1,18.7,15.8,15.5,17.5,15.0,15.2,17.9,14.4,19.2,21.7,23.7,19.9,21.8,13.8,18.0,15.3,11.4,12.5,15.1,17.0,15.7,16.4,14.4,12.6,12.9,16.9,16.4,16.1,17.8,19.4,17.3,16.0,14.9,16.2,20.7,14.2,14.4,16.8,14.8,18.3,20.4,19.6,12.6,13.8,15.8,19.0,17.1,16.6,19.6,18.6,18.0,16.2,16.0,18.0,16.4,15.3,18.2,17.6,14.7,17.3,14.5,14.5,16.9,15.0,15.7,16.2,16.4,17.0,14.5,14.7,13.9,13.0,17.3,15.6,24.6,11.6,18.6,19.4],\"chart_index\":[null,null,null,null,null,null,null,null,null,null,null,null,null,null,null,null,null,null,null,null,null,null,null,null,null,null,null,null,null,null,null,null,null,null,null,null,null,null,null,null,null,null,null,null,null,null,null,null,null,null,null,null,null,null,null,null,null,null,null,null,null,null,null,null,null,null,null,null,null,null,null,null,null,null,null,null,null,null,null,null,null,null,null,null,null,null,null,null,null,null,null,null,null,null,null,null,null,null,null,null,null,null,null,null,null,null,null,null,null,null,null,null,null,null,null,null,null,null,null,null,null,null,null,null,null,null,null,null,null,null,null,null,null,null,null,null,null,null,null,null,null,null,null,null,null,null,null,null,null,null,null,null,null,null,null,null,null,null,null,null,null,null,null,null,null,null,null,null,null,null,null,null,null,null,null,null,null,null,null,null,null,null,null,null,null,null,null,null,null,null,null,null,null,null,null,null,null,null,null,null,null,null,null,null,null,null,null,null,null,null,null,null,null,null,null,null,null,null,null,null,null,null,null,null,null,null,null,null,null,null,null,null,null,null,null,null,null,null,null,null,null,null,null,null,null,null,null,null,null,null,null,null,null,null,null,null,null,null,null,null,null,null,null,null,null,null,null,null,null,null,null,null,null,null,null,null,null,null,null,null,null,null,null,null,null,null,null,null,null,null,null,null,null,null,null,null,null,null,null,null,null,null,null,null,null,null,null,null,null,null,null,null,null,null,null,null,null,null,null,null,null,null,null,null,null,null,null,null,null,null,null,null,null,null,null,null,null,null,null,null,null,null,null,null,null,null,null,null,null,null,null,null,null,null,null,null,null,null,null,null,null,null,null,null,null,null,null,null,null,null,null,null,null,null,null,null,null,null,null,null,null,null,null,null,null,null,null,null,null,null,null,null],\"cyl\":[8,8,8,8,8,8,8,8,8,8,8,8,8,8,4,6,6,6,4,4,4,4,4,4,6,8,8,8,8,4,4,4,6,6,6,6,6,8,8,8,8,8,8,8,6,4,6,6,4,4,4,4,4,4,4,4,4,4,4,4,4,8,8,8,8,8,8,8,8,8,3,8,8,8,8,4,4,4,4,4,4,4,4,4,8,8,8,8,8,8,8,8,8,8,8,8,6,6,6,6,6,4,8,8,8,8,6,4,4,4,3,4,6,4,8,8,4,4,4,4,8,4,6,8,6,6,6,4,4,4,4,6,6,6,8,8,8,8,8,4,4,4,4,4,4,4,4,4,4,4,6,6,6,6,8,8,8,8,6,6,6,6,6,8,8,4,4,6,4,4,4,4,6,4,6,4,4,4,4,4,4,4,4,4,4,8,8,8,8,6,6,6,6,4,4,4,4,6,6,6,6,4,4,4,4,4,8,4,6,6,8,8,8,8,4,4,4,4,4,8,8,8,8,6,6,6,6,8,8,8,8,4,4,4,4,4,4,4,4,6,4,3,4,4,4,4,4,8,8,8,6,6,6,4,6,6,6,6,6,6,8,6,8,8,4,4,4,4,4,4,4,4,5,6,4,6,4,4,6,6,4,6,6,8,8,8,8,8,8,8,8,4,4,4,4,5,8,4,8,4,4,4,4,4,6,6,4,4,4,4,4,4,4,4,6,4,4,4,4,4,4,4,4,4,4,5,4,4,4,4,6,3,4,4,4,4,4,6,4,4,4,4,4,4,4,4,4,4,4,4,4,4,4,4,4,6,6,6,6,8,6,6,4,4,4,4,4,4,4,4,4,4,4,4,4,4,4,4,4,4,6,6,4,6,4,4,4,4,4,4,4,4],\"hp\":[130,165,150,150,140,198,220,215,225,190,170,160,150,225,95,95,97,85,88,46,87,90,95,113,90,215,200,210,193,88,90,95,100,105,100,88,100,165,175,153,150,180,170,175,110,72,100,88,86,90,70,76,65,69,60,70,95,80,54,90,86,165,175,150,153,150,208,155,160,190,97,150,130,140,150,112,76,87,69,86,92,97,80,88,175,150,145,137,150,198,150,158,150,215,225,175,105,100,100,88,95,46,150,167,170,180,100,88,72,94,90,85,107,90,145,230,49,75,91,112,150,110,122,180,95,100,100,67,80,65,75,100,110,105,140,150,150,140,150,83,67,78,52,61,75,75,75,97,93,67,95,105,72,72,170,145,150,148,110,105,110,95,110,110,129,75,83,100,78,96,71,97,97,70,90,95,88,98,115,53,86,81,92,79,83,140,150,120,152,100,105,81,90,52,60,70,53,100,78,110,95,71,70,75,72,102,150,88,108,120,180,145,130,150,68,80,58,96,70,145,110,145,130,110,105,100,98,180,170,190,149,78,88,75,89,63,83,67,78,97,110,110,48,66,52,70,60,110,140,139,105,95,85,88,100,90,105,85,110,120,145,165,139,140,68,95,97,75,95,105,85,97,103,125,115,133,71,68,115,85,88,90,110,130,129,138,135,155,142,125,150,71,65,80,80,77,125,71,90,70,70,65,69,90,115,115,90,76,60,70,65,90,88,90,90,78,90,75,92,75,65,105,65,48,48,67,67,67,67,62,132,100,88,72,84,84,92,110,84,58,64,60,67,65,62,68,63,65,65,74,75,75,100,74,80,76,116,120,110,105,88,85,88,88,88,85,84,90,92,74,68,68,63,70,88,75,70,67,67,67,110,85,92,112,96,84,90,86,52,84,79,82],\"name\":[\"chevrolet chevelle malibu\",\"buick skylark 320\",\"plymouth satellite\",\"amc rebel sst\",\"ford torino\",\"ford galaxie 500\",\"chevrolet impala\",\"plymouth fury iii\",\"pontiac catalina\",\"amc ambassador dpl\",\"dodge challenger se\",\"plymouth 'cuda 340\",\"chevrolet monte carlo\",\"buick estate wagon (sw)\",\"toyota corona mark ii\",\"plymouth duster\",\"amc hornet\",\"ford maverick\",\"datsun pl510\",\"volkswagen 1131 deluxe sedan\",\"peugeot 504\",\"audi 100 ls\",\"saab 99e\",\"bmw 2002\",\"amc gremlin\",\"ford f250\",\"chevy c20\",\"dodge d200\",\"hi 1200d\",\"datsun pl510\",\"chevrolet vega 2300\",\"toyota corona\",\"amc gremlin\",\"plymouth satellite custom\",\"chevrolet chevelle malibu\",\"ford torino 500\",\"amc matador\",\"chevrolet impala\",\"pontiac catalina brougham\",\"ford galaxie 500\",\"plymouth fury iii\",\"dodge monaco (sw)\",\"ford country squire (sw)\",\"pontiac safari (sw)\",\"amc hornet sportabout (sw)\",\"chevrolet vega (sw)\",\"pontiac firebird\",\"ford mustang\",\"mercury capri 2000\",\"opel 1900\",\"peugeot 304\",\"fiat 124b\",\"toyota corolla 1200\",\"datsun 1200\",\"volkswagen model 111\",\"plymouth cricket\",\"toyota corona hardtop\",\"dodge colt hardtop\",\"volkswagen type 3\",\"chevrolet vega\",\"ford pinto runabout\",\"chevrolet impala\",\"pontiac catalina\",\"plymouth fury iii\",\"ford galaxie 500\",\"amc ambassador sst\",\"mercury marquis\",\"buick lesabre custom\",\"oldsmobile delta 88 royale\",\"chrysler newport royal\",\"mazda rx2 coupe\",\"amc matador (sw)\",\"chevrolet chevelle concours (sw)\",\"ford gran torino (sw)\",\"plymouth satellite custom (sw)\",\"volvo 145e (sw)\",\"volkswagen 411 (sw)\",\"peugeot 504 (sw)\",\"renault 12 (sw)\",\"ford pinto (sw)\",\"datsun 510 (sw)\",\"toyouta corona mark ii (sw)\",\"dodge colt (sw)\",\"toyota corolla 1600 (sw)\",\"buick century 350\",\"amc matador\",\"chevrolet malibu\",\"ford gran torino\",\"dodge coronet custom\",\"mercury marquis brougham\",\"chevrolet caprice classic\",\"ford ltd\",\"plymouth fury gran sedan\",\"chrysler new yorker brougham\",\"buick electra 225 custom\",\"amc ambassador brougham\",\"plymouth valiant\",\"chevrolet nova custom\",\"amc hornet\",\"ford maverick\",\"plymouth duster\",\"volkswagen super beetle\",\"chevrolet impala\",\"ford country\",\"plymouth custom suburb\",\"oldsmobile vista cruiser\",\"amc gremlin\",\"toyota carina\",\"chevrolet vega\",\"datsun 610\",\"maxda rx3\",\"ford pinto\",\"mercury capri v6\",\"fiat 124 sport coupe\",\"chevrolet monte carlo s\",\"pontiac grand prix\",\"fiat 128\",\"opel manta\",\"audi 100ls\",\"volvo 144ea\",\"dodge dart custom\",\"saab 99le\",\"toyota mark ii\",\"oldsmobile omega\",\"plymouth duster\",\"amc hornet\",\"chevrolet nova\",\"datsun b210\",\"ford pinto\",\"toyota corolla 1200\",\"chevrolet vega\",\"chevrolet chevelle malibu classic\",\"amc matador\",\"plymouth satellite sebring\",\"ford gran torino\",\"buick century luxus (sw)\",\"dodge coronet custom (sw)\",\"ford gran torino (sw)\",\"amc matador (sw)\",\"audi fox\",\"volkswagen dasher\",\"opel manta\",\"toyota corona\",\"datsun 710\",\"dodge colt\",\"fiat 128\",\"fiat 124 tc\",\"honda civic\",\"subaru\",\"fiat x1.9\",\"plymouth valiant custom\",\"chevrolet nova\",\"mercury monarch\",\"ford maverick\",\"pontiac catalina\",\"chevrolet bel air\",\"plymouth grand fury\",\"ford ltd\",\"buick century\",\"chevroelt chevelle malibu\",\"amc matador\",\"plymouth fury\",\"buick skyhawk\",\"chevrolet monza 2+2\",\"ford mustang ii\",\"toyota corolla\",\"ford pinto\",\"amc gremlin\",\"pontiac astro\",\"toyota corona\",\"volkswagen dasher\",\"datsun 710\",\"ford pinto\",\"volkswagen rabbit\",\"amc pacer\",\"audi 100ls\",\"peugeot 504\",\"volvo 244dl\",\"saab 99le\",\"honda civic cvcc\",\"fiat 131\",\"opel 1900\",\"capri ii\",\"dodge colt\",\"renault 12tl\",\"chevrolet chevelle malibu classic\",\"dodge coronet brougham\",\"amc matador\",\"ford gran torino\",\"plymouth valiant\",\"chevrolet nova\",\"ford maverick\",\"amc hornet\",\"chevrolet chevette\",\"chevrolet woody\",\"vw rabbit\",\"honda civic\",\"dodge aspen se\",\"ford granada ghia\",\"pontiac ventura sj\",\"amc pacer d/l\",\"volkswagen rabbit\",\"datsun b-210\",\"toyota corolla\",\"ford pinto\",\"volvo 245\",\"plymouth volare premier v8\",\"peugeot 504\",\"toyota mark ii\",\"mercedes-benz 280s\",\"cadillac seville\",\"chevy c10\",\"ford f108\",\"dodge d100\",\"honda accord cvcc\",\"buick opel isuzu deluxe\",\"renault 5 gtl\",\"plymouth arrow gs\",\"datsun f-10 hatchback\",\"chevrolet caprice classic\",\"oldsmobile cutlass supreme\",\"dodge monaco brougham\",\"mercury cougar brougham\",\"chevrolet concours\",\"buick skylark\",\"plymouth volare custom\",\"ford granada\",\"pontiac grand prix lj\",\"chevrolet monte carlo landau\",\"chrysler cordoba\",\"ford thunderbird\",\"volkswagen rabbit custom\",\"pontiac sunbird coupe\",\"toyota corolla liftback\",\"ford mustang ii 2+2\",\"chevrolet chevette\",\"dodge colt m/m\",\"subaru dl\",\"volkswagen dasher\",\"datsun 810\",\"bmw 320i\",\"mazda rx-4\",\"volkswagen rabbit custom diesel\",\"ford fiesta\",\"mazda glc deluxe\",\"datsun b210 gx\",\"honda civic cvcc\",\"oldsmobile cutlass salon brougham\",\"dodge diplomat\",\"mercury monarch ghia\",\"pontiac phoenix lj\",\"chevrolet malibu\",\"ford fairmont (auto)\",\"ford fairmont (man)\",\"plymouth volare\",\"amc concord\",\"buick century special\",\"mercury zephyr\",\"dodge aspen\",\"amc concord d/l\",\"chevrolet monte carlo landau\",\"buick regal sport coupe (turbo)\",\"ford futura\",\"dodge magnum xe\",\"chevrolet chevette\",\"toyota corona\",\"datsun 510\",\"dodge omni\",\"toyota celica gt liftback\",\"plymouth sapporo\",\"oldsmobile starfire sx\",\"datsun 200-sx\",\"audi 5000\",\"volvo 264gl\",\"saab 99gle\",\"peugeot 604sl\",\"volkswagen scirocco\",\"honda accord lx\",\"pontiac lemans v6\",\"mercury zephyr 6\",\"ford fairmont 4\",\"amc concord dl 6\",\"dodge aspen 6\",\"chevrolet caprice classic\",\"ford ltd landau\",\"mercury grand marquis\",\"dodge st. regis\",\"buick estate wagon (sw)\",\"ford country squire (sw)\",\"chevrolet malibu classic (sw)\",\"chrysler lebaron town @ country (sw)\",\"vw rabbit custom\",\"maxda glc deluxe\",\"dodge colt hatchback custom\",\"amc spirit dl\",\"mercedes benz 300d\",\"cadillac eldorado\",\"peugeot 504\",\"oldsmobile cutlass salon brougham\",\"plymouth horizon\",\"plymouth horizon tc3\",\"datsun 210\",\"fiat strada custom\",\"buick skylark limited\",\"chevrolet citation\",\"oldsmobile omega brougham\",\"pontiac phoenix\",\"vw rabbit\",\"toyota corolla tercel\",\"chevrolet chevette\",\"datsun 310\",\"chevrolet citation\",\"ford fairmont\",\"amc concord\",\"dodge aspen\",\"audi 4000\",\"toyota corona liftback\",\"mazda 626\",\"datsun 510 hatchback\",\"toyota corolla\",\"mazda glc\",\"dodge colt\",\"datsun 210\",\"vw rabbit c (diesel)\",\"vw dasher (diesel)\",\"audi 5000s (diesel)\",\"mercedes-benz 240d\",\"honda civic 1500 gl\",\"subaru dl\",\"vokswagen rabbit\",\"datsun 280-zx\",\"mazda rx-7 gs\",\"triumph tr7 coupe\",\"honda accord\",\"plymouth reliant\",\"buick skylark\",\"dodge aries wagon (sw)\",\"chevrolet citation\",\"plymouth reliant\",\"toyota starlet\",\"plymouth champ\",\"honda civic 1300\",\"subaru\",\"datsun 210 mpg\",\"toyota tercel\",\"mazda glc 4\",\"plymouth horizon 4\",\"ford escort 4w\",\"ford escort 2h\",\"volkswagen jetta\",\"honda prelude\",\"toyota corolla\",\"datsun 200sx\",\"mazda 626\",\"peugeot 505s turbo diesel\",\"volvo diesel\",\"toyota cressida\",\"datsun 810 maxima\",\"buick century\",\"oldsmobile cutlass ls\",\"ford granada gl\",\"chrysler lebaron salon\",\"chevrolet cavalier\",\"chevrolet cavalier wagon\",\"chevrolet cavalier 2-door\",\"pontiac j2000 se hatchback\",\"dodge aries se\",\"pontiac phoenix\",\"ford fairmont futura\",\"volkswagen rabbit l\",\"mazda glc custom l\",\"mazda glc custom\",\"plymouth horizon miser\",\"mercury lynx l\",\"nissan stanza xe\",\"honda accord\",\"toyota corolla\",\"honda civic\",\"honda civic (auto)\",\"datsun 310 gx\",\"buick century limited\",\"oldsmobile cutlass ciera (diesel)\",\"chrysler lebaron medallion\",\"ford granada l\",\"toyota celica gt\",\"dodge charger 2.2\",\"chevrolet camaro\",\"ford mustang gl\",\"vw pickup\",\"dodge rampage\",\"ford ranger\",\"chevy s-10\"],\"x_values\":[3504,3693,3436,3433,3449,4341,4354,4312,4425,3850,3563,3609,3761,3086,2372,2833,2774,2587,2130,1835,2672,2430,2375,2234,2648,4615,4376,4382,4732,2130,2264,2228,2634,3439,3329,3302,3288,4209,4464,4154,4096,4955,4746,5140,2962,2408,3282,3139,2220,2123,2074,2065,1773,1613,1834,1955,2278,2126,2254,2408,2226,4274,4385,4135,4129,3672,4633,4502,4456,4422,2330,3892,4098,4294,4077,2933,2511,2979,2189,2395,2288,2506,2164,2100,4100,3672,3988,4042,3777,4952,4464,4363,4237,4735,4951,3821,3121,3278,2945,3021,2904,1950,4997,4906,4654,4499,2789,2279,2401,2379,2124,2310,2472,2265,4082,4278,1867,2158,2582,2868,3399,2660,2807,3664,3102,2901,3336,1950,2451,1836,2542,3781,3632,3613,4141,4699,4457,4638,4257,2219,1963,2300,1649,2003,2125,2108,2246,2489,2391,2000,3264,3459,3432,3158,4668,4440,4498,4657,3907,3897,3730,3785,3039,3221,3169,2171,2639,2914,2592,2702,2223,2545,2984,1937,3211,2694,2957,2945,2671,1795,2464,2220,2572,2255,2202,4215,4190,3962,4215,3233,3353,3012,3085,2035,2164,1937,1795,3651,3574,3645,3193,1825,1990,2155,2565,3150,3940,3270,2930,3820,4380,4055,3870,3755,2045,2155,1825,2300,1945,3880,4060,4140,4295,3520,3425,3630,3525,4220,4165,4325,4335,1940,2740,2265,2755,2051,2075,1985,2190,2815,2600,2720,1985,1800,1985,2070,1800,3365,3735,3570,3535,3155,2965,2720,3430,3210,3380,3070,3620,3410,3425,3445,3205,4080,2155,2560,2300,2230,2515,2745,2855,2405,2830,3140,2795,3410,1990,2135,3245,2990,2890,3265,3360,3840,3725,3955,3830,4360,4054,3605,3940,1925,1975,1915,2670,3530,3900,3190,3420,2200,2150,2020,2130,2670,2595,2700,2556,2144,1968,2120,2019,2678,2870,3003,3381,2188,2711,2542,2434,2265,2110,2800,2110,2085,2335,2950,3250,1850,2145,1845,2910,2420,2500,2290,2490,2635,2620,2725,2385,1755,1875,1760,2065,1975,2050,1985,2215,2045,2380,2190,2210,2350,2615,2635,3230,3160,2900,2930,3415,3725,3060,3465,2605,2640,2395,2575,2525,2735,2865,1980,2025,1970,2125,2125,2160,2205,2245,1965,1965,1995,2945,3015,2585,2835,2665,2370,2950,2790,2130,2295,2625,2720],\"y_values\":[18.0,15.0,18.0,16.0,17.0,15.0,14.0,14.0,14.0,15.0,15.0,14.0,15.0,14.0,24.0,22.0,18.0,21.0,27.0,26.0,25.0,24.0,25.0,26.0,21.0,10.0,10.0,11.0,9.0,27.0,28.0,25.0,19.0,16.0,17.0,19.0,18.0,14.0,14.0,14.0,14.0,12.0,13.0,13.0,18.0,22.0,19.0,18.0,23.0,28.0,30.0,30.0,31.0,35.0,27.0,26.0,24.0,25.0,23.0,20.0,21.0,13.0,14.0,15.0,14.0,17.0,11.0,13.0,12.0,13.0,19.0,15.0,13.0,13.0,14.0,18.0,22.0,21.0,26.0,22.0,28.0,23.0,28.0,27.0,13.0,14.0,13.0,14.0,15.0,12.0,13.0,13.0,14.0,13.0,12.0,13.0,18.0,16.0,18.0,18.0,23.0,26.0,11.0,12.0,13.0,12.0,18.0,20.0,21.0,22.0,18.0,19.0,21.0,26.0,15.0,16.0,29.0,24.0,20.0,19.0,15.0,24.0,20.0,11.0,20.0,19.0,15.0,31.0,26.0,32.0,25.0,16.0,16.0,18.0,16.0,13.0,14.0,14.0,14.0,29.0,26.0,26.0,31.0,32.0,28.0,24.0,26.0,24.0,26.0,31.0,19.0,18.0,15.0,15.0,16.0,15.0,16.0,14.0,17.0,16.0,15.0,18.0,21.0,20.0,13.0,29.0,23.0,20.0,23.0,24.0,25.0,24.0,18.0,29.0,19.0,23.0,23.0,22.0,25.0,33.0,28.0,25.0,25.0,26.0,27.0,17.5,16.0,15.5,14.5,22.0,22.0,24.0,22.5,29.0,24.5,29.0,33.0,20.0,18.0,18.5,17.5,29.5,32.0,28.0,26.5,20.0,13.0,19.0,19.0,16.5,16.5,13.0,13.0,13.0,31.5,30.0,36.0,25.5,33.5,17.5,17.0,15.5,15.0,17.5,20.5,19.0,18.5,16.0,15.5,15.5,16.0,29.0,24.5,26.0,25.5,30.5,33.5,30.0,30.5,22.0,21.5,21.5,43.1,36.1,32.8,39.4,36.1,19.9,19.4,20.2,19.2,20.5,20.2,25.1,20.5,19.4,20.6,20.8,18.6,18.1,19.2,17.7,18.1,17.5,30.0,27.5,27.2,30.9,21.1,23.2,23.8,23.9,20.3,17.0,21.6,16.2,31.5,29.5,21.5,19.8,22.3,20.2,20.6,17.0,17.6,16.5,18.2,16.9,15.5,19.2,18.5,31.9,34.1,35.7,27.4,25.4,23.0,27.2,23.9,34.2,34.5,31.8,37.3,28.4,28.8,26.8,33.5,41.5,38.1,32.1,37.2,28.0,26.4,24.3,19.1,34.3,29.8,31.3,37.0,32.2,46.6,27.9,40.8,44.3,43.4,36.4,30.0,44.6,33.8,29.8,32.7,23.7,35.0,32.4,27.2,26.6,25.8,23.5,30.0,39.1,39.0,35.1,32.3,37.0,37.7,34.1,34.7,34.4,29.9,33.0,33.7,32.4,32.9,31.6,28.1,30.7,25.4,24.2,22.4,26.6,20.2,17.6,28.0,27.0,34.0,31.0,29.0,27.0,24.0,36.0,37.0,31.0,38.0,36.0,36.0,36.0,34.0,38.0,32.0,38.0,25.0,38.0,26.0,22.0,32.0,36.0,27.0,27.0,44.0,32.0,28.0,31.0],\"yr\":[70,70,70,70,70,70,70,70,70,70,70,70,70,70,70,70,70,70,70,70,70,70,70,70,70,70,70,70,70,71,71,71,71,71,71,71,71,71,71,71,71,71,71,71,71,71,71,71,71,71,71,71,71,71,71,71,72,72,72,72,72,72,72,72,72,72,72,72,72,72,72,72,72,72,72,72,72,72,72,72,72,72,72,72,73,73,73,73,73,73,73,73,73,73,73,73,73,73,73,73,73,73,73,73,73,73,73,73,73,73,73,73,73,73,73,73,73,73,73,73,73,73,73,73,74,74,74,74,74,74,74,74,74,74,74,74,74,74,74,74,74,74,74,74,74,74,74,74,74,74,75,75,75,75,75,75,75,75,75,75,75,75,75,75,75,75,75,75,75,75,75,75,75,75,75,75,75,75,75,75,76,76,76,76,76,76,76,76,76,76,76,76,76,76,76,76,76,76,76,76,76,76,76,76,76,76,76,76,76,76,76,76,76,76,77,77,77,77,77,77,77,77,77,77,77,77,77,77,77,77,77,77,77,77,77,77,77,77,77,77,77,77,78,78,78,78,78,78,78,78,78,78,78,78,78,78,78,78,78,78,78,78,78,78,78,78,78,78,78,78,78,78,78,78,78,78,78,78,79,79,79,79,79,79,79,79,79,79,79,79,79,79,79,79,79,79,79,79,79,79,79,79,79,79,79,79,79,80,80,80,80,80,80,80,80,80,80,80,80,80,80,80,80,80,80,80,80,80,80,80,80,80,80,80,81,81,81,81,81,81,81,81,81,81,81,81,81,81,81,81,81,81,81,81,81,81,81,81,81,81,81,81,82,82,82,82,82,82,82,82,82,82,82,82,82,82,82,82,82,82,82,82,82,82,82,82,82,82,82,82,82,82]}},\"id\":\"287ec268-eb96-42dd-9de0-6f5644987851\",\"type\":\"ColumnDataSource\"},{\"attributes\":{\"plot\":{\"id\":\"47ed0501-f3b7-46a1-8c42-6cc252d0526a\",\"subtype\":\"Chart\",\"type\":\"Plot\"}},\"id\":\"4754b064-b821-405a-be8d-58911f9ebd5a\",\"type\":\"HelpTool\"},{\"attributes\":{},\"id\":\"4ef918c6-8a6c-4f50-93e3-e53f520bbfae\",\"type\":\"BasicTicker\"},{\"attributes\":{\"active_drag\":\"auto\",\"active_scroll\":\"auto\",\"active_tap\":\"auto\",\"tools\":[{\"id\":\"062a8df0-972a-44e3-b745-162231a68f04\",\"type\":\"PanTool\"},{\"id\":\"106fb822-5050-41a4-8d2d-dbf38cdf137c\",\"type\":\"WheelZoomTool\"},{\"id\":\"6bc1404d-7f25-409e-ad0b-d95b6c5e9ab9\",\"type\":\"BoxZoomTool\"},{\"id\":\"413b5fda-fde9-4932-aa94-69969703e66a\",\"type\":\"SaveTool\"},{\"id\":\"afd9f6b7-5b83-453a-b971-4a0f5244ce88\",\"type\":\"ResetTool\"},{\"id\":\"4754b064-b821-405a-be8d-58911f9ebd5a\",\"type\":\"HelpTool\"},{\"id\":\"e8ed9273-6304-4eed-9526-241f418e6df0\",\"type\":\"HoverTool\"}]},\"id\":\"08f3ac62-3f7b-4ae5-9ed0-e8974aa3debd\",\"type\":\"Toolbar\"},{\"attributes\":{\"callback\":null,\"end\":5492.7,\"start\":1260.3},\"id\":\"cdb2648b-c2c6-4ab3-ad6c-04a903a216dc\",\"type\":\"Range1d\"},{\"attributes\":{\"plot\":{\"id\":\"47ed0501-f3b7-46a1-8c42-6cc252d0526a\",\"subtype\":\"Chart\",\"type\":\"Plot\"},\"ticker\":{\"id\":\"b15a92bc-afff-49ae-8bce-3d42c3c84be5\",\"type\":\"BasicTicker\"}},\"id\":\"65fb305e-d5ad-413e-9a5a-b6ff431b302e\",\"type\":\"Grid\"},{\"attributes\":{\"plot\":{\"id\":\"47ed0501-f3b7-46a1-8c42-6cc252d0526a\",\"subtype\":\"Chart\",\"type\":\"Plot\"}},\"id\":\"413b5fda-fde9-4932-aa94-69969703e66a\",\"type\":\"SaveTool\"},{\"attributes\":{\"below\":[{\"id\":\"f9290b20-fb90-4ad1-b26b-78a5e49cc16a\",\"type\":\"LinearAxis\"}],\"left\":[{\"id\":\"28229e18-5272-486c-b6a6-595a085c2a7c\",\"type\":\"LinearAxis\"}],\"renderers\":[{\"id\":\"cac24b8c-fd09-463c-9b54-90fc2d983b7d\",\"type\":\"BoxAnnotation\"},{\"id\":\"9dd71ebe-f882-48cd-954e-5c2e3e0d5092\",\"type\":\"GlyphRenderer\"},{\"id\":\"2de410e4-0b01-4247-b267-ae0f37b68d08\",\"type\":\"Legend\"},{\"id\":\"f9290b20-fb90-4ad1-b26b-78a5e49cc16a\",\"type\":\"LinearAxis\"},{\"id\":\"28229e18-5272-486c-b6a6-595a085c2a7c\",\"type\":\"LinearAxis\"},{\"id\":\"65fb305e-d5ad-413e-9a5a-b6ff431b302e\",\"type\":\"Grid\"},{\"id\":\"8e448a4d-fe5f-42a0-957c-e314c4cb8114\",\"type\":\"Grid\"}],\"title\":{\"id\":\"435f43a0-ecc8-4343-8b2c-ffb588d41cea\",\"type\":\"Title\"},\"tool_events\":{\"id\":\"8015f953-0ff1-46f4-af28-81642c4b3576\",\"type\":\"ToolEvents\"},\"toolbar\":{\"id\":\"08f3ac62-3f7b-4ae5-9ed0-e8974aa3debd\",\"type\":\"Toolbar\"},\"x_mapper_type\":\"auto\",\"x_range\":{\"id\":\"cdb2648b-c2c6-4ab3-ad6c-04a903a216dc\",\"type\":\"Range1d\"},\"y_mapper_type\":\"auto\",\"y_range\":{\"id\":\"d8a68a79-4688-4b95-b51d-c7af0ec9e7f0\",\"type\":\"Range1d\"}},\"id\":\"47ed0501-f3b7-46a1-8c42-6cc252d0526a\",\"subtype\":\"Chart\",\"type\":\"Plot\"},{\"attributes\":{\"plot\":{\"id\":\"47ed0501-f3b7-46a1-8c42-6cc252d0526a\",\"subtype\":\"Chart\",\"type\":\"Plot\"}},\"id\":\"062a8df0-972a-44e3-b745-162231a68f04\",\"type\":\"PanTool\"},{\"attributes\":{},\"id\":\"5758e2ca-ebe9-4af8-becf-6b9ff59e9cdb\",\"type\":\"BasicTickFormatter\"},{\"attributes\":{\"plot\":null,\"text\":\"Weight vs Fuel Efficiency\"},\"id\":\"435f43a0-ecc8-4343-8b2c-ffb588d41cea\",\"type\":\"Title\"},{\"attributes\":{},\"id\":\"8015f953-0ff1-46f4-af28-81642c4b3576\",\"type\":\"ToolEvents\"},{\"attributes\":{\"data_source\":{\"id\":\"287ec268-eb96-42dd-9de0-6f5644987851\",\"type\":\"ColumnDataSource\"},\"glyph\":{\"id\":\"6ec4da91-b497-4fa9-ba6a-28a7ab0a8aa2\",\"type\":\"Circle\"},\"hover_glyph\":null,\"nonselection_glyph\":null,\"selection_glyph\":null},\"id\":\"9dd71ebe-f882-48cd-954e-5c2e3e0d5092\",\"type\":\"GlyphRenderer\"},{\"attributes\":{\"axis_label\":\"Weight (Pounds)\",\"formatter\":{\"id\":\"5758e2ca-ebe9-4af8-becf-6b9ff59e9cdb\",\"type\":\"BasicTickFormatter\"},\"plot\":{\"id\":\"47ed0501-f3b7-46a1-8c42-6cc252d0526a\",\"subtype\":\"Chart\",\"type\":\"Plot\"},\"ticker\":{\"id\":\"b15a92bc-afff-49ae-8bce-3d42c3c84be5\",\"type\":\"BasicTicker\"}},\"id\":\"f9290b20-fb90-4ad1-b26b-78a5e49cc16a\",\"type\":\"LinearAxis\"},{\"attributes\":{\"callback\":null,\"plot\":{\"id\":\"47ed0501-f3b7-46a1-8c42-6cc252d0526a\",\"subtype\":\"Chart\",\"type\":\"Plot\"},\"tooltips\":[[\"Car Model\",\"@name\"],[\"Cylinders\",\"@cyl\"],[\"Horsepower\",\"@hp\"],[\"Acceleration\",\"@accel\"],[\"Model Year\",\"@yr\"]]},\"id\":\"e8ed9273-6304-4eed-9526-241f418e6df0\",\"type\":\"HoverTool\"},{\"attributes\":{\"location\":\"top_left\",\"plot\":{\"id\":\"47ed0501-f3b7-46a1-8c42-6cc252d0526a\",\"subtype\":\"Chart\",\"type\":\"Plot\"}},\"id\":\"2de410e4-0b01-4247-b267-ae0f37b68d08\",\"type\":\"Legend\"},{\"attributes\":{\"dimension\":1,\"plot\":{\"id\":\"47ed0501-f3b7-46a1-8c42-6cc252d0526a\",\"subtype\":\"Chart\",\"type\":\"Plot\"},\"ticker\":{\"id\":\"4ef918c6-8a6c-4f50-93e3-e53f520bbfae\",\"type\":\"BasicTicker\"}},\"id\":\"8e448a4d-fe5f-42a0-957c-e314c4cb8114\",\"type\":\"Grid\"},{\"attributes\":{\"plot\":{\"id\":\"47ed0501-f3b7-46a1-8c42-6cc252d0526a\",\"subtype\":\"Chart\",\"type\":\"Plot\"}},\"id\":\"106fb822-5050-41a4-8d2d-dbf38cdf137c\",\"type\":\"WheelZoomTool\"},{\"attributes\":{\"overlay\":{\"id\":\"cac24b8c-fd09-463c-9b54-90fc2d983b7d\",\"type\":\"BoxAnnotation\"},\"plot\":{\"id\":\"47ed0501-f3b7-46a1-8c42-6cc252d0526a\",\"subtype\":\"Chart\",\"type\":\"Plot\"}},\"id\":\"6bc1404d-7f25-409e-ad0b-d95b6c5e9ab9\",\"type\":\"BoxZoomTool\"},{\"attributes\":{\"fill_alpha\":{\"value\":0.7},\"fill_color\":{\"value\":\"#f22c40\"},\"line_color\":{\"value\":\"#f22c40\"},\"size\":{\"units\":\"screen\",\"value\":8},\"x\":{\"field\":\"x_values\"},\"y\":{\"field\":\"y_values\"}},\"id\":\"6ec4da91-b497-4fa9-ba6a-28a7ab0a8aa2\",\"type\":\"Circle\"},{\"attributes\":{\"plot\":{\"id\":\"47ed0501-f3b7-46a1-8c42-6cc252d0526a\",\"subtype\":\"Chart\",\"type\":\"Plot\"}},\"id\":\"afd9f6b7-5b83-453a-b971-4a0f5244ce88\",\"type\":\"ResetTool\"},{\"attributes\":{},\"id\":\"13cb956b-c0d5-451f-9945-f123eaf5e0d2\",\"type\":\"BasicTickFormatter\"},{\"attributes\":{\"axis_label\":\"Miles Per Gallon\",\"formatter\":{\"id\":\"13cb956b-c0d5-451f-9945-f123eaf5e0d2\",\"type\":\"BasicTickFormatter\"},\"plot\":{\"id\":\"47ed0501-f3b7-46a1-8c42-6cc252d0526a\",\"subtype\":\"Chart\",\"type\":\"Plot\"},\"ticker\":{\"id\":\"4ef918c6-8a6c-4f50-93e3-e53f520bbfae\",\"type\":\"BasicTicker\"}},\"id\":\"28229e18-5272-486c-b6a6-595a085c2a7c\",\"type\":\"LinearAxis\"},{\"attributes\":{},\"id\":\"b15a92bc-afff-49ae-8bce-3d42c3c84be5\",\"type\":\"BasicTicker\"},{\"attributes\":{\"bottom_units\":\"screen\",\"fill_alpha\":{\"value\":0.5},\"fill_color\":{\"value\":\"lightgrey\"},\"left_units\":\"screen\",\"level\":\"overlay\",\"line_alpha\":{\"value\":1.0},\"line_color\":{\"value\":\"black\"},\"line_dash\":[4,4],\"line_width\":{\"value\":2},\"plot\":null,\"render_mode\":\"css\",\"right_units\":\"screen\",\"top_units\":\"screen\"},\"id\":\"cac24b8c-fd09-463c-9b54-90fc2d983b7d\",\"type\":\"BoxAnnotation\"},{\"attributes\":{\"callback\":null,\"end\":50.36,\"start\":5.24},\"id\":\"d8a68a79-4688-4b95-b51d-c7af0ec9e7f0\",\"type\":\"Range1d\"}],\"root_ids\":[\"47ed0501-f3b7-46a1-8c42-6cc252d0526a\"]},\"title\":\"Bokeh Application\",\"version\":\"0.12.3\"}};\n",
       "            var render_items = [{\"docid\":\"4c369605-9d34-4a93-b217-2d22a7528e4e\",\"elementid\":\"ca1cbaa9-30a1-45bd-836c-57590ceccfe6\",\"modelid\":\"47ed0501-f3b7-46a1-8c42-6cc252d0526a\"}];\n",
       "            \n",
       "            Bokeh.embed.embed_items(docs_json, render_items);\n",
       "        });\n",
       "      },\n",
       "      function(Bokeh) {\n",
       "      }\n",
       "    ];\n",
       "  \n",
       "    function run_inline_js() {\n",
       "      \n",
       "      if ((window.Bokeh !== undefined) || (force === \"1\")) {\n",
       "        for (var i = 0; i < inline_js.length; i++) {\n",
       "          inline_js[i](window.Bokeh);\n",
       "        }if (force === \"1\") {\n",
       "          display_loaded();\n",
       "        }} else if (Date.now() < window._bokeh_timeout) {\n",
       "        setTimeout(run_inline_js, 100);\n",
       "      } else if (!window._bokeh_failed_load) {\n",
       "        console.log(\"Bokeh: BokehJS failed to load within specified timeout.\");\n",
       "        window._bokeh_failed_load = true;\n",
       "      } else if (!force) {\n",
       "        var cell = $(\"#ca1cbaa9-30a1-45bd-836c-57590ceccfe6\").parents('.cell').data().cell;\n",
       "        cell.output_area.append_execute_result(NB_LOAD_WARNING)\n",
       "      }\n",
       "  \n",
       "    }\n",
       "  \n",
       "    if (window._bokeh_is_loading === 0) {\n",
       "      console.log(\"Bokeh: BokehJS loaded, going straight to plotting\");\n",
       "      run_inline_js();\n",
       "    } else {\n",
       "      load_libs(js_urls, function() {\n",
       "        console.log(\"Bokeh: BokehJS plotting callback run at\", now());\n",
       "        run_inline_js();\n",
       "      });\n",
       "    }\n",
       "  }(this));\n",
       "</script>"
      ]
     },
     "metadata": {},
     "output_type": "display_data"
    }
   ],
   "source": [
    "tooltips = [\n",
    "    ('Car Model', '@name'),\n",
    "    ('Cylinders', '@cyl'),\n",
    "    ('Horsepower', '@hp'),\n",
    "    ('Acceleration', '@accel'),\n",
    "    ('Model Year', '@yr')\n",
    "]\n",
    "\n",
    "p = bkc.Scatter(autompg, x='weight', y='mpg', xlabel='Weight (Pounds)', \n",
    "                ylabel='Miles Per Gallon', tooltips=tooltips,\n",
    "               title='Weight vs Fuel Efficiency')\n",
    "bkc.show(p)"
   ]
  },
  {
   "cell_type": "markdown",
   "metadata": {
    "nbpresent": {
     "id": "71a4bbbf-91d4-4c97-a72e-6e22385f0f83"
    }
   },
   "source": [
    "## `bokeh.plotting`"
   ]
  },
  {
   "cell_type": "markdown",
   "metadata": {
    "nbpresent": {
     "id": "5abb94b6-6d58-4680-acf8-af82e95e0a18"
    }
   },
   "source": [
    "Working with the plotting interface enables more powerful functionality. For example, it is easy to enable linked panning and brushing across plots and to customize the tools that are available."
   ]
  },
  {
   "cell_type": "code",
   "execution_count": 6,
   "metadata": {
    "collapsed": false,
    "nbpresent": {
     "id": "b259fbcb-22a0-4b1d-ad55-22189a57fe40"
    }
   },
   "outputs": [
    {
     "data": {
      "text/html": [
       "\n",
       "\n",
       "    <div class=\"bk-root\">\n",
       "        <div class=\"plotdiv\" id=\"810ed067-5ac3-4743-8550-25300eb7f2d7\"></div>\n",
       "    </div>\n",
       "<script type=\"text/javascript\">\n",
       "  \n",
       "  (function(global) {\n",
       "    function now() {\n",
       "      return new Date();\n",
       "    }\n",
       "  \n",
       "    var force = \"\";\n",
       "  \n",
       "    if (typeof (window._bokeh_onload_callbacks) === \"undefined\" || force !== \"\") {\n",
       "      window._bokeh_onload_callbacks = [];\n",
       "      window._bokeh_is_loading = undefined;\n",
       "    }\n",
       "  \n",
       "  \n",
       "    \n",
       "    if (typeof (window._bokeh_timeout) === \"undefined\" || force !== \"\") {\n",
       "      window._bokeh_timeout = Date.now() + 0;\n",
       "      window._bokeh_failed_load = false;\n",
       "    }\n",
       "  \n",
       "    var NB_LOAD_WARNING = {'data': {'text/html':\n",
       "       \"<div style='background-color: #fdd'>\\n\"+\n",
       "       \"<p>\\n\"+\n",
       "       \"BokehJS does not appear to have successfully loaded. If loading BokehJS from CDN, this \\n\"+\n",
       "       \"may be due to a slow or bad network connection. Possible fixes:\\n\"+\n",
       "       \"</p>\\n\"+\n",
       "       \"<ul>\\n\"+\n",
       "       \"<li>re-rerun `output_notebook()` to attempt to load from CDN again, or</li>\\n\"+\n",
       "       \"<li>use INLINE resources instead, as so:</li>\\n\"+\n",
       "       \"</ul>\\n\"+\n",
       "       \"<code>\\n\"+\n",
       "       \"from bokeh.resources import INLINE\\n\"+\n",
       "       \"output_notebook(resources=INLINE)\\n\"+\n",
       "       \"</code>\\n\"+\n",
       "       \"</div>\"}};\n",
       "  \n",
       "    function display_loaded() {\n",
       "      if (window.Bokeh !== undefined) {\n",
       "        Bokeh.$(\"#810ed067-5ac3-4743-8550-25300eb7f2d7\").text(\"BokehJS successfully loaded.\");\n",
       "      } else if (Date.now() < window._bokeh_timeout) {\n",
       "        setTimeout(display_loaded, 100)\n",
       "      }\n",
       "    }\n",
       "  \n",
       "    function run_callbacks() {\n",
       "      window._bokeh_onload_callbacks.forEach(function(callback) { callback() });\n",
       "      delete window._bokeh_onload_callbacks\n",
       "      console.info(\"Bokeh: all callbacks have finished\");\n",
       "    }\n",
       "  \n",
       "    function load_libs(js_urls, callback) {\n",
       "      window._bokeh_onload_callbacks.push(callback);\n",
       "      if (window._bokeh_is_loading > 0) {\n",
       "        console.log(\"Bokeh: BokehJS is being loaded, scheduling callback at\", now());\n",
       "        return null;\n",
       "      }\n",
       "      if (js_urls == null || js_urls.length === 0) {\n",
       "        run_callbacks();\n",
       "        return null;\n",
       "      }\n",
       "      console.log(\"Bokeh: BokehJS not loaded, scheduling load and callback at\", now());\n",
       "      window._bokeh_is_loading = js_urls.length;\n",
       "      for (var i = 0; i < js_urls.length; i++) {\n",
       "        var url = js_urls[i];\n",
       "        var s = document.createElement('script');\n",
       "        s.src = url;\n",
       "        s.async = false;\n",
       "        s.onreadystatechange = s.onload = function() {\n",
       "          window._bokeh_is_loading--;\n",
       "          if (window._bokeh_is_loading === 0) {\n",
       "            console.log(\"Bokeh: all BokehJS libraries loaded\");\n",
       "            run_callbacks()\n",
       "          }\n",
       "        };\n",
       "        s.onerror = function() {\n",
       "          console.warn(\"failed to load library \" + url);\n",
       "        };\n",
       "        console.log(\"Bokeh: injecting script tag for BokehJS library: \", url);\n",
       "        document.getElementsByTagName(\"head\")[0].appendChild(s);\n",
       "      }\n",
       "    };var element = document.getElementById(\"810ed067-5ac3-4743-8550-25300eb7f2d7\");\n",
       "    if (element == null) {\n",
       "      console.log(\"Bokeh: ERROR: autoload.js configured with elementid '810ed067-5ac3-4743-8550-25300eb7f2d7' but no matching script tag was found. \")\n",
       "      return false;\n",
       "    }\n",
       "  \n",
       "    var js_urls = [];\n",
       "  \n",
       "    var inline_js = [\n",
       "      function(Bokeh) {\n",
       "        Bokeh.$(function() {\n",
       "            var docs_json = {\"a9db3f7d-7cea-43e6-bd4b-129596b79c59\":{\"roots\":{\"references\":[{\"attributes\":{\"formatter\":{\"id\":\"1e7a2574-1b41-4c1c-889b-2a57b79e5da7\",\"type\":\"BasicTickFormatter\"},\"plot\":{\"id\":\"1f43a93b-ddaa-4791-878e-aca7d07f7f40\",\"subtype\":\"Figure\",\"type\":\"Plot\"},\"ticker\":{\"id\":\"af85923b-6a2a-4a90-98d3-9c03e42b9ccf\",\"type\":\"BasicTicker\"}},\"id\":\"1fe29e01-2bca-4561-a999-b02b6b99bac3\",\"type\":\"LinearAxis\"},{\"attributes\":{\"fill_alpha\":{\"value\":0.1},\"fill_color\":{\"value\":\"#1f77b4\"},\"line_alpha\":{\"value\":0.1},\"line_color\":{\"value\":\"#1f77b4\"},\"size\":{\"units\":\"screen\",\"value\":10},\"x\":{\"field\":\"weight\"},\"y\":{\"field\":\"accel\"}},\"id\":\"af3d2424-2b9e-4213-8730-e9123dfe560e\",\"type\":\"Triangle\"},{\"attributes\":{\"callback\":null,\"column_names\":[\"displ\",\"yr\",\"hp\",\"weight\",\"accel\",\"mpg\",\"cyl\",\"index\",\"name\",\"origin\"],\"data\":{\"accel\":[12.0,11.5,11.0,12.0,10.5,10.0,9.0,8.5,10.0,8.5,10.0,8.0,9.5,10.0,15.0,15.5,15.5,16.0,14.5,20.5,17.5,14.5,17.5,12.5,15.0,14.0,15.0,13.5,18.5,14.5,15.5,14.0,13.0,15.5,15.5,15.5,15.5,12.0,11.5,13.5,13.0,11.5,12.0,12.0,13.5,19.0,15.0,14.5,14.0,14.0,19.5,14.5,19.0,18.0,19.0,20.5,15.5,17.0,23.5,19.5,16.5,12.0,12.0,13.5,13.0,11.5,11.0,13.5,13.5,12.5,13.5,12.5,14.0,16.0,14.0,14.5,18.0,19.5,18.0,16.0,17.0,14.5,15.0,16.5,13.0,11.5,13.0,14.5,12.5,11.5,12.0,13.0,14.5,11.0,11.0,11.0,16.5,18.0,16.0,16.5,16.0,21.0,14.0,12.5,13.0,12.5,15.0,19.0,19.5,16.5,13.5,18.5,14.0,15.5,13.0,9.5,19.5,15.5,14.0,15.5,11.0,14.0,13.5,11.0,16.5,16.0,17.0,19.0,16.5,21.0,17.0,17.0,18.0,16.5,14.0,14.5,13.5,16.0,15.5,16.5,15.5,14.5,16.5,19.0,14.5,15.5,14.0,15.0,15.5,16.0,16.0,16.0,21.0,19.5,11.5,14.0,14.5,13.5,21.0,18.5,19.0,19.0,15.0,13.5,12.0,16.0,17.0,16.0,18.5,13.5,16.5,17.0,14.5,14.0,17.0,15.0,17.0,14.5,13.5,17.5,15.5,16.9,14.9,17.7,15.3,13.0,13.0,13.9,12.8,15.4,14.5,17.6,17.6,22.2,22.1,14.2,17.4,17.7,21.0,16.2,17.8,12.2,17.0,16.4,13.6,15.7,13.2,21.9,15.5,16.7,12.1,12.0,15.0,14.0,18.5,14.8,18.6,15.5,16.8,12.5,19.0,13.7,14.9,16.4,16.9,17.7,19.0,11.1,11.4,12.2,14.5,14.5,16.0,18.2,15.8,17.0,15.9,16.4,14.1,14.5,12.8,13.5,21.5,14.4,19.4,18.6,16.4,15.5,13.2,12.8,19.2,18.2,15.8,15.4,17.2,17.2,15.8,16.7,18.7,15.1,13.2,13.4,11.2,13.7,16.5,14.2,14.7,14.5,14.8,16.7,17.6,14.9,15.9,13.6,15.7,15.8,14.9,16.6,15.4,18.2,17.3,18.2,16.6,15.4,13.4,13.2,15.2,14.9,14.3,15.0,13.0,14.0,15.2,14.4,15.0,20.1,17.4,24.8,22.2,13.2,14.9,19.2,14.7,16.0,11.3,12.9,13.2,14.7,18.8,15.5,16.4,16.5,18.1,20.1,18.7,15.8,15.5,17.5,15.0,15.2,17.9,14.4,19.2,21.7,23.7,19.9,21.8,13.8,18.0,15.3,11.4,12.5,15.1,17.0,15.7,16.4,14.4,12.6,12.9,16.9,16.4,16.1,17.8,19.4,17.3,16.0,14.9,16.2,20.7,14.2,14.4,16.8,14.8,18.3,20.4,19.6,12.6,13.8,15.8,19.0,17.1,16.6,19.6,18.6,18.0,16.2,16.0,18.0,16.4,15.3,18.2,17.6,14.7,17.3,14.5,14.5,16.9,15.0,15.7,16.2,16.4,17.0,14.5,14.7,13.9,13.0,17.3,15.6,24.6,11.6,18.6,19.4],\"cyl\":[8,8,8,8,8,8,8,8,8,8,8,8,8,8,4,6,6,6,4,4,4,4,4,4,6,8,8,8,8,4,4,4,6,6,6,6,6,8,8,8,8,8,8,8,6,4,6,6,4,4,4,4,4,4,4,4,4,4,4,4,4,8,8,8,8,8,8,8,8,8,3,8,8,8,8,4,4,4,4,4,4,4,4,4,8,8,8,8,8,8,8,8,8,8,8,8,6,6,6,6,6,4,8,8,8,8,6,4,4,4,3,4,6,4,8,8,4,4,4,4,8,4,6,8,6,6,6,4,4,4,4,6,6,6,8,8,8,8,8,4,4,4,4,4,4,4,4,4,4,4,6,6,6,6,8,8,8,8,6,6,6,6,6,8,8,4,4,6,4,4,4,4,6,4,6,4,4,4,4,4,4,4,4,4,4,8,8,8,8,6,6,6,6,4,4,4,4,6,6,6,6,4,4,4,4,4,8,4,6,6,8,8,8,8,4,4,4,4,4,8,8,8,8,6,6,6,6,8,8,8,8,4,4,4,4,4,4,4,4,6,4,3,4,4,4,4,4,8,8,8,6,6,6,4,6,6,6,6,6,6,8,6,8,8,4,4,4,4,4,4,4,4,5,6,4,6,4,4,6,6,4,6,6,8,8,8,8,8,8,8,8,4,4,4,4,5,8,4,8,4,4,4,4,4,6,6,4,4,4,4,4,4,4,4,6,4,4,4,4,4,4,4,4,4,4,5,4,4,4,4,6,3,4,4,4,4,4,6,4,4,4,4,4,4,4,4,4,4,4,4,4,4,4,4,4,6,6,6,6,8,6,6,4,4,4,4,4,4,4,4,4,4,4,4,4,4,4,4,4,4,6,6,4,6,4,4,4,4,4,4,4,4],\"displ\":[307.0,350.0,318.0,304.0,302.0,429.0,454.0,440.0,455.0,390.0,383.0,340.0,400.0,455.0,113.0,198.0,199.0,200.0,97.0,97.0,110.0,107.0,104.0,121.0,199.0,360.0,307.0,318.0,304.0,97.0,140.0,113.0,232.0,225.0,250.0,250.0,232.0,350.0,400.0,351.0,318.0,383.0,400.0,400.0,258.0,140.0,250.0,250.0,122.0,116.0,79.0,88.0,71.0,72.0,97.0,91.0,113.0,97.5,97.0,140.0,122.0,350.0,400.0,318.0,351.0,304.0,429.0,350.0,350.0,400.0,70.0,304.0,307.0,302.0,318.0,121.0,121.0,120.0,96.0,122.0,97.0,120.0,98.0,97.0,350.0,304.0,350.0,302.0,318.0,429.0,400.0,351.0,318.0,440.0,455.0,360.0,225.0,250.0,232.0,250.0,198.0,97.0,400.0,400.0,360.0,350.0,232.0,97.0,140.0,108.0,70.0,122.0,155.0,98.0,350.0,400.0,68.0,116.0,114.0,121.0,318.0,121.0,156.0,350.0,198.0,232.0,250.0,79.0,122.0,71.0,140.0,250.0,258.0,225.0,302.0,350.0,318.0,302.0,304.0,98.0,79.0,97.0,76.0,83.0,90.0,90.0,116.0,120.0,108.0,79.0,225.0,250.0,250.0,250.0,400.0,350.0,318.0,351.0,231.0,250.0,258.0,225.0,231.0,262.0,302.0,97.0,140.0,232.0,140.0,134.0,90.0,119.0,171.0,90.0,232.0,115.0,120.0,121.0,121.0,91.0,107.0,116.0,140.0,98.0,101.0,305.0,318.0,304.0,351.0,225.0,250.0,200.0,232.0,85.0,98.0,90.0,91.0,225.0,250.0,250.0,258.0,97.0,85.0,97.0,140.0,130.0,318.0,120.0,156.0,168.0,350.0,350.0,302.0,318.0,98.0,111.0,79.0,122.0,85.0,305.0,260.0,318.0,302.0,250.0,231.0,225.0,250.0,400.0,350.0,400.0,351.0,97.0,151.0,97.0,140.0,98.0,98.0,97.0,97.0,146.0,121.0,80.0,90.0,98.0,78.0,85.0,91.0,260.0,318.0,302.0,231.0,200.0,200.0,140.0,225.0,232.0,231.0,200.0,225.0,258.0,305.0,231.0,302.0,318.0,98.0,134.0,119.0,105.0,134.0,156.0,151.0,119.0,131.0,163.0,121.0,163.0,89.0,98.0,231.0,200.0,140.0,232.0,225.0,305.0,302.0,351.0,318.0,350.0,351.0,267.0,360.0,89.0,86.0,98.0,121.0,183.0,350.0,141.0,260.0,105.0,105.0,85.0,91.0,151.0,173.0,173.0,151.0,98.0,89.0,98.0,86.0,151.0,140.0,151.0,225.0,97.0,134.0,120.0,119.0,108.0,86.0,156.0,85.0,90.0,90.0,121.0,146.0,91.0,97.0,89.0,168.0,70.0,122.0,107.0,135.0,151.0,156.0,173.0,135.0,79.0,86.0,81.0,97.0,85.0,89.0,91.0,105.0,98.0,98.0,105.0,107.0,108.0,119.0,120.0,141.0,145.0,168.0,146.0,231.0,350.0,200.0,225.0,112.0,112.0,112.0,112.0,135.0,151.0,140.0,105.0,91.0,91.0,105.0,98.0,120.0,107.0,108.0,91.0,91.0,91.0,181.0,262.0,156.0,232.0,144.0,135.0,151.0,140.0,97.0,135.0,120.0,119.0],\"hp\":[130,165,150,150,140,198,220,215,225,190,170,160,150,225,95,95,97,85,88,46,87,90,95,113,90,215,200,210,193,88,90,95,100,105,100,88,100,165,175,153,150,180,170,175,110,72,100,88,86,90,70,76,65,69,60,70,95,80,54,90,86,165,175,150,153,150,208,155,160,190,97,150,130,140,150,112,76,87,69,86,92,97,80,88,175,150,145,137,150,198,150,158,150,215,225,175,105,100,100,88,95,46,150,167,170,180,100,88,72,94,90,85,107,90,145,230,49,75,91,112,150,110,122,180,95,100,100,67,80,65,75,100,110,105,140,150,150,140,150,83,67,78,52,61,75,75,75,97,93,67,95,105,72,72,170,145,150,148,110,105,110,95,110,110,129,75,83,100,78,96,71,97,97,70,90,95,88,98,115,53,86,81,92,79,83,140,150,120,152,100,105,81,90,52,60,70,53,100,78,110,95,71,70,75,72,102,150,88,108,120,180,145,130,150,68,80,58,96,70,145,110,145,130,110,105,100,98,180,170,190,149,78,88,75,89,63,83,67,78,97,110,110,48,66,52,70,60,110,140,139,105,95,85,88,100,90,105,85,110,120,145,165,139,140,68,95,97,75,95,105,85,97,103,125,115,133,71,68,115,85,88,90,110,130,129,138,135,155,142,125,150,71,65,80,80,77,125,71,90,70,70,65,69,90,115,115,90,76,60,70,65,90,88,90,90,78,90,75,92,75,65,105,65,48,48,67,67,67,67,62,132,100,88,72,84,84,92,110,84,58,64,60,67,65,62,68,63,65,65,74,75,75,100,74,80,76,116,120,110,105,88,85,88,88,88,85,84,90,92,74,68,68,63,70,88,75,70,67,67,67,110,85,92,112,96,84,90,86,52,84,79,82],\"index\":[0,1,2,3,4,5,6,7,8,9,10,11,12,13,14,15,16,17,18,19,20,21,22,23,24,25,26,27,28,29,30,31,32,33,34,35,36,37,38,39,40,41,42,43,44,45,46,47,48,49,50,51,52,53,54,55,56,57,58,59,60,61,62,63,64,65,66,67,68,69,70,71,72,73,74,75,76,77,78,79,80,81,82,83,84,85,86,87,88,89,90,91,92,93,94,95,96,97,98,99,100,101,102,103,104,105,106,107,108,109,110,111,112,113,114,115,116,117,118,119,120,121,122,123,124,125,126,127,128,129,130,131,132,133,134,135,136,137,138,139,140,141,142,143,144,145,146,147,148,149,150,151,152,153,154,155,156,157,158,159,160,161,162,163,164,165,166,167,168,169,170,171,172,173,174,175,176,177,178,179,180,181,182,183,184,185,186,187,188,189,190,191,192,193,194,195,196,197,198,199,200,201,202,203,204,205,206,207,208,209,210,211,212,213,214,215,216,217,218,219,220,221,222,223,224,225,226,227,228,229,230,231,232,233,234,235,236,237,238,239,240,241,242,243,244,245,246,247,248,249,250,251,252,253,254,255,256,257,258,259,260,261,262,263,264,265,266,267,268,269,270,271,272,273,274,275,276,277,278,279,280,281,282,283,284,285,286,287,288,289,290,291,292,293,294,295,296,297,298,299,300,301,302,303,304,305,306,307,308,309,310,311,312,313,314,315,316,317,318,319,320,321,322,323,324,325,326,327,328,329,330,331,332,333,334,335,336,337,338,339,340,341,342,343,344,345,346,347,348,349,350,351,352,353,354,355,356,357,358,359,360,361,362,363,364,365,366,367,368,369,370,371,372,373,374,375,376,377,378,379,380,381,382,383,384,385,386,387,388,389,390,391],\"mpg\":[18.0,15.0,18.0,16.0,17.0,15.0,14.0,14.0,14.0,15.0,15.0,14.0,15.0,14.0,24.0,22.0,18.0,21.0,27.0,26.0,25.0,24.0,25.0,26.0,21.0,10.0,10.0,11.0,9.0,27.0,28.0,25.0,19.0,16.0,17.0,19.0,18.0,14.0,14.0,14.0,14.0,12.0,13.0,13.0,18.0,22.0,19.0,18.0,23.0,28.0,30.0,30.0,31.0,35.0,27.0,26.0,24.0,25.0,23.0,20.0,21.0,13.0,14.0,15.0,14.0,17.0,11.0,13.0,12.0,13.0,19.0,15.0,13.0,13.0,14.0,18.0,22.0,21.0,26.0,22.0,28.0,23.0,28.0,27.0,13.0,14.0,13.0,14.0,15.0,12.0,13.0,13.0,14.0,13.0,12.0,13.0,18.0,16.0,18.0,18.0,23.0,26.0,11.0,12.0,13.0,12.0,18.0,20.0,21.0,22.0,18.0,19.0,21.0,26.0,15.0,16.0,29.0,24.0,20.0,19.0,15.0,24.0,20.0,11.0,20.0,19.0,15.0,31.0,26.0,32.0,25.0,16.0,16.0,18.0,16.0,13.0,14.0,14.0,14.0,29.0,26.0,26.0,31.0,32.0,28.0,24.0,26.0,24.0,26.0,31.0,19.0,18.0,15.0,15.0,16.0,15.0,16.0,14.0,17.0,16.0,15.0,18.0,21.0,20.0,13.0,29.0,23.0,20.0,23.0,24.0,25.0,24.0,18.0,29.0,19.0,23.0,23.0,22.0,25.0,33.0,28.0,25.0,25.0,26.0,27.0,17.5,16.0,15.5,14.5,22.0,22.0,24.0,22.5,29.0,24.5,29.0,33.0,20.0,18.0,18.5,17.5,29.5,32.0,28.0,26.5,20.0,13.0,19.0,19.0,16.5,16.5,13.0,13.0,13.0,31.5,30.0,36.0,25.5,33.5,17.5,17.0,15.5,15.0,17.5,20.5,19.0,18.5,16.0,15.5,15.5,16.0,29.0,24.5,26.0,25.5,30.5,33.5,30.0,30.5,22.0,21.5,21.5,43.1,36.1,32.8,39.4,36.1,19.9,19.4,20.2,19.2,20.5,20.2,25.1,20.5,19.4,20.6,20.8,18.6,18.1,19.2,17.7,18.1,17.5,30.0,27.5,27.2,30.9,21.1,23.2,23.8,23.9,20.3,17.0,21.6,16.2,31.5,29.5,21.5,19.8,22.3,20.2,20.6,17.0,17.6,16.5,18.2,16.9,15.5,19.2,18.5,31.9,34.1,35.7,27.4,25.4,23.0,27.2,23.9,34.2,34.5,31.8,37.3,28.4,28.8,26.8,33.5,41.5,38.1,32.1,37.2,28.0,26.4,24.3,19.1,34.3,29.8,31.3,37.0,32.2,46.6,27.9,40.8,44.3,43.4,36.4,30.0,44.6,33.8,29.8,32.7,23.7,35.0,32.4,27.2,26.6,25.8,23.5,30.0,39.1,39.0,35.1,32.3,37.0,37.7,34.1,34.7,34.4,29.9,33.0,33.7,32.4,32.9,31.6,28.1,30.7,25.4,24.2,22.4,26.6,20.2,17.6,28.0,27.0,34.0,31.0,29.0,27.0,24.0,36.0,37.0,31.0,38.0,36.0,36.0,36.0,34.0,38.0,32.0,38.0,25.0,38.0,26.0,22.0,32.0,36.0,27.0,27.0,44.0,32.0,28.0,31.0],\"name\":[\"chevrolet chevelle malibu\",\"buick skylark 320\",\"plymouth satellite\",\"amc rebel sst\",\"ford torino\",\"ford galaxie 500\",\"chevrolet impala\",\"plymouth fury iii\",\"pontiac catalina\",\"amc ambassador dpl\",\"dodge challenger se\",\"plymouth 'cuda 340\",\"chevrolet monte carlo\",\"buick estate wagon (sw)\",\"toyota corona mark ii\",\"plymouth duster\",\"amc hornet\",\"ford maverick\",\"datsun pl510\",\"volkswagen 1131 deluxe sedan\",\"peugeot 504\",\"audi 100 ls\",\"saab 99e\",\"bmw 2002\",\"amc gremlin\",\"ford f250\",\"chevy c20\",\"dodge d200\",\"hi 1200d\",\"datsun pl510\",\"chevrolet vega 2300\",\"toyota corona\",\"amc gremlin\",\"plymouth satellite custom\",\"chevrolet chevelle malibu\",\"ford torino 500\",\"amc matador\",\"chevrolet impala\",\"pontiac catalina brougham\",\"ford galaxie 500\",\"plymouth fury iii\",\"dodge monaco (sw)\",\"ford country squire (sw)\",\"pontiac safari (sw)\",\"amc hornet sportabout (sw)\",\"chevrolet vega (sw)\",\"pontiac firebird\",\"ford mustang\",\"mercury capri 2000\",\"opel 1900\",\"peugeot 304\",\"fiat 124b\",\"toyota corolla 1200\",\"datsun 1200\",\"volkswagen model 111\",\"plymouth cricket\",\"toyota corona hardtop\",\"dodge colt hardtop\",\"volkswagen type 3\",\"chevrolet vega\",\"ford pinto runabout\",\"chevrolet impala\",\"pontiac catalina\",\"plymouth fury iii\",\"ford galaxie 500\",\"amc ambassador sst\",\"mercury marquis\",\"buick lesabre custom\",\"oldsmobile delta 88 royale\",\"chrysler newport royal\",\"mazda rx2 coupe\",\"amc matador (sw)\",\"chevrolet chevelle concours (sw)\",\"ford gran torino (sw)\",\"plymouth satellite custom (sw)\",\"volvo 145e (sw)\",\"volkswagen 411 (sw)\",\"peugeot 504 (sw)\",\"renault 12 (sw)\",\"ford pinto (sw)\",\"datsun 510 (sw)\",\"toyouta corona mark ii (sw)\",\"dodge colt (sw)\",\"toyota corolla 1600 (sw)\",\"buick century 350\",\"amc matador\",\"chevrolet malibu\",\"ford gran torino\",\"dodge coronet custom\",\"mercury marquis brougham\",\"chevrolet caprice classic\",\"ford ltd\",\"plymouth fury gran sedan\",\"chrysler new yorker brougham\",\"buick electra 225 custom\",\"amc ambassador brougham\",\"plymouth valiant\",\"chevrolet nova custom\",\"amc hornet\",\"ford maverick\",\"plymouth duster\",\"volkswagen super beetle\",\"chevrolet impala\",\"ford country\",\"plymouth custom suburb\",\"oldsmobile vista cruiser\",\"amc gremlin\",\"toyota carina\",\"chevrolet vega\",\"datsun 610\",\"maxda rx3\",\"ford pinto\",\"mercury capri v6\",\"fiat 124 sport coupe\",\"chevrolet monte carlo s\",\"pontiac grand prix\",\"fiat 128\",\"opel manta\",\"audi 100ls\",\"volvo 144ea\",\"dodge dart custom\",\"saab 99le\",\"toyota mark ii\",\"oldsmobile omega\",\"plymouth duster\",\"amc hornet\",\"chevrolet nova\",\"datsun b210\",\"ford pinto\",\"toyota corolla 1200\",\"chevrolet vega\",\"chevrolet chevelle malibu classic\",\"amc matador\",\"plymouth satellite sebring\",\"ford gran torino\",\"buick century luxus (sw)\",\"dodge coronet custom (sw)\",\"ford gran torino (sw)\",\"amc matador (sw)\",\"audi fox\",\"volkswagen dasher\",\"opel manta\",\"toyota corona\",\"datsun 710\",\"dodge colt\",\"fiat 128\",\"fiat 124 tc\",\"honda civic\",\"subaru\",\"fiat x1.9\",\"plymouth valiant custom\",\"chevrolet nova\",\"mercury monarch\",\"ford maverick\",\"pontiac catalina\",\"chevrolet bel air\",\"plymouth grand fury\",\"ford ltd\",\"buick century\",\"chevroelt chevelle malibu\",\"amc matador\",\"plymouth fury\",\"buick skyhawk\",\"chevrolet monza 2+2\",\"ford mustang ii\",\"toyota corolla\",\"ford pinto\",\"amc gremlin\",\"pontiac astro\",\"toyota corona\",\"volkswagen dasher\",\"datsun 710\",\"ford pinto\",\"volkswagen rabbit\",\"amc pacer\",\"audi 100ls\",\"peugeot 504\",\"volvo 244dl\",\"saab 99le\",\"honda civic cvcc\",\"fiat 131\",\"opel 1900\",\"capri ii\",\"dodge colt\",\"renault 12tl\",\"chevrolet chevelle malibu classic\",\"dodge coronet brougham\",\"amc matador\",\"ford gran torino\",\"plymouth valiant\",\"chevrolet nova\",\"ford maverick\",\"amc hornet\",\"chevrolet chevette\",\"chevrolet woody\",\"vw rabbit\",\"honda civic\",\"dodge aspen se\",\"ford granada ghia\",\"pontiac ventura sj\",\"amc pacer d/l\",\"volkswagen rabbit\",\"datsun b-210\",\"toyota corolla\",\"ford pinto\",\"volvo 245\",\"plymouth volare premier v8\",\"peugeot 504\",\"toyota mark ii\",\"mercedes-benz 280s\",\"cadillac seville\",\"chevy c10\",\"ford f108\",\"dodge d100\",\"honda accord cvcc\",\"buick opel isuzu deluxe\",\"renault 5 gtl\",\"plymouth arrow gs\",\"datsun f-10 hatchback\",\"chevrolet caprice classic\",\"oldsmobile cutlass supreme\",\"dodge monaco brougham\",\"mercury cougar brougham\",\"chevrolet concours\",\"buick skylark\",\"plymouth volare custom\",\"ford granada\",\"pontiac grand prix lj\",\"chevrolet monte carlo landau\",\"chrysler cordoba\",\"ford thunderbird\",\"volkswagen rabbit custom\",\"pontiac sunbird coupe\",\"toyota corolla liftback\",\"ford mustang ii 2+2\",\"chevrolet chevette\",\"dodge colt m/m\",\"subaru dl\",\"volkswagen dasher\",\"datsun 810\",\"bmw 320i\",\"mazda rx-4\",\"volkswagen rabbit custom diesel\",\"ford fiesta\",\"mazda glc deluxe\",\"datsun b210 gx\",\"honda civic cvcc\",\"oldsmobile cutlass salon brougham\",\"dodge diplomat\",\"mercury monarch ghia\",\"pontiac phoenix lj\",\"chevrolet malibu\",\"ford fairmont (auto)\",\"ford fairmont (man)\",\"plymouth volare\",\"amc concord\",\"buick century special\",\"mercury zephyr\",\"dodge aspen\",\"amc concord d/l\",\"chevrolet monte carlo landau\",\"buick regal sport coupe (turbo)\",\"ford futura\",\"dodge magnum xe\",\"chevrolet chevette\",\"toyota corona\",\"datsun 510\",\"dodge omni\",\"toyota celica gt liftback\",\"plymouth sapporo\",\"oldsmobile starfire sx\",\"datsun 200-sx\",\"audi 5000\",\"volvo 264gl\",\"saab 99gle\",\"peugeot 604sl\",\"volkswagen scirocco\",\"honda accord lx\",\"pontiac lemans v6\",\"mercury zephyr 6\",\"ford fairmont 4\",\"amc concord dl 6\",\"dodge aspen 6\",\"chevrolet caprice classic\",\"ford ltd landau\",\"mercury grand marquis\",\"dodge st. regis\",\"buick estate wagon (sw)\",\"ford country squire (sw)\",\"chevrolet malibu classic (sw)\",\"chrysler lebaron town @ country (sw)\",\"vw rabbit custom\",\"maxda glc deluxe\",\"dodge colt hatchback custom\",\"amc spirit dl\",\"mercedes benz 300d\",\"cadillac eldorado\",\"peugeot 504\",\"oldsmobile cutlass salon brougham\",\"plymouth horizon\",\"plymouth horizon tc3\",\"datsun 210\",\"fiat strada custom\",\"buick skylark limited\",\"chevrolet citation\",\"oldsmobile omega brougham\",\"pontiac phoenix\",\"vw rabbit\",\"toyota corolla tercel\",\"chevrolet chevette\",\"datsun 310\",\"chevrolet citation\",\"ford fairmont\",\"amc concord\",\"dodge aspen\",\"audi 4000\",\"toyota corona liftback\",\"mazda 626\",\"datsun 510 hatchback\",\"toyota corolla\",\"mazda glc\",\"dodge colt\",\"datsun 210\",\"vw rabbit c (diesel)\",\"vw dasher (diesel)\",\"audi 5000s (diesel)\",\"mercedes-benz 240d\",\"honda civic 1500 gl\",\"subaru dl\",\"vokswagen rabbit\",\"datsun 280-zx\",\"mazda rx-7 gs\",\"triumph tr7 coupe\",\"honda accord\",\"plymouth reliant\",\"buick skylark\",\"dodge aries wagon (sw)\",\"chevrolet citation\",\"plymouth reliant\",\"toyota starlet\",\"plymouth champ\",\"honda civic 1300\",\"subaru\",\"datsun 210 mpg\",\"toyota tercel\",\"mazda glc 4\",\"plymouth horizon 4\",\"ford escort 4w\",\"ford escort 2h\",\"volkswagen jetta\",\"honda prelude\",\"toyota corolla\",\"datsun 200sx\",\"mazda 626\",\"peugeot 505s turbo diesel\",\"volvo diesel\",\"toyota cressida\",\"datsun 810 maxima\",\"buick century\",\"oldsmobile cutlass ls\",\"ford granada gl\",\"chrysler lebaron salon\",\"chevrolet cavalier\",\"chevrolet cavalier wagon\",\"chevrolet cavalier 2-door\",\"pontiac j2000 se hatchback\",\"dodge aries se\",\"pontiac phoenix\",\"ford fairmont futura\",\"volkswagen rabbit l\",\"mazda glc custom l\",\"mazda glc custom\",\"plymouth horizon miser\",\"mercury lynx l\",\"nissan stanza xe\",\"honda accord\",\"toyota corolla\",\"honda civic\",\"honda civic (auto)\",\"datsun 310 gx\",\"buick century limited\",\"oldsmobile cutlass ciera (diesel)\",\"chrysler lebaron medallion\",\"ford granada l\",\"toyota celica gt\",\"dodge charger 2.2\",\"chevrolet camaro\",\"ford mustang gl\",\"vw pickup\",\"dodge rampage\",\"ford ranger\",\"chevy s-10\"],\"origin\":[1,1,1,1,1,1,1,1,1,1,1,1,1,1,3,1,1,1,3,2,2,2,2,2,1,1,1,1,1,3,1,3,1,1,1,1,1,1,1,1,1,1,1,1,1,1,1,1,1,2,2,2,3,3,2,1,3,1,2,1,1,1,1,1,1,1,1,1,1,1,3,1,1,1,1,2,2,2,2,1,3,3,1,3,1,1,1,1,1,1,1,1,1,1,1,1,1,1,1,1,1,2,1,1,1,1,1,3,1,3,3,1,1,2,1,1,2,2,2,2,1,2,3,1,1,1,1,3,1,3,1,1,1,1,1,1,1,1,1,2,2,2,3,3,1,2,2,3,3,2,1,1,1,1,1,1,1,1,1,1,1,1,1,1,1,3,1,1,1,3,2,3,1,2,1,2,2,2,2,3,2,2,1,1,2,1,1,1,1,1,1,1,1,1,1,2,3,1,1,1,1,2,3,3,1,2,1,2,3,2,1,1,1,1,3,1,2,1,3,1,1,1,1,1,1,1,1,1,1,1,1,2,1,3,1,1,1,3,2,3,2,3,2,1,3,3,3,1,1,1,1,1,1,1,1,1,1,1,1,1,1,1,1,1,1,3,3,1,3,1,1,3,2,2,2,2,2,3,1,1,1,1,1,1,1,1,1,1,1,1,1,2,3,1,1,2,1,2,1,1,1,3,2,1,1,1,1,2,3,1,3,1,1,1,1,2,3,3,3,3,3,1,3,2,2,2,2,3,3,2,3,3,2,3,1,1,1,1,1,3,1,3,3,3,3,3,1,1,1,2,3,3,3,3,2,2,3,3,1,1,1,1,1,1,1,1,1,1,1,2,3,3,1,1,3,3,3,3,3,3,1,1,1,1,3,1,1,1,2,1,1,1],\"weight\":[3504,3693,3436,3433,3449,4341,4354,4312,4425,3850,3563,3609,3761,3086,2372,2833,2774,2587,2130,1835,2672,2430,2375,2234,2648,4615,4376,4382,4732,2130,2264,2228,2634,3439,3329,3302,3288,4209,4464,4154,4096,4955,4746,5140,2962,2408,3282,3139,2220,2123,2074,2065,1773,1613,1834,1955,2278,2126,2254,2408,2226,4274,4385,4135,4129,3672,4633,4502,4456,4422,2330,3892,4098,4294,4077,2933,2511,2979,2189,2395,2288,2506,2164,2100,4100,3672,3988,4042,3777,4952,4464,4363,4237,4735,4951,3821,3121,3278,2945,3021,2904,1950,4997,4906,4654,4499,2789,2279,2401,2379,2124,2310,2472,2265,4082,4278,1867,2158,2582,2868,3399,2660,2807,3664,3102,2901,3336,1950,2451,1836,2542,3781,3632,3613,4141,4699,4457,4638,4257,2219,1963,2300,1649,2003,2125,2108,2246,2489,2391,2000,3264,3459,3432,3158,4668,4440,4498,4657,3907,3897,3730,3785,3039,3221,3169,2171,2639,2914,2592,2702,2223,2545,2984,1937,3211,2694,2957,2945,2671,1795,2464,2220,2572,2255,2202,4215,4190,3962,4215,3233,3353,3012,3085,2035,2164,1937,1795,3651,3574,3645,3193,1825,1990,2155,2565,3150,3940,3270,2930,3820,4380,4055,3870,3755,2045,2155,1825,2300,1945,3880,4060,4140,4295,3520,3425,3630,3525,4220,4165,4325,4335,1940,2740,2265,2755,2051,2075,1985,2190,2815,2600,2720,1985,1800,1985,2070,1800,3365,3735,3570,3535,3155,2965,2720,3430,3210,3380,3070,3620,3410,3425,3445,3205,4080,2155,2560,2300,2230,2515,2745,2855,2405,2830,3140,2795,3410,1990,2135,3245,2990,2890,3265,3360,3840,3725,3955,3830,4360,4054,3605,3940,1925,1975,1915,2670,3530,3900,3190,3420,2200,2150,2020,2130,2670,2595,2700,2556,2144,1968,2120,2019,2678,2870,3003,3381,2188,2711,2542,2434,2265,2110,2800,2110,2085,2335,2950,3250,1850,2145,1845,2910,2420,2500,2290,2490,2635,2620,2725,2385,1755,1875,1760,2065,1975,2050,1985,2215,2045,2380,2190,2210,2350,2615,2635,3230,3160,2900,2930,3415,3725,3060,3465,2605,2640,2395,2575,2525,2735,2865,1980,2025,1970,2125,2125,2160,2205,2245,1965,1965,1995,2945,3015,2585,2835,2665,2370,2950,2790,2130,2295,2625,2720],\"yr\":[70,70,70,70,70,70,70,70,70,70,70,70,70,70,70,70,70,70,70,70,70,70,70,70,70,70,70,70,70,71,71,71,71,71,71,71,71,71,71,71,71,71,71,71,71,71,71,71,71,71,71,71,71,71,71,71,72,72,72,72,72,72,72,72,72,72,72,72,72,72,72,72,72,72,72,72,72,72,72,72,72,72,72,72,73,73,73,73,73,73,73,73,73,73,73,73,73,73,73,73,73,73,73,73,73,73,73,73,73,73,73,73,73,73,73,73,73,73,73,73,73,73,73,73,74,74,74,74,74,74,74,74,74,74,74,74,74,74,74,74,74,74,74,74,74,74,74,74,74,74,75,75,75,75,75,75,75,75,75,75,75,75,75,75,75,75,75,75,75,75,75,75,75,75,75,75,75,75,75,75,76,76,76,76,76,76,76,76,76,76,76,76,76,76,76,76,76,76,76,76,76,76,76,76,76,76,76,76,76,76,76,76,76,76,77,77,77,77,77,77,77,77,77,77,77,77,77,77,77,77,77,77,77,77,77,77,77,77,77,77,77,77,78,78,78,78,78,78,78,78,78,78,78,78,78,78,78,78,78,78,78,78,78,78,78,78,78,78,78,78,78,78,78,78,78,78,78,78,79,79,79,79,79,79,79,79,79,79,79,79,79,79,79,79,79,79,79,79,79,79,79,79,79,79,79,79,79,80,80,80,80,80,80,80,80,80,80,80,80,80,80,80,80,80,80,80,80,80,80,80,80,80,80,80,81,81,81,81,81,81,81,81,81,81,81,81,81,81,81,81,81,81,81,81,81,81,81,81,81,81,81,81,82,82,82,82,82,82,82,82,82,82,82,82,82,82,82,82,82,82,82,82,82,82,82,82,82,82,82,82,82,82]}},\"id\":\"5a8a57e6-7eca-4139-b05b-ecfb79265437\",\"type\":\"ColumnDataSource\"},{\"attributes\":{\"callback\":null,\"overlay\":{\"id\":\"caedc5c1-d40f-4c13-ac2b-dd1f28af9aad\",\"type\":\"BoxAnnotation\"},\"plot\":{\"id\":\"1f43a93b-ddaa-4791-878e-aca7d07f7f40\",\"subtype\":\"Figure\",\"type\":\"Plot\"},\"renderers\":[{\"id\":\"565cccbe-56a7-47ad-934f-1c2ea34d1976\",\"type\":\"GlyphRenderer\"}]},\"id\":\"1424c7b7-029a-4d82-95f4-4c464a9a96ec\",\"type\":\"BoxSelectTool\"},{\"attributes\":{\"dimension\":1,\"plot\":{\"id\":\"31e466af-f9e2-4b6f-b50b-be5a9213c13e\",\"subtype\":\"Figure\",\"type\":\"Plot\"},\"ticker\":{\"id\":\"e9bf34ba-a0b0-4ce7-9c13-9ec33675a19c\",\"type\":\"BasicTicker\"}},\"id\":\"60620afc-22f7-48f2-819b-56b8b29c6ec8\",\"type\":\"Grid\"},{\"attributes\":{\"plot\":{\"id\":\"31e466af-f9e2-4b6f-b50b-be5a9213c13e\",\"subtype\":\"Figure\",\"type\":\"Plot\"}},\"id\":\"29c2a160-52a7-4ffa-85cf-b4837636b016\",\"type\":\"PanTool\"},{\"attributes\":{\"callback\":null,\"overlay\":{\"id\":\"27c783ad-68e2-4920-9058-f426d2471efd\",\"type\":\"PolyAnnotation\"},\"plot\":{\"id\":\"31e466af-f9e2-4b6f-b50b-be5a9213c13e\",\"subtype\":\"Figure\",\"type\":\"Plot\"}},\"id\":\"1c4c17eb-9760-42cf-a9f5-9602dbd9cb53\",\"type\":\"LassoSelectTool\"},{\"attributes\":{},\"id\":\"6ead9626-8fa2-46d6-95ae-152faebe8e9e\",\"type\":\"ToolEvents\"},{\"attributes\":{},\"id\":\"25368205-633b-4adf-be1c-d333b48c15fd\",\"type\":\"ToolEvents\"},{\"attributes\":{\"active_drag\":\"auto\",\"active_scroll\":\"auto\",\"active_tap\":\"auto\",\"tools\":[{\"id\":\"29c2a160-52a7-4ffa-85cf-b4837636b016\",\"type\":\"PanTool\"},{\"id\":\"8fc85dab-4108-482d-8048-074f2a3c0e23\",\"type\":\"WheelZoomTool\"},{\"id\":\"ccc9aad7-44dd-4aa2-b219-e414c14b7ec8\",\"type\":\"BoxSelectTool\"},{\"id\":\"1c4c17eb-9760-42cf-a9f5-9602dbd9cb53\",\"type\":\"LassoSelectTool\"},{\"id\":\"fb491814-2b6a-4b92-93be-3e8e12a264ac\",\"type\":\"ResetTool\"}]},\"id\":\"41be2e64-d4fa-4733-ae4b-b527ba1a3374\",\"type\":\"Toolbar\"},{\"attributes\":{},\"id\":\"f7b3d6ba-6b64-48ba-b6e9-1ef2198462c3\",\"type\":\"BasicTickFormatter\"},{\"attributes\":{\"bottom_units\":\"screen\",\"fill_alpha\":{\"value\":0.5},\"fill_color\":{\"value\":\"lightgrey\"},\"left_units\":\"screen\",\"level\":\"overlay\",\"line_alpha\":{\"value\":1.0},\"line_color\":{\"value\":\"black\"},\"line_dash\":[4,4],\"line_width\":{\"value\":2},\"plot\":null,\"render_mode\":\"css\",\"right_units\":\"screen\",\"top_units\":\"screen\"},\"id\":\"caedc5c1-d40f-4c13-ac2b-dd1f28af9aad\",\"type\":\"BoxAnnotation\"},{\"attributes\":{\"formatter\":{\"id\":\"f7b3d6ba-6b64-48ba-b6e9-1ef2198462c3\",\"type\":\"BasicTickFormatter\"},\"plot\":{\"id\":\"31e466af-f9e2-4b6f-b50b-be5a9213c13e\",\"subtype\":\"Figure\",\"type\":\"Plot\"},\"ticker\":{\"id\":\"9c17b674-5cc0-4ee6-ab1c-07e6445328be\",\"type\":\"BasicTicker\"}},\"id\":\"bf0367b8-234c-41d3-af16-4d6e0f3ae326\",\"type\":\"LinearAxis\"},{\"attributes\":{},\"id\":\"acc470d7-468e-4fda-8446-5508fd3ac244\",\"type\":\"BasicTicker\"},{\"attributes\":{\"fill_alpha\":{\"value\":0.8},\"fill_color\":{\"value\":\"red\"},\"line_alpha\":{\"value\":0.8},\"line_color\":{\"value\":\"red\"},\"size\":{\"units\":\"screen\",\"value\":10},\"x\":{\"field\":\"weight\"},\"y\":{\"field\":\"accel\"}},\"id\":\"e8762dc6-1a8d-43ab-9562-60b8af0b8106\",\"type\":\"Triangle\"},{\"attributes\":{\"active_drag\":\"auto\",\"active_scroll\":\"auto\",\"active_tap\":\"auto\",\"tools\":[{\"id\":\"f8ca4b7d-fecf-4c81-9902-a2a46bf5f8b3\",\"type\":\"PanTool\"},{\"id\":\"250d3d01-2544-498c-a931-df6e47babd42\",\"type\":\"WheelZoomTool\"},{\"id\":\"1424c7b7-029a-4d82-95f4-4c464a9a96ec\",\"type\":\"BoxSelectTool\"},{\"id\":\"04fb02c9-f1a0-4ddd-a439-083eb87da805\",\"type\":\"LassoSelectTool\"},{\"id\":\"6e83b0ba-a533-4209-8123-65836af8deef\",\"type\":\"ResetTool\"}]},\"id\":\"1b653b30-a9fe-447e-876d-964d45ecd5a8\",\"type\":\"Toolbar\"},{\"attributes\":{\"callback\":null},\"id\":\"6a08bbe8-2058-4320-a641-6a8716b55ef9\",\"type\":\"DataRange1d\"},{\"attributes\":{\"plot\":{\"id\":\"31e466af-f9e2-4b6f-b50b-be5a9213c13e\",\"subtype\":\"Figure\",\"type\":\"Plot\"}},\"id\":\"8fc85dab-4108-482d-8048-074f2a3c0e23\",\"type\":\"WheelZoomTool\"},{\"attributes\":{\"dimension\":1,\"plot\":{\"id\":\"1f43a93b-ddaa-4791-878e-aca7d07f7f40\",\"subtype\":\"Figure\",\"type\":\"Plot\"},\"ticker\":{\"id\":\"acc470d7-468e-4fda-8446-5508fd3ac244\",\"type\":\"BasicTicker\"}},\"id\":\"f43a871c-72eb-4cfb-b9b9-6b48f9b399bd\",\"type\":\"Grid\"},{\"attributes\":{\"below\":[{\"id\":\"bf0367b8-234c-41d3-af16-4d6e0f3ae326\",\"type\":\"LinearAxis\"}],\"left\":[{\"id\":\"d9d875d8-33c3-45f2-9d5e-b79b3b1f213a\",\"type\":\"LinearAxis\"}],\"plot_height\":500,\"plot_width\":500,\"renderers\":[{\"id\":\"bf0367b8-234c-41d3-af16-4d6e0f3ae326\",\"type\":\"LinearAxis\"},{\"id\":\"2a611883-99a4-461d-a9a4-004aa258285e\",\"type\":\"Grid\"},{\"id\":\"d9d875d8-33c3-45f2-9d5e-b79b3b1f213a\",\"type\":\"LinearAxis\"},{\"id\":\"60620afc-22f7-48f2-819b-56b8b29c6ec8\",\"type\":\"Grid\"},{\"id\":\"7ba5cbfb-81a6-4beb-944b-f8c4064f258a\",\"type\":\"BoxAnnotation\"},{\"id\":\"27c783ad-68e2-4920-9058-f426d2471efd\",\"type\":\"PolyAnnotation\"},{\"id\":\"4da745a3-6c22-42dd-8adb-06561f1d6277\",\"type\":\"GlyphRenderer\"}],\"title\":{\"id\":\"64e074f5-892f-4337-8f62-81175344ac63\",\"type\":\"Title\"},\"tool_events\":{\"id\":\"25368205-633b-4adf-be1c-d333b48c15fd\",\"type\":\"ToolEvents\"},\"toolbar\":{\"id\":\"41be2e64-d4fa-4733-ae4b-b527ba1a3374\",\"type\":\"Toolbar\"},\"toolbar_location\":null,\"x_range\":{\"id\":\"fe124d9f-61cc-47ce-b139-4a0a711fa90a\",\"type\":\"DataRange1d\"},\"y_range\":{\"id\":\"6a08bbe8-2058-4320-a641-6a8716b55ef9\",\"type\":\"DataRange1d\"}},\"id\":\"31e466af-f9e2-4b6f-b50b-be5a9213c13e\",\"subtype\":\"Figure\",\"type\":\"Plot\"},{\"attributes\":{},\"id\":\"1482b4b1-b901-4b87-9a59-7f06f5c3cb34\",\"type\":\"BasicTickFormatter\"},{\"attributes\":{\"children\":[{\"id\":\"b265de0e-997a-49b0-908e-b2f1a58e71d8\",\"type\":\"Row\"}]},\"id\":\"9cf48b48-6d2b-4987-a905-dac94a342386\",\"type\":\"Column\"},{\"attributes\":{},\"id\":\"9c17b674-5cc0-4ee6-ab1c-07e6445328be\",\"type\":\"BasicTicker\"},{\"attributes\":{\"plot\":{\"id\":\"1f43a93b-ddaa-4791-878e-aca7d07f7f40\",\"subtype\":\"Figure\",\"type\":\"Plot\"},\"ticker\":{\"id\":\"af85923b-6a2a-4a90-98d3-9c03e42b9ccf\",\"type\":\"BasicTicker\"}},\"id\":\"95f2bb97-67c1-4161-b2d0-78fcd651340e\",\"type\":\"Grid\"},{\"attributes\":{\"children\":[{\"id\":\"849a9a37-0412-4312-b045-36cf14ad5d68\",\"type\":\"ToolbarBox\"},{\"id\":\"9cf48b48-6d2b-4987-a905-dac94a342386\",\"type\":\"Column\"}]},\"id\":\"2ac96429-413e-44fc-9772-db4a60731b56\",\"type\":\"Column\"},{\"attributes\":{\"callback\":null,\"overlay\":{\"id\":\"2f128720-f9ed-41e8-8593-05d3e5bb7a77\",\"type\":\"PolyAnnotation\"},\"plot\":{\"id\":\"1f43a93b-ddaa-4791-878e-aca7d07f7f40\",\"subtype\":\"Figure\",\"type\":\"Plot\"}},\"id\":\"04fb02c9-f1a0-4ddd-a439-083eb87da805\",\"type\":\"LassoSelectTool\"},{\"attributes\":{},\"id\":\"af85923b-6a2a-4a90-98d3-9c03e42b9ccf\",\"type\":\"BasicTicker\"},{\"attributes\":{\"fill_alpha\":{\"value\":0.8},\"fill_color\":{\"value\":\"#1f77b4\"},\"line_alpha\":{\"value\":0.8},\"line_color\":{\"value\":\"#1f77b4\"},\"size\":{\"units\":\"screen\",\"value\":10},\"x\":{\"field\":\"weight\"},\"y\":{\"field\":\"mpg\"}},\"id\":\"8585a3ba-d225-4724-801a-ce2f258543b2\",\"type\":\"Square\"},{\"attributes\":{\"sizing_mode\":\"scale_width\",\"toolbar_location\":\"above\",\"tools\":[{\"id\":\"f8ca4b7d-fecf-4c81-9902-a2a46bf5f8b3\",\"type\":\"PanTool\"},{\"id\":\"250d3d01-2544-498c-a931-df6e47babd42\",\"type\":\"WheelZoomTool\"},{\"id\":\"1424c7b7-029a-4d82-95f4-4c464a9a96ec\",\"type\":\"BoxSelectTool\"},{\"id\":\"04fb02c9-f1a0-4ddd-a439-083eb87da805\",\"type\":\"LassoSelectTool\"},{\"id\":\"6e83b0ba-a533-4209-8123-65836af8deef\",\"type\":\"ResetTool\"},{\"id\":\"29c2a160-52a7-4ffa-85cf-b4837636b016\",\"type\":\"PanTool\"},{\"id\":\"8fc85dab-4108-482d-8048-074f2a3c0e23\",\"type\":\"WheelZoomTool\"},{\"id\":\"ccc9aad7-44dd-4aa2-b219-e414c14b7ec8\",\"type\":\"BoxSelectTool\"},{\"id\":\"1c4c17eb-9760-42cf-a9f5-9602dbd9cb53\",\"type\":\"LassoSelectTool\"},{\"id\":\"fb491814-2b6a-4b92-93be-3e8e12a264ac\",\"type\":\"ResetTool\"}]},\"id\":\"849a9a37-0412-4312-b045-36cf14ad5d68\",\"type\":\"ToolbarBox\"},{\"attributes\":{\"callback\":null},\"id\":\"845f9efa-0208-4127-8dd5-97d8af4dcf42\",\"type\":\"DataRange1d\"},{\"attributes\":{\"formatter\":{\"id\":\"7b9977b6-f594-4d9a-aafa-2b6405f8054d\",\"type\":\"BasicTickFormatter\"},\"plot\":{\"id\":\"31e466af-f9e2-4b6f-b50b-be5a9213c13e\",\"subtype\":\"Figure\",\"type\":\"Plot\"},\"ticker\":{\"id\":\"e9bf34ba-a0b0-4ce7-9c13-9ec33675a19c\",\"type\":\"BasicTicker\"}},\"id\":\"d9d875d8-33c3-45f2-9d5e-b79b3b1f213a\",\"type\":\"LinearAxis\"},{\"attributes\":{\"below\":[{\"id\":\"1fe29e01-2bca-4561-a999-b02b6b99bac3\",\"type\":\"LinearAxis\"}],\"left\":[{\"id\":\"5ee1bd81-74b6-4782-b7f9-6ab5a5fd36c1\",\"type\":\"LinearAxis\"}],\"plot_height\":500,\"plot_width\":500,\"renderers\":[{\"id\":\"1fe29e01-2bca-4561-a999-b02b6b99bac3\",\"type\":\"LinearAxis\"},{\"id\":\"95f2bb97-67c1-4161-b2d0-78fcd651340e\",\"type\":\"Grid\"},{\"id\":\"5ee1bd81-74b6-4782-b7f9-6ab5a5fd36c1\",\"type\":\"LinearAxis\"},{\"id\":\"f43a871c-72eb-4cfb-b9b9-6b48f9b399bd\",\"type\":\"Grid\"},{\"id\":\"caedc5c1-d40f-4c13-ac2b-dd1f28af9aad\",\"type\":\"BoxAnnotation\"},{\"id\":\"2f128720-f9ed-41e8-8593-05d3e5bb7a77\",\"type\":\"PolyAnnotation\"},{\"id\":\"565cccbe-56a7-47ad-934f-1c2ea34d1976\",\"type\":\"GlyphRenderer\"}],\"title\":{\"id\":\"d1846e58-1e14-42be-96b8-ba5a25979207\",\"type\":\"Title\"},\"tool_events\":{\"id\":\"6ead9626-8fa2-46d6-95ae-152faebe8e9e\",\"type\":\"ToolEvents\"},\"toolbar\":{\"id\":\"1b653b30-a9fe-447e-876d-964d45ecd5a8\",\"type\":\"Toolbar\"},\"toolbar_location\":null,\"x_range\":{\"id\":\"fe124d9f-61cc-47ce-b139-4a0a711fa90a\",\"type\":\"DataRange1d\"},\"y_range\":{\"id\":\"845f9efa-0208-4127-8dd5-97d8af4dcf42\",\"type\":\"DataRange1d\"}},\"id\":\"1f43a93b-ddaa-4791-878e-aca7d07f7f40\",\"subtype\":\"Figure\",\"type\":\"Plot\"},{\"attributes\":{\"children\":[{\"id\":\"1f43a93b-ddaa-4791-878e-aca7d07f7f40\",\"subtype\":\"Figure\",\"type\":\"Plot\"},{\"id\":\"31e466af-f9e2-4b6f-b50b-be5a9213c13e\",\"subtype\":\"Figure\",\"type\":\"Plot\"}]},\"id\":\"b265de0e-997a-49b0-908e-b2f1a58e71d8\",\"type\":\"Row\"},{\"attributes\":{\"data_source\":{\"id\":\"5a8a57e6-7eca-4139-b05b-ecfb79265437\",\"type\":\"ColumnDataSource\"},\"glyph\":{\"id\":\"e8762dc6-1a8d-43ab-9562-60b8af0b8106\",\"type\":\"Triangle\"},\"hover_glyph\":null,\"nonselection_glyph\":{\"id\":\"af3d2424-2b9e-4213-8730-e9123dfe560e\",\"type\":\"Triangle\"},\"selection_glyph\":null},\"id\":\"4da745a3-6c22-42dd-8adb-06561f1d6277\",\"type\":\"GlyphRenderer\"},{\"attributes\":{\"plot\":{\"id\":\"1f43a93b-ddaa-4791-878e-aca7d07f7f40\",\"subtype\":\"Figure\",\"type\":\"Plot\"}},\"id\":\"f8ca4b7d-fecf-4c81-9902-a2a46bf5f8b3\",\"type\":\"PanTool\"},{\"attributes\":{\"data_source\":{\"id\":\"5a8a57e6-7eca-4139-b05b-ecfb79265437\",\"type\":\"ColumnDataSource\"},\"glyph\":{\"id\":\"8585a3ba-d225-4724-801a-ce2f258543b2\",\"type\":\"Square\"},\"hover_glyph\":null,\"nonselection_glyph\":{\"id\":\"396858b5-93ec-42a8-a02c-ae16e34e5459\",\"type\":\"Square\"},\"selection_glyph\":null},\"id\":\"565cccbe-56a7-47ad-934f-1c2ea34d1976\",\"type\":\"GlyphRenderer\"},{\"attributes\":{\"plot\":{\"id\":\"1f43a93b-ddaa-4791-878e-aca7d07f7f40\",\"subtype\":\"Figure\",\"type\":\"Plot\"}},\"id\":\"6e83b0ba-a533-4209-8123-65836af8deef\",\"type\":\"ResetTool\"},{\"attributes\":{\"plot\":{\"id\":\"31e466af-f9e2-4b6f-b50b-be5a9213c13e\",\"subtype\":\"Figure\",\"type\":\"Plot\"}},\"id\":\"fb491814-2b6a-4b92-93be-3e8e12a264ac\",\"type\":\"ResetTool\"},{\"attributes\":{\"plot\":null,\"text\":\"Weight vs Acceleration\"},\"id\":\"64e074f5-892f-4337-8f62-81175344ac63\",\"type\":\"Title\"},{\"attributes\":{\"plot\":{\"id\":\"1f43a93b-ddaa-4791-878e-aca7d07f7f40\",\"subtype\":\"Figure\",\"type\":\"Plot\"}},\"id\":\"250d3d01-2544-498c-a931-df6e47babd42\",\"type\":\"WheelZoomTool\"},{\"attributes\":{\"callback\":null},\"id\":\"fe124d9f-61cc-47ce-b139-4a0a711fa90a\",\"type\":\"DataRange1d\"},{\"attributes\":{},\"id\":\"7b9977b6-f594-4d9a-aafa-2b6405f8054d\",\"type\":\"BasicTickFormatter\"},{\"attributes\":{\"callback\":null,\"overlay\":{\"id\":\"7ba5cbfb-81a6-4beb-944b-f8c4064f258a\",\"type\":\"BoxAnnotation\"},\"plot\":{\"id\":\"31e466af-f9e2-4b6f-b50b-be5a9213c13e\",\"subtype\":\"Figure\",\"type\":\"Plot\"},\"renderers\":[{\"id\":\"4da745a3-6c22-42dd-8adb-06561f1d6277\",\"type\":\"GlyphRenderer\"}]},\"id\":\"ccc9aad7-44dd-4aa2-b219-e414c14b7ec8\",\"type\":\"BoxSelectTool\"},{\"attributes\":{\"fill_alpha\":{\"value\":0.5},\"fill_color\":{\"value\":\"lightgrey\"},\"level\":\"overlay\",\"line_alpha\":{\"value\":1.0},\"line_color\":{\"value\":\"black\"},\"line_dash\":[4,4],\"line_width\":{\"value\":2},\"plot\":null,\"xs_units\":\"screen\",\"ys_units\":\"screen\"},\"id\":\"27c783ad-68e2-4920-9058-f426d2471efd\",\"type\":\"PolyAnnotation\"},{\"attributes\":{\"fill_alpha\":{\"value\":0.1},\"fill_color\":{\"value\":\"#1f77b4\"},\"line_alpha\":{\"value\":0.1},\"line_color\":{\"value\":\"#1f77b4\"},\"size\":{\"units\":\"screen\",\"value\":10},\"x\":{\"field\":\"weight\"},\"y\":{\"field\":\"mpg\"}},\"id\":\"396858b5-93ec-42a8-a02c-ae16e34e5459\",\"type\":\"Square\"},{\"attributes\":{},\"id\":\"e9bf34ba-a0b0-4ce7-9c13-9ec33675a19c\",\"type\":\"BasicTicker\"},{\"attributes\":{},\"id\":\"1e7a2574-1b41-4c1c-889b-2a57b79e5da7\",\"type\":\"BasicTickFormatter\"},{\"attributes\":{\"plot\":null,\"text\":\"Weight vs MPG\"},\"id\":\"d1846e58-1e14-42be-96b8-ba5a25979207\",\"type\":\"Title\"},{\"attributes\":{\"plot\":{\"id\":\"31e466af-f9e2-4b6f-b50b-be5a9213c13e\",\"subtype\":\"Figure\",\"type\":\"Plot\"},\"ticker\":{\"id\":\"9c17b674-5cc0-4ee6-ab1c-07e6445328be\",\"type\":\"BasicTicker\"}},\"id\":\"2a611883-99a4-461d-a9a4-004aa258285e\",\"type\":\"Grid\"},{\"attributes\":{\"formatter\":{\"id\":\"1482b4b1-b901-4b87-9a59-7f06f5c3cb34\",\"type\":\"BasicTickFormatter\"},\"plot\":{\"id\":\"1f43a93b-ddaa-4791-878e-aca7d07f7f40\",\"subtype\":\"Figure\",\"type\":\"Plot\"},\"ticker\":{\"id\":\"acc470d7-468e-4fda-8446-5508fd3ac244\",\"type\":\"BasicTicker\"}},\"id\":\"5ee1bd81-74b6-4782-b7f9-6ab5a5fd36c1\",\"type\":\"LinearAxis\"},{\"attributes\":{\"fill_alpha\":{\"value\":0.5},\"fill_color\":{\"value\":\"lightgrey\"},\"level\":\"overlay\",\"line_alpha\":{\"value\":1.0},\"line_color\":{\"value\":\"black\"},\"line_dash\":[4,4],\"line_width\":{\"value\":2},\"plot\":null,\"xs_units\":\"screen\",\"ys_units\":\"screen\"},\"id\":\"2f128720-f9ed-41e8-8593-05d3e5bb7a77\",\"type\":\"PolyAnnotation\"},{\"attributes\":{\"bottom_units\":\"screen\",\"fill_alpha\":{\"value\":0.5},\"fill_color\":{\"value\":\"lightgrey\"},\"left_units\":\"screen\",\"level\":\"overlay\",\"line_alpha\":{\"value\":1.0},\"line_color\":{\"value\":\"black\"},\"line_dash\":[4,4],\"line_width\":{\"value\":2},\"plot\":null,\"render_mode\":\"css\",\"right_units\":\"screen\",\"top_units\":\"screen\"},\"id\":\"7ba5cbfb-81a6-4beb-944b-f8c4064f258a\",\"type\":\"BoxAnnotation\"}],\"root_ids\":[\"2ac96429-413e-44fc-9772-db4a60731b56\"]},\"title\":\"Bokeh Application\",\"version\":\"0.12.3\"}};\n",
       "            var render_items = [{\"docid\":\"a9db3f7d-7cea-43e6-bd4b-129596b79c59\",\"elementid\":\"810ed067-5ac3-4743-8550-25300eb7f2d7\",\"modelid\":\"2ac96429-413e-44fc-9772-db4a60731b56\"}];\n",
       "            \n",
       "            Bokeh.embed.embed_items(docs_json, render_items);\n",
       "        });\n",
       "      },\n",
       "      function(Bokeh) {\n",
       "      }\n",
       "    ];\n",
       "  \n",
       "    function run_inline_js() {\n",
       "      \n",
       "      if ((window.Bokeh !== undefined) || (force === \"1\")) {\n",
       "        for (var i = 0; i < inline_js.length; i++) {\n",
       "          inline_js[i](window.Bokeh);\n",
       "        }if (force === \"1\") {\n",
       "          display_loaded();\n",
       "        }} else if (Date.now() < window._bokeh_timeout) {\n",
       "        setTimeout(run_inline_js, 100);\n",
       "      } else if (!window._bokeh_failed_load) {\n",
       "        console.log(\"Bokeh: BokehJS failed to load within specified timeout.\");\n",
       "        window._bokeh_failed_load = true;\n",
       "      } else if (!force) {\n",
       "        var cell = $(\"#810ed067-5ac3-4743-8550-25300eb7f2d7\").parents('.cell').data().cell;\n",
       "        cell.output_area.append_execute_result(NB_LOAD_WARNING)\n",
       "      }\n",
       "  \n",
       "    }\n",
       "  \n",
       "    if (window._bokeh_is_loading === 0) {\n",
       "      console.log(\"Bokeh: BokehJS loaded, going straight to plotting\");\n",
       "      run_inline_js();\n",
       "    } else {\n",
       "      load_libs(js_urls, function() {\n",
       "        console.log(\"Bokeh: BokehJS plotting callback run at\", now());\n",
       "        run_inline_js();\n",
       "      });\n",
       "    }\n",
       "  }(this));\n",
       "</script>"
      ]
     },
     "metadata": {},
     "output_type": "display_data"
    }
   ],
   "source": [
    "from bokeh.layouts import gridplot\n",
    "from bokeh.models import ColumnDataSource\n",
    "\n",
    "# Figures that share a data source will have linked brushing\n",
    "source = ColumnDataSource(autompg)\n",
    "\n",
    "TOOLS = \"pan,wheel_zoom,box_select,lasso_select,reset\"\n",
    "\n",
    "f1 = bkp.figure(width=500, height=500, tools=TOOLS, title='Weight vs MPG')\n",
    "f1.square('weight', 'mpg', alpha=0.8, size=10, source=source)\n",
    "\n",
    "# Figures that share a range will have linked panning\n",
    "f2 = bkp.figure(width=500, height=500, x_range=f1.x_range, tools=TOOLS,\n",
    "                title='Weight vs Acceleration')\n",
    "f2.triangle('weight', 'accel', color='red', alpha=0.8, size=10, source=source)\n",
    "\n",
    "p = gridplot([[f1, f2]])\n",
    "bkp.show(p)"
   ]
  },
  {
   "cell_type": "markdown",
   "metadata": {
    "nbpresent": {
     "id": "615da603-d35f-4fd3-be31-19a1ca3fdb57"
    }
   },
   "source": [
    "## Using Map Tiles"
   ]
  },
  {
   "cell_type": "markdown",
   "metadata": {
    "nbpresent": {
     "id": "111559a3-2e46-4db6-a74f-eeecdedb1062"
    }
   },
   "source": [
    "Here, I'll use some geolocation test data I collected to demonstrate Bokeh's handling of map data. I've already converted the coordinates to Web Mercator and done some other processing to make things easier."
   ]
  },
  {
   "cell_type": "code",
   "execution_count": 7,
   "metadata": {
    "collapsed": false,
    "nbpresent": {
     "id": "b0399328-a434-40f7-9008-d53e6c8b2c3a"
    }
   },
   "outputs": [
    {
     "data": {
      "text/html": [
       "\n",
       "\n",
       "    <div class=\"bk-root\">\n",
       "        <div class=\"plotdiv\" id=\"c02d6ced-d181-4d65-bf57-cbc925f09c4b\"></div>\n",
       "    </div>\n",
       "<script type=\"text/javascript\">\n",
       "  \n",
       "  (function(global) {\n",
       "    function now() {\n",
       "      return new Date();\n",
       "    }\n",
       "  \n",
       "    var force = \"\";\n",
       "  \n",
       "    if (typeof (window._bokeh_onload_callbacks) === \"undefined\" || force !== \"\") {\n",
       "      window._bokeh_onload_callbacks = [];\n",
       "      window._bokeh_is_loading = undefined;\n",
       "    }\n",
       "  \n",
       "  \n",
       "    \n",
       "    if (typeof (window._bokeh_timeout) === \"undefined\" || force !== \"\") {\n",
       "      window._bokeh_timeout = Date.now() + 0;\n",
       "      window._bokeh_failed_load = false;\n",
       "    }\n",
       "  \n",
       "    var NB_LOAD_WARNING = {'data': {'text/html':\n",
       "       \"<div style='background-color: #fdd'>\\n\"+\n",
       "       \"<p>\\n\"+\n",
       "       \"BokehJS does not appear to have successfully loaded. If loading BokehJS from CDN, this \\n\"+\n",
       "       \"may be due to a slow or bad network connection. Possible fixes:\\n\"+\n",
       "       \"</p>\\n\"+\n",
       "       \"<ul>\\n\"+\n",
       "       \"<li>re-rerun `output_notebook()` to attempt to load from CDN again, or</li>\\n\"+\n",
       "       \"<li>use INLINE resources instead, as so:</li>\\n\"+\n",
       "       \"</ul>\\n\"+\n",
       "       \"<code>\\n\"+\n",
       "       \"from bokeh.resources import INLINE\\n\"+\n",
       "       \"output_notebook(resources=INLINE)\\n\"+\n",
       "       \"</code>\\n\"+\n",
       "       \"</div>\"}};\n",
       "  \n",
       "    function display_loaded() {\n",
       "      if (window.Bokeh !== undefined) {\n",
       "        Bokeh.$(\"#c02d6ced-d181-4d65-bf57-cbc925f09c4b\").text(\"BokehJS successfully loaded.\");\n",
       "      } else if (Date.now() < window._bokeh_timeout) {\n",
       "        setTimeout(display_loaded, 100)\n",
       "      }\n",
       "    }\n",
       "  \n",
       "    function run_callbacks() {\n",
       "      window._bokeh_onload_callbacks.forEach(function(callback) { callback() });\n",
       "      delete window._bokeh_onload_callbacks\n",
       "      console.info(\"Bokeh: all callbacks have finished\");\n",
       "    }\n",
       "  \n",
       "    function load_libs(js_urls, callback) {\n",
       "      window._bokeh_onload_callbacks.push(callback);\n",
       "      if (window._bokeh_is_loading > 0) {\n",
       "        console.log(\"Bokeh: BokehJS is being loaded, scheduling callback at\", now());\n",
       "        return null;\n",
       "      }\n",
       "      if (js_urls == null || js_urls.length === 0) {\n",
       "        run_callbacks();\n",
       "        return null;\n",
       "      }\n",
       "      console.log(\"Bokeh: BokehJS not loaded, scheduling load and callback at\", now());\n",
       "      window._bokeh_is_loading = js_urls.length;\n",
       "      for (var i = 0; i < js_urls.length; i++) {\n",
       "        var url = js_urls[i];\n",
       "        var s = document.createElement('script');\n",
       "        s.src = url;\n",
       "        s.async = false;\n",
       "        s.onreadystatechange = s.onload = function() {\n",
       "          window._bokeh_is_loading--;\n",
       "          if (window._bokeh_is_loading === 0) {\n",
       "            console.log(\"Bokeh: all BokehJS libraries loaded\");\n",
       "            run_callbacks()\n",
       "          }\n",
       "        };\n",
       "        s.onerror = function() {\n",
       "          console.warn(\"failed to load library \" + url);\n",
       "        };\n",
       "        console.log(\"Bokeh: injecting script tag for BokehJS library: \", url);\n",
       "        document.getElementsByTagName(\"head\")[0].appendChild(s);\n",
       "      }\n",
       "    };var element = document.getElementById(\"c02d6ced-d181-4d65-bf57-cbc925f09c4b\");\n",
       "    if (element == null) {\n",
       "      console.log(\"Bokeh: ERROR: autoload.js configured with elementid 'c02d6ced-d181-4d65-bf57-cbc925f09c4b' but no matching script tag was found. \")\n",
       "      return false;\n",
       "    }\n",
       "  \n",
       "    var js_urls = [];\n",
       "  \n",
       "    var inline_js = [\n",
       "      function(Bokeh) {\n",
       "        Bokeh.$(function() {\n",
       "            var docs_json = {\"9e7e6de6-dadf-4709-85c5-5426764e223e\":{\"roots\":{\"references\":[{\"attributes\":{\"below\":[{\"id\":\"aa362e22-edbb-47d5-a5b3-b9987f6c17e3\",\"type\":\"LinearAxis\"}],\"left\":[{\"id\":\"1d6cd230-f84b-425b-b15d-7d34b56ee383\",\"type\":\"LinearAxis\"}],\"plot_height\":500,\"plot_width\":700,\"renderers\":[{\"id\":\"aa362e22-edbb-47d5-a5b3-b9987f6c17e3\",\"type\":\"LinearAxis\"},{\"id\":\"0508e287-3e74-4b51-9e8f-799103919f20\",\"type\":\"Grid\"},{\"id\":\"1d6cd230-f84b-425b-b15d-7d34b56ee383\",\"type\":\"LinearAxis\"},{\"id\":\"281b7535-5e95-4758-ab6c-869d81a6d307\",\"type\":\"Grid\"},{\"id\":\"db8046c3-7b27-45ec-b3bc-44b53cb20101\",\"type\":\"BoxAnnotation\"},{\"id\":\"7a55abb3-0764-43a8-8fcb-361d06db3827\",\"type\":\"GlyphRenderer\"},{\"id\":\"0f322005-9134-4215-9488-0a4316154bc0\",\"type\":\"TileRenderer\"}],\"title\":{\"id\":\"f565ba70-8ba5-4755-9309-d2bc4c72673c\",\"type\":\"Title\"},\"tool_events\":{\"id\":\"9d38f0c8-6218-4148-a846-de7e9883a45a\",\"type\":\"ToolEvents\"},\"toolbar\":{\"id\":\"b96487c4-2afd-4900-a626-6b4e9da096b5\",\"type\":\"Toolbar\"},\"x_range\":{\"id\":\"04e3e6b5-cc91-4f17-8323-d347c5234c1c\",\"type\":\"DataRange1d\"},\"y_range\":{\"id\":\"82fd954e-73d0-4d2e-b357-57a267440365\",\"type\":\"DataRange1d\"}},\"id\":\"3973419d-fa9a-41d6-be7d-8984a38ae23e\",\"subtype\":\"Figure\",\"type\":\"Plot\"},{\"attributes\":{\"formatter\":{\"id\":\"6d840330-30a1-4376-96e4-bbaa41716831\",\"type\":\"BasicTickFormatter\"},\"plot\":{\"id\":\"3973419d-fa9a-41d6-be7d-8984a38ae23e\",\"subtype\":\"Figure\",\"type\":\"Plot\"},\"ticker\":{\"id\":\"923b5775-cb24-4ebc-9dae-e393e1b97af1\",\"type\":\"BasicTicker\"}},\"id\":\"aa362e22-edbb-47d5-a5b3-b9987f6c17e3\",\"type\":\"LinearAxis\"},{\"attributes\":{\"callback\":null},\"id\":\"04e3e6b5-cc91-4f17-8323-d347c5234c1c\",\"type\":\"DataRange1d\"},{\"attributes\":{\"bottom_units\":\"screen\",\"fill_alpha\":{\"value\":0.5},\"fill_color\":{\"value\":\"lightgrey\"},\"left_units\":\"screen\",\"level\":\"overlay\",\"line_alpha\":{\"value\":1.0},\"line_color\":{\"value\":\"black\"},\"line_dash\":[4,4],\"line_width\":{\"value\":2},\"plot\":null,\"render_mode\":\"css\",\"right_units\":\"screen\",\"top_units\":\"screen\"},\"id\":\"db8046c3-7b27-45ec-b3bc-44b53cb20101\",\"type\":\"BoxAnnotation\"},{\"attributes\":{},\"id\":\"fd4f7c8a-5376-402b-90de-fec3053bdbb8\",\"type\":\"BasicTicker\"},{\"attributes\":{\"tile_source\":{\"id\":\"ceb13498-e64f-4d18-8197-8eef3aa1c000\",\"type\":\"WMTSTileSource\"}},\"id\":\"0f322005-9134-4215-9488-0a4316154bc0\",\"type\":\"TileRenderer\"},{\"attributes\":{\"plot\":null,\"text\":null},\"id\":\"f565ba70-8ba5-4755-9309-d2bc4c72673c\",\"type\":\"Title\"},{\"attributes\":{\"plot\":{\"id\":\"3973419d-fa9a-41d6-be7d-8984a38ae23e\",\"subtype\":\"Figure\",\"type\":\"Plot\"}},\"id\":\"83a2b691-0496-4041-96a4-7862318b4540\",\"type\":\"PanTool\"},{\"attributes\":{},\"id\":\"6d840330-30a1-4376-96e4-bbaa41716831\",\"type\":\"BasicTickFormatter\"},{\"attributes\":{\"plot\":{\"id\":\"3973419d-fa9a-41d6-be7d-8984a38ae23e\",\"subtype\":\"Figure\",\"type\":\"Plot\"}},\"id\":\"00d4224f-afe7-4e40-ac97-43b9835b72d0\",\"type\":\"ResetTool\"},{\"attributes\":{\"formatter\":{\"id\":\"b1f3693a-9f90-4718-92a5-ea7f18efb74f\",\"type\":\"BasicTickFormatter\"},\"plot\":{\"id\":\"3973419d-fa9a-41d6-be7d-8984a38ae23e\",\"subtype\":\"Figure\",\"type\":\"Plot\"},\"ticker\":{\"id\":\"fd4f7c8a-5376-402b-90de-fec3053bdbb8\",\"type\":\"BasicTicker\"}},\"id\":\"1d6cd230-f84b-425b-b15d-7d34b56ee383\",\"type\":\"LinearAxis\"},{\"attributes\":{\"dimension\":1,\"plot\":{\"id\":\"3973419d-fa9a-41d6-be7d-8984a38ae23e\",\"subtype\":\"Figure\",\"type\":\"Plot\"},\"ticker\":{\"id\":\"fd4f7c8a-5376-402b-90de-fec3053bdbb8\",\"type\":\"BasicTicker\"}},\"id\":\"281b7535-5e95-4758-ab6c-869d81a6d307\",\"type\":\"Grid\"},{\"attributes\":{\"callback\":null},\"id\":\"82fd954e-73d0-4d2e-b357-57a267440365\",\"type\":\"DataRange1d\"},{\"attributes\":{},\"id\":\"9d38f0c8-6218-4148-a846-de7e9883a45a\",\"type\":\"ToolEvents\"},{\"attributes\":{\"overlay\":{\"id\":\"db8046c3-7b27-45ec-b3bc-44b53cb20101\",\"type\":\"BoxAnnotation\"},\"plot\":{\"id\":\"3973419d-fa9a-41d6-be7d-8984a38ae23e\",\"subtype\":\"Figure\",\"type\":\"Plot\"}},\"id\":\"aabfe2e0-3651-454f-9c54-b0dd0f7cde06\",\"type\":\"BoxZoomTool\"},{\"attributes\":{\"fill_alpha\":{\"value\":0.9},\"fill_color\":{\"value\":\"#1f77b4\"},\"line_alpha\":{\"value\":0.9},\"line_color\":{\"value\":\"#1f77b4\"},\"size\":{\"units\":\"screen\",\"value\":10},\"x\":{\"field\":\"longitude\"},\"y\":{\"field\":\"latitude\"}},\"id\":\"61739ad4-c71e-4151-93dc-b690d66f045a\",\"type\":\"Circle\"},{\"attributes\":{\"callback\":null,\"plot\":{\"id\":\"3973419d-fa9a-41d6-be7d-8984a38ae23e\",\"subtype\":\"Figure\",\"type\":\"Plot\"},\"tooltips\":[[\"Sample Time\",\"@sample_time\"],[\"Accuracy\",\"@accuracy{int} meters\"],[\"Offset\",\"@sample_timezone\"]]},\"id\":\"fc7c5087-76c9-4804-9cdd-c6700d7b7331\",\"type\":\"HoverTool\"},{\"attributes\":{\"attribution\":\"Map tiles by <a href=\\\"http://stamen.com\\\">Stamen Design</a>, under <a href=\\\"http://creativecommons.org/licenses/by/3.0\\\">CC BY 3.0</a>.Data by <a href=\\\"http://openstreetmap.org\\\">OpenStreetMap</a>, under <a href=\\\"http://www.openstreetmap.org/copyright\\\">ODbL</a>\",\"url\":\"http://tile.stamen.com/toner/{Z}/{X}/{Y}.png\"},\"id\":\"ceb13498-e64f-4d18-8197-8eef3aa1c000\",\"type\":\"WMTSTileSource\"},{\"attributes\":{},\"id\":\"923b5775-cb24-4ebc-9dae-e393e1b97af1\",\"type\":\"BasicTicker\"},{\"attributes\":{\"active_drag\":\"auto\",\"active_scroll\":\"auto\",\"active_tap\":\"auto\",\"tools\":[{\"id\":\"fc7c5087-76c9-4804-9cdd-c6700d7b7331\",\"type\":\"HoverTool\"},{\"id\":\"83a2b691-0496-4041-96a4-7862318b4540\",\"type\":\"PanTool\"},{\"id\":\"9957dbc2-3d53-4ba6-bf31-1e19d39d4831\",\"type\":\"WheelZoomTool\"},{\"id\":\"00d4224f-afe7-4e40-ac97-43b9835b72d0\",\"type\":\"ResetTool\"},{\"id\":\"aabfe2e0-3651-454f-9c54-b0dd0f7cde06\",\"type\":\"BoxZoomTool\"}]},\"id\":\"b96487c4-2afd-4900-a626-6b4e9da096b5\",\"type\":\"Toolbar\"},{\"attributes\":{\"callback\":null,\"column_names\":[\"user_token\",\"id\",\"creation_date\",\"latitude\",\"sample_timezone\",\"index\",\"longitude\",\"accuracy\",\"sample_time\",\"user_id\"],\"data\":{\"accuracy\":[22.061000824,23.2140007019,31.1739997864,64.1399993896,28.1140003204,23.895000457800002,23.895000457800002,22.4309997559,49.401000976599995,36.0,22.3309993744,35.7480010986,31.9190006256,31.9190006256,24.3220005035,24.3220005035,24.3220005035,25.948999404899997,25.948999404899997,25.948999404899997,25.948999404899997,27.440000534099998,27.440000534099998,27.440000534099998,31.340000152600002,23.4990005493,43.5,29.6130008698,22.3700008392,38.28099823,22.0809993744,22.7549991608,22.718000412,39.0,24.1100006104,25.8159999847,33.0,8.0,13.0,50.0,35.4780006409,699.9990234375,22.2479991913,22.3670005798,22.3670005798,22.3670005798,23.051000595100003,22.0259990692,21.908000945999998,22.8500003815,35.0530014038,24.0090007782,22.9249992371,22.9249992371,22.9249992371,22.040000915500002,800.0,22.6739997864,21.885000228899997,21.871000289899996,21.871000289899996,21.871000289899996,21.8759994507,21.8759994507,21.8759994507,21.905000686599998,21.905000686599998,21.905000686599998,21.8670005798,21.8670005798,21.8670005798,21.6340007782,23.1830005646,1200.0,1200.0,21.6509990692,21.6509990692,22.1909999847,22.1660003662,1200.0,24.2220001221,23.3490009308,37.8680000305,26.6079998016,50.0,21.8770008087,26.593000412,1200.0,22.2210006714,21.6270008087,21.6270008087,21.9950008392,10.0,22.2059993744,1200.0,1200.0,22.902000427199997,23.1529998779,23.1529998779,21.9060001373,21.642999649,21.642999649,21.642999649,21.642999649,22.343000412,22.343000412,22.343000412,22.343000412,22.2329998016,22.2329998016,21.6459999084,699.9990234375,21.9090003967,21.9090003967,21.628999710100004,50.0,50.0,30.236999511700002,22.030000686599998,30.834999084499998,24.2660007477,117.53399658200001,21.0100002289,21.2999992371,22.840000152600002,21.9009990692,167.654006958,13.0,23.2110004425,29.1310005188,21.8770008087,22.722999572800003,23.2789993286,22.2509994507,22.2490005493,24.188999176,31.9880008698,26.0,22.2240009308,21.908000945999998,22.232000351,22.2490005493,22.2490005493,21.9090003967,21.9090003967,21.9090003967,22.6800003052,22.6800003052,22.6800003052,22.6800003052,22.207000732399997,22.207000732399997,1100.0],\"creation_date\":[\"2016-10-21 20:29:38\",\"2016-10-21 20:29:38\",\"2016-10-21 20:29:38\",\"2016-10-21 20:29:38\",\"2016-10-21 20:29:38\",\"2016-10-21 20:29:38\",\"2016-10-21 20:29:38\",\"2016-10-21 20:29:38\",\"2016-10-21 20:29:38\",\"2016-10-21 20:29:38\",\"2016-10-21 20:29:38\",\"2016-10-21 20:29:38\",\"2016-10-21 20:29:38\",\"2016-10-21 20:29:38\",\"2016-10-21 20:29:38\",\"2016-10-21 20:29:38\",\"2016-10-21 20:29:38\",\"2016-10-21 20:29:38\",\"2016-10-21 20:29:38\",\"2016-10-21 20:29:38\",\"2016-10-21 20:29:38\",\"2016-10-21 19:57:45\",\"2016-10-21 19:57:45\",\"2016-10-21 19:57:45\",\"2016-10-21 19:57:45\",\"2016-10-21 19:57:45\",\"2016-10-21 19:57:45\",\"2016-10-21 19:57:45\",\"2016-10-21 19:57:45\",\"2016-10-21 19:57:45\",\"2016-10-21 19:57:45\",\"2016-10-21 19:57:45\",\"2016-10-21 19:57:45\",\"2016-10-21 19:57:45\",\"2016-10-21 19:57:45\",\"2016-10-21 19:57:45\",\"2016-10-21 19:57:45\",\"2016-10-21 19:57:45\",\"2016-10-21 19:57:45\",\"2016-10-21 19:57:45\",\"2016-10-21 19:57:45\",\"2016-10-21 19:57:45\",\"2016-10-21 19:57:45\",\"2016-10-21 19:57:45\",\"2016-10-21 19:57:45\",\"2016-10-21 19:57:45\",\"2016-10-21 19:57:45\",\"2016-10-21 19:57:45\",\"2016-10-21 19:57:45\",\"2016-10-21 19:57:45\",\"2016-10-21 19:57:45\",\"2016-10-21 19:57:45\",\"2016-10-21 19:57:45\",\"2016-10-21 19:57:45\",\"2016-10-21 19:57:45\",\"2016-10-21 19:57:45\",\"2016-10-21 19:57:45\",\"2016-10-21 19:57:45\",\"2016-10-21 19:57:45\",\"2016-10-21 19:11:25\",\"2016-10-21 19:11:25\",\"2016-10-21 19:11:25\",\"2016-10-21 19:11:25\",\"2016-10-21 19:11:25\",\"2016-10-21 19:11:25\",\"2016-10-21 19:11:25\",\"2016-10-21 19:11:25\",\"2016-10-21 19:11:25\",\"2016-10-21 19:11:25\",\"2016-10-21 19:11:25\",\"2016-10-21 19:11:24\",\"2016-10-21 19:11:24\",\"2016-10-21 19:11:24\",\"2016-10-21 19:11:24\",\"2016-10-21 19:11:24\",\"2016-10-21 19:11:24\",\"2016-10-21 19:11:24\",\"2016-10-21 19:11:24\",\"2016-10-21 19:11:24\",\"2016-10-21 19:11:24\",\"2016-10-21 19:11:24\",\"2016-10-21 19:11:24\",\"2016-10-21 19:11:24\",\"2016-10-21 19:11:24\",\"2016-10-21 19:11:24\",\"2016-10-21 19:11:24\",\"2016-10-21 19:11:24\",\"2016-10-21 19:11:24\",\"2016-10-21 19:11:24\",\"2016-10-21 18:30:25\",\"2016-10-21 18:30:25\",\"2016-10-21 18:30:25\",\"2016-10-21 18:30:25\",\"2016-10-21 18:30:25\",\"2016-10-21 18:30:25\",\"2016-10-21 18:30:25\",\"2016-10-21 18:30:25\",\"2016-10-21 18:30:25\",\"2016-10-21 18:30:25\",\"2016-10-21 18:30:25\",\"2016-10-21 18:30:25\",\"2016-10-21 18:30:25\",\"2016-10-21 18:30:25\",\"2016-10-21 18:30:25\",\"2016-10-21 18:30:25\",\"2016-10-21 17:56:39\",\"2016-10-21 17:56:39\",\"2016-10-21 17:56:39\",\"2016-10-21 17:56:39\",\"2016-10-21 17:56:39\",\"2016-10-21 17:56:39\",\"2016-10-21 17:56:39\",\"2016-10-21 17:56:39\",\"2016-10-21 17:56:39\",\"2016-10-21 17:56:39\",\"2016-10-21 17:56:39\",\"2016-10-21 17:56:39\",\"2016-10-21 17:56:39\",\"2016-10-21 17:56:39\",\"2016-10-21 17:56:39\",\"2016-10-21 17:56:39\",\"2016-10-21 17:56:39\",\"2016-10-21 17:56:39\",\"2016-10-21 17:56:39\",\"2016-10-21 17:56:39\",\"2016-10-21 17:56:39\",\"2016-10-21 17:56:39\",\"2016-10-21 17:56:39\",\"2016-10-21 17:56:39\",\"2016-10-21 17:56:39\",\"2016-10-21 17:56:39\",\"2016-10-21 17:56:39\",\"2016-10-21 17:56:39\",\"2016-10-21 17:56:39\",\"2016-10-21 17:56:39\",\"2016-10-21 17:56:39\",\"2016-10-21 17:24:28\",\"2016-10-21 17:24:28\",\"2016-10-21 17:24:28\",\"2016-10-21 17:24:28\",\"2016-10-21 17:24:27\",\"2016-10-21 17:24:27\",\"2016-10-21 17:24:27\",\"2016-10-21 17:24:27\",\"2016-10-21 17:24:27\",\"2016-10-21 17:24:27\",\"2016-10-21 17:24:27\",\"2016-10-21 17:24:27\",\"2016-10-21 17:24:27\",\"2016-10-21 17:24:27\",\"2016-10-21 17:24:27\",\"2016-10-21 17:24:27\",\"2016-10-21 17:24:27\"],\"id\":[40435,40434,40433,40432,40431,40430,40429,40428,40427,40426,40425,40424,40423,40422,40421,40420,40419,40418,40417,40416,40415,40414,40413,40412,40411,40410,40409,40408,40407,40406,40405,40404,40403,40402,40401,40400,40399,40398,40397,40396,40395,40394,40393,40392,40391,40390,40389,40388,40387,40386,40385,40384,40383,40382,40381,40380,40379,40378,40377,40376,40375,40374,40373,40372,40371,40370,40369,40368,40367,40366,40365,40364,40363,40362,40361,40360,40359,40358,40357,40356,40355,40354,40353,40352,40351,40350,40349,40348,40347,40346,40345,40344,40343,40342,40341,40340,40339,40338,40337,40336,40335,40334,40333,40332,40331,40330,40329,40328,40327,40326,40325,40324,40323,40322,40321,40320,40319,40318,40317,40316,40315,40314,40313,40312,40311,40310,40309,40308,40307,40306,40305,40304,40303,40302,40301,40300,40299,40298,40297,40296,40295,40294,40293,40292,40291,40290,40289,40288,40287,40286,40285,40284,40283],\"index\":[0,1,2,3,4,5,6,7,8,9,10,11,12,13,14,15,16,17,18,19,20,21,22,23,24,25,26,27,28,29,30,31,32,33,34,35,36,37,38,39,40,41,42,43,44,45,46,47,48,49,50,51,52,53,54,55,56,57,58,59,60,61,62,63,64,65,66,67,68,69,70,71,72,73,74,75,76,77,78,79,80,81,82,83,84,85,86,87,88,89,90,91,92,93,94,95,96,97,98,99,100,101,102,103,104,105,106,107,108,109,110,111,112,113,114,115,116,117,118,119,120,121,122,123,124,125,126,127,128,129,130,131,132,133,134,135,136,137,138,139,140,141,142,143,144,145,146,147,148,149,150,151,152],\"latitude\":[6323893.331526687,6323916.081675203,6323718.63701202,6323575.518554185,6323521.879625732,6323492.099331047,6323492.099331047,6323475.3916932475,6323450.731348733,6323383.577074503,6323212.9547243435,6323177.936442234,6323176.451752205,6323176.451752205,6323149.130089391,6323149.130089391,6323149.130089391,6323115.73327413,6323115.73327413,6323115.73327413,6323115.73327413,6323130.955515848,6323130.955515848,6323130.955515848,6323111.961848542,6323142.918305848,6323174.98412784,6323328.72770405,6323280.773195809,6323335.434530723,6323378.150145125,6323406.308778994,6323575.740414922,6323619.600691216,6323768.744407292,6323868.277420798,6323905.295400571,6323904.237254122,6323884.6615688,6323961.616290746,6323943.576497917,6323961.223749902,6323993.821769176,6324002.986784774,6324036.387121627,6324036.387121627,6324040.961117784,6324051.6110289125,6324030.328287266,6324051.6110289125,6324011.332589784,6324101.703339793,6324101.703339793,6324101.703339793,6324101.703339793,6324087.298569764,6323444.587606329,6323963.374191263,6323958.800237282,6323958.800237282,6323958.800237282,6323958.800237282,6323958.800237282,6323958.800237282,6323958.800237282,6323950.454484377,6323950.454484377,6323950.454484377,6323958.800237282,6323958.800237282,6323987.762965464,6324142.647838564,6324059.137656929,6323681.619853405,6323681.619853405,6323978.5979664475,6323978.5979664475,6323985.4759815335,6323978.5979664475,6323681.619853405,6323963.374191263,6324040.961117784,6324135.104068503,6324221.721292373,6324163.93086431,6324086.479341878,6324127.423766567,6323681.619853405,6324133.482670844,6324145.617559854,6324145.617559854,6324145.617559854,6324141.81153793,6324139.541579485,6323681.619853405,6323681.619853405,6324133.482670844,6324133.482670844,6324133.482670844,6324133.482670844,6324133.482670844,6324133.482670844,6324133.482670844,6324133.482670844,6324139.541579485,6324139.541579485,6324139.541579485,6324139.541579485,6324122.849723411,6324122.849723411,6324133.482670844,6323961.223749902,6324063.728732651,6324063.728732651,6324030.328287266,6323832.727342715,6323952.741458788,6323723.227901963,6323679.332952683,6323559.339802241,6323387.62167509,6323364.258587125,6323329.99056668,6323329.99056668,6323315.58711767,6323412.145307619,6323511.657037052,6323603.25119185,6323714.063191072,6323802.143814352,6323902.496432832,6323950.454484377,6323983.188998226,6324040.961117784,6324040.961117784,6324040.961117784,6324040.961117784,6323020.0470980415,6324040.961117784,6324030.328287266,6324040.961117784,6324040.961117784,6324040.961117784,6324030.328287266,6324030.328287266,6324030.328287266,6324032.615283384,6324032.615283384,6324032.615283384,6324032.615283384,6324040.961117784,6324040.961117784,6323663.290532242],\"longitude\":[-13705051.386348173,-13705036.024258442,-13705005.890072284,-13704894.58171344,-13704897.709791133,-13704758.538163742,-13704758.538163742,-13704761.643977538,-13704780.245464448,-13704785.176917888,-13704955.05046084,-13704872.507058416,-13704906.18120438,-13704906.18120438,-13704900.12542408,-13704900.12542408,-13704900.12542408,-13704906.32591972,-13704906.32591972,-13704906.32591972,-13704906.32591972,-13704936.883119944,-13704936.883119944,-13704936.883119944,-13704929.279998725,-13704789.974787945,-13704769.313890453,-13704644.179650852,-13704541.776851267,-13704553.888411868,-13704712.908304468,-13704763.336033795,-13704865.4494027,-13704967.841070332,-13704996.583762854,-13705056.028370935,-13705115.03883301,-13705115.22807614,-13705126.738511493,-13705005.311210932,-13705164.498082764,-13705328.19339398,-13705277.620949313,-13705320.44555742,-13705314.256193733,-13705314.256193733,-13705335.662931813,-13705344.824525906,-13705326.512469664,-13705344.824525906,-13705318.8982165,-13705335.529348426,-13705335.529348426,-13705335.529348426,-13705335.529348426,-13705349.332965285,-13705023.35610039,-13705216.484284967,-13705195.06641494,-13705195.06641494,-13705195.06641494,-13705195.06641494,-13705195.06641494,-13705195.06641494,-13705195.06641494,-13705196.624887813,-13705196.624887813,-13705196.624887813,-13705195.06641494,-13705195.06641494,-13705289.87722525,-13705283.398430886,-13705298.894104002,-13705157.451559002,-13705157.451559002,-13705247.052617138,-13705247.052617138,-13705279.168290233,-13705247.052617138,-13705157.451559002,-13705216.484284967,-13705335.662931813,-13705329.328852786,-13705368.91406371,-13705301.710487118,-13705304.949884305,-13705252.830098713,-13705157.451559002,-13705240.573822776,-13705216.061270902,-13705216.061270902,-13705216.061270902,-13705223.341565603,-13705228.31754684,-13705157.451559002,-13705157.451559002,-13705240.573822776,-13705240.573822776,-13705240.573822776,-13705240.573822776,-13705240.573822776,-13705240.573822776,-13705240.573822776,-13705240.573822776,-13705228.31754684,-13705228.31754684,-13705228.31754684,-13705228.31754684,-13705231.412228685,-13705231.412228685,-13705240.573822776,-13705328.19339398,-13705320.31197403,-13705320.31197403,-13705326.512469664,-13705173.937975587,-13705207.322690874,-13705027.296810364,-13705146.753755935,-13705113.369040648,-13705000.546736728,-13705041.12269112,-13705055.76120416,-13705055.76120416,-13705069.56482102,-13705196.335457135,-13705053.21198782,-13704902.529925086,-13704984.472202254,-13704990.394399164,-13705094.21095628,-13705196.624887813,-13705268.470487168,-13705335.662931813,-13705335.662931813,-13705335.662931813,-13705335.662931813,-13705328.198959952,-13705335.662931813,-13705326.512469664,-13705335.662931813,-13705335.662931813,-13705335.662931813,-13705326.512469664,-13705326.512469664,-13705326.512469664,-13705337.210272735,-13705337.210272735,-13705337.210272735,-13705337.210272735,-13705335.662931813,-13705335.662931813,-13705071.813474733],\"sample_time\":[\"10/21/16 20:28\",\"10/21/16 20:27\",\"10/21/16 20:26\",\"10/21/16 20:25\",\"10/21/16 20:24\",\"10/21/16 20:21\",\"10/21/16 20:21\",\"10/21/16 20:19\",\"10/21/16 20:18\",\"10/21/16 20:17\",\"10/21/16 20:16\",\"10/21/16 20:14\",\"10/21/16 20:12\",\"10/21/16 20:09\",\"10/21/16 20:07\",\"10/21/16 20:06\",\"10/21/16 20:05\",\"10/21/16 20:02\",\"10/21/16 20:01\",\"10/21/16 20:00\",\"10/21/16 19:59\",\"10/21/16 19:57\",\"10/21/16 19:56\",\"10/21/16 19:52\",\"10/21/16 19:51\",\"10/21/16 19:50\",\"10/21/16 19:49\",\"10/21/16 19:48\",\"10/21/16 19:47\",\"10/21/16 19:46\",\"10/21/16 19:45\",\"10/21/16 19:44\",\"10/21/16 19:43\",\"10/21/16 19:42\",\"10/21/16 19:41\",\"10/21/16 19:40\",\"10/21/16 19:38\",\"10/21/16 19:37\",\"10/21/16 19:36\",\"10/21/16 19:35\",\"10/21/16 19:34\",\"10/21/16 19:33\",\"10/21/16 19:31\",\"10/21/16 19:30\",\"10/21/16 19:29\",\"10/21/16 19:28\",\"10/21/16 19:27\",\"10/21/16 19:26\",\"10/21/16 19:25\",\"10/21/16 19:24\",\"10/21/16 19:23\",\"10/21/16 19:22\",\"10/21/16 19:20\",\"10/21/16 19:18\",\"10/21/16 19:17\",\"10/21/16 19:15\",\"10/21/16 19:14\",\"10/21/16 19:13\",\"10/21/16 19:12\",\"10/21/16 19:10\",\"10/21/16 19:09\",\"10/21/16 19:08\",\"10/21/16 19:07\",\"10/21/16 19:05\",\"10/21/16 19:03\",\"10/21/16 19:02\",\"10/21/16 18:59\",\"10/21/16 18:58\",\"10/21/16 18:56\",\"10/21/16 18:55\",\"10/21/16 18:54\",\"10/21/16 18:53\",\"10/21/16 18:52\",\"10/21/16 18:50\",\"10/21/16 18:49\",\"10/21/16 18:47\",\"10/21/16 18:46\",\"10/21/16 18:45\",\"10/21/16 18:43\",\"10/21/16 18:43\",\"10/21/16 18:41\",\"10/21/16 18:40\",\"10/21/16 18:39\",\"10/21/16 18:38\",\"10/21/16 18:37\",\"10/21/16 18:35\",\"10/21/16 18:34\",\"10/21/16 18:32\",\"10/21/16 18:31\",\"10/21/16 18:29\",\"10/21/16 18:26\",\"10/21/16 18:23\",\"10/21/16 18:23\",\"10/21/16 18:22\",\"10/21/16 18:21\",\"10/21/16 18:20\",\"10/21/16 18:18\",\"10/21/16 18:14\",\"10/21/16 18:08\",\"10/21/16 18:05\",\"10/21/16 18:03\",\"10/21/16 18:02\",\"10/21/16 18:01\",\"10/21/16 18:00\",\"10/21/16 17:58\",\"10/21/16 17:56\",\"10/21/16 17:55\",\"10/21/16 17:54\",\"10/21/16 17:52\",\"10/21/16 17:51\",\"10/21/16 17:50\",\"10/21/16 17:49\",\"10/21/16 17:48\",\"10/21/16 17:46\",\"10/21/16 17:45\",\"10/21/16 17:44\",\"10/21/16 17:43\",\"10/21/16 17:42\",\"10/21/16 17:42\",\"10/21/16 17:41\",\"10/21/16 17:40\",\"10/21/16 17:39\",\"10/21/16 17:38\",\"10/21/16 17:37\",\"10/21/16 17:36\",\"10/21/16 17:34\",\"10/21/16 17:33\",\"10/21/16 17:32\",\"10/21/16 17:31\",\"10/21/16 17:30\",\"10/21/16 17:29\",\"10/21/16 17:28\",\"10/21/16 17:28\",\"10/21/16 17:27\",\"10/21/16 17:26\",\"10/21/16 17:25\",\"10/21/16 17:23\",\"10/21/16 17:22\",\"10/21/16 17:21\",\"10/21/16 17:18\",\"10/21/16 17:13\",\"10/21/16 17:07\",\"10/21/16 17:03\",\"10/21/16 17:02\",\"10/21/16 17:01\",\"10/21/16 17:00\",\"10/21/16 16:57\",\"10/21/16 16:55\",\"10/21/16 16:52\",\"10/21/16 16:37\",\"10/21/16 16:36\",\"10/21/16 16:30\",\"10/21/16 16:26\"],\"sample_timezone\":[-420,-420,-420,-420,-420,-420,-420,-420,-420,-420,-420,-420,-420,-420,-420,-420,-420,-420,-420,-420,-420,-420,-420,-420,-420,-420,-420,-420,-420,-420,-420,-420,-420,-420,-420,-420,-420,-420,-420,-420,-420,-420,-420,-420,-420,-420,-420,-420,-420,-420,-420,-420,-420,-420,-420,-420,-420,-420,-420,-420,-420,-420,-420,-420,-420,-420,-420,-420,-420,-420,-420,-420,-420,-420,-420,-420,-420,-420,-420,-420,-420,-420,-420,-420,-420,-420,-420,-420,-420,-420,-420,-420,-420,-420,-420,-420,-420,-420,-420,-420,-420,-420,-420,-420,-420,-420,-420,-420,-420,-420,-420,-420,-420,-420,-420,-420,-420,-420,-420,-420,-420,-420,-420,-420,-420,-420,-420,-420,-420,-420,-420,-420,-420,-420,-420,-420,-420,-420,-420,-420,-420,-420,-420,-420,-420,-420,-420,-420,-420,-420,-420,-420,-420],\"user_id\":[\"12176943568701362661\",\"12176943568701362661\",\"12176943568701362661\",\"12176943568701362661\",\"12176943568701362661\",\"12176943568701362661\",\"12176943568701362661\",\"12176943568701362661\",\"12176943568701362661\",\"12176943568701362661\",\"12176943568701362661\",\"12176943568701362661\",\"12176943568701362661\",\"12176943568701362661\",\"12176943568701362661\",\"12176943568701362661\",\"12176943568701362661\",\"12176943568701362661\",\"12176943568701362661\",\"12176943568701362661\",\"12176943568701362661\",\"12176943568701362661\",\"12176943568701362661\",\"12176943568701362661\",\"12176943568701362661\",\"12176943568701362661\",\"12176943568701362661\",\"12176943568701362661\",\"12176943568701362661\",\"12176943568701362661\",\"12176943568701362661\",\"12176943568701362661\",\"12176943568701362661\",\"12176943568701362661\",\"12176943568701362661\",\"12176943568701362661\",\"12176943568701362661\",\"12176943568701362661\",\"12176943568701362661\",\"12176943568701362661\",\"12176943568701362661\",\"12176943568701362661\",\"12176943568701362661\",\"12176943568701362661\",\"12176943568701362661\",\"12176943568701362661\",\"12176943568701362661\",\"12176943568701362661\",\"12176943568701362661\",\"12176943568701362661\",\"12176943568701362661\",\"12176943568701362661\",\"12176943568701362661\",\"12176943568701362661\",\"12176943568701362661\",\"12176943568701362661\",\"12176943568701362661\",\"12176943568701362661\",\"12176943568701362661\",\"12176943568701362661\",\"12176943568701362661\",\"12176943568701362661\",\"12176943568701362661\",\"12176943568701362661\",\"12176943568701362661\",\"12176943568701362661\",\"12176943568701362661\",\"12176943568701362661\",\"12176943568701362661\",\"12176943568701362661\",\"12176943568701362661\",\"12176943568701362661\",\"12176943568701362661\",\"12176943568701362661\",\"12176943568701362661\",\"12176943568701362661\",\"12176943568701362661\",\"12176943568701362661\",\"12176943568701362661\",\"12176943568701362661\",\"12176943568701362661\",\"12176943568701362661\",\"12176943568701362661\",\"12176943568701362661\",\"12176943568701362661\",\"12176943568701362661\",\"12176943568701362661\",\"12176943568701362661\",\"12176943568701362661\",\"12176943568701362661\",\"12176943568701362661\",\"12176943568701362661\",\"12176943568701362661\",\"12176943568701362661\",\"12176943568701362661\",\"12176943568701362661\",\"12176943568701362661\",\"12176943568701362661\",\"12176943568701362661\",\"12176943568701362661\",\"12176943568701362661\",\"12176943568701362661\",\"12176943568701362661\",\"12176943568701362661\",\"12176943568701362661\",\"12176943568701362661\",\"12176943568701362661\",\"12176943568701362661\",\"12176943568701362661\",\"12176943568701362661\",\"12176943568701362661\",\"12176943568701362661\",\"12176943568701362661\",\"12176943568701362661\",\"12176943568701362661\",\"12176943568701362661\",\"12176943568701362661\",\"12176943568701362661\",\"12176943568701362661\",\"12176943568701362661\",\"12176943568701362661\",\"12176943568701362661\",\"12176943568701362661\",\"12176943568701362661\",\"12176943568701362661\",\"12176943568701362661\",\"12176943568701362661\",\"12176943568701362661\",\"12176943568701362661\",\"12176943568701362661\",\"12176943568701362661\",\"12176943568701362661\",\"12176943568701362661\",\"12176943568701362661\",\"12176943568701362661\",\"12176943568701362661\",\"12176943568701362661\",\"12176943568701362661\",\"12176943568701362661\",\"12176943568701362661\",\"12176943568701362661\",\"12176943568701362661\",\"12176943568701362661\",\"12176943568701362661\",\"12176943568701362661\",\"12176943568701362661\",\"12176943568701362661\",\"12176943568701362661\",\"12176943568701362661\",\"12176943568701362661\",\"12176943568701362661\",\"12176943568701362661\",\"12176943568701362661\"],\"user_token\":[\"4432fdf09eb34a7cb6b24164be30da78e2cbddd8b82031a65a142d13aaaabba6\",\"4432fdf09eb34a7cb6b24164be30da78e2cbddd8b82031a65a142d13aaaabba6\",\"4432fdf09eb34a7cb6b24164be30da78e2cbddd8b82031a65a142d13aaaabba6\",\"4432fdf09eb34a7cb6b24164be30da78e2cbddd8b82031a65a142d13aaaabba6\",\"4432fdf09eb34a7cb6b24164be30da78e2cbddd8b82031a65a142d13aaaabba6\",\"4432fdf09eb34a7cb6b24164be30da78e2cbddd8b82031a65a142d13aaaabba6\",\"4432fdf09eb34a7cb6b24164be30da78e2cbddd8b82031a65a142d13aaaabba6\",\"4432fdf09eb34a7cb6b24164be30da78e2cbddd8b82031a65a142d13aaaabba6\",\"4432fdf09eb34a7cb6b24164be30da78e2cbddd8b82031a65a142d13aaaabba6\",\"4432fdf09eb34a7cb6b24164be30da78e2cbddd8b82031a65a142d13aaaabba6\",\"4432fdf09eb34a7cb6b24164be30da78e2cbddd8b82031a65a142d13aaaabba6\",\"4432fdf09eb34a7cb6b24164be30da78e2cbddd8b82031a65a142d13aaaabba6\",\"4432fdf09eb34a7cb6b24164be30da78e2cbddd8b82031a65a142d13aaaabba6\",\"4432fdf09eb34a7cb6b24164be30da78e2cbddd8b82031a65a142d13aaaabba6\",\"4432fdf09eb34a7cb6b24164be30da78e2cbddd8b82031a65a142d13aaaabba6\",\"4432fdf09eb34a7cb6b24164be30da78e2cbddd8b82031a65a142d13aaaabba6\",\"4432fdf09eb34a7cb6b24164be30da78e2cbddd8b82031a65a142d13aaaabba6\",\"4432fdf09eb34a7cb6b24164be30da78e2cbddd8b82031a65a142d13aaaabba6\",\"4432fdf09eb34a7cb6b24164be30da78e2cbddd8b82031a65a142d13aaaabba6\",\"4432fdf09eb34a7cb6b24164be30da78e2cbddd8b82031a65a142d13aaaabba6\",\"4432fdf09eb34a7cb6b24164be30da78e2cbddd8b82031a65a142d13aaaabba6\",\"4432fdf09eb34a7cb6b24164be30da78e2cbddd8b82031a65a142d13aaaabba6\",\"4432fdf09eb34a7cb6b24164be30da78e2cbddd8b82031a65a142d13aaaabba6\",\"4432fdf09eb34a7cb6b24164be30da78e2cbddd8b82031a65a142d13aaaabba6\",\"4432fdf09eb34a7cb6b24164be30da78e2cbddd8b82031a65a142d13aaaabba6\",\"4432fdf09eb34a7cb6b24164be30da78e2cbddd8b82031a65a142d13aaaabba6\",\"4432fdf09eb34a7cb6b24164be30da78e2cbddd8b82031a65a142d13aaaabba6\",\"4432fdf09eb34a7cb6b24164be30da78e2cbddd8b82031a65a142d13aaaabba6\",\"4432fdf09eb34a7cb6b24164be30da78e2cbddd8b82031a65a142d13aaaabba6\",\"4432fdf09eb34a7cb6b24164be30da78e2cbddd8b82031a65a142d13aaaabba6\",\"4432fdf09eb34a7cb6b24164be30da78e2cbddd8b82031a65a142d13aaaabba6\",\"4432fdf09eb34a7cb6b24164be30da78e2cbddd8b82031a65a142d13aaaabba6\",\"4432fdf09eb34a7cb6b24164be30da78e2cbddd8b82031a65a142d13aaaabba6\",\"4432fdf09eb34a7cb6b24164be30da78e2cbddd8b82031a65a142d13aaaabba6\",\"4432fdf09eb34a7cb6b24164be30da78e2cbddd8b82031a65a142d13aaaabba6\",\"4432fdf09eb34a7cb6b24164be30da78e2cbddd8b82031a65a142d13aaaabba6\",\"4432fdf09eb34a7cb6b24164be30da78e2cbddd8b82031a65a142d13aaaabba6\",\"4432fdf09eb34a7cb6b24164be30da78e2cbddd8b82031a65a142d13aaaabba6\",\"4432fdf09eb34a7cb6b24164be30da78e2cbddd8b82031a65a142d13aaaabba6\",\"4432fdf09eb34a7cb6b24164be30da78e2cbddd8b82031a65a142d13aaaabba6\",\"4432fdf09eb34a7cb6b24164be30da78e2cbddd8b82031a65a142d13aaaabba6\",\"4432fdf09eb34a7cb6b24164be30da78e2cbddd8b82031a65a142d13aaaabba6\",\"4432fdf09eb34a7cb6b24164be30da78e2cbddd8b82031a65a142d13aaaabba6\",\"4432fdf09eb34a7cb6b24164be30da78e2cbddd8b82031a65a142d13aaaabba6\",\"4432fdf09eb34a7cb6b24164be30da78e2cbddd8b82031a65a142d13aaaabba6\",\"4432fdf09eb34a7cb6b24164be30da78e2cbddd8b82031a65a142d13aaaabba6\",\"4432fdf09eb34a7cb6b24164be30da78e2cbddd8b82031a65a142d13aaaabba6\",\"4432fdf09eb34a7cb6b24164be30da78e2cbddd8b82031a65a142d13aaaabba6\",\"4432fdf09eb34a7cb6b24164be30da78e2cbddd8b82031a65a142d13aaaabba6\",\"4432fdf09eb34a7cb6b24164be30da78e2cbddd8b82031a65a142d13aaaabba6\",\"4432fdf09eb34a7cb6b24164be30da78e2cbddd8b82031a65a142d13aaaabba6\",\"4432fdf09eb34a7cb6b24164be30da78e2cbddd8b82031a65a142d13aaaabba6\",\"4432fdf09eb34a7cb6b24164be30da78e2cbddd8b82031a65a142d13aaaabba6\",\"4432fdf09eb34a7cb6b24164be30da78e2cbddd8b82031a65a142d13aaaabba6\",\"4432fdf09eb34a7cb6b24164be30da78e2cbddd8b82031a65a142d13aaaabba6\",\"4432fdf09eb34a7cb6b24164be30da78e2cbddd8b82031a65a142d13aaaabba6\",\"4432fdf09eb34a7cb6b24164be30da78e2cbddd8b82031a65a142d13aaaabba6\",\"4432fdf09eb34a7cb6b24164be30da78e2cbddd8b82031a65a142d13aaaabba6\",\"4432fdf09eb34a7cb6b24164be30da78e2cbddd8b82031a65a142d13aaaabba6\",\"4432fdf09eb34a7cb6b24164be30da78e2cbddd8b82031a65a142d13aaaabba6\",\"4432fdf09eb34a7cb6b24164be30da78e2cbddd8b82031a65a142d13aaaabba6\",\"4432fdf09eb34a7cb6b24164be30da78e2cbddd8b82031a65a142d13aaaabba6\",\"4432fdf09eb34a7cb6b24164be30da78e2cbddd8b82031a65a142d13aaaabba6\",\"4432fdf09eb34a7cb6b24164be30da78e2cbddd8b82031a65a142d13aaaabba6\",\"4432fdf09eb34a7cb6b24164be30da78e2cbddd8b82031a65a142d13aaaabba6\",\"4432fdf09eb34a7cb6b24164be30da78e2cbddd8b82031a65a142d13aaaabba6\",\"4432fdf09eb34a7cb6b24164be30da78e2cbddd8b82031a65a142d13aaaabba6\",\"4432fdf09eb34a7cb6b24164be30da78e2cbddd8b82031a65a142d13aaaabba6\",\"4432fdf09eb34a7cb6b24164be30da78e2cbddd8b82031a65a142d13aaaabba6\",\"4432fdf09eb34a7cb6b24164be30da78e2cbddd8b82031a65a142d13aaaabba6\",\"4432fdf09eb34a7cb6b24164be30da78e2cbddd8b82031a65a142d13aaaabba6\",\"4432fdf09eb34a7cb6b24164be30da78e2cbddd8b82031a65a142d13aaaabba6\",\"4432fdf09eb34a7cb6b24164be30da78e2cbddd8b82031a65a142d13aaaabba6\",\"4432fdf09eb34a7cb6b24164be30da78e2cbddd8b82031a65a142d13aaaabba6\",\"4432fdf09eb34a7cb6b24164be30da78e2cbddd8b82031a65a142d13aaaabba6\",\"4432fdf09eb34a7cb6b24164be30da78e2cbddd8b82031a65a142d13aaaabba6\",\"4432fdf09eb34a7cb6b24164be30da78e2cbddd8b82031a65a142d13aaaabba6\",\"4432fdf09eb34a7cb6b24164be30da78e2cbddd8b82031a65a142d13aaaabba6\",\"4432fdf09eb34a7cb6b24164be30da78e2cbddd8b82031a65a142d13aaaabba6\",\"4432fdf09eb34a7cb6b24164be30da78e2cbddd8b82031a65a142d13aaaabba6\",\"4432fdf09eb34a7cb6b24164be30da78e2cbddd8b82031a65a142d13aaaabba6\",\"4432fdf09eb34a7cb6b24164be30da78e2cbddd8b82031a65a142d13aaaabba6\",\"4432fdf09eb34a7cb6b24164be30da78e2cbddd8b82031a65a142d13aaaabba6\",\"4432fdf09eb34a7cb6b24164be30da78e2cbddd8b82031a65a142d13aaaabba6\",\"4432fdf09eb34a7cb6b24164be30da78e2cbddd8b82031a65a142d13aaaabba6\",\"4432fdf09eb34a7cb6b24164be30da78e2cbddd8b82031a65a142d13aaaabba6\",\"4432fdf09eb34a7cb6b24164be30da78e2cbddd8b82031a65a142d13aaaabba6\",\"4432fdf09eb34a7cb6b24164be30da78e2cbddd8b82031a65a142d13aaaabba6\",\"4432fdf09eb34a7cb6b24164be30da78e2cbddd8b82031a65a142d13aaaabba6\",\"4432fdf09eb34a7cb6b24164be30da78e2cbddd8b82031a65a142d13aaaabba6\",\"4432fdf09eb34a7cb6b24164be30da78e2cbddd8b82031a65a142d13aaaabba6\",\"4432fdf09eb34a7cb6b24164be30da78e2cbddd8b82031a65a142d13aaaabba6\",\"4432fdf09eb34a7cb6b24164be30da78e2cbddd8b82031a65a142d13aaaabba6\",\"4432fdf09eb34a7cb6b24164be30da78e2cbddd8b82031a65a142d13aaaabba6\",\"4432fdf09eb34a7cb6b24164be30da78e2cbddd8b82031a65a142d13aaaabba6\",\"4432fdf09eb34a7cb6b24164be30da78e2cbddd8b82031a65a142d13aaaabba6\",\"4432fdf09eb34a7cb6b24164be30da78e2cbddd8b82031a65a142d13aaaabba6\",\"4432fdf09eb34a7cb6b24164be30da78e2cbddd8b82031a65a142d13aaaabba6\",\"4432fdf09eb34a7cb6b24164be30da78e2cbddd8b82031a65a142d13aaaabba6\",\"4432fdf09eb34a7cb6b24164be30da78e2cbddd8b82031a65a142d13aaaabba6\",\"4432fdf09eb34a7cb6b24164be30da78e2cbddd8b82031a65a142d13aaaabba6\",\"4432fdf09eb34a7cb6b24164be30da78e2cbddd8b82031a65a142d13aaaabba6\",\"4432fdf09eb34a7cb6b24164be30da78e2cbddd8b82031a65a142d13aaaabba6\",\"4432fdf09eb34a7cb6b24164be30da78e2cbddd8b82031a65a142d13aaaabba6\",\"4432fdf09eb34a7cb6b24164be30da78e2cbddd8b82031a65a142d13aaaabba6\",\"4432fdf09eb34a7cb6b24164be30da78e2cbddd8b82031a65a142d13aaaabba6\",\"4432fdf09eb34a7cb6b24164be30da78e2cbddd8b82031a65a142d13aaaabba6\",\"4432fdf09eb34a7cb6b24164be30da78e2cbddd8b82031a65a142d13aaaabba6\",\"4432fdf09eb34a7cb6b24164be30da78e2cbddd8b82031a65a142d13aaaabba6\",\"4432fdf09eb34a7cb6b24164be30da78e2cbddd8b82031a65a142d13aaaabba6\",\"4432fdf09eb34a7cb6b24164be30da78e2cbddd8b82031a65a142d13aaaabba6\",\"4432fdf09eb34a7cb6b24164be30da78e2cbddd8b82031a65a142d13aaaabba6\",\"4432fdf09eb34a7cb6b24164be30da78e2cbddd8b82031a65a142d13aaaabba6\",\"4432fdf09eb34a7cb6b24164be30da78e2cbddd8b82031a65a142d13aaaabba6\",\"4432fdf09eb34a7cb6b24164be30da78e2cbddd8b82031a65a142d13aaaabba6\",\"4432fdf09eb34a7cb6b24164be30da78e2cbddd8b82031a65a142d13aaaabba6\",\"4432fdf09eb34a7cb6b24164be30da78e2cbddd8b82031a65a142d13aaaabba6\",\"4432fdf09eb34a7cb6b24164be30da78e2cbddd8b82031a65a142d13aaaabba6\",\"4432fdf09eb34a7cb6b24164be30da78e2cbddd8b82031a65a142d13aaaabba6\",\"4432fdf09eb34a7cb6b24164be30da78e2cbddd8b82031a65a142d13aaaabba6\",\"4432fdf09eb34a7cb6b24164be30da78e2cbddd8b82031a65a142d13aaaabba6\",\"4432fdf09eb34a7cb6b24164be30da78e2cbddd8b82031a65a142d13aaaabba6\",\"4432fdf09eb34a7cb6b24164be30da78e2cbddd8b82031a65a142d13aaaabba6\",\"4432fdf09eb34a7cb6b24164be30da78e2cbddd8b82031a65a142d13aaaabba6\",\"4432fdf09eb34a7cb6b24164be30da78e2cbddd8b82031a65a142d13aaaabba6\",\"4432fdf09eb34a7cb6b24164be30da78e2cbddd8b82031a65a142d13aaaabba6\",\"4432fdf09eb34a7cb6b24164be30da78e2cbddd8b82031a65a142d13aaaabba6\",\"4432fdf09eb34a7cb6b24164be30da78e2cbddd8b82031a65a142d13aaaabba6\",\"4432fdf09eb34a7cb6b24164be30da78e2cbddd8b82031a65a142d13aaaabba6\",\"4432fdf09eb34a7cb6b24164be30da78e2cbddd8b82031a65a142d13aaaabba6\",\"4432fdf09eb34a7cb6b24164be30da78e2cbddd8b82031a65a142d13aaaabba6\",\"4432fdf09eb34a7cb6b24164be30da78e2cbddd8b82031a65a142d13aaaabba6\",\"4432fdf09eb34a7cb6b24164be30da78e2cbddd8b82031a65a142d13aaaabba6\",\"4432fdf09eb34a7cb6b24164be30da78e2cbddd8b82031a65a142d13aaaabba6\",\"4432fdf09eb34a7cb6b24164be30da78e2cbddd8b82031a65a142d13aaaabba6\",\"4432fdf09eb34a7cb6b24164be30da78e2cbddd8b82031a65a142d13aaaabba6\",\"4432fdf09eb34a7cb6b24164be30da78e2cbddd8b82031a65a142d13aaaabba6\",\"4432fdf09eb34a7cb6b24164be30da78e2cbddd8b82031a65a142d13aaaabba6\",\"4432fdf09eb34a7cb6b24164be30da78e2cbddd8b82031a65a142d13aaaabba6\",\"4432fdf09eb34a7cb6b24164be30da78e2cbddd8b82031a65a142d13aaaabba6\",\"4432fdf09eb34a7cb6b24164be30da78e2cbddd8b82031a65a142d13aaaabba6\",\"4432fdf09eb34a7cb6b24164be30da78e2cbddd8b82031a65a142d13aaaabba6\",\"4432fdf09eb34a7cb6b24164be30da78e2cbddd8b82031a65a142d13aaaabba6\",\"4432fdf09eb34a7cb6b24164be30da78e2cbddd8b82031a65a142d13aaaabba6\",\"4432fdf09eb34a7cb6b24164be30da78e2cbddd8b82031a65a142d13aaaabba6\",\"4432fdf09eb34a7cb6b24164be30da78e2cbddd8b82031a65a142d13aaaabba6\",\"4432fdf09eb34a7cb6b24164be30da78e2cbddd8b82031a65a142d13aaaabba6\",\"4432fdf09eb34a7cb6b24164be30da78e2cbddd8b82031a65a142d13aaaabba6\",\"4432fdf09eb34a7cb6b24164be30da78e2cbddd8b82031a65a142d13aaaabba6\",\"4432fdf09eb34a7cb6b24164be30da78e2cbddd8b82031a65a142d13aaaabba6\",\"4432fdf09eb34a7cb6b24164be30da78e2cbddd8b82031a65a142d13aaaabba6\",\"4432fdf09eb34a7cb6b24164be30da78e2cbddd8b82031a65a142d13aaaabba6\",\"4432fdf09eb34a7cb6b24164be30da78e2cbddd8b82031a65a142d13aaaabba6\"]}},\"id\":\"2c693a6e-7e5e-489b-a89c-44ca61308f59\",\"type\":\"ColumnDataSource\"},{\"attributes\":{\"plot\":{\"id\":\"3973419d-fa9a-41d6-be7d-8984a38ae23e\",\"subtype\":\"Figure\",\"type\":\"Plot\"},\"ticker\":{\"id\":\"923b5775-cb24-4ebc-9dae-e393e1b97af1\",\"type\":\"BasicTicker\"}},\"id\":\"0508e287-3e74-4b51-9e8f-799103919f20\",\"type\":\"Grid\"},{\"attributes\":{\"plot\":{\"id\":\"3973419d-fa9a-41d6-be7d-8984a38ae23e\",\"subtype\":\"Figure\",\"type\":\"Plot\"}},\"id\":\"9957dbc2-3d53-4ba6-bf31-1e19d39d4831\",\"type\":\"WheelZoomTool\"},{\"attributes\":{},\"id\":\"b1f3693a-9f90-4718-92a5-ea7f18efb74f\",\"type\":\"BasicTickFormatter\"},{\"attributes\":{\"fill_alpha\":{\"value\":0.1},\"fill_color\":{\"value\":\"#1f77b4\"},\"line_alpha\":{\"value\":0.1},\"line_color\":{\"value\":\"#1f77b4\"},\"size\":{\"units\":\"screen\",\"value\":10},\"x\":{\"field\":\"longitude\"},\"y\":{\"field\":\"latitude\"}},\"id\":\"5bfeb2b2-ea37-4e58-9e97-6f0589ea3ff3\",\"type\":\"Circle\"},{\"attributes\":{\"data_source\":{\"id\":\"2c693a6e-7e5e-489b-a89c-44ca61308f59\",\"type\":\"ColumnDataSource\"},\"glyph\":{\"id\":\"61739ad4-c71e-4151-93dc-b690d66f045a\",\"type\":\"Circle\"},\"hover_glyph\":null,\"nonselection_glyph\":{\"id\":\"5bfeb2b2-ea37-4e58-9e97-6f0589ea3ff3\",\"type\":\"Circle\"},\"selection_glyph\":null},\"id\":\"7a55abb3-0764-43a8-8fcb-361d06db3827\",\"type\":\"GlyphRenderer\"}],\"root_ids\":[\"3973419d-fa9a-41d6-be7d-8984a38ae23e\"]},\"title\":\"Bokeh Application\",\"version\":\"0.12.3\"}};\n",
       "            var render_items = [{\"docid\":\"9e7e6de6-dadf-4709-85c5-5426764e223e\",\"elementid\":\"c02d6ced-d181-4d65-bf57-cbc925f09c4b\",\"modelid\":\"3973419d-fa9a-41d6-be7d-8984a38ae23e\"}];\n",
       "            \n",
       "            Bokeh.embed.embed_items(docs_json, render_items);\n",
       "        });\n",
       "      },\n",
       "      function(Bokeh) {\n",
       "      }\n",
       "    ];\n",
       "  \n",
       "    function run_inline_js() {\n",
       "      \n",
       "      if ((window.Bokeh !== undefined) || (force === \"1\")) {\n",
       "        for (var i = 0; i < inline_js.length; i++) {\n",
       "          inline_js[i](window.Bokeh);\n",
       "        }if (force === \"1\") {\n",
       "          display_loaded();\n",
       "        }} else if (Date.now() < window._bokeh_timeout) {\n",
       "        setTimeout(run_inline_js, 100);\n",
       "      } else if (!window._bokeh_failed_load) {\n",
       "        console.log(\"Bokeh: BokehJS failed to load within specified timeout.\");\n",
       "        window._bokeh_failed_load = true;\n",
       "      } else if (!force) {\n",
       "        var cell = $(\"#c02d6ced-d181-4d65-bf57-cbc925f09c4b\").parents('.cell').data().cell;\n",
       "        cell.output_area.append_execute_result(NB_LOAD_WARNING)\n",
       "      }\n",
       "  \n",
       "    }\n",
       "  \n",
       "    if (window._bokeh_is_loading === 0) {\n",
       "      console.log(\"Bokeh: BokehJS loaded, going straight to plotting\");\n",
       "      run_inline_js();\n",
       "    } else {\n",
       "      load_libs(js_urls, function() {\n",
       "        console.log(\"Bokeh: BokehJS plotting callback run at\", now());\n",
       "        run_inline_js();\n",
       "      });\n",
       "    }\n",
       "  }(this));\n",
       "</script>"
      ]
     },
     "metadata": {},
     "output_type": "display_data"
    }
   ],
   "source": [
    "from bokeh.tile_providers import STAMEN_TONER\n",
    "from bokeh.models import HoverTool\n",
    "\n",
    "locations = pd.read_csv('dmb_vancouver_locs.csv')\n",
    "\n",
    "hover = HoverTool(tooltips=[('Sample Time', '@sample_time'), ('Accuracy', '@accuracy{int} meters'), \n",
    "                            ('Offset', '@sample_timezone')])\n",
    "p = bkp.figure(width=700, height=500, tools=[hover, 'pan', 'wheel_zoom', 'reset', 'box_zoom'])\n",
    "source = ColumnDataSource(locations)\n",
    "p.circle(x='longitude', y='latitude', alpha=0.9, size=10, source=source)\n",
    "p.add_tile(STAMEN_TONER)\n",
    "bkp.show(p)"
   ]
  }
 ],
 "metadata": {
  "anaconda-cloud": {},
  "kernelspec": {
   "display_name": "Python [conda root]",
   "language": "python",
   "name": "conda-root-py"
  },
  "language_info": {
   "codemirror_mode": {
    "name": "ipython",
    "version": 3
   },
   "file_extension": ".py",
   "mimetype": "text/x-python",
   "name": "python",
   "nbconvert_exporter": "python",
   "pygments_lexer": "ipython3",
   "version": "3.5.2"
  },
  "nbpresent": {
   "slides": {
    "217fc7af-2402-4feb-b875-50b35593a354": {
     "id": "217fc7af-2402-4feb-b875-50b35593a354",
     "prev": "721fb4b8-8d84-4ea5-9f2c-319eb3dc9219",
     "regions": {
      "2b2aa28f-00f9-4532-bcc5-0636838f58ef": {
       "attrs": {
        "height": 0.13253012048192772,
        "width": 1,
        "x": 0,
        "y": 0
       },
       "content": {
        "cell": "00911f49-ad6f-479d-834b-3a149e2c44af",
        "part": "source"
       },
       "id": "2b2aa28f-00f9-4532-bcc5-0636838f58ef"
      },
      "6aeedd50-891e-4f49-a270-0212641ff5a6": {
       "attrs": {
        "height": 0.48483457640084143,
        "width": 0.9609294320137692,
        "x": 0.013941480206540388,
        "y": 0.4962516733601072
       },
       "content": {
        "cell": "6820a1f6-218e-4fe4-b7e7-0109b2cb9bd7",
        "part": "outputs"
       },
       "id": "6aeedd50-891e-4f49-a270-0212641ff5a6"
      },
      "a90cb091-cbfb-4d19-89e9-f91dfd502164": {
       "attrs": {
        "height": 0.27064448269267544,
        "width": 0.9574870912220309,
        "x": 0.011359724612736504,
        "y": 0.16884681583476774
       },
       "content": {
        "cell": "6820a1f6-218e-4fe4-b7e7-0109b2cb9bd7",
        "part": "source"
       },
       "id": "a90cb091-cbfb-4d19-89e9-f91dfd502164"
      }
     }
    },
    "3a4786cf-cace-4ee4-81f9-57957d3ec568": {
     "id": "3a4786cf-cace-4ee4-81f9-57957d3ec568",
     "prev": "7afa920b-8245-42ce-a736-1296acc13340",
     "regions": {
      "a2f6edb4-ede6-4c06-a0da-b8cdbac59dda": {
       "attrs": {
        "height": 1,
        "width": 1,
        "x": 0,
        "y": 0
       },
       "content": {
        "cell": "e974ebb2-a5d9-491b-9e54-ac1519717865",
        "part": "source"
       },
       "id": "a2f6edb4-ede6-4c06-a0da-b8cdbac59dda"
      }
     }
    },
    "721fb4b8-8d84-4ea5-9f2c-319eb3dc9219": {
     "id": "721fb4b8-8d84-4ea5-9f2c-319eb3dc9219",
     "prev": "3a4786cf-cace-4ee4-81f9-57957d3ec568",
     "regions": {
      "860a4be9-21a4-439a-9b39-f376e3789c00": {
       "attrs": {
        "height": 1,
        "width": 1,
        "x": 0,
        "y": 0
       },
       "content": {
        "cell": "e96aa965-172f-4b5c-8138-50104ff1d482",
        "part": "source"
       },
       "id": "860a4be9-21a4-439a-9b39-f376e3789c00"
      }
     }
    },
    "7afa920b-8245-42ce-a736-1296acc13340": {
     "id": "7afa920b-8245-42ce-a736-1296acc13340",
     "prev": "e0d48222-ddf8-4c48-bc54-7771512657e0",
     "regions": {
      "2ec57e06-deb2-41ec-a219-20474dfef275": {
       "attrs": {
        "height": 1,
        "width": 1,
        "x": 0,
        "y": 0
       },
       "content": {
        "cell": "4b9feff8-c993-468b-ab8b-53012356867d",
        "part": "source"
       },
       "id": "2ec57e06-deb2-41ec-a219-20474dfef275"
      }
     }
    },
    "85cef2dc-e767-46b8-ba1e-f763cddb9af7": {
     "id": "85cef2dc-e767-46b8-ba1e-f763cddb9af7",
     "prev": null,
     "regions": {
      "ba63168f-9088-4054-871b-ecde866f1b50": {
       "attrs": {
        "height": 1,
        "width": 1,
        "x": 0,
        "y": 0
       },
       "content": {
        "cell": "823ec6c2-1785-4c35-9941-c098567c0ad0",
        "part": "source"
       },
       "id": "ba63168f-9088-4054-871b-ecde866f1b50"
      }
     }
    },
    "e0d48222-ddf8-4c48-bc54-7771512657e0": {
     "id": "e0d48222-ddf8-4c48-bc54-7771512657e0",
     "prev": "85cef2dc-e767-46b8-ba1e-f763cddb9af7",
     "regions": {
      "46f36d36-8a4a-41b8-aa06-d5a6c6ccf146": {
       "attrs": {
        "height": 1,
        "width": 1,
        "x": 0,
        "y": 0
       },
       "content": {
        "cell": "70a7a773-87e0-46ac-8a8d-d373e1c0d8e8",
        "part": "source"
       },
       "id": "46f36d36-8a4a-41b8-aa06-d5a6c6ccf146"
      }
     }
    }
   },
   "themes": {
    "default": "79db4b3d-d358-40d1-95aa-eaa32cdb546e",
    "theme": {
     "00fe51fb-d48a-4528-a713-3e7c97bc8b44": {
      "backgrounds": {
       "backgroundColor": {
        "background-color": "backgroundColor",
        "id": "backgroundColor"
       }
      },
      "id": "00fe51fb-d48a-4528-a713-3e7c97bc8b44",
      "palette": {
       "backgroundColor": {
        "id": "backgroundColor",
        "rgb": [
         256,
         256,
         256
        ]
       },
       "headingColor": {
        "id": "headingColor",
        "rgb": [
         0,
         0,
         0
        ]
       },
       "linkColor": {
        "id": "linkColor",
        "rgb": [
         0,
         0,
         139
        ]
       },
       "mainColor": {
        "id": "mainColor",
        "rgb": [
         0,
         0,
         0
        ]
       }
      },
      "rules": {
       "a": {
        "color": "linkColor"
       },
       "h1": {
        "color": "headingColor",
        "font-family": "News Cycle",
        "font-size": 7
       },
       "h2": {
        "color": "headingColor",
        "font-family": "News Cycle",
        "font-size": 5
       },
       "h3": {
        "color": "headingColor",
        "font-family": "News Cycle",
        "font-size": 3.75
       },
       "h4": {
        "color": "headingColor",
        "font-family": "News Cycle",
        "font-size": 3
       },
       "h5": {
        "color": "headingColor",
        "font-family": "News Cycle"
       },
       "h6": {
        "color": "headingColor",
        "font-family": "News Cycle"
       },
       "h7": {
        "color": "headingColor",
        "font-family": "News Cycle"
       },
       "li": {
        "color": "mainColor",
        "font-family": "Lato",
        "font-size": 5
       },
       "p": {
        "color": "mainColor",
        "font-family": "Lato",
        "font-size": 5
       }
      },
      "text-base": {
       "color": "mainColor",
       "font-family": "Lato",
       "font-size": 5
      }
     },
     "310d3c96-cd73-495a-8c2b-72b91a440d65": {
      "backgrounds": {
       "backgroundColor": {
        "background-color": "backgroundColor",
        "id": "backgroundColor"
       }
      },
      "id": "310d3c96-cd73-495a-8c2b-72b91a440d65",
      "palette": {
       "backgroundColor": {
        "id": "backgroundColor",
        "rgb": [
         34,
         34,
         34
        ]
       },
       "headingColor": {
        "id": "headingColor",
        "rgb": [
         238,
         238,
         238
        ]
       },
       "linkColor": {
        "id": "linkColor",
        "rgb": [
         170,
         34,
         51
        ]
       },
       "mainColor": {
        "id": "mainColor",
        "rgb": [
         238,
         238,
         238
        ]
       }
      },
      "rules": {
       "a": {
        "color": "linkColor"
       },
       "h1": {
        "color": "headingColor",
        "font-family": "Ubuntu",
        "font-size": 7
       },
       "h2": {
        "color": "headingColor",
        "font-family": "Ubuntu",
        "font-size": 5
       },
       "h3": {
        "color": "headingColor",
        "font-family": "Ubuntu",
        "font-size": 3.75
       },
       "h4": {
        "color": "headingColor",
        "font-family": "Ubuntu",
        "font-size": 3
       },
       "h5": {
        "color": "headingColor",
        "font-family": "Ubuntu"
       },
       "h6": {
        "color": "headingColor",
        "font-family": "Ubuntu"
       },
       "h7": {
        "color": "headingColor",
        "font-family": "Ubuntu"
       },
       "li": {
        "color": "mainColor",
        "font-family": "Ubuntu",
        "font-size": 5
       },
       "p": {
        "color": "mainColor",
        "font-family": "Ubuntu",
        "font-size": 5
       }
      },
      "text-base": {
       "color": "mainColor",
       "font-family": "Ubuntu",
       "font-size": 5
      }
     },
     "475b990c-eeac-4805-86e2-73316e956adb": {
      "backgrounds": {
       "backgroundColor": {
        "background-color": "backgroundColor",
        "id": "backgroundColor"
       }
      },
      "id": "475b990c-eeac-4805-86e2-73316e956adb",
      "palette": {
       "backgroundColor": {
        "id": "backgroundColor",
        "rgb": [
         253,
         246,
         227
        ]
       },
       "headingColor": {
        "id": "headingColor",
        "rgb": [
         88,
         110,
         117
        ]
       },
       "linkColor": {
        "id": "linkColor",
        "rgb": [
         38,
         139,
         210
        ]
       },
       "mainColor": {
        "id": "mainColor",
        "rgb": [
         101,
         123,
         131
        ]
       }
      },
      "rules": {
       "a": {
        "color": "linkColor"
       },
       "h1": {
        "color": "headingColor",
        "font-family": "Oswald",
        "font-size": 7
       },
       "h2": {
        "color": "headingColor",
        "font-family": "Oswald",
        "font-size": 5
       },
       "h3": {
        "color": "headingColor",
        "font-family": "Oswald",
        "font-size": 3.75
       },
       "h4": {
        "color": "headingColor",
        "font-family": "Oswald",
        "font-size": 3
       },
       "h5": {
        "color": "headingColor",
        "font-family": "Oswald"
       },
       "h6": {
        "color": "headingColor",
        "font-family": "Oswald"
       },
       "h7": {
        "color": "headingColor",
        "font-family": "Oswald"
       },
       "li": {
        "color": "mainColor",
        "font-family": "Lato",
        "font-size": 5
       },
       "p": {
        "color": "mainColor",
        "font-family": "Lato",
        "font-size": 5
       }
      },
      "text-base": {
       "color": "mainColor",
       "font-family": "Lato",
       "font-size": 5
      }
     },
     "79db4b3d-d358-40d1-95aa-eaa32cdb546e": {
      "backgrounds": {
       "backgroundColor": {
        "background-color": "backgroundColor",
        "id": "backgroundColor"
       }
      },
      "id": "79db4b3d-d358-40d1-95aa-eaa32cdb546e",
      "palette": {
       "backgroundColor": {
        "id": "backgroundColor",
        "rgb": [
         247,
         251,
         252
        ]
       },
       "headingColor": {
        "id": "headingColor",
        "rgb": [
         51,
         51,
         51
        ]
       },
       "linkColor": {
        "id": "linkColor",
        "rgb": [
         59,
         117,
         158
        ]
       },
       "mainColor": {
        "id": "mainColor",
        "rgb": [
         51,
         51,
         51
        ]
       }
      },
      "rules": {
       "a": {
        "color": "linkColor"
       },
       "h1": {
        "color": "headingColor",
        "font-family": "Quicksand",
        "font-size": 7
       },
       "h2": {
        "color": "headingColor",
        "font-family": "Quicksand",
        "font-size": 5
       },
       "h3": {
        "color": "headingColor",
        "font-family": "Quicksand",
        "font-size": 3.75
       },
       "h4": {
        "color": "headingColor",
        "font-family": "Quicksand",
        "font-size": 3
       },
       "h5": {
        "color": "headingColor",
        "font-family": "Quicksand"
       },
       "h6": {
        "color": "headingColor",
        "font-family": "Quicksand"
       },
       "h7": {
        "color": "headingColor",
        "font-family": "Quicksand"
       },
       "li": {
        "color": "mainColor",
        "font-family": "Open Sans",
        "font-size": 5
       },
       "p": {
        "color": "mainColor",
        "font-family": "Open Sans",
        "font-size": 5
       }
      },
      "text-base": {
       "color": "mainColor",
       "font-family": "Open Sans",
       "font-size": 5
      }
     },
     "a423056a-ec76-4dbc-91fc-118aa7282f7b": {
      "backgrounds": {
       "backgroundColor": {
        "background-color": "backgroundColor",
        "id": "backgroundColor"
       }
      },
      "id": "a423056a-ec76-4dbc-91fc-118aa7282f7b",
      "palette": {
       "backgroundColor": {
        "id": "backgroundColor",
        "rgb": [
         247,
         243,
         222
        ]
       },
       "headingColor": {
        "id": "headingColor",
        "rgb": [
         51,
         51,
         51
        ]
       },
       "linkColor": {
        "id": "linkColor",
        "rgb": [
         139,
         116,
         61
        ]
       },
       "mainColor": {
        "id": "mainColor",
        "rgb": [
         51,
         51,
         51
        ]
       }
      },
      "rules": {
       "a": {
        "color": "linkColor"
       },
       "h1": {
        "color": "headingColor",
        "font-family": "Oswald",
        "font-size": 7
       },
       "h2": {
        "color": "headingColor",
        "font-family": "Oswald",
        "font-size": 5
       },
       "h3": {
        "color": "headingColor",
        "font-family": "Oswald",
        "font-size": 3.75
       },
       "h4": {
        "color": "headingColor",
        "font-family": "Oswald",
        "font-size": 3
       },
       "h5": {
        "color": "headingColor",
        "font-family": "Oswald"
       },
       "h6": {
        "color": "headingColor",
        "font-family": "Oswald"
       },
       "h7": {
        "color": "headingColor",
        "font-family": "Oswald"
       },
       "li": {
        "color": "mainColor",
        "font-family": "Lato",
        "font-size": 5
       },
       "p": {
        "color": "mainColor",
        "font-family": "Lato",
        "font-size": 5
       }
      },
      "text-base": {
       "color": "mainColor",
       "font-family": "Lato",
       "font-size": 5
      }
     },
     "b8cd597b-1d1d-451e-b523-d31bbec4e9d0": {
      "backgrounds": {
       "backgroundColor": {
        "background-color": "backgroundColor",
        "id": "backgroundColor"
       }
      },
      "id": "b8cd597b-1d1d-451e-b523-d31bbec4e9d0",
      "palette": {
       "backgroundColor": {
        "id": "backgroundColor",
        "rgb": [
         34,
         34,
         34
        ]
       },
       "headingColor": {
        "id": "headingColor",
        "rgb": [
         256,
         256,
         256
        ]
       },
       "linkColor": {
        "id": "linkColor",
        "rgb": [
         66,
         175,
         250
        ]
       },
       "mainColor": {
        "id": "mainColor",
        "rgb": [
         256,
         256,
         256
        ]
       }
      },
      "rules": {
       "a": {
        "color": "linkColor"
       },
       "h1": {
        "color": "headingColor",
        "font-family": "Source Sans Pro",
        "font-size": 5.25
       },
       "h2": {
        "color": "headingColor",
        "font-family": "Source Sans Pro",
        "font-size": 4
       },
       "h3": {
        "color": "headingColor",
        "font-family": "Source Sans Pro",
        "font-size": 3.5
       },
       "h4": {
        "color": "headingColor",
        "font-family": "Source Sans Pro",
        "font-size": 3
       },
       "h5": {
        "color": "headingColor",
        "font-family": "Source Sans Pro"
       },
       "h6": {
        "color": "headingColor",
        "font-family": "Source Sans Pro"
       },
       "h7": {
        "color": "headingColor",
        "font-family": "Source Sans Pro"
       },
       "li": {
        "color": "mainColor",
        "font-family": "Source Sans Pro",
        "font-size": 6
       },
       "p": {
        "color": "mainColor",
        "font-family": "Source Sans Pro",
        "font-size": 6
       }
      },
      "text-base": {
       "color": "mainColor",
       "font-family": "Source Sans Pro",
       "font-size": 6
      }
     }
    }
   }
  }
 },
 "nbformat": 4,
 "nbformat_minor": 0
}
