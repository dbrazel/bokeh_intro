{
 "cells": [
  {
   "cell_type": "markdown",
   "metadata": {
    "nbpresent": {
     "id": "823ec6c2-1785-4c35-9941-c098567c0ad0"
    },
    "slideshow": {
     "slide_type": "-"
    }
   },
   "source": [
    "# Bokeh: Interactive Web Visualizations in Python"
   ]
  },
  {
   "cell_type": "markdown",
   "metadata": {
    "nbpresent": {
     "id": "70a7a773-87e0-46ac-8a8d-d373e1c0d8e8"
    },
    "slideshow": {
     "slide_type": "-"
    }
   },
   "source": [
    "## About Me\n",
    "\n",
    "* PhD Candidate in the Interdisciplinary Quantitative Biology program and at the Institute for Behavioral Genetics at CU\n",
    "* I work on addiction genomics and phenotyping methods that can scale to millions of subjects.\n",
    "* <https://github.com/dbrazel>"
   ]
  },
  {
   "cell_type": "markdown",
   "metadata": {
    "nbpresent": {
     "id": "4b9feff8-c993-468b-ab8b-53012356867d"
    },
    "slideshow": {
     "slide_type": "-"
    }
   },
   "source": [
    "## Why Bokeh?\n",
    "\n",
    "* D3-like interactive web visualizations in Python, R, and Julia\n",
    "    * \"We write the JavaScript, so you don't have to!\"\n",
    "* Plays nicely with notebooks and produces portable, embeddable HTML\n",
    "* Bokeh Server enables streaming updates"
   ]
  },
  {
   "cell_type": "markdown",
   "metadata": {
    "nbpresent": {
     "id": "e974ebb2-a5d9-491b-9e54-ac1519717865"
    },
    "slideshow": {
     "slide_type": "-"
    }
   },
   "source": [
    "## Bokeh Architecture\n",
    "![Bokeh Architecture](architecture.jpg)\n",
    "(Peter Wang)"
   ]
  },
  {
   "cell_type": "markdown",
   "metadata": {
    "nbpresent": {
     "id": "e96aa965-172f-4b5c-8138-50104ff1d482"
    },
    "slideshow": {
     "slide_type": "-"
    }
   },
   "source": [
    "## Interfaces\n",
    "\n",
    "* `bokeh.charts` - High-level, provides common statistical charts (bar, box, histogram, heat map, chord, etc.)\n",
    "* `bokeh.plotting` - Mid-level, focused on placing glyphs (boxes, lines, circles, etc.)\n",
    "* `bokeh.models` - Low-level, uses classes that map directly to BokehJS models"
   ]
  },
  {
   "cell_type": "markdown",
   "metadata": {
    "nbpresent": {
     "id": "00911f49-ad6f-479d-834b-3a149e2c44af"
    },
    "slideshow": {
     "slide_type": "-"
    }
   },
   "source": [
    "## Setup"
   ]
  },
  {
   "cell_type": "code",
   "execution_count": 25,
   "metadata": {
    "collapsed": false,
    "nbpresent": {
     "id": "6820a1f6-218e-4fe4-b7e7-0109b2cb9bd7"
    },
    "slideshow": {
     "slide_type": "-"
    }
   },
   "outputs": [
    {
     "data": {
      "text/html": [
       "\n",
       "    <div class=\"bk-root\">\n",
       "        <a href=\"http://bokeh.pydata.org\" target=\"_blank\" class=\"bk-logo bk-logo-small bk-logo-notebook\"></a>\n",
       "        <span id=\"fb5dcede-4841-4c92-a79c-846186c7e556\">Loading BokehJS ...</span>\n",
       "    </div>"
      ]
     },
     "metadata": {},
     "output_type": "display_data"
    },
    {
     "data": {
      "application/javascript": [
       "\n",
       "(function(global) {\n",
       "  function now() {\n",
       "    return new Date();\n",
       "  }\n",
       "\n",
       "  if (typeof (window._bokeh_onload_callbacks) === \"undefined\") {\n",
       "    window._bokeh_onload_callbacks = [];\n",
       "  }\n",
       "\n",
       "  function run_callbacks() {\n",
       "    window._bokeh_onload_callbacks.forEach(function(callback) { callback() });\n",
       "    delete window._bokeh_onload_callbacks\n",
       "    console.info(\"Bokeh: all callbacks have finished\");\n",
       "  }\n",
       "\n",
       "  function load_libs(js_urls, callback) {\n",
       "    window._bokeh_onload_callbacks.push(callback);\n",
       "    if (window._bokeh_is_loading > 0) {\n",
       "      console.log(\"Bokeh: BokehJS is being loaded, scheduling callback at\", now());\n",
       "      return null;\n",
       "    }\n",
       "    if (js_urls == null || js_urls.length === 0) {\n",
       "      run_callbacks();\n",
       "      return null;\n",
       "    }\n",
       "    console.log(\"Bokeh: BokehJS not loaded, scheduling load and callback at\", now());\n",
       "    window._bokeh_is_loading = js_urls.length;\n",
       "    for (var i = 0; i < js_urls.length; i++) {\n",
       "      var url = js_urls[i];\n",
       "      var s = document.createElement('script');\n",
       "      s.src = url;\n",
       "      s.async = false;\n",
       "      s.onreadystatechange = s.onload = function() {\n",
       "        window._bokeh_is_loading--;\n",
       "        if (window._bokeh_is_loading === 0) {\n",
       "          console.log(\"Bokeh: all BokehJS libraries loaded\");\n",
       "          run_callbacks()\n",
       "        }\n",
       "      };\n",
       "      s.onerror = function() {\n",
       "        console.warn(\"failed to load library \" + url);\n",
       "      };\n",
       "      console.log(\"Bokeh: injecting script tag for BokehJS library: \", url);\n",
       "      document.getElementsByTagName(\"head\")[0].appendChild(s);\n",
       "    }\n",
       "  };\n",
       "\n",
       "  var js_urls = ['https://cdn.pydata.org/bokeh/release/bokeh-0.12.0.min.js', 'https://cdn.pydata.org/bokeh/release/bokeh-widgets-0.12.0.min.js', 'https://cdn.pydata.org/bokeh/release/bokeh-compiler-0.12.0.min.js'];\n",
       "\n",
       "  var inline_js = [\n",
       "    function(Bokeh) {\n",
       "      Bokeh.set_log_level(\"info\");\n",
       "    },\n",
       "    \n",
       "    function(Bokeh) {\n",
       "      Bokeh.$(\"#fb5dcede-4841-4c92-a79c-846186c7e556\").text(\"BokehJS successfully loaded\");\n",
       "    },\n",
       "    function(Bokeh) {\n",
       "      console.log(\"Bokeh: injecting CSS: https://cdn.pydata.org/bokeh/release/bokeh-0.12.0.min.css\");\n",
       "      Bokeh.embed.inject_css(\"https://cdn.pydata.org/bokeh/release/bokeh-0.12.0.min.css\");\n",
       "      console.log(\"Bokeh: injecting CSS: https://cdn.pydata.org/bokeh/release/bokeh-widgets-0.12.0.min.css\");\n",
       "      Bokeh.embed.inject_css(\"https://cdn.pydata.org/bokeh/release/bokeh-widgets-0.12.0.min.css\");\n",
       "    }\n",
       "  ];\n",
       "\n",
       "  function run_inline_js() {\n",
       "    for (var i = 0; i < inline_js.length; i++) {\n",
       "      inline_js[i](window.Bokeh);\n",
       "    }\n",
       "  }\n",
       "\n",
       "  if (window._bokeh_is_loading === 0) {\n",
       "    console.log(\"Bokeh: BokehJS loaded, going straight to plotting\");\n",
       "    run_inline_js();\n",
       "  } else {\n",
       "    load_libs(js_urls, function() {\n",
       "      console.log(\"Bokeh: BokehJS plotting callback run at\", now());\n",
       "      run_inline_js();\n",
       "    });\n",
       "  }\n",
       "}(this));"
      ]
     },
     "metadata": {},
     "output_type": "display_data"
    },
    {
     "data": {
      "text/html": [
       "<div>\n",
       "<table border=\"1\" class=\"dataframe\">\n",
       "  <thead>\n",
       "    <tr style=\"text-align: right;\">\n",
       "      <th></th>\n",
       "      <th>id</th>\n",
       "      <th>diet</th>\n",
       "      <th>pulse</th>\n",
       "      <th>time</th>\n",
       "      <th>kind</th>\n",
       "    </tr>\n",
       "  </thead>\n",
       "  <tbody>\n",
       "    <tr>\n",
       "      <th>0</th>\n",
       "      <td>1</td>\n",
       "      <td>low fat</td>\n",
       "      <td>85</td>\n",
       "      <td>1 min</td>\n",
       "      <td>rest</td>\n",
       "    </tr>\n",
       "    <tr>\n",
       "      <th>1</th>\n",
       "      <td>1</td>\n",
       "      <td>low fat</td>\n",
       "      <td>85</td>\n",
       "      <td>15 min</td>\n",
       "      <td>rest</td>\n",
       "    </tr>\n",
       "    <tr>\n",
       "      <th>2</th>\n",
       "      <td>1</td>\n",
       "      <td>low fat</td>\n",
       "      <td>88</td>\n",
       "      <td>30 min</td>\n",
       "      <td>rest</td>\n",
       "    </tr>\n",
       "    <tr>\n",
       "      <th>3</th>\n",
       "      <td>2</td>\n",
       "      <td>low fat</td>\n",
       "      <td>90</td>\n",
       "      <td>1 min</td>\n",
       "      <td>rest</td>\n",
       "    </tr>\n",
       "    <tr>\n",
       "      <th>4</th>\n",
       "      <td>2</td>\n",
       "      <td>low fat</td>\n",
       "      <td>92</td>\n",
       "      <td>15 min</td>\n",
       "      <td>rest</td>\n",
       "    </tr>\n",
       "  </tbody>\n",
       "</table>\n",
       "</div>"
      ],
      "text/plain": [
       "   id     diet  pulse    time  kind\n",
       "0   1  low fat     85   1 min  rest\n",
       "1   1  low fat     85  15 min  rest\n",
       "2   1  low fat     88  30 min  rest\n",
       "3   2  low fat     90   1 min  rest\n",
       "4   2  low fat     92  15 min  rest"
      ]
     },
     "execution_count": 25,
     "metadata": {},
     "output_type": "execute_result"
    }
   ],
   "source": [
    "import bokeh.charts as bkc\n",
    "import bokeh.plotting as bkp\n",
    "\n",
    "bkc.output_notebook()\n",
    "\n",
    "# Load the seaborn exercise dataset\n",
    "\n",
    "exercise = pd.read_csv('exercise.csv')\n",
    "exercise = exercise.drop(exercise.columns[0], axis=1)\n",
    "exercise.head()"
   ]
  },
  {
   "cell_type": "markdown",
   "metadata": {},
   "source": [
    "## `bokeh.charts`"
   ]
  },
  {
   "cell_type": "code",
   "execution_count": 28,
   "metadata": {
    "collapsed": false
   },
   "outputs": [
    {
     "data": {
      "text/html": [
       "\n",
       "\n",
       "    <div class=\"bk-root\">\n",
       "        <div class=\"plotdiv\" id=\"78d69e87-a3a4-4f04-830d-c5504b00582d\"></div>\n",
       "    </div>\n",
       "<script type=\"text/javascript\">\n",
       "  \n",
       "  (function(global) {\n",
       "    function now() {\n",
       "      return new Date();\n",
       "    }\n",
       "  \n",
       "    if (typeof (window._bokeh_onload_callbacks) === \"undefined\") {\n",
       "      window._bokeh_onload_callbacks = [];\n",
       "    }\n",
       "  \n",
       "    function run_callbacks() {\n",
       "      window._bokeh_onload_callbacks.forEach(function(callback) { callback() });\n",
       "      delete window._bokeh_onload_callbacks\n",
       "      console.info(\"Bokeh: all callbacks have finished\");\n",
       "    }\n",
       "  \n",
       "    function load_libs(js_urls, callback) {\n",
       "      window._bokeh_onload_callbacks.push(callback);\n",
       "      if (window._bokeh_is_loading > 0) {\n",
       "        console.log(\"Bokeh: BokehJS is being loaded, scheduling callback at\", now());\n",
       "        return null;\n",
       "      }\n",
       "      if (js_urls == null || js_urls.length === 0) {\n",
       "        run_callbacks();\n",
       "        return null;\n",
       "      }\n",
       "      console.log(\"Bokeh: BokehJS not loaded, scheduling load and callback at\", now());\n",
       "      window._bokeh_is_loading = js_urls.length;\n",
       "      for (var i = 0; i < js_urls.length; i++) {\n",
       "        var url = js_urls[i];\n",
       "        var s = document.createElement('script');\n",
       "        s.src = url;\n",
       "        s.async = false;\n",
       "        s.onreadystatechange = s.onload = function() {\n",
       "          window._bokeh_is_loading--;\n",
       "          if (window._bokeh_is_loading === 0) {\n",
       "            console.log(\"Bokeh: all BokehJS libraries loaded\");\n",
       "            run_callbacks()\n",
       "          }\n",
       "        };\n",
       "        s.onerror = function() {\n",
       "          console.warn(\"failed to load library \" + url);\n",
       "        };\n",
       "        console.log(\"Bokeh: injecting script tag for BokehJS library: \", url);\n",
       "        document.getElementsByTagName(\"head\")[0].appendChild(s);\n",
       "      }\n",
       "    };var element = document.getElementById(\"78d69e87-a3a4-4f04-830d-c5504b00582d\");\n",
       "    if (element == null) {\n",
       "      console.log(\"Bokeh: ERROR: autoload.js configured with elementid '78d69e87-a3a4-4f04-830d-c5504b00582d' but no matching script tag was found. \")\n",
       "      return false;\n",
       "    }\n",
       "  \n",
       "    var js_urls = [];\n",
       "  \n",
       "    var inline_js = [\n",
       "      function(Bokeh) {\n",
       "        Bokeh.$(function() {\n",
       "            var docs_json = {\"022c542d-4eb1-4b2f-b65d-6cda7bae95d7\":{\"roots\":{\"references\":[{\"attributes\":{\"callback\":null,\"column_names\":[\"x1s\",\"y1s\",\"x0s\",\"y0s\"],\"data\":{\"chart_index\":[{\"kind\":\"walking\"},{\"kind\":\"walking\"},{\"kind\":\"walking\"},{\"kind\":\"walking\"}],\"kind\":[\"walking\",\"walking\",\"walking\",\"walking\"],\"x0s\":[\"walking:0.5\",\"walking:0.65\",\"walking:0.5\",\"walking:0.65\"],\"x1s\":[\"walking:0.5\",\"walking:0.35\",\"walking:0.5\",\"walking:0.35\"],\"y0s\":[84.0,84.0,100.75,109.0],\"y1s\":[90.0,84.0,109.0,109.0]}},\"id\":\"9d420539-b512-486e-8b4a-d3cdd59ca9d5\",\"type\":\"ColumnDataSource\"},{\"attributes\":{\"plot\":{\"id\":\"4d1b37a3-5e0e-4fc0-ad78-465081688edf\",\"subtype\":\"Chart\",\"type\":\"Plot\"}},\"id\":\"bf507e8e-e10b-45e1-806d-a7ac53453956\",\"type\":\"HelpTool\"},{\"attributes\":{\"plot\":{\"id\":\"4d1b37a3-5e0e-4fc0-ad78-465081688edf\",\"subtype\":\"Chart\",\"type\":\"Plot\"}},\"id\":\"52fcc244-2b51-455e-bdf6-7dad03380716\",\"type\":\"SaveTool\"},{\"attributes\":{\"plot\":{\"id\":\"4d1b37a3-5e0e-4fc0-ad78-465081688edf\",\"subtype\":\"Chart\",\"type\":\"Plot\"}},\"id\":\"35bb869d-d890-4c13-a959-54eb94272839\",\"type\":\"WheelZoomTool\"},{\"attributes\":{\"callback\":null,\"column_names\":[\"color\",\"height\",\"label\",\"line_alpha\",\"width\",\"line_color\",\"fill_alpha\",\"y\",\"x\"],\"data\":{\"chart_index\":[{\"kind\":\"running\"}],\"color\":[\"#5ab738\"],\"fill_alpha\":[0.8],\"height\":[16.0],\"kind\":[\"running\"],\"label\":[{\"kind\":\"running\"}],\"line_alpha\":[1.0],\"line_color\":[\"black\"],\"width\":[0.8],\"x\":[\"running\"],\"y\":[118.0]}},\"id\":\"4a7485a3-af54-496c-acbb-00398f3d79df\",\"type\":\"ColumnDataSource\"},{\"attributes\":{\"callback\":null,\"factors\":[\"rest\",\"running\",\"walking\"]},\"id\":\"e2b557a4-ffbe-4097-ab49-19f2cdc59fb3\",\"type\":\"FactorRange\"},{\"attributes\":{\"dimension\":1,\"plot\":{\"id\":\"4d1b37a3-5e0e-4fc0-ad78-465081688edf\",\"subtype\":\"Chart\",\"type\":\"Plot\"},\"ticker\":{\"id\":\"1513ca6a-61a8-4e09-88e0-e9fc8f304c0f\",\"type\":\"BasicTicker\"}},\"id\":\"07bcdf94-1e99-41af-a08b-274d43982ea0\",\"type\":\"Grid\"},{\"attributes\":{\"data_source\":{\"id\":\"c3cdcfad-1eb3-4379-a996-bb8a5ef106ea\",\"type\":\"ColumnDataSource\"},\"glyph\":{\"id\":\"ab2d1399-2aa7-42b8-9d64-2b91f39b67db\",\"type\":\"Segment\"},\"hover_glyph\":null,\"nonselection_glyph\":null,\"selection_glyph\":null},\"id\":\"3ddcba89-cc4e-4d15-9a6e-ce023dca62b9\",\"type\":\"GlyphRenderer\"},{\"attributes\":{},\"id\":\"1513ca6a-61a8-4e09-88e0-e9fc8f304c0f\",\"type\":\"BasicTicker\"},{\"attributes\":{\"axis_label\":\"Kind\",\"formatter\":{\"id\":\"e36ed8fc-cb27-49b6-b334-14b9bf691bae\",\"type\":\"CategoricalTickFormatter\"},\"major_label_orientation\":0.7853981633974483,\"plot\":{\"id\":\"4d1b37a3-5e0e-4fc0-ad78-465081688edf\",\"subtype\":\"Chart\",\"type\":\"Plot\"},\"ticker\":{\"id\":\"f847703c-7f12-46b9-bd97-012398bcae35\",\"type\":\"CategoricalTicker\"}},\"id\":\"5ad4fdbc-9187-4d0c-ac51-7733a356bca1\",\"type\":\"CategoricalAxis\"},{\"attributes\":{\"line_width\":{\"value\":2},\"x0\":{\"field\":\"x0s\"},\"x1\":{\"field\":\"x1s\"},\"y0\":{\"field\":\"y0s\"},\"y1\":{\"field\":\"y1s\"}},\"id\":\"ab2d1399-2aa7-42b8-9d64-2b91f39b67db\",\"type\":\"Segment\"},{\"attributes\":{\"fill_alpha\":{\"field\":\"fill_alpha\"},\"fill_color\":{\"field\":\"color\"},\"height\":{\"field\":\"height\",\"units\":\"data\"},\"line_color\":{\"field\":\"line_color\"},\"width\":{\"field\":\"width\",\"units\":\"data\"},\"x\":{\"field\":\"x\"},\"y\":{\"field\":\"y\"}},\"id\":\"754565b9-ed25-4a28-9784-b24bfbedc134\",\"type\":\"Rect\"},{\"attributes\":{\"fill_alpha\":{\"field\":\"fill_alpha\"},\"fill_color\":{\"field\":\"color\"},\"height\":{\"field\":\"height\",\"units\":\"data\"},\"line_color\":{\"field\":\"line_color\"},\"width\":{\"field\":\"width\",\"units\":\"data\"},\"x\":{\"field\":\"x\"},\"y\":{\"field\":\"y\"}},\"id\":\"87a32152-c123-48fe-88eb-3746fc3a1215\",\"type\":\"Rect\"},{\"attributes\":{\"data_source\":{\"id\":\"4a7485a3-af54-496c-acbb-00398f3d79df\",\"type\":\"ColumnDataSource\"},\"glyph\":{\"id\":\"6a66d7f3-3dff-497e-b93d-af8837dadc3d\",\"type\":\"Rect\"},\"hover_glyph\":null,\"nonselection_glyph\":null,\"selection_glyph\":null},\"id\":\"857e0ece-afd2-4a32-8c16-8443e63b81d4\",\"type\":\"GlyphRenderer\"},{\"attributes\":{\"callback\":null,\"column_names\":[\"color\",\"height\",\"label\",\"line_alpha\",\"width\",\"line_color\",\"fill_alpha\",\"y\",\"x\"],\"data\":{\"chart_index\":[{\"kind\":\"rest\"}],\"color\":[\"#f22c40\"],\"fill_alpha\":[0.8],\"height\":[6.0],\"kind\":[\"rest\"],\"label\":[{\"kind\":\"rest\"}],\"line_alpha\":[1.0],\"line_color\":[\"black\"],\"width\":[0.8],\"x\":[\"rest\"],\"y\":[88.5]}},\"id\":\"625149ea-7a89-40e6-bafe-7b8927285bdf\",\"type\":\"ColumnDataSource\"},{\"attributes\":{\"line_width\":{\"value\":2},\"x0\":{\"field\":\"x0s\"},\"x1\":{\"field\":\"x1s\"},\"y0\":{\"field\":\"y0s\"},\"y1\":{\"field\":\"y1s\"}},\"id\":\"0defabcc-4505-4e23-b0ea-6c65615f0e45\",\"type\":\"Segment\"},{\"attributes\":{\"callback\":null,\"column_names\":[\"x1s\",\"y1s\",\"x0s\",\"y0s\"],\"data\":{\"chart_index\":[{\"kind\":\"rest\"},{\"kind\":\"rest\"},{\"kind\":\"rest\"},{\"kind\":\"rest\"}],\"kind\":[\"rest\",\"rest\",\"rest\",\"rest\"],\"x0s\":[\"rest:0.5\",\"rest:0.65\",\"rest:0.5\",\"rest:0.65\"],\"x1s\":[\"rest:0.5\",\"rest:0.35\",\"rest:0.5\",\"rest:0.35\"],\"y0s\":[80.0,80.0,95.75,100.0],\"y1s\":[85.5,80.0,100.0,100.0]}},\"id\":\"c3cdcfad-1eb3-4379-a996-bb8a5ef106ea\",\"type\":\"ColumnDataSource\"},{\"attributes\":{\"fill_alpha\":{\"field\":\"fill_alpha\"},\"fill_color\":{\"field\":\"color\"},\"height\":{\"field\":\"height\",\"units\":\"data\"},\"line_color\":{\"field\":\"line_color\"},\"width\":{\"field\":\"width\",\"units\":\"data\"},\"x\":{\"field\":\"x\"},\"y\":{\"field\":\"y\"}},\"id\":\"5d190c25-8705-432a-ada2-b8f4c2792739\",\"type\":\"Rect\"},{\"attributes\":{\"data_source\":{\"id\":\"35f13dbe-c603-4301-8135-bbd31f1d4dd9\",\"type\":\"ColumnDataSource\"},\"glyph\":{\"id\":\"649b59dd-ef64-4e39-9673-4645ba598c78\",\"type\":\"Segment\"},\"hover_glyph\":null,\"nonselection_glyph\":null,\"selection_glyph\":null},\"id\":\"7c257f5e-3757-4bd8-873b-4c1d16a14117\",\"type\":\"GlyphRenderer\"},{\"attributes\":{\"callback\":null,\"column_names\":[\"color\",\"height\",\"label\",\"line_alpha\",\"width\",\"line_color\",\"fill_alpha\",\"y\",\"x\"],\"data\":{\"chart_index\":[{\"kind\":\"walking\"}],\"color\":[\"#407ee7\"],\"fill_alpha\":[0.8],\"height\":[5.5],\"kind\":[\"walking\"],\"label\":[{\"kind\":\"walking\"}],\"line_alpha\":[1.0],\"line_color\":[\"black\"],\"width\":[0.8],\"x\":[\"walking\"],\"y\":[92.75]}},\"id\":\"6c779323-71e1-4d86-b425-e0fa9cf6b6d1\",\"type\":\"ColumnDataSource\"},{\"attributes\":{\"below\":[{\"id\":\"5ad4fdbc-9187-4d0c-ac51-7733a356bca1\",\"type\":\"CategoricalAxis\"}],\"left\":[{\"id\":\"cbaa830d-2d14-4797-b4cb-2bf3f3c8213f\",\"type\":\"LinearAxis\"}],\"renderers\":[{\"id\":\"9a3a85c3-348e-433b-9e61-fb8ae47348a3\",\"type\":\"BoxAnnotation\"},{\"id\":\"e93875b4-5952-4ac5-bdef-54d10bf793ff\",\"type\":\"GlyphRenderer\"},{\"id\":\"847aa498-b464-4cc5-a35b-18a30c927264\",\"type\":\"GlyphRenderer\"},{\"id\":\"3ddcba89-cc4e-4d15-9a6e-ce023dca62b9\",\"type\":\"GlyphRenderer\"},{\"id\":\"73e32fb2-1549-4193-9950-0ea256fb5739\",\"type\":\"GlyphRenderer\"},{\"id\":\"adc7abae-d6a5-482f-a524-4d75515fc899\",\"type\":\"GlyphRenderer\"},{\"id\":\"eda250e5-3951-4358-8c96-d5ef84f79373\",\"type\":\"GlyphRenderer\"},{\"id\":\"62063951-3fa5-4dfe-92d6-cf06ace56da3\",\"type\":\"GlyphRenderer\"},{\"id\":\"857e0ece-afd2-4a32-8c16-8443e63b81d4\",\"type\":\"GlyphRenderer\"},{\"id\":\"7c257f5e-3757-4bd8-873b-4c1d16a14117\",\"type\":\"GlyphRenderer\"},{\"id\":\"94b0f3e0-3977-48b1-8ebc-832079af7acf\",\"type\":\"Legend\"},{\"id\":\"5ad4fdbc-9187-4d0c-ac51-7733a356bca1\",\"type\":\"CategoricalAxis\"},{\"id\":\"cbaa830d-2d14-4797-b4cb-2bf3f3c8213f\",\"type\":\"LinearAxis\"},{\"id\":\"07bcdf94-1e99-41af-a08b-274d43982ea0\",\"type\":\"Grid\"}],\"title\":{\"id\":\"25b6152b-28f6-47fc-819c-df82d16b4d59\",\"type\":\"Title\"},\"tool_events\":{\"id\":\"617bd5d8-de8b-4b7b-8796-0a3587645856\",\"type\":\"ToolEvents\"},\"toolbar\":{\"id\":\"94ed6552-6ab5-44d5-a1af-fdcd63ea5c47\",\"type\":\"Toolbar\"},\"x_mapper_type\":\"auto\",\"x_range\":{\"id\":\"e2b557a4-ffbe-4097-ab49-19f2cdc59fb3\",\"type\":\"FactorRange\"},\"y_mapper_type\":\"auto\",\"y_range\":{\"id\":\"9885d795-a414-47ac-86ce-76ca9453376e\",\"type\":\"Range1d\"}},\"id\":\"4d1b37a3-5e0e-4fc0-ad78-465081688edf\",\"subtype\":\"Chart\",\"type\":\"Plot\"},{\"attributes\":{\"data_source\":{\"id\":\"625149ea-7a89-40e6-bafe-7b8927285bdf\",\"type\":\"ColumnDataSource\"},\"glyph\":{\"id\":\"754565b9-ed25-4a28-9784-b24bfbedc134\",\"type\":\"Rect\"},\"hover_glyph\":null,\"nonselection_glyph\":null,\"selection_glyph\":null},\"id\":\"e93875b4-5952-4ac5-bdef-54d10bf793ff\",\"type\":\"GlyphRenderer\"},{\"attributes\":{\"data_source\":{\"id\":\"a82230a7-0f85-4c0a-9b52-6d886d3bdc60\",\"type\":\"ColumnDataSource\"},\"glyph\":{\"id\":\"954c3722-1091-4a50-9ddb-3152d3436573\",\"type\":\"Rect\"},\"hover_glyph\":null,\"nonselection_glyph\":null,\"selection_glyph\":null},\"id\":\"847aa498-b464-4cc5-a35b-18a30c927264\",\"type\":\"GlyphRenderer\"},{\"attributes\":{\"plot\":{\"id\":\"4d1b37a3-5e0e-4fc0-ad78-465081688edf\",\"subtype\":\"Chart\",\"type\":\"Plot\"}},\"id\":\"098575a4-e7b0-4195-8d20-85c9be2377aa\",\"type\":\"PanTool\"},{\"attributes\":{\"callback\":null,\"column_names\":[\"color\",\"height\",\"label\",\"line_alpha\",\"width\",\"line_color\",\"fill_alpha\",\"y\",\"x\"],\"data\":{\"chart_index\":[{\"kind\":\"running\"}],\"color\":[\"#5ab738\"],\"fill_alpha\":[0.8],\"height\":[11.75],\"kind\":[\"running\"],\"label\":[{\"kind\":\"running\"}],\"line_alpha\":[1.0],\"line_color\":[\"black\"],\"width\":[0.8],\"x\":[\"running\"],\"y\":[104.125]}},\"id\":\"2699987d-2aba-4eb2-aac4-94248ca40fdc\",\"type\":\"ColumnDataSource\"},{\"attributes\":{\"fill_alpha\":{\"field\":\"fill_alpha\"},\"fill_color\":{\"field\":\"color\"},\"height\":{\"field\":\"height\",\"units\":\"data\"},\"line_color\":{\"field\":\"line_color\"},\"width\":{\"field\":\"width\",\"units\":\"data\"},\"x\":{\"field\":\"x\"},\"y\":{\"field\":\"y\"}},\"id\":\"6a7fdb4e-7ae4-4808-9954-fe5e2f12c359\",\"type\":\"Rect\"},{\"attributes\":{\"fill_alpha\":{\"field\":\"fill_alpha\"},\"fill_color\":{\"field\":\"color\"},\"height\":{\"field\":\"height\",\"units\":\"data\"},\"line_color\":{\"field\":\"line_color\"},\"width\":{\"field\":\"width\",\"units\":\"data\"},\"x\":{\"field\":\"x\"},\"y\":{\"field\":\"y\"}},\"id\":\"6a66d7f3-3dff-497e-b93d-af8837dadc3d\",\"type\":\"Rect\"},{\"attributes\":{\"callback\":null,\"column_names\":[\"x1s\",\"y1s\",\"x0s\",\"y0s\"],\"data\":{\"chart_index\":[{\"kind\":\"running\"},{\"kind\":\"running\"},{\"kind\":\"running\"},{\"kind\":\"running\"}],\"kind\":[\"running\",\"running\",\"running\",\"running\"],\"x0s\":[\"running:0.5\",\"running:0.65\",\"running:0.5\",\"running:0.65\"],\"x1s\":[\"running:0.5\",\"running:0.35\",\"running:0.5\",\"running:0.35\"],\"y0s\":[87.0,87.0,126.0,150.0],\"y1s\":[98.25,87.0,150.0,150.0]}},\"id\":\"35f13dbe-c603-4301-8135-bbd31f1d4dd9\",\"type\":\"ColumnDataSource\"},{\"attributes\":{\"line_width\":{\"value\":2},\"x0\":{\"field\":\"x0s\"},\"x1\":{\"field\":\"x1s\"},\"y0\":{\"field\":\"y0s\"},\"y1\":{\"field\":\"y1s\"}},\"id\":\"649b59dd-ef64-4e39-9673-4645ba598c78\",\"type\":\"Segment\"},{\"attributes\":{},\"id\":\"767cf234-0f8d-4735-9e04-83ef6e60c443\",\"type\":\"BasicTickFormatter\"},{\"attributes\":{\"callback\":null,\"end\":161.5},\"id\":\"9885d795-a414-47ac-86ce-76ca9453376e\",\"type\":\"Range1d\"},{\"attributes\":{\"plot\":{\"id\":\"4d1b37a3-5e0e-4fc0-ad78-465081688edf\",\"subtype\":\"Chart\",\"type\":\"Plot\"}},\"id\":\"47d93545-e25a-453f-a99c-e43c75f13609\",\"type\":\"ResetTool\"},{\"attributes\":{\"active_drag\":\"auto\",\"active_scroll\":\"auto\",\"active_tap\":\"auto\",\"tools\":[{\"id\":\"098575a4-e7b0-4195-8d20-85c9be2377aa\",\"type\":\"PanTool\"},{\"id\":\"35bb869d-d890-4c13-a959-54eb94272839\",\"type\":\"WheelZoomTool\"},{\"id\":\"68366ba3-7c38-4526-af75-f28910dd0181\",\"type\":\"BoxZoomTool\"},{\"id\":\"52fcc244-2b51-455e-bdf6-7dad03380716\",\"type\":\"SaveTool\"},{\"id\":\"47d93545-e25a-453f-a99c-e43c75f13609\",\"type\":\"ResetTool\"},{\"id\":\"bf507e8e-e10b-45e1-806d-a7ac53453956\",\"type\":\"HelpTool\"}]},\"id\":\"94ed6552-6ab5-44d5-a1af-fdcd63ea5c47\",\"type\":\"Toolbar\"},{\"attributes\":{\"plot\":null,\"text\":\"Pulse in BPM, grouped by exercise type\"},\"id\":\"25b6152b-28f6-47fc-819c-df82d16b4d59\",\"type\":\"Title\"},{\"attributes\":{\"bottom_units\":\"screen\",\"fill_alpha\":{\"value\":0.5},\"fill_color\":{\"value\":\"lightgrey\"},\"left_units\":\"screen\",\"level\":\"overlay\",\"line_alpha\":{\"value\":1.0},\"line_color\":{\"value\":\"black\"},\"line_dash\":[4,4],\"line_width\":{\"value\":2},\"plot\":null,\"render_mode\":\"css\",\"right_units\":\"screen\",\"top_units\":\"screen\"},\"id\":\"9a3a85c3-348e-433b-9e61-fb8ae47348a3\",\"type\":\"BoxAnnotation\"},{\"attributes\":{},\"id\":\"617bd5d8-de8b-4b7b-8796-0a3587645856\",\"type\":\"ToolEvents\"},{\"attributes\":{\"data_source\":{\"id\":\"2699987d-2aba-4eb2-aac4-94248ca40fdc\",\"type\":\"ColumnDataSource\"},\"glyph\":{\"id\":\"5d190c25-8705-432a-ada2-b8f4c2792739\",\"type\":\"Rect\"},\"hover_glyph\":null,\"nonselection_glyph\":null,\"selection_glyph\":null},\"id\":\"62063951-3fa5-4dfe-92d6-cf06ace56da3\",\"type\":\"GlyphRenderer\"},{\"attributes\":{\"callback\":null,\"column_names\":[\"color\",\"height\",\"label\",\"line_alpha\",\"width\",\"line_color\",\"fill_alpha\",\"y\",\"x\"],\"data\":{\"chart_index\":[{\"kind\":\"walking\"}],\"color\":[\"#407ee7\"],\"fill_alpha\":[0.8],\"height\":[5.25],\"kind\":[\"walking\"],\"label\":[{\"kind\":\"walking\"}],\"line_alpha\":[1.0],\"line_color\":[\"black\"],\"width\":[0.8],\"x\":[\"walking\"],\"y\":[98.125]}},\"id\":\"abb1cc8c-f10f-4aea-abae-48b96b29a590\",\"type\":\"ColumnDataSource\"},{\"attributes\":{\"data_source\":{\"id\":\"9d420539-b512-486e-8b4a-d3cdd59ca9d5\",\"type\":\"ColumnDataSource\"},\"glyph\":{\"id\":\"0defabcc-4505-4e23-b0ea-6c65615f0e45\",\"type\":\"Segment\"},\"hover_glyph\":null,\"nonselection_glyph\":null,\"selection_glyph\":null},\"id\":\"eda250e5-3951-4358-8c96-d5ef84f79373\",\"type\":\"GlyphRenderer\"},{\"attributes\":{},\"id\":\"e36ed8fc-cb27-49b6-b334-14b9bf691bae\",\"type\":\"CategoricalTickFormatter\"},{\"attributes\":{\"data_source\":{\"id\":\"6c779323-71e1-4d86-b425-e0fa9cf6b6d1\",\"type\":\"ColumnDataSource\"},\"glyph\":{\"id\":\"6a7fdb4e-7ae4-4808-9954-fe5e2f12c359\",\"type\":\"Rect\"},\"hover_glyph\":null,\"nonselection_glyph\":null,\"selection_glyph\":null},\"id\":\"73e32fb2-1549-4193-9950-0ea256fb5739\",\"type\":\"GlyphRenderer\"},{\"attributes\":{\"overlay\":{\"id\":\"9a3a85c3-348e-433b-9e61-fb8ae47348a3\",\"type\":\"BoxAnnotation\"},\"plot\":{\"id\":\"4d1b37a3-5e0e-4fc0-ad78-465081688edf\",\"subtype\":\"Chart\",\"type\":\"Plot\"}},\"id\":\"68366ba3-7c38-4526-af75-f28910dd0181\",\"type\":\"BoxZoomTool\"},{\"attributes\":{\"legends\":[[\"rest\",[{\"id\":\"e93875b4-5952-4ac5-bdef-54d10bf793ff\",\"type\":\"GlyphRenderer\"},{\"id\":\"847aa498-b464-4cc5-a35b-18a30c927264\",\"type\":\"GlyphRenderer\"},{\"id\":\"3ddcba89-cc4e-4d15-9a6e-ce023dca62b9\",\"type\":\"GlyphRenderer\"}]],[\"walking\",[{\"id\":\"73e32fb2-1549-4193-9950-0ea256fb5739\",\"type\":\"GlyphRenderer\"},{\"id\":\"adc7abae-d6a5-482f-a524-4d75515fc899\",\"type\":\"GlyphRenderer\"},{\"id\":\"eda250e5-3951-4358-8c96-d5ef84f79373\",\"type\":\"GlyphRenderer\"}]],[\"running\",[{\"id\":\"62063951-3fa5-4dfe-92d6-cf06ace56da3\",\"type\":\"GlyphRenderer\"},{\"id\":\"857e0ece-afd2-4a32-8c16-8443e63b81d4\",\"type\":\"GlyphRenderer\"},{\"id\":\"7c257f5e-3757-4bd8-873b-4c1d16a14117\",\"type\":\"GlyphRenderer\"}]]],\"location\":\"top_left\",\"plot\":{\"id\":\"4d1b37a3-5e0e-4fc0-ad78-465081688edf\",\"subtype\":\"Chart\",\"type\":\"Plot\"}},\"id\":\"94b0f3e0-3977-48b1-8ebc-832079af7acf\",\"type\":\"Legend\"},{\"attributes\":{\"callback\":null,\"column_names\":[\"color\",\"height\",\"label\",\"line_alpha\",\"width\",\"line_color\",\"fill_alpha\",\"y\",\"x\"],\"data\":{\"chart_index\":[{\"kind\":\"rest\"}],\"color\":[\"#f22c40\"],\"fill_alpha\":[0.8],\"height\":[4.25],\"kind\":[\"rest\"],\"label\":[{\"kind\":\"rest\"}],\"line_alpha\":[1.0],\"line_color\":[\"black\"],\"width\":[0.8],\"x\":[\"rest\"],\"y\":[93.625]}},\"id\":\"a82230a7-0f85-4c0a-9b52-6d886d3bdc60\",\"type\":\"ColumnDataSource\"},{\"attributes\":{\"data_source\":{\"id\":\"abb1cc8c-f10f-4aea-abae-48b96b29a590\",\"type\":\"ColumnDataSource\"},\"glyph\":{\"id\":\"87a32152-c123-48fe-88eb-3746fc3a1215\",\"type\":\"Rect\"},\"hover_glyph\":null,\"nonselection_glyph\":null,\"selection_glyph\":null},\"id\":\"adc7abae-d6a5-482f-a524-4d75515fc899\",\"type\":\"GlyphRenderer\"},{\"attributes\":{},\"id\":\"f847703c-7f12-46b9-bd97-012398bcae35\",\"type\":\"CategoricalTicker\"},{\"attributes\":{\"fill_alpha\":{\"field\":\"fill_alpha\"},\"fill_color\":{\"field\":\"color\"},\"height\":{\"field\":\"height\",\"units\":\"data\"},\"line_color\":{\"field\":\"line_color\"},\"width\":{\"field\":\"width\",\"units\":\"data\"},\"x\":{\"field\":\"x\"},\"y\":{\"field\":\"y\"}},\"id\":\"954c3722-1091-4a50-9ddb-3152d3436573\",\"type\":\"Rect\"},{\"attributes\":{\"axis_label\":\"Pulse\",\"formatter\":{\"id\":\"767cf234-0f8d-4735-9e04-83ef6e60c443\",\"type\":\"BasicTickFormatter\"},\"plot\":{\"id\":\"4d1b37a3-5e0e-4fc0-ad78-465081688edf\",\"subtype\":\"Chart\",\"type\":\"Plot\"},\"ticker\":{\"id\":\"1513ca6a-61a8-4e09-88e0-e9fc8f304c0f\",\"type\":\"BasicTicker\"}},\"id\":\"cbaa830d-2d14-4797-b4cb-2bf3f3c8213f\",\"type\":\"LinearAxis\"}],\"root_ids\":[\"4d1b37a3-5e0e-4fc0-ad78-465081688edf\"]},\"title\":\"Bokeh Application\",\"version\":\"0.12.0\"}};\n",
       "            var render_items = [{\"docid\":\"022c542d-4eb1-4b2f-b65d-6cda7bae95d7\",\"elementid\":\"78d69e87-a3a4-4f04-830d-c5504b00582d\",\"modelid\":\"4d1b37a3-5e0e-4fc0-ad78-465081688edf\",\"notebook_comms_target\":\"d00726c0-2c47-4790-ab2c-35d893be2c73\"}];\n",
       "            \n",
       "            Bokeh.embed.embed_items(docs_json, render_items);\n",
       "        });\n",
       "      },\n",
       "      function(Bokeh) {\n",
       "      }\n",
       "    ];\n",
       "  \n",
       "    function run_inline_js() {\n",
       "      for (var i = 0; i < inline_js.length; i++) {\n",
       "        inline_js[i](window.Bokeh);\n",
       "      }\n",
       "    }\n",
       "  \n",
       "    if (window._bokeh_is_loading === 0) {\n",
       "      console.log(\"Bokeh: BokehJS loaded, going straight to plotting\");\n",
       "      run_inline_js();\n",
       "    } else {\n",
       "      load_libs(js_urls, function() {\n",
       "        console.log(\"Bokeh: BokehJS plotting callback run at\", now());\n",
       "        run_inline_js();\n",
       "      });\n",
       "    }\n",
       "  }(this));\n",
       "</script>"
      ]
     },
     "metadata": {},
     "output_type": "display_data"
    },
    {
     "data": {
      "text/html": [
       "<p><code>&lt;Bokeh Notebook handle for <strong>In[28]</strong>&gt;</code></p>"
      ],
      "text/plain": [
       "<bokeh.io._CommsHandle at 0x26cc99585c0>"
      ]
     },
     "execution_count": 28,
     "metadata": {},
     "output_type": "execute_result"
    }
   ],
   "source": [
    "p = bkc.BoxPlot(exercise, values='pulse', label='kind', color='kind', \n",
    "                title='Pulse in BPM, grouped by exercise type')\n",
    "bkc.show(p)"
   ]
  },
  {
   "cell_type": "markdown",
   "metadata": {},
   "source": [
    "It's easy to group by a column and to produce a self-contained HTML file that packages the required data."
   ]
  },
  {
   "cell_type": "code",
   "execution_count": 41,
   "metadata": {
    "collapsed": false
   },
   "outputs": [
    {
     "data": {
      "text/html": [
       "\n",
       "\n",
       "    <div class=\"bk-root\">\n",
       "        <div class=\"plotdiv\" id=\"7310a313-17d5-4753-8109-be2c28146802\"></div>\n",
       "    </div>\n",
       "<script type=\"text/javascript\">\n",
       "  \n",
       "  (function(global) {\n",
       "    function now() {\n",
       "      return new Date();\n",
       "    }\n",
       "  \n",
       "    if (typeof (window._bokeh_onload_callbacks) === \"undefined\") {\n",
       "      window._bokeh_onload_callbacks = [];\n",
       "    }\n",
       "  \n",
       "    function run_callbacks() {\n",
       "      window._bokeh_onload_callbacks.forEach(function(callback) { callback() });\n",
       "      delete window._bokeh_onload_callbacks\n",
       "      console.info(\"Bokeh: all callbacks have finished\");\n",
       "    }\n",
       "  \n",
       "    function load_libs(js_urls, callback) {\n",
       "      window._bokeh_onload_callbacks.push(callback);\n",
       "      if (window._bokeh_is_loading > 0) {\n",
       "        console.log(\"Bokeh: BokehJS is being loaded, scheduling callback at\", now());\n",
       "        return null;\n",
       "      }\n",
       "      if (js_urls == null || js_urls.length === 0) {\n",
       "        run_callbacks();\n",
       "        return null;\n",
       "      }\n",
       "      console.log(\"Bokeh: BokehJS not loaded, scheduling load and callback at\", now());\n",
       "      window._bokeh_is_loading = js_urls.length;\n",
       "      for (var i = 0; i < js_urls.length; i++) {\n",
       "        var url = js_urls[i];\n",
       "        var s = document.createElement('script');\n",
       "        s.src = url;\n",
       "        s.async = false;\n",
       "        s.onreadystatechange = s.onload = function() {\n",
       "          window._bokeh_is_loading--;\n",
       "          if (window._bokeh_is_loading === 0) {\n",
       "            console.log(\"Bokeh: all BokehJS libraries loaded\");\n",
       "            run_callbacks()\n",
       "          }\n",
       "        };\n",
       "        s.onerror = function() {\n",
       "          console.warn(\"failed to load library \" + url);\n",
       "        };\n",
       "        console.log(\"Bokeh: injecting script tag for BokehJS library: \", url);\n",
       "        document.getElementsByTagName(\"head\")[0].appendChild(s);\n",
       "      }\n",
       "    };var element = document.getElementById(\"7310a313-17d5-4753-8109-be2c28146802\");\n",
       "    if (element == null) {\n",
       "      console.log(\"Bokeh: ERROR: autoload.js configured with elementid '7310a313-17d5-4753-8109-be2c28146802' but no matching script tag was found. \")\n",
       "      return false;\n",
       "    }\n",
       "  \n",
       "    var js_urls = [];\n",
       "  \n",
       "    var inline_js = [\n",
       "      function(Bokeh) {\n",
       "        Bokeh.$(function() {\n",
       "            var docs_json = {\"b17f7732-7864-42e7-ab98-5a34b71959d9\":{\"roots\":{\"references\":[{\"attributes\":{\"fill_alpha\":{\"field\":\"fill_alpha\"},\"fill_color\":{\"field\":\"color\"},\"height\":{\"field\":\"height\",\"units\":\"data\"},\"line_color\":{\"field\":\"line_color\"},\"width\":{\"field\":\"width\",\"units\":\"data\"},\"x\":{\"field\":\"x\"},\"y\":{\"field\":\"y\"}},\"id\":\"48b1ea84-a1b9-4128-b654-82436bb87936\",\"type\":\"Rect\"},{\"attributes\":{},\"id\":\"42771a7c-93d6-4fc1-a162-49dbf07cb1de\",\"type\":\"CategoricalTickFormatter\"},{\"attributes\":{\"fill_alpha\":{\"field\":\"fill_alpha\"},\"fill_color\":{\"field\":\"color\"},\"height\":{\"field\":\"height\",\"units\":\"data\"},\"line_color\":{\"field\":\"line_color\"},\"width\":{\"field\":\"width\",\"units\":\"data\"},\"x\":{\"field\":\"x\"},\"y\":{\"field\":\"y\"}},\"id\":\"e79c570e-e43d-4d61-be2e-d2dafd1256ce\",\"type\":\"Rect\"},{\"attributes\":{\"active_drag\":\"auto\",\"active_scroll\":\"auto\",\"active_tap\":\"auto\",\"tools\":[{\"id\":\"81fb042d-bb13-42a9-a77e-b32c829b24dd\",\"type\":\"PanTool\"},{\"id\":\"c5f49756-c173-4b5b-93a1-75c224ab0c9a\",\"type\":\"WheelZoomTool\"},{\"id\":\"9388bdce-a593-4961-94d7-35d1fdfb1259\",\"type\":\"BoxZoomTool\"},{\"id\":\"c1151a74-c035-4aaf-a5e6-36f2f966c6bd\",\"type\":\"SaveTool\"},{\"id\":\"489832e1-44ed-49b1-8192-17409b60ceec\",\"type\":\"ResetTool\"},{\"id\":\"0a279638-f2e0-40a0-88ac-c3a863618949\",\"type\":\"HelpTool\"}]},\"id\":\"c06c9d15-b7d8-43fd-b549-2c5b6f9fa4c6\",\"type\":\"Toolbar\"},{\"attributes\":{\"bottom_units\":\"screen\",\"fill_alpha\":{\"value\":0.5},\"fill_color\":{\"value\":\"lightgrey\"},\"left_units\":\"screen\",\"level\":\"overlay\",\"line_alpha\":{\"value\":1.0},\"line_color\":{\"value\":\"black\"},\"line_dash\":[4,4],\"line_width\":{\"value\":2},\"plot\":null,\"render_mode\":\"css\",\"right_units\":\"screen\",\"top_units\":\"screen\"},\"id\":\"807bebdf-323c-4ceb-845f-d3b86d1a77c1\",\"type\":\"BoxAnnotation\"},{\"attributes\":{\"fill_alpha\":{\"field\":\"fill_alpha\"},\"fill_color\":{\"field\":\"color\"},\"height\":{\"field\":\"height\",\"units\":\"data\"},\"line_color\":{\"field\":\"line_color\"},\"width\":{\"field\":\"width\",\"units\":\"data\"},\"x\":{\"field\":\"x\"},\"y\":{\"field\":\"y\"}},\"id\":\"1f0aa134-fdd7-4ad2-9710-6c86d480d6ed\",\"type\":\"Rect\"},{\"attributes\":{\"data_source\":{\"id\":\"c4c6961f-6423-42e1-b1df-eb4325c3d228\",\"type\":\"ColumnDataSource\"},\"glyph\":{\"id\":\"29044769-48bc-49dd-a3cd-729c8c151eac\",\"type\":\"Rect\"},\"hover_glyph\":null,\"nonselection_glyph\":null,\"selection_glyph\":null},\"id\":\"e4686cb4-39f5-4749-bb3c-a936efaeade6\",\"type\":\"GlyphRenderer\"},{\"attributes\":{\"callback\":null,\"column_names\":[\"color\",\"height\",\"label\",\"line_alpha\",\"width\",\"line_color\",\"fill_alpha\",\"y\",\"x\"],\"data\":{\"chart_index\":[{\"kind\":\"running\",\"time\":\"1 min\"}],\"color\":[\"#f22c40\"],\"fill_alpha\":[0.8],\"height\":[96.5],\"kind\":[\"running\"],\"label\":[{\"kind\":\"running\",\"time\":\"1 min\"}],\"line_alpha\":[1.0],\"line_color\":[\"white\"],\"time\":[\"1 min\"],\"width\":[0.2],\"x\":[\"running:0.25\"],\"y\":[48.25]}},\"id\":\"d0beecbf-3ea8-4569-8ade-084ad92997cb\",\"type\":\"ColumnDataSource\"},{\"attributes\":{\"legends\":[[\"1 min\",[{\"id\":\"ba63405e-4c66-46e8-8943-ee2547ab7446\",\"type\":\"GlyphRenderer\"}]],[\"15 min\",[{\"id\":\"8238397f-ff70-4b10-b3e3-1591742299dc\",\"type\":\"GlyphRenderer\"}]],[\"30 min\",[{\"id\":\"121dcd41-77ef-49c6-b801-11ffc202a56e\",\"type\":\"GlyphRenderer\"}]]],\"location\":\"top_left\",\"plot\":{\"id\":\"34572a49-a552-4b98-87d2-390c19160375\",\"subtype\":\"Chart\",\"type\":\"Plot\"}},\"id\":\"55651503-8270-445e-99d3-de2a5980ca54\",\"type\":\"Legend\"},{\"attributes\":{\"plot\":{\"id\":\"34572a49-a552-4b98-87d2-390c19160375\",\"subtype\":\"Chart\",\"type\":\"Plot\"}},\"id\":\"81fb042d-bb13-42a9-a77e-b32c829b24dd\",\"type\":\"PanTool\"},{\"attributes\":{\"data_source\":{\"id\":\"1478e4cc-7d20-4510-88f8-715b17cde1e3\",\"type\":\"ColumnDataSource\"},\"glyph\":{\"id\":\"78468a69-474b-4f36-a429-9e7ff618647d\",\"type\":\"Rect\"},\"hover_glyph\":null,\"nonselection_glyph\":null,\"selection_glyph\":null},\"id\":\"61c9e2f3-7a57-4999-8065-bba78e0af211\",\"type\":\"GlyphRenderer\"},{\"attributes\":{\"plot\":null,\"text\":\"Median BPM by kind of exercise, grouped by duration\"},\"id\":\"9ac96ad3-2f47-4503-b015-4aad0838e1bb\",\"type\":\"Title\"},{\"attributes\":{\"callback\":null,\"column_names\":[\"color\",\"height\",\"label\",\"line_alpha\",\"width\",\"line_color\",\"fill_alpha\",\"y\",\"x\"],\"data\":{\"chart_index\":[{\"kind\":\"rest\",\"time\":\"30 min\"}],\"color\":[\"#407ee7\"],\"fill_alpha\":[0.8],\"height\":[92.0],\"kind\":[\"rest\"],\"label\":[{\"kind\":\"rest\",\"time\":\"30 min\"}],\"line_alpha\":[1.0],\"line_color\":[\"white\"],\"time\":[\"30 min\"],\"width\":[0.2],\"x\":[\"rest:0.75\"],\"y\":[46.0]}},\"id\":\"e11c8317-d55c-45a4-81c6-a34dcaa40f23\",\"type\":\"ColumnDataSource\"},{\"attributes\":{\"data_source\":{\"id\":\"d0beecbf-3ea8-4569-8ade-084ad92997cb\",\"type\":\"ColumnDataSource\"},\"glyph\":{\"id\":\"1f0aa134-fdd7-4ad2-9710-6c86d480d6ed\",\"type\":\"Rect\"},\"hover_glyph\":null,\"nonselection_glyph\":null,\"selection_glyph\":null},\"id\":\"8ecef9da-ea10-4393-9261-d00d6a992c7f\",\"type\":\"GlyphRenderer\"},{\"attributes\":{\"data_source\":{\"id\":\"c5b588cf-7640-4505-9c40-f8c4c85232b6\",\"type\":\"ColumnDataSource\"},\"glyph\":{\"id\":\"48b1ea84-a1b9-4128-b654-82436bb87936\",\"type\":\"Rect\"},\"hover_glyph\":null,\"nonselection_glyph\":null,\"selection_glyph\":null},\"id\":\"ba63405e-4c66-46e8-8943-ee2547ab7446\",\"type\":\"GlyphRenderer\"},{\"attributes\":{\"callback\":null,\"column_names\":[\"color\",\"height\",\"label\",\"line_alpha\",\"width\",\"line_color\",\"fill_alpha\",\"y\",\"x\"],\"data\":{\"chart_index\":[{\"kind\":\"rest\",\"time\":\"15 min\"}],\"color\":[\"#5ab738\"],\"fill_alpha\":[0.8],\"height\":[92.0],\"kind\":[\"rest\"],\"label\":[{\"kind\":\"rest\",\"time\":\"15 min\"}],\"line_alpha\":[1.0],\"line_color\":[\"white\"],\"time\":[\"15 min\"],\"width\":[0.2],\"x\":[\"rest:0.5\"],\"y\":[46.0]}},\"id\":\"451c3c56-c0ee-4f63-ae5f-05d6367cb307\",\"type\":\"ColumnDataSource\"},{\"attributes\":{\"data_source\":{\"id\":\"e11c8317-d55c-45a4-81c6-a34dcaa40f23\",\"type\":\"ColumnDataSource\"},\"glyph\":{\"id\":\"a2cbb3ae-c30b-4eff-a02d-38ede9982257\",\"type\":\"Rect\"},\"hover_glyph\":null,\"nonselection_glyph\":null,\"selection_glyph\":null},\"id\":\"121dcd41-77ef-49c6-b801-11ffc202a56e\",\"type\":\"GlyphRenderer\"},{\"attributes\":{\"dimension\":1,\"plot\":{\"id\":\"34572a49-a552-4b98-87d2-390c19160375\",\"subtype\":\"Chart\",\"type\":\"Plot\"},\"ticker\":{\"id\":\"1276bdac-cc40-4748-ae29-bf20e2d7b97c\",\"type\":\"BasicTicker\"}},\"id\":\"f9b0e51e-6156-478b-b9f3-01979144c2e8\",\"type\":\"Grid\"},{\"attributes\":{\"callback\":null,\"factors\":[\"rest\",\"running\",\"walking\"]},\"id\":\"7eb3aa69-3a03-4296-bcd0-8244b3983655\",\"type\":\"FactorRange\"},{\"attributes\":{\"plot\":{\"id\":\"34572a49-a552-4b98-87d2-390c19160375\",\"subtype\":\"Chart\",\"type\":\"Plot\"}},\"id\":\"c1151a74-c035-4aaf-a5e6-36f2f966c6bd\",\"type\":\"SaveTool\"},{\"attributes\":{\"callback\":null,\"column_names\":[\"color\",\"height\",\"label\",\"line_alpha\",\"width\",\"line_color\",\"fill_alpha\",\"y\",\"x\"],\"data\":{\"chart_index\":[{\"kind\":\"running\",\"time\":\"30 min\"}],\"color\":[\"#407ee7\"],\"fill_alpha\":[0.8],\"height\":[125.0],\"kind\":[\"running\"],\"label\":[{\"kind\":\"running\",\"time\":\"30 min\"}],\"line_alpha\":[1.0],\"line_color\":[\"white\"],\"time\":[\"30 min\"],\"width\":[0.2],\"x\":[\"running:0.75\"],\"y\":[62.5]}},\"id\":\"1478e4cc-7d20-4510-88f8-715b17cde1e3\",\"type\":\"ColumnDataSource\"},{\"attributes\":{},\"id\":\"efd3387d-9a36-41d8-8392-86aa3d99f58d\",\"type\":\"ToolEvents\"},{\"attributes\":{\"data_source\":{\"id\":\"451c3c56-c0ee-4f63-ae5f-05d6367cb307\",\"type\":\"ColumnDataSource\"},\"glyph\":{\"id\":\"c25a9dc8-3143-4b5b-8301-74325b0dd1f8\",\"type\":\"Rect\"},\"hover_glyph\":null,\"nonselection_glyph\":null,\"selection_glyph\":null},\"id\":\"8238397f-ff70-4b10-b3e3-1591742299dc\",\"type\":\"GlyphRenderer\"},{\"attributes\":{\"callback\":null,\"column_names\":[\"color\",\"height\",\"label\",\"line_alpha\",\"width\",\"line_color\",\"fill_alpha\",\"y\",\"x\"],\"data\":{\"chart_index\":[{\"kind\":\"rest\",\"time\":\"1 min\"}],\"color\":[\"#f22c40\"],\"fill_alpha\":[0.8],\"height\":[90.5],\"kind\":[\"rest\"],\"label\":[{\"kind\":\"rest\",\"time\":\"1 min\"}],\"line_alpha\":[1.0],\"line_color\":[\"white\"],\"time\":[\"1 min\"],\"width\":[0.2],\"x\":[\"rest:0.25\"],\"y\":[45.25]}},\"id\":\"c5b588cf-7640-4505-9c40-f8c4c85232b6\",\"type\":\"ColumnDataSource\"},{\"attributes\":{\"plot\":{\"id\":\"34572a49-a552-4b98-87d2-390c19160375\",\"subtype\":\"Chart\",\"type\":\"Plot\"}},\"id\":\"c5f49756-c173-4b5b-93a1-75c224ab0c9a\",\"type\":\"WheelZoomTool\"},{\"attributes\":{\"callback\":null,\"column_names\":[\"color\",\"height\",\"label\",\"line_alpha\",\"width\",\"line_color\",\"fill_alpha\",\"y\",\"x\"],\"data\":{\"chart_index\":[{\"kind\":\"walking\",\"time\":\"15 min\"}],\"color\":[\"#5ab738\"],\"fill_alpha\":[0.8],\"height\":[96.0],\"kind\":[\"walking\"],\"label\":[{\"kind\":\"walking\",\"time\":\"15 min\"}],\"line_alpha\":[1.0],\"line_color\":[\"white\"],\"time\":[\"15 min\"],\"width\":[0.2],\"x\":[\"walking:0.5\"],\"y\":[48.0]}},\"id\":\"8647ca52-a4d9-4915-9e49-a90c0b53a812\",\"type\":\"ColumnDataSource\"},{\"attributes\":{\"fill_alpha\":{\"field\":\"fill_alpha\"},\"fill_color\":{\"field\":\"color\"},\"height\":{\"field\":\"height\",\"units\":\"data\"},\"line_color\":{\"field\":\"line_color\"},\"width\":{\"field\":\"width\",\"units\":\"data\"},\"x\":{\"field\":\"x\"},\"y\":{\"field\":\"y\"}},\"id\":\"a2cbb3ae-c30b-4eff-a02d-38ede9982257\",\"type\":\"Rect\"},{\"attributes\":{\"callback\":null,\"column_names\":[\"color\",\"height\",\"label\",\"line_alpha\",\"width\",\"line_color\",\"fill_alpha\",\"y\",\"x\"],\"data\":{\"chart_index\":[{\"kind\":\"running\",\"time\":\"15 min\"}],\"color\":[\"#5ab738\"],\"fill_alpha\":[0.8],\"height\":[117.5],\"kind\":[\"running\"],\"label\":[{\"kind\":\"running\",\"time\":\"15 min\"}],\"line_alpha\":[1.0],\"line_color\":[\"white\"],\"time\":[\"15 min\"],\"width\":[0.2],\"x\":[\"running:0.5\"],\"y\":[58.75]}},\"id\":\"c4c6961f-6423-42e1-b1df-eb4325c3d228\",\"type\":\"ColumnDataSource\"},{\"attributes\":{\"below\":[{\"id\":\"700a9ab1-bcbe-475f-a0b1-f367b905f0c9\",\"type\":\"CategoricalAxis\"}],\"left\":[{\"id\":\"176e16e1-4bc6-422f-acd5-5566f683234e\",\"type\":\"LinearAxis\"}],\"renderers\":[{\"id\":\"807bebdf-323c-4ceb-845f-d3b86d1a77c1\",\"type\":\"BoxAnnotation\"},{\"id\":\"ba63405e-4c66-46e8-8943-ee2547ab7446\",\"type\":\"GlyphRenderer\"},{\"id\":\"8238397f-ff70-4b10-b3e3-1591742299dc\",\"type\":\"GlyphRenderer\"},{\"id\":\"121dcd41-77ef-49c6-b801-11ffc202a56e\",\"type\":\"GlyphRenderer\"},{\"id\":\"b27a9262-b473-4cfa-91dd-88966a588456\",\"type\":\"GlyphRenderer\"},{\"id\":\"ab43fc01-5063-4cfc-badc-2070637a43d4\",\"type\":\"GlyphRenderer\"},{\"id\":\"2c2e6550-9028-4875-863b-ad487e720d7b\",\"type\":\"GlyphRenderer\"},{\"id\":\"8ecef9da-ea10-4393-9261-d00d6a992c7f\",\"type\":\"GlyphRenderer\"},{\"id\":\"e4686cb4-39f5-4749-bb3c-a936efaeade6\",\"type\":\"GlyphRenderer\"},{\"id\":\"61c9e2f3-7a57-4999-8065-bba78e0af211\",\"type\":\"GlyphRenderer\"},{\"id\":\"55651503-8270-445e-99d3-de2a5980ca54\",\"type\":\"Legend\"},{\"id\":\"700a9ab1-bcbe-475f-a0b1-f367b905f0c9\",\"type\":\"CategoricalAxis\"},{\"id\":\"176e16e1-4bc6-422f-acd5-5566f683234e\",\"type\":\"LinearAxis\"},{\"id\":\"f9b0e51e-6156-478b-b9f3-01979144c2e8\",\"type\":\"Grid\"}],\"title\":{\"id\":\"9ac96ad3-2f47-4503-b015-4aad0838e1bb\",\"type\":\"Title\"},\"tool_events\":{\"id\":\"efd3387d-9a36-41d8-8392-86aa3d99f58d\",\"type\":\"ToolEvents\"},\"toolbar\":{\"id\":\"c06c9d15-b7d8-43fd-b549-2c5b6f9fa4c6\",\"type\":\"Toolbar\"},\"x_mapper_type\":\"auto\",\"x_range\":{\"id\":\"7eb3aa69-3a03-4296-bcd0-8244b3983655\",\"type\":\"FactorRange\"},\"y_mapper_type\":\"auto\",\"y_range\":{\"id\":\"63acbe31-b8ff-40e8-951a-e9d437809a91\",\"type\":\"Range1d\"}},\"id\":\"34572a49-a552-4b98-87d2-390c19160375\",\"subtype\":\"Chart\",\"type\":\"Plot\"},{\"attributes\":{\"fill_alpha\":{\"field\":\"fill_alpha\"},\"fill_color\":{\"field\":\"color\"},\"height\":{\"field\":\"height\",\"units\":\"data\"},\"line_color\":{\"field\":\"line_color\"},\"width\":{\"field\":\"width\",\"units\":\"data\"},\"x\":{\"field\":\"x\"},\"y\":{\"field\":\"y\"}},\"id\":\"c25a9dc8-3143-4b5b-8301-74325b0dd1f8\",\"type\":\"Rect\"},{\"attributes\":{\"fill_alpha\":{\"field\":\"fill_alpha\"},\"fill_color\":{\"field\":\"color\"},\"height\":{\"field\":\"height\",\"units\":\"data\"},\"line_color\":{\"field\":\"line_color\"},\"width\":{\"field\":\"width\",\"units\":\"data\"},\"x\":{\"field\":\"x\"},\"y\":{\"field\":\"y\"}},\"id\":\"78468a69-474b-4f36-a429-9e7ff618647d\",\"type\":\"Rect\"},{\"attributes\":{\"fill_alpha\":{\"field\":\"fill_alpha\"},\"fill_color\":{\"field\":\"color\"},\"height\":{\"field\":\"height\",\"units\":\"data\"},\"line_color\":{\"field\":\"line_color\"},\"width\":{\"field\":\"width\",\"units\":\"data\"},\"x\":{\"field\":\"x\"},\"y\":{\"field\":\"y\"}},\"id\":\"29044769-48bc-49dd-a3cd-729c8c151eac\",\"type\":\"Rect\"},{\"attributes\":{\"callback\":null,\"end\":131.25},\"id\":\"63acbe31-b8ff-40e8-951a-e9d437809a91\",\"type\":\"Range1d\"},{\"attributes\":{},\"id\":\"a787c05a-998c-4d9f-a376-e118142d1cae\",\"type\":\"CategoricalTicker\"},{\"attributes\":{\"data_source\":{\"id\":\"7b389461-d1ad-445c-883e-8123258edaf7\",\"type\":\"ColumnDataSource\"},\"glyph\":{\"id\":\"aca371ea-cab0-4b20-a78c-6856a44b1b70\",\"type\":\"Rect\"},\"hover_glyph\":null,\"nonselection_glyph\":null,\"selection_glyph\":null},\"id\":\"b27a9262-b473-4cfa-91dd-88966a588456\",\"type\":\"GlyphRenderer\"},{\"attributes\":{\"axis_label\":\"Median( Pulse )\",\"formatter\":{\"id\":\"4697087a-a66e-4658-a50d-ae317bacb4ef\",\"type\":\"BasicTickFormatter\"},\"plot\":{\"id\":\"34572a49-a552-4b98-87d2-390c19160375\",\"subtype\":\"Chart\",\"type\":\"Plot\"},\"ticker\":{\"id\":\"1276bdac-cc40-4748-ae29-bf20e2d7b97c\",\"type\":\"BasicTicker\"}},\"id\":\"176e16e1-4bc6-422f-acd5-5566f683234e\",\"type\":\"LinearAxis\"},{\"attributes\":{\"fill_alpha\":{\"field\":\"fill_alpha\"},\"fill_color\":{\"field\":\"color\"},\"height\":{\"field\":\"height\",\"units\":\"data\"},\"line_color\":{\"field\":\"line_color\"},\"width\":{\"field\":\"width\",\"units\":\"data\"},\"x\":{\"field\":\"x\"},\"y\":{\"field\":\"y\"}},\"id\":\"8c7cee15-2070-49c4-9488-9d4cda944fe9\",\"type\":\"Rect\"},{\"attributes\":{\"overlay\":{\"id\":\"807bebdf-323c-4ceb-845f-d3b86d1a77c1\",\"type\":\"BoxAnnotation\"},\"plot\":{\"id\":\"34572a49-a552-4b98-87d2-390c19160375\",\"subtype\":\"Chart\",\"type\":\"Plot\"}},\"id\":\"9388bdce-a593-4961-94d7-35d1fdfb1259\",\"type\":\"BoxZoomTool\"},{\"attributes\":{\"plot\":{\"id\":\"34572a49-a552-4b98-87d2-390c19160375\",\"subtype\":\"Chart\",\"type\":\"Plot\"}},\"id\":\"489832e1-44ed-49b1-8192-17409b60ceec\",\"type\":\"ResetTool\"},{\"attributes\":{\"data_source\":{\"id\":\"8647ca52-a4d9-4915-9e49-a90c0b53a812\",\"type\":\"ColumnDataSource\"},\"glyph\":{\"id\":\"8c7cee15-2070-49c4-9488-9d4cda944fe9\",\"type\":\"Rect\"},\"hover_glyph\":null,\"nonselection_glyph\":null,\"selection_glyph\":null},\"id\":\"ab43fc01-5063-4cfc-badc-2070637a43d4\",\"type\":\"GlyphRenderer\"},{\"attributes\":{\"data_source\":{\"id\":\"ba1e6ec3-d654-46e6-8e05-d6fb62872f20\",\"type\":\"ColumnDataSource\"},\"glyph\":{\"id\":\"e79c570e-e43d-4d61-be2e-d2dafd1256ce\",\"type\":\"Rect\"},\"hover_glyph\":null,\"nonselection_glyph\":null,\"selection_glyph\":null},\"id\":\"2c2e6550-9028-4875-863b-ad487e720d7b\",\"type\":\"GlyphRenderer\"},{\"attributes\":{\"plot\":{\"id\":\"34572a49-a552-4b98-87d2-390c19160375\",\"subtype\":\"Chart\",\"type\":\"Plot\"}},\"id\":\"0a279638-f2e0-40a0-88ac-c3a863618949\",\"type\":\"HelpTool\"},{\"attributes\":{\"axis_label\":\"Kind\",\"formatter\":{\"id\":\"42771a7c-93d6-4fc1-a162-49dbf07cb1de\",\"type\":\"CategoricalTickFormatter\"},\"major_label_orientation\":0.7853981633974483,\"plot\":{\"id\":\"34572a49-a552-4b98-87d2-390c19160375\",\"subtype\":\"Chart\",\"type\":\"Plot\"},\"ticker\":{\"id\":\"a787c05a-998c-4d9f-a376-e118142d1cae\",\"type\":\"CategoricalTicker\"}},\"id\":\"700a9ab1-bcbe-475f-a0b1-f367b905f0c9\",\"type\":\"CategoricalAxis\"},{\"attributes\":{\"callback\":null,\"column_names\":[\"color\",\"height\",\"label\",\"line_alpha\",\"width\",\"line_color\",\"fill_alpha\",\"y\",\"x\"],\"data\":{\"chart_index\":[{\"kind\":\"walking\",\"time\":\"1 min\"}],\"color\":[\"#f22c40\"],\"fill_alpha\":[0.8],\"height\":[92.5],\"kind\":[\"walking\"],\"label\":[{\"kind\":\"walking\",\"time\":\"1 min\"}],\"line_alpha\":[1.0],\"line_color\":[\"white\"],\"time\":[\"1 min\"],\"width\":[0.2],\"x\":[\"walking:0.25\"],\"y\":[46.25]}},\"id\":\"7b389461-d1ad-445c-883e-8123258edaf7\",\"type\":\"ColumnDataSource\"},{\"attributes\":{},\"id\":\"1276bdac-cc40-4748-ae29-bf20e2d7b97c\",\"type\":\"BasicTicker\"},{\"attributes\":{\"callback\":null,\"column_names\":[\"color\",\"height\",\"label\",\"line_alpha\",\"width\",\"line_color\",\"fill_alpha\",\"y\",\"x\"],\"data\":{\"chart_index\":[{\"kind\":\"walking\",\"time\":\"30 min\"}],\"color\":[\"#407ee7\"],\"fill_alpha\":[0.8],\"height\":[97.5],\"kind\":[\"walking\"],\"label\":[{\"kind\":\"walking\",\"time\":\"30 min\"}],\"line_alpha\":[1.0],\"line_color\":[\"white\"],\"time\":[\"30 min\"],\"width\":[0.2],\"x\":[\"walking:0.75\"],\"y\":[48.75]}},\"id\":\"ba1e6ec3-d654-46e6-8e05-d6fb62872f20\",\"type\":\"ColumnDataSource\"},{\"attributes\":{},\"id\":\"4697087a-a66e-4658-a50d-ae317bacb4ef\",\"type\":\"BasicTickFormatter\"},{\"attributes\":{\"fill_alpha\":{\"field\":\"fill_alpha\"},\"fill_color\":{\"field\":\"color\"},\"height\":{\"field\":\"height\",\"units\":\"data\"},\"line_color\":{\"field\":\"line_color\"},\"width\":{\"field\":\"width\",\"units\":\"data\"},\"x\":{\"field\":\"x\"},\"y\":{\"field\":\"y\"}},\"id\":\"aca371ea-cab0-4b20-a78c-6856a44b1b70\",\"type\":\"Rect\"}],\"root_ids\":[\"34572a49-a552-4b98-87d2-390c19160375\"]},\"title\":\"Bokeh Application\",\"version\":\"0.12.0\"}};\n",
       "            var render_items = [{\"docid\":\"b17f7732-7864-42e7-ab98-5a34b71959d9\",\"elementid\":\"7310a313-17d5-4753-8109-be2c28146802\",\"modelid\":\"34572a49-a552-4b98-87d2-390c19160375\",\"notebook_comms_target\":\"c9b226b6-6ce9-4a98-82f2-230f47459ce8\"}];\n",
       "            \n",
       "            Bokeh.embed.embed_items(docs_json, render_items);\n",
       "        });\n",
       "      },\n",
       "      function(Bokeh) {\n",
       "      }\n",
       "    ];\n",
       "  \n",
       "    function run_inline_js() {\n",
       "      for (var i = 0; i < inline_js.length; i++) {\n",
       "        inline_js[i](window.Bokeh);\n",
       "      }\n",
       "    }\n",
       "  \n",
       "    if (window._bokeh_is_loading === 0) {\n",
       "      console.log(\"Bokeh: BokehJS loaded, going straight to plotting\");\n",
       "      run_inline_js();\n",
       "    } else {\n",
       "      load_libs(js_urls, function() {\n",
       "        console.log(\"Bokeh: BokehJS plotting callback run at\", now());\n",
       "        run_inline_js();\n",
       "      });\n",
       "    }\n",
       "  }(this));\n",
       "</script>"
      ]
     },
     "metadata": {},
     "output_type": "display_data"
    },
    {
     "data": {
      "text/html": [
       "<p><code>&lt;Bokeh Notebook handle for <strong>In[41]</strong>&gt;</code></p>"
      ],
      "text/plain": [
       "<bokeh.io._CommsHandle at 0x26cc9e5e320>"
      ]
     },
     "execution_count": 41,
     "metadata": {},
     "output_type": "execute_result"
    }
   ],
   "source": [
    "#bkc.output_file('exercise_bar.html')\n",
    "p = bkc.Bar(exercise, values='pulse', label='kind', color='time', agg='median', \n",
    "            group='time', title='Median BPM by kind of exercise, grouped by duration')\n",
    "bkc.show(p)"
   ]
  },
  {
   "cell_type": "code",
   "execution_count": 42,
   "metadata": {
    "collapsed": false
   },
   "outputs": [
    {
     "data": {
      "text/html": [
       "<div>\n",
       "<table border=\"1\" class=\"dataframe\">\n",
       "  <thead>\n",
       "    <tr style=\"text-align: right;\">\n",
       "      <th></th>\n",
       "      <th>mpg</th>\n",
       "      <th>cyl</th>\n",
       "      <th>displ</th>\n",
       "      <th>hp</th>\n",
       "      <th>weight</th>\n",
       "      <th>accel</th>\n",
       "      <th>yr</th>\n",
       "      <th>origin</th>\n",
       "      <th>name</th>\n",
       "    </tr>\n",
       "  </thead>\n",
       "  <tbody>\n",
       "    <tr>\n",
       "      <th>0</th>\n",
       "      <td>18.0</td>\n",
       "      <td>8</td>\n",
       "      <td>307.0</td>\n",
       "      <td>130</td>\n",
       "      <td>3504</td>\n",
       "      <td>12.0</td>\n",
       "      <td>70</td>\n",
       "      <td>1</td>\n",
       "      <td>chevrolet chevelle malibu</td>\n",
       "    </tr>\n",
       "    <tr>\n",
       "      <th>1</th>\n",
       "      <td>15.0</td>\n",
       "      <td>8</td>\n",
       "      <td>350.0</td>\n",
       "      <td>165</td>\n",
       "      <td>3693</td>\n",
       "      <td>11.5</td>\n",
       "      <td>70</td>\n",
       "      <td>1</td>\n",
       "      <td>buick skylark 320</td>\n",
       "    </tr>\n",
       "    <tr>\n",
       "      <th>2</th>\n",
       "      <td>18.0</td>\n",
       "      <td>8</td>\n",
       "      <td>318.0</td>\n",
       "      <td>150</td>\n",
       "      <td>3436</td>\n",
       "      <td>11.0</td>\n",
       "      <td>70</td>\n",
       "      <td>1</td>\n",
       "      <td>plymouth satellite</td>\n",
       "    </tr>\n",
       "    <tr>\n",
       "      <th>3</th>\n",
       "      <td>16.0</td>\n",
       "      <td>8</td>\n",
       "      <td>304.0</td>\n",
       "      <td>150</td>\n",
       "      <td>3433</td>\n",
       "      <td>12.0</td>\n",
       "      <td>70</td>\n",
       "      <td>1</td>\n",
       "      <td>amc rebel sst</td>\n",
       "    </tr>\n",
       "    <tr>\n",
       "      <th>4</th>\n",
       "      <td>17.0</td>\n",
       "      <td>8</td>\n",
       "      <td>302.0</td>\n",
       "      <td>140</td>\n",
       "      <td>3449</td>\n",
       "      <td>10.5</td>\n",
       "      <td>70</td>\n",
       "      <td>1</td>\n",
       "      <td>ford torino</td>\n",
       "    </tr>\n",
       "  </tbody>\n",
       "</table>\n",
       "</div>"
      ],
      "text/plain": [
       "    mpg  cyl  displ   hp  weight  accel  yr  origin                       name\n",
       "0  18.0    8  307.0  130    3504   12.0  70       1  chevrolet chevelle malibu\n",
       "1  15.0    8  350.0  165    3693   11.5  70       1          buick skylark 320\n",
       "2  18.0    8  318.0  150    3436   11.0  70       1         plymouth satellite\n",
       "3  16.0    8  304.0  150    3433   12.0  70       1              amc rebel sst\n",
       "4  17.0    8  302.0  140    3449   10.5  70       1                ford torino"
      ]
     },
     "execution_count": 42,
     "metadata": {},
     "output_type": "execute_result"
    }
   ],
   "source": [
    "from bokeh.sampledata.autompg import autompg\n",
    "\n",
    "autompg.head()\n",
    "\n",
    "#p = bkc.Scatter(autompg, x='hp', y='accel')\n",
    "#bkc.show(p)"
   ]
  }
 ],
 "metadata": {
  "anaconda-cloud": {},
  "kernelspec": {
   "display_name": "Python [Root]",
   "language": "python",
   "name": "Python [Root]"
  },
  "language_info": {
   "codemirror_mode": {
    "name": "ipython",
    "version": 3
   },
   "file_extension": ".py",
   "mimetype": "text/x-python",
   "name": "python",
   "nbconvert_exporter": "python",
   "pygments_lexer": "ipython3",
   "version": "3.5.2"
  },
  "nbpresent": {
   "slides": {
    "342f49c7-b08c-4475-b0cf-556aafbda0de": {
     "id": "342f49c7-b08c-4475-b0cf-556aafbda0de",
     "prev": "509ce5a3-7287-4953-812f-01b755738b5e",
     "regions": {
      "57160962-ab39-4356-a57f-e4a5933e7b7d": {
       "attrs": {
        "height": 0.8,
        "width": 0.8,
        "x": 0.1,
        "y": 0.1
       },
       "content": {
        "cell": "6820a1f6-218e-4fe4-b7e7-0109b2cb9bd7",
        "part": "whole"
       },
       "id": "57160962-ab39-4356-a57f-e4a5933e7b7d"
      }
     }
    },
    "509ce5a3-7287-4953-812f-01b755738b5e": {
     "id": "509ce5a3-7287-4953-812f-01b755738b5e",
     "prev": "521da847-055b-4357-91de-7d11e6aa0351",
     "regions": {
      "3c25bd96-6f70-4d49-afef-17509459bd02": {
       "attrs": {
        "height": 0.8,
        "width": 0.8,
        "x": 0.1,
        "y": 0.1
       },
       "content": {
        "cell": "00911f49-ad6f-479d-834b-3a149e2c44af",
        "part": "whole"
       },
       "id": "3c25bd96-6f70-4d49-afef-17509459bd02"
      }
     }
    },
    "521da847-055b-4357-91de-7d11e6aa0351": {
     "id": "521da847-055b-4357-91de-7d11e6aa0351",
     "prev": "d61caf56-f909-4106-abc2-9c4647c98bde",
     "regions": {
      "bb6d923e-4518-4724-bfda-6c54210f5398": {
       "attrs": {
        "height": 0.8,
        "width": 0.8,
        "x": 0.1,
        "y": 0.1
       },
       "content": {
        "cell": "e96aa965-172f-4b5c-8138-50104ff1d482",
        "part": "whole"
       },
       "id": "bb6d923e-4518-4724-bfda-6c54210f5398"
      }
     }
    },
    "81b364a9-afdd-4e43-8a2a-a07f42e51369": {
     "id": "81b364a9-afdd-4e43-8a2a-a07f42e51369",
     "prev": "c4896e2a-33a6-43fb-b8e6-193844764519",
     "regions": {
      "02adc008-9ca1-4861-8d02-38ef47beb0d2": {
       "attrs": {
        "height": 0.8,
        "width": 0.8,
        "x": 0.1,
        "y": 0.1
       },
       "content": {
        "cell": "70a7a773-87e0-46ac-8a8d-d373e1c0d8e8",
        "part": "whole"
       },
       "id": "02adc008-9ca1-4861-8d02-38ef47beb0d2"
      }
     }
    },
    "c4896e2a-33a6-43fb-b8e6-193844764519": {
     "id": "c4896e2a-33a6-43fb-b8e6-193844764519",
     "prev": null,
     "regions": {
      "8fcffae5-4800-40d7-9f1b-1d421302ca50": {
       "attrs": {
        "height": 0.8,
        "width": 0.8,
        "x": 0.1,
        "y": 0.1
       },
       "content": {
        "cell": "823ec6c2-1785-4c35-9941-c098567c0ad0",
        "part": "whole"
       },
       "id": "8fcffae5-4800-40d7-9f1b-1d421302ca50"
      }
     }
    },
    "d61caf56-f909-4106-abc2-9c4647c98bde": {
     "id": "d61caf56-f909-4106-abc2-9c4647c98bde",
     "prev": "dcbcbe1a-4205-4e2a-ac3b-84c79ab3c7da",
     "regions": {
      "bf2fc4ef-3e72-4353-b034-85a3148ac34b": {
       "attrs": {
        "height": 0.8,
        "width": 0.8,
        "x": 0.1,
        "y": 0.1
       },
       "content": {
        "cell": "e974ebb2-a5d9-491b-9e54-ac1519717865",
        "part": "whole"
       },
       "id": "bf2fc4ef-3e72-4353-b034-85a3148ac34b"
      }
     }
    },
    "dcbcbe1a-4205-4e2a-ac3b-84c79ab3c7da": {
     "id": "dcbcbe1a-4205-4e2a-ac3b-84c79ab3c7da",
     "prev": "81b364a9-afdd-4e43-8a2a-a07f42e51369",
     "regions": {
      "0fcebd09-532f-4552-b8bd-76c0bf34dfde": {
       "attrs": {
        "height": 0.8,
        "width": 0.8,
        "x": 0.1,
        "y": 0.1
       },
       "content": {
        "cell": "4b9feff8-c993-468b-ab8b-53012356867d",
        "part": "whole"
       },
       "id": "0fcebd09-532f-4552-b8bd-76c0bf34dfde"
      }
     }
    }
   },
   "themes": {
    "default": "310d3c96-cd73-495a-8c2b-72b91a440d65",
    "theme": {
     "00fe51fb-d48a-4528-a713-3e7c97bc8b44": {
      "backgrounds": {
       "backgroundColor": {
        "background-color": "backgroundColor",
        "id": "backgroundColor"
       }
      },
      "id": "00fe51fb-d48a-4528-a713-3e7c97bc8b44",
      "palette": {
       "backgroundColor": {
        "id": "backgroundColor",
        "rgb": [
         256,
         256,
         256
        ]
       },
       "headingColor": {
        "id": "headingColor",
        "rgb": [
         0,
         0,
         0
        ]
       },
       "linkColor": {
        "id": "linkColor",
        "rgb": [
         0,
         0,
         139
        ]
       },
       "mainColor": {
        "id": "mainColor",
        "rgb": [
         0,
         0,
         0
        ]
       }
      },
      "rules": {
       "a": {
        "color": "linkColor"
       },
       "h1": {
        "color": "headingColor",
        "font-family": "News Cycle",
        "font-size": 7
       },
       "h2": {
        "color": "headingColor",
        "font-family": "News Cycle",
        "font-size": 5
       },
       "h3": {
        "color": "headingColor",
        "font-family": "News Cycle",
        "font-size": 3.75
       },
       "h4": {
        "color": "headingColor",
        "font-family": "News Cycle",
        "font-size": 3
       },
       "h5": {
        "color": "headingColor",
        "font-family": "News Cycle"
       },
       "h6": {
        "color": "headingColor",
        "font-family": "News Cycle"
       },
       "h7": {
        "color": "headingColor",
        "font-family": "News Cycle"
       },
       "li": {
        "color": "mainColor",
        "font-family": "Lato",
        "font-size": 5
       },
       "p": {
        "color": "mainColor",
        "font-family": "Lato",
        "font-size": 5
       }
      },
      "text-base": {
       "color": "mainColor",
       "font-family": "Lato",
       "font-size": 5
      }
     },
     "310d3c96-cd73-495a-8c2b-72b91a440d65": {
      "backgrounds": {
       "backgroundColor": {
        "background-color": "backgroundColor",
        "id": "backgroundColor"
       }
      },
      "id": "310d3c96-cd73-495a-8c2b-72b91a440d65",
      "palette": {
       "backgroundColor": {
        "id": "backgroundColor",
        "rgb": [
         34,
         34,
         34
        ]
       },
       "headingColor": {
        "id": "headingColor",
        "rgb": [
         238,
         238,
         238
        ]
       },
       "linkColor": {
        "id": "linkColor",
        "rgb": [
         170,
         34,
         51
        ]
       },
       "mainColor": {
        "id": "mainColor",
        "rgb": [
         238,
         238,
         238
        ]
       }
      },
      "rules": {
       "a": {
        "color": "linkColor"
       },
       "h1": {
        "color": "headingColor",
        "font-family": "Ubuntu",
        "font-size": 7
       },
       "h2": {
        "color": "headingColor",
        "font-family": "Ubuntu",
        "font-size": 5
       },
       "h3": {
        "color": "headingColor",
        "font-family": "Ubuntu",
        "font-size": 3.75
       },
       "h4": {
        "color": "headingColor",
        "font-family": "Ubuntu",
        "font-size": 3
       },
       "h5": {
        "color": "headingColor",
        "font-family": "Ubuntu"
       },
       "h6": {
        "color": "headingColor",
        "font-family": "Ubuntu"
       },
       "h7": {
        "color": "headingColor",
        "font-family": "Ubuntu"
       },
       "li": {
        "color": "mainColor",
        "font-family": "Ubuntu",
        "font-size": 5
       },
       "p": {
        "color": "mainColor",
        "font-family": "Ubuntu",
        "font-size": 5
       }
      },
      "text-base": {
       "color": "mainColor",
       "font-family": "Ubuntu",
       "font-size": 5
      }
     },
     "475b990c-eeac-4805-86e2-73316e956adb": {
      "backgrounds": {
       "backgroundColor": {
        "background-color": "backgroundColor",
        "id": "backgroundColor"
       }
      },
      "id": "475b990c-eeac-4805-86e2-73316e956adb",
      "palette": {
       "backgroundColor": {
        "id": "backgroundColor",
        "rgb": [
         253,
         246,
         227
        ]
       },
       "headingColor": {
        "id": "headingColor",
        "rgb": [
         88,
         110,
         117
        ]
       },
       "linkColor": {
        "id": "linkColor",
        "rgb": [
         38,
         139,
         210
        ]
       },
       "mainColor": {
        "id": "mainColor",
        "rgb": [
         101,
         123,
         131
        ]
       }
      },
      "rules": {
       "a": {
        "color": "linkColor"
       },
       "h1": {
        "color": "headingColor",
        "font-family": "Oswald",
        "font-size": 7
       },
       "h2": {
        "color": "headingColor",
        "font-family": "Oswald",
        "font-size": 5
       },
       "h3": {
        "color": "headingColor",
        "font-family": "Oswald",
        "font-size": 3.75
       },
       "h4": {
        "color": "headingColor",
        "font-family": "Oswald",
        "font-size": 3
       },
       "h5": {
        "color": "headingColor",
        "font-family": "Oswald"
       },
       "h6": {
        "color": "headingColor",
        "font-family": "Oswald"
       },
       "h7": {
        "color": "headingColor",
        "font-family": "Oswald"
       },
       "li": {
        "color": "mainColor",
        "font-family": "Lato",
        "font-size": 5
       },
       "p": {
        "color": "mainColor",
        "font-family": "Lato",
        "font-size": 5
       }
      },
      "text-base": {
       "color": "mainColor",
       "font-family": "Lato",
       "font-size": 5
      }
     },
     "79db4b3d-d358-40d1-95aa-eaa32cdb546e": {
      "backgrounds": {
       "backgroundColor": {
        "background-color": "backgroundColor",
        "id": "backgroundColor"
       }
      },
      "id": "79db4b3d-d358-40d1-95aa-eaa32cdb546e",
      "palette": {
       "backgroundColor": {
        "id": "backgroundColor",
        "rgb": [
         247,
         251,
         252
        ]
       },
       "headingColor": {
        "id": "headingColor",
        "rgb": [
         51,
         51,
         51
        ]
       },
       "linkColor": {
        "id": "linkColor",
        "rgb": [
         59,
         117,
         158
        ]
       },
       "mainColor": {
        "id": "mainColor",
        "rgb": [
         51,
         51,
         51
        ]
       }
      },
      "rules": {
       "a": {
        "color": "linkColor"
       },
       "h1": {
        "color": "headingColor",
        "font-family": "Quicksand",
        "font-size": 7
       },
       "h2": {
        "color": "headingColor",
        "font-family": "Quicksand",
        "font-size": 5
       },
       "h3": {
        "color": "headingColor",
        "font-family": "Quicksand",
        "font-size": 3.75
       },
       "h4": {
        "color": "headingColor",
        "font-family": "Quicksand",
        "font-size": 3
       },
       "h5": {
        "color": "headingColor",
        "font-family": "Quicksand"
       },
       "h6": {
        "color": "headingColor",
        "font-family": "Quicksand"
       },
       "h7": {
        "color": "headingColor",
        "font-family": "Quicksand"
       },
       "li": {
        "color": "mainColor",
        "font-family": "Open Sans",
        "font-size": 5
       },
       "p": {
        "color": "mainColor",
        "font-family": "Open Sans",
        "font-size": 5
       }
      },
      "text-base": {
       "color": "mainColor",
       "font-family": "Open Sans",
       "font-size": 5
      }
     },
     "a423056a-ec76-4dbc-91fc-118aa7282f7b": {
      "backgrounds": {
       "backgroundColor": {
        "background-color": "backgroundColor",
        "id": "backgroundColor"
       }
      },
      "id": "a423056a-ec76-4dbc-91fc-118aa7282f7b",
      "palette": {
       "backgroundColor": {
        "id": "backgroundColor",
        "rgb": [
         247,
         243,
         222
        ]
       },
       "headingColor": {
        "id": "headingColor",
        "rgb": [
         51,
         51,
         51
        ]
       },
       "linkColor": {
        "id": "linkColor",
        "rgb": [
         139,
         116,
         61
        ]
       },
       "mainColor": {
        "id": "mainColor",
        "rgb": [
         51,
         51,
         51
        ]
       }
      },
      "rules": {
       "a": {
        "color": "linkColor"
       },
       "h1": {
        "color": "headingColor",
        "font-family": "Oswald",
        "font-size": 7
       },
       "h2": {
        "color": "headingColor",
        "font-family": "Oswald",
        "font-size": 5
       },
       "h3": {
        "color": "headingColor",
        "font-family": "Oswald",
        "font-size": 3.75
       },
       "h4": {
        "color": "headingColor",
        "font-family": "Oswald",
        "font-size": 3
       },
       "h5": {
        "color": "headingColor",
        "font-family": "Oswald"
       },
       "h6": {
        "color": "headingColor",
        "font-family": "Oswald"
       },
       "h7": {
        "color": "headingColor",
        "font-family": "Oswald"
       },
       "li": {
        "color": "mainColor",
        "font-family": "Lato",
        "font-size": 5
       },
       "p": {
        "color": "mainColor",
        "font-family": "Lato",
        "font-size": 5
       }
      },
      "text-base": {
       "color": "mainColor",
       "font-family": "Lato",
       "font-size": 5
      }
     },
     "b8cd597b-1d1d-451e-b523-d31bbec4e9d0": {
      "backgrounds": {
       "backgroundColor": {
        "background-color": "backgroundColor",
        "id": "backgroundColor"
       }
      },
      "id": "b8cd597b-1d1d-451e-b523-d31bbec4e9d0",
      "palette": {
       "backgroundColor": {
        "id": "backgroundColor",
        "rgb": [
         34,
         34,
         34
        ]
       },
       "headingColor": {
        "id": "headingColor",
        "rgb": [
         256,
         256,
         256
        ]
       },
       "linkColor": {
        "id": "linkColor",
        "rgb": [
         66,
         175,
         250
        ]
       },
       "mainColor": {
        "id": "mainColor",
        "rgb": [
         256,
         256,
         256
        ]
       }
      },
      "rules": {
       "a": {
        "color": "linkColor"
       },
       "h1": {
        "color": "headingColor",
        "font-family": "Source Sans Pro",
        "font-size": 5.25
       },
       "h2": {
        "color": "headingColor",
        "font-family": "Source Sans Pro",
        "font-size": 4
       },
       "h3": {
        "color": "headingColor",
        "font-family": "Source Sans Pro",
        "font-size": 3.5
       },
       "h4": {
        "color": "headingColor",
        "font-family": "Source Sans Pro",
        "font-size": 3
       },
       "h5": {
        "color": "headingColor",
        "font-family": "Source Sans Pro"
       },
       "h6": {
        "color": "headingColor",
        "font-family": "Source Sans Pro"
       },
       "h7": {
        "color": "headingColor",
        "font-family": "Source Sans Pro"
       },
       "li": {
        "color": "mainColor",
        "font-family": "Source Sans Pro",
        "font-size": 6
       },
       "p": {
        "color": "mainColor",
        "font-family": "Source Sans Pro",
        "font-size": 6
       }
      },
      "text-base": {
       "color": "mainColor",
       "font-family": "Source Sans Pro",
       "font-size": 6
      }
     }
    }
   }
  }
 },
 "nbformat": 4,
 "nbformat_minor": 0
}
